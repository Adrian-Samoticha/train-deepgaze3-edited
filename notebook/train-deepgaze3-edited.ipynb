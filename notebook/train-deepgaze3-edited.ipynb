{
 "metadata": {
  "kernelspec": {
   "name": "python3",
   "display_name": "Python 3",
   "language": "python"
  },
  "language_info": {
   "name": "python",
   "version": "3.10.12",
   "mimetype": "text/x-python",
   "codemirror_mode": {
    "name": "ipython",
    "version": 3
   },
   "pygments_lexer": "ipython3",
   "nbconvert_exporter": "python",
   "file_extension": ".py"
  },
  "vscode": {
   "interpreter": {
    "hash": "933de57e12933e0d1e80fea491bb4f8f38b72d4e4a0e80896ddd2eb0c7e7227e"
   }
  },
  "kaggle": {
   "accelerator": "gpu",
   "dataSources": [
    {
     "sourceId": 7261205,
     "sourceType": "datasetVersion",
     "datasetId": 4208205
    }
   ],
   "dockerImageVersionId": 30558,
   "isInternetEnabled": true,
   "language": "python",
   "sourceType": "notebook",
   "isGpuEnabled": true
  }
 },
 "nbformat_minor": 4,
 "nbformat": 4,
 "cells": [
  {
   "cell_type": "code",
   "source": [
    "!pwd\n",
    "!cd ../ && pwd && ls\n",
    "!pwd"
   ],
   "metadata": {
    "execution": {
     "iopub.status.busy": "2023-12-30T10:23:08.503712Z",
     "iopub.execute_input": "2023-12-30T10:23:08.504016Z",
     "iopub.status.idle": "2023-12-30T10:23:11.480961Z",
     "shell.execute_reply.started": "2023-12-30T10:23:08.503988Z",
     "shell.execute_reply": "2023-12-30T10:23:11.479663Z"
    },
    "trusted": true,
    "ExecuteTime": {
     "end_time": "2023-12-31T12:51:23.837937Z",
     "start_time": "2023-12-31T12:51:23.484503Z"
    }
   },
   "execution_count": 1,
   "outputs": [
    {
     "name": "stdout",
     "output_type": "stream",
     "text": [
      "/Users/adriansamoticha/Desktop/train_deepgaze_3/jupyter_notebook\r\n",
      "/Users/adriansamoticha/Desktop/train_deepgaze_3\r\n",
      "\u001B[34mjupyter_notebook\u001B[m\u001B[m\r\n",
      "/Users/adriansamoticha/Desktop/train_deepgaze_3/jupyter_notebook\r\n"
     ]
    }
   ]
  },
  {
   "cell_type": "code",
   "source": [
    "!pip install git+https://github.com/matthias-k/DeepGaze"
   ],
   "metadata": {
    "execution": {
     "iopub.status.busy": "2023-12-30T10:23:11.483628Z",
     "iopub.execute_input": "2023-12-30T10:23:11.484073Z",
     "iopub.status.idle": "2023-12-30T10:23:28.623291Z",
     "shell.execute_reply.started": "2023-12-30T10:23:11.484037Z",
     "shell.execute_reply": "2023-12-30T10:23:28.622255Z"
    },
    "trusted": true,
    "ExecuteTime": {
     "end_time": "2023-12-30T22:02:40.165633Z",
     "start_time": "2023-12-30T22:02:35.678008Z"
    }
   },
   "execution_count": 2,
   "outputs": [
    {
     "name": "stdout",
     "output_type": "stream",
     "text": [
      "Collecting git+https://github.com/matthias-k/DeepGaze\r\n",
      "  Cloning https://github.com/matthias-k/DeepGaze to /private/var/folders/kd/_s6tmg_d3ngdw8mk_nv3np240000gn/T/pip-req-build-lrvh1sf5\r\n",
      "  Running command git clone --filter=blob:none --quiet https://github.com/matthias-k/DeepGaze /private/var/folders/kd/_s6tmg_d3ngdw8mk_nv3np240000gn/T/pip-req-build-lrvh1sf5\r\n",
      "  Resolved https://github.com/matthias-k/DeepGaze to commit 874f12e1ee519860f49860638cf7f6375956d45a\r\n",
      "  Preparing metadata (setup.py) ... \u001B[?25ldone\r\n",
      "\u001B[?25hRequirement already satisfied: boltons in /opt/homebrew/Caskroom/miniconda/base/lib/python3.11/site-packages (from deepgaze-pytorch==0.2.0) (23.0.0)\r\n",
      "Requirement already satisfied: numpy in /opt/homebrew/Caskroom/miniconda/base/lib/python3.11/site-packages (from deepgaze-pytorch==0.2.0) (1.26.2)\r\n",
      "Requirement already satisfied: torch in /opt/homebrew/Caskroom/miniconda/base/lib/python3.11/site-packages (from deepgaze-pytorch==0.2.0) (2.1.2)\r\n",
      "Requirement already satisfied: torchvision in /opt/homebrew/Caskroom/miniconda/base/lib/python3.11/site-packages (from deepgaze-pytorch==0.2.0) (0.16.2)\r\n",
      "Requirement already satisfied: setuptools in /opt/homebrew/Caskroom/miniconda/base/lib/python3.11/site-packages (from deepgaze-pytorch==0.2.0) (68.2.2)\r\n",
      "Requirement already satisfied: filelock in /opt/homebrew/Caskroom/miniconda/base/lib/python3.11/site-packages (from torch->deepgaze-pytorch==0.2.0) (3.13.1)\r\n",
      "Requirement already satisfied: typing-extensions in /opt/homebrew/Caskroom/miniconda/base/lib/python3.11/site-packages (from torch->deepgaze-pytorch==0.2.0) (4.9.0)\r\n",
      "Requirement already satisfied: sympy in /opt/homebrew/Caskroom/miniconda/base/lib/python3.11/site-packages (from torch->deepgaze-pytorch==0.2.0) (1.12)\r\n",
      "Requirement already satisfied: networkx in /opt/homebrew/Caskroom/miniconda/base/lib/python3.11/site-packages (from torch->deepgaze-pytorch==0.2.0) (3.2.1)\r\n",
      "Requirement already satisfied: jinja2 in /opt/homebrew/Caskroom/miniconda/base/lib/python3.11/site-packages (from torch->deepgaze-pytorch==0.2.0) (3.1.2)\r\n",
      "Requirement already satisfied: fsspec in /opt/homebrew/Caskroom/miniconda/base/lib/python3.11/site-packages (from torch->deepgaze-pytorch==0.2.0) (2023.12.2)\r\n",
      "Requirement already satisfied: requests in /opt/homebrew/Caskroom/miniconda/base/lib/python3.11/site-packages (from torchvision->deepgaze-pytorch==0.2.0) (2.31.0)\r\n",
      "Requirement already satisfied: pillow!=8.3.*,>=5.3.0 in /opt/homebrew/Caskroom/miniconda/base/lib/python3.11/site-packages (from torchvision->deepgaze-pytorch==0.2.0) (10.1.0)\r\n",
      "Requirement already satisfied: MarkupSafe>=2.0 in /opt/homebrew/Caskroom/miniconda/base/lib/python3.11/site-packages (from jinja2->torch->deepgaze-pytorch==0.2.0) (2.1.3)\r\n",
      "Requirement already satisfied: charset-normalizer<4,>=2 in /opt/homebrew/Caskroom/miniconda/base/lib/python3.11/site-packages (from requests->torchvision->deepgaze-pytorch==0.2.0) (2.0.4)\r\n",
      "Requirement already satisfied: idna<4,>=2.5 in /opt/homebrew/Caskroom/miniconda/base/lib/python3.11/site-packages (from requests->torchvision->deepgaze-pytorch==0.2.0) (3.4)\r\n",
      "Requirement already satisfied: urllib3<3,>=1.21.1 in /opt/homebrew/Caskroom/miniconda/base/lib/python3.11/site-packages (from requests->torchvision->deepgaze-pytorch==0.2.0) (1.26.18)\r\n",
      "Requirement already satisfied: certifi>=2017.4.17 in /opt/homebrew/Caskroom/miniconda/base/lib/python3.11/site-packages (from requests->torchvision->deepgaze-pytorch==0.2.0) (2023.11.17)\r\n",
      "Requirement already satisfied: mpmath>=0.19 in /opt/homebrew/Caskroom/miniconda/base/lib/python3.11/site-packages (from sympy->torch->deepgaze-pytorch==0.2.0) (1.3.0)\r\n"
     ]
    }
   ]
  },
  {
   "cell_type": "code",
   "source": [
    "!pip install lmdb"
   ],
   "metadata": {
    "execution": {
     "iopub.status.busy": "2023-12-30T10:23:28.625133Z",
     "iopub.execute_input": "2023-12-30T10:23:28.625568Z",
     "iopub.status.idle": "2023-12-30T10:23:41.026933Z",
     "shell.execute_reply.started": "2023-12-30T10:23:28.625539Z",
     "shell.execute_reply": "2023-12-30T10:23:41.025873Z"
    },
    "trusted": true,
    "ExecuteTime": {
     "end_time": "2023-12-30T22:02:44.837780Z",
     "start_time": "2023-12-30T22:02:43.286029Z"
    }
   },
   "execution_count": 3,
   "outputs": [
    {
     "name": "stdout",
     "output_type": "stream",
     "text": [
      "Collecting lmdb\r\n",
      "  Downloading lmdb-1.4.1-cp311-cp311-macosx_10_9_universal2.whl (169 kB)\r\n",
      "\u001B[2K     \u001B[90m━━━━━━━━━━━━━━━━━━━━━━━━━━━━━━━━━━━━━━━\u001B[0m \u001B[32m169.5/169.5 kB\u001B[0m \u001B[31m3.2 MB/s\u001B[0m eta \u001B[36m0:00:00\u001B[0ma \u001B[36m0:00:01\u001B[0m\r\n",
      "\u001B[?25hInstalling collected packages: lmdb\r\n",
      "Successfully installed lmdb-1.4.1\r\n"
     ]
    }
   ]
  },
  {
   "cell_type": "code",
   "source": [
    "#!pip install git+https://github.com/matthias-k/pysaliency\n",
    "!pip install git+https://github.com/Adrian-Samoticha/pysaliency.git"
   ],
   "metadata": {
    "execution": {
     "iopub.status.busy": "2023-12-30T10:23:41.029624Z",
     "iopub.execute_input": "2023-12-30T10:23:41.029935Z",
     "iopub.status.idle": "2023-12-30T10:24:08.252182Z",
     "shell.execute_reply.started": "2023-12-30T10:23:41.029908Z",
     "shell.execute_reply": "2023-12-30T10:24:08.250898Z"
    },
    "trusted": true,
    "ExecuteTime": {
     "end_time": "2023-12-30T22:05:01.413139Z",
     "start_time": "2023-12-30T22:04:41.625363Z"
    }
   },
   "execution_count": 7,
   "outputs": [
    {
     "name": "stdout",
     "output_type": "stream",
     "text": [
      "Collecting git+https://github.com/Adrian-Samoticha/pysaliency.git\r\n",
      "  Cloning https://github.com/Adrian-Samoticha/pysaliency.git to /private/var/folders/kd/_s6tmg_d3ngdw8mk_nv3np240000gn/T/pip-req-build-w5ol6hvd\r\n",
      "  Running command git clone --filter=blob:none --quiet https://github.com/Adrian-Samoticha/pysaliency.git /private/var/folders/kd/_s6tmg_d3ngdw8mk_nv3np240000gn/T/pip-req-build-w5ol6hvd\r\n",
      "  Resolved https://github.com/Adrian-Samoticha/pysaliency.git to commit f41ccfaba397eab02d0b228614f9b23d38df8c04\r\n",
      "  Preparing metadata (setup.py) ... \u001B[?25ldone\r\n",
      "\u001B[?25hRequirement already satisfied: boltons in /opt/homebrew/Caskroom/miniconda/base/lib/python3.11/site-packages (from pysaliency==0.2.22) (23.0.0)\r\n",
      "Collecting deprecation (from pysaliency==0.2.22)\r\n",
      "  Downloading deprecation-2.1.0-py2.py3-none-any.whl (11 kB)\r\n",
      "Collecting dill (from pysaliency==0.2.22)\r\n",
      "  Downloading dill-0.3.7-py3-none-any.whl.metadata (9.9 kB)\r\n",
      "Collecting imageio (from pysaliency==0.2.22)\r\n",
      "  Downloading imageio-2.33.1-py3-none-any.whl.metadata (4.9 kB)\r\n",
      "Collecting natsort (from pysaliency==0.2.22)\r\n",
      "  Downloading natsort-8.4.0-py3-none-any.whl.metadata (21 kB)\r\n",
      "Collecting numba (from pysaliency==0.2.22)\r\n",
      "  Downloading numba-0.58.1-cp311-cp311-macosx_11_0_arm64.whl.metadata (2.7 kB)\r\n",
      "Requirement already satisfied: numpy in /opt/homebrew/Caskroom/miniconda/base/lib/python3.11/site-packages (from pysaliency==0.2.22) (1.26.2)\r\n",
      "Collecting piexif (from pysaliency==0.2.22)\r\n",
      "  Downloading piexif-1.1.3-py2.py3-none-any.whl (20 kB)\r\n",
      "Requirement already satisfied: requests in /opt/homebrew/Caskroom/miniconda/base/lib/python3.11/site-packages (from pysaliency==0.2.22) (2.31.0)\r\n",
      "Collecting schema (from pysaliency==0.2.22)\r\n",
      "  Downloading schema-0.7.5-py2.py3-none-any.whl (17 kB)\r\n",
      "Collecting scipy (from pysaliency==0.2.22)\r\n",
      "  Downloading scipy-1.11.4-cp311-cp311-macosx_12_0_arm64.whl.metadata (165 kB)\r\n",
      "\u001B[2K     \u001B[90m━━━━━━━━━━━━━━━━━━━━━━━━━━━━━━━━━━━━━━━\u001B[0m \u001B[32m165.4/165.4 kB\u001B[0m \u001B[31m3.3 MB/s\u001B[0m eta \u001B[36m0:00:00\u001B[0ma \u001B[36m0:00:01\u001B[0m\r\n",
      "\u001B[?25hRequirement already satisfied: setuptools in /opt/homebrew/Caskroom/miniconda/base/lib/python3.11/site-packages (from pysaliency==0.2.22) (68.2.2)\r\n",
      "Requirement already satisfied: tqdm in /opt/homebrew/Caskroom/miniconda/base/lib/python3.11/site-packages (from pysaliency==0.2.22) (4.65.0)\r\n",
      "Requirement already satisfied: packaging in /opt/homebrew/Caskroom/miniconda/base/lib/python3.11/site-packages (from deprecation->pysaliency==0.2.22) (23.1)\r\n",
      "Requirement already satisfied: pillow>=8.3.2 in /opt/homebrew/Caskroom/miniconda/base/lib/python3.11/site-packages (from imageio->pysaliency==0.2.22) (10.1.0)\r\n",
      "Collecting llvmlite<0.42,>=0.41.0dev0 (from numba->pysaliency==0.2.22)\r\n",
      "  Downloading llvmlite-0.41.1-cp311-cp311-macosx_11_0_arm64.whl.metadata (4.8 kB)\r\n",
      "Requirement already satisfied: charset-normalizer<4,>=2 in /opt/homebrew/Caskroom/miniconda/base/lib/python3.11/site-packages (from requests->pysaliency==0.2.22) (2.0.4)\r\n",
      "Requirement already satisfied: idna<4,>=2.5 in /opt/homebrew/Caskroom/miniconda/base/lib/python3.11/site-packages (from requests->pysaliency==0.2.22) (3.4)\r\n",
      "Requirement already satisfied: urllib3<3,>=1.21.1 in /opt/homebrew/Caskroom/miniconda/base/lib/python3.11/site-packages (from requests->pysaliency==0.2.22) (1.26.18)\r\n",
      "Requirement already satisfied: certifi>=2017.4.17 in /opt/homebrew/Caskroom/miniconda/base/lib/python3.11/site-packages (from requests->pysaliency==0.2.22) (2023.11.17)\r\n",
      "Collecting contextlib2>=0.5.5 (from schema->pysaliency==0.2.22)\r\n",
      "  Downloading contextlib2-21.6.0-py2.py3-none-any.whl (13 kB)\r\n",
      "Downloading dill-0.3.7-py3-none-any.whl (115 kB)\r\n",
      "\u001B[2K   \u001B[90m━━━━━━━━━━━━━━━━━━━━━━━━━━━━━━━━━━━━━━━━\u001B[0m \u001B[32m115.3/115.3 kB\u001B[0m \u001B[31m10.5 MB/s\u001B[0m eta \u001B[36m0:00:00\u001B[0m\r\n",
      "\u001B[?25hDownloading imageio-2.33.1-py3-none-any.whl (313 kB)\r\n",
      "\u001B[2K   \u001B[90m━━━━━━━━━━━━━━━━━━━━━━━━━━━━━━━━━━━━━━━━\u001B[0m \u001B[32m313.3/313.3 kB\u001B[0m \u001B[31m19.4 MB/s\u001B[0m eta \u001B[36m0:00:00\u001B[0m\r\n",
      "\u001B[?25hDownloading natsort-8.4.0-py3-none-any.whl (38 kB)\r\n",
      "Downloading numba-0.58.1-cp311-cp311-macosx_11_0_arm64.whl (2.6 MB)\r\n",
      "\u001B[2K   \u001B[90m━━━━━━━━━━━━━━━━━━━━━━━━━━━━━━━━━━━━━━━━\u001B[0m \u001B[32m2.6/2.6 MB\u001B[0m \u001B[31m29.1 MB/s\u001B[0m eta \u001B[36m0:00:00\u001B[0ma \u001B[36m0:00:01\u001B[0m\r\n",
      "\u001B[?25hDownloading scipy-1.11.4-cp311-cp311-macosx_12_0_arm64.whl (29.7 MB)\r\n",
      "\u001B[2K   \u001B[90m━━━━━━━━━━━━━━━━━━━━━━━━━━━━━━━━━━━━━━━━\u001B[0m \u001B[32m29.7/29.7 MB\u001B[0m \u001B[31m28.5 MB/s\u001B[0m eta \u001B[36m0:00:00\u001B[0m00:01\u001B[0m00:01\u001B[0m\r\n",
      "\u001B[?25hDownloading llvmlite-0.41.1-cp311-cp311-macosx_11_0_arm64.whl (28.8 MB)\r\n",
      "\u001B[2K   \u001B[90m━━━━━━━━━━━━━━━━━━━━━━━━━━━━━━━━━━━━━━━━\u001B[0m \u001B[32m28.8/28.8 MB\u001B[0m \u001B[31m22.8 MB/s\u001B[0m eta \u001B[36m0:00:00\u001B[0m00:01\u001B[0m00:01\u001B[0m\r\n",
      "\u001B[?25hBuilding wheels for collected packages: pysaliency\r\n",
      "  Building wheel for pysaliency (setup.py) ... \u001B[?25ldone\r\n",
      "\u001B[?25h  Created wheel for pysaliency: filename=pysaliency-0.2.22-cp311-cp311-macosx_11_0_arm64.whl size=249168 sha256=c00fac405fac718804a733dc3071e1cded930f8b9af309998d177d20b7b34886\r\n",
      "  Stored in directory: /private/var/folders/kd/_s6tmg_d3ngdw8mk_nv3np240000gn/T/pip-ephem-wheel-cache-008axf43/wheels/2d/d5/21/555cb7020df6db16779713167fdae934db02a334906c83fdb2\r\n",
      "Successfully built pysaliency\r\n",
      "Installing collected packages: scipy, piexif, natsort, llvmlite, imageio, dill, deprecation, contextlib2, schema, numba, pysaliency\r\n",
      "Successfully installed contextlib2-21.6.0 deprecation-2.1.0 dill-0.3.7 imageio-2.33.1 llvmlite-0.41.1 natsort-8.4.0 numba-0.58.1 piexif-1.1.3 pysaliency-0.2.22 schema-0.7.5 scipy-1.11.4\r\n"
     ]
    }
   ]
  },
  {
   "cell_type": "code",
   "source": [
    "# required to prevent:\n",
    "# /opt/conda/lib/python3.10/site-packages/scipy/__init__.py:146: UserWarning: A NumPy version >=1.16.5 and <1.23.0 is required for this version of SciPy (detected version 1.24.3\n",
    "#   warnings.warn(f\"A NumPy version >={np_minversion} and <{np_maxversion}\"\n",
    "!pip install scipy"
   ],
   "metadata": {
    "execution": {
     "iopub.status.busy": "2023-12-30T10:24:08.253709Z",
     "iopub.execute_input": "2023-12-30T10:24:08.254090Z",
     "iopub.status.idle": "2023-12-30T10:24:20.530981Z",
     "shell.execute_reply.started": "2023-12-30T10:24:08.254054Z",
     "shell.execute_reply": "2023-12-30T10:24:20.529734Z"
    },
    "trusted": true,
    "ExecuteTime": {
     "end_time": "2023-12-30T22:05:29.252533Z",
     "start_time": "2023-12-30T22:05:27.211264Z"
    }
   },
   "execution_count": 8,
   "outputs": [
    {
     "name": "stdout",
     "output_type": "stream",
     "text": [
      "Requirement already satisfied: scipy in /opt/homebrew/Caskroom/miniconda/base/lib/python3.11/site-packages (1.11.4)\r\n",
      "Requirement already satisfied: numpy<1.28.0,>=1.21.6 in /opt/homebrew/Caskroom/miniconda/base/lib/python3.11/site-packages (from scipy) (1.26.2)\r\n"
     ]
    }
   ]
  },
  {
   "cell_type": "code",
   "source": [
    "from collections import OrderedDict\n",
    "import os\n",
    "from pathlib import Path\n",
    "import shutil\n",
    "\n",
    "from imageio.v3 import imread, imwrite\n",
    "from PIL import Image\n",
    "import pysaliency\n",
    "from pysaliency.baseline_utils import BaselineModel, CrossvalidatedBaselineModel\n",
    "import numpy as np\n",
    "import torch\n",
    "import torch.nn as nn\n",
    "import torch.nn.functional as F\n",
    "from torch.utils import model_zoo\n",
    "\n",
    "from tqdm import tqdm\n",
    "\n",
    "\n",
    "from deepgaze_pytorch.layers import (\n",
    "    Conv2dMultiInput,\n",
    "    LayerNorm,\n",
    "    LayerNormMultiInput,\n",
    "    Bias,\n",
    "    FlexibleScanpathHistoryEncoding\n",
    ")\n",
    "\n",
    "from deepgaze_pytorch.modules import DeepGazeIII, FeatureExtractor\n",
    "from deepgaze_pytorch.features.densenet import RGBDenseNet201\n",
    "from deepgaze_pytorch.data import ImageDataset, ImageDatasetSampler, FixationDataset, FixationMaskTransform\n",
    "from deepgaze_pytorch.training import _train\n"
   ],
   "metadata": {
    "execution": {
     "iopub.status.busy": "2023-12-30T10:24:20.532623Z",
     "iopub.execute_input": "2023-12-30T10:24:20.532925Z",
     "iopub.status.idle": "2023-12-30T10:24:34.262690Z",
     "shell.execute_reply.started": "2023-12-30T10:24:20.532899Z",
     "shell.execute_reply": "2023-12-30T10:24:34.261826Z"
    },
    "trusted": true,
    "ExecuteTime": {
     "end_time": "2023-12-30T22:05:53.756213Z",
     "start_time": "2023-12-30T22:05:48.398773Z"
    }
   },
   "execution_count": 9,
   "outputs": [
    {
     "ename": "ModuleNotFoundError",
     "evalue": "No module named 'sklearn'",
     "output_type": "error",
     "traceback": [
      "\u001B[0;31m---------------------------------------------------------------------------\u001B[0m",
      "\u001B[0;31mModuleNotFoundError\u001B[0m                       Traceback (most recent call last)",
      "Cell \u001B[0;32mIn[9], line 9\u001B[0m\n\u001B[1;32m      7\u001B[0m \u001B[38;5;28;01mfrom\u001B[39;00m \u001B[38;5;21;01mPIL\u001B[39;00m \u001B[38;5;28;01mimport\u001B[39;00m Image\n\u001B[1;32m      8\u001B[0m \u001B[38;5;28;01mimport\u001B[39;00m \u001B[38;5;21;01mpysaliency\u001B[39;00m\n\u001B[0;32m----> 9\u001B[0m \u001B[38;5;28;01mfrom\u001B[39;00m \u001B[38;5;21;01mpysaliency\u001B[39;00m\u001B[38;5;21;01m.\u001B[39;00m\u001B[38;5;21;01mbaseline_utils\u001B[39;00m \u001B[38;5;28;01mimport\u001B[39;00m BaselineModel, CrossvalidatedBaselineModel\n\u001B[1;32m     10\u001B[0m \u001B[38;5;28;01mimport\u001B[39;00m \u001B[38;5;21;01mnumpy\u001B[39;00m \u001B[38;5;28;01mas\u001B[39;00m \u001B[38;5;21;01mnp\u001B[39;00m\n\u001B[1;32m     11\u001B[0m \u001B[38;5;28;01mimport\u001B[39;00m \u001B[38;5;21;01mtorch\u001B[39;00m\n",
      "File \u001B[0;32m/opt/homebrew/Caskroom/miniconda/base/lib/python3.11/site-packages/pysaliency/baseline_utils.py:8\u001B[0m\n\u001B[1;32m      5\u001B[0m \u001B[38;5;28;01mfrom\u001B[39;00m \u001B[38;5;21;01mscipy\u001B[39;00m\u001B[38;5;21;01m.\u001B[39;00m\u001B[38;5;21;01mspecial\u001B[39;00m \u001B[38;5;28;01mimport\u001B[39;00m logsumexp\n\u001B[1;32m      6\u001B[0m \u001B[38;5;28;01mfrom\u001B[39;00m \u001B[38;5;21;01mscipy\u001B[39;00m\u001B[38;5;21;01m.\u001B[39;00m\u001B[38;5;21;01mndimage\u001B[39;00m\u001B[38;5;21;01m.\u001B[39;00m\u001B[38;5;21;01mfilters\u001B[39;00m \u001B[38;5;28;01mimport\u001B[39;00m gaussian_filter\n\u001B[0;32m----> 8\u001B[0m \u001B[38;5;28;01mfrom\u001B[39;00m \u001B[38;5;21;01msklearn\u001B[39;00m\u001B[38;5;21;01m.\u001B[39;00m\u001B[38;5;21;01mneighbors\u001B[39;00m \u001B[38;5;28;01mimport\u001B[39;00m KernelDensity\n\u001B[1;32m      9\u001B[0m \u001B[38;5;28;01mfrom\u001B[39;00m \u001B[38;5;21;01msklearn\u001B[39;00m\u001B[38;5;21;01m.\u001B[39;00m\u001B[38;5;21;01mmodel_selection\u001B[39;00m \u001B[38;5;28;01mimport\u001B[39;00m BaseCrossValidator\n\u001B[1;32m     10\u001B[0m \u001B[38;5;28;01mfrom\u001B[39;00m \u001B[38;5;21;01msklearn\u001B[39;00m\u001B[38;5;21;01m.\u001B[39;00m\u001B[38;5;21;01mbase\u001B[39;00m \u001B[38;5;28;01mimport\u001B[39;00m BaseEstimator\n",
      "\u001B[0;31mModuleNotFoundError\u001B[0m: No module named 'sklearn'"
     ]
    }
   ]
  },
  {
   "cell_type": "code",
   "source": [
    "def build_saliency_network(input_channels):\n",
    "    return nn.Sequential(OrderedDict([\n",
    "        ('layernorm0', LayerNorm(input_channels)),\n",
    "        ('conv0', nn.Conv2d(input_channels, 8, (1, 1), bias=False)),\n",
    "        ('bias0', Bias(8)),\n",
    "        ('softplus0', nn.Softplus()),\n",
    "\n",
    "        ('layernorm1', LayerNorm(8)),\n",
    "        ('conv1', nn.Conv2d(8, 16, (1, 1), bias=False)),\n",
    "        ('bias1', Bias(16)),\n",
    "        ('softplus1', nn.Softplus()),\n",
    "\n",
    "        ('layernorm2', LayerNorm(16)),\n",
    "        ('conv2', nn.Conv2d(16, 1, (1, 1), bias=False)),\n",
    "        ('bias2', Bias(1)),\n",
    "        ('softplus2', nn.Softplus()),\n",
    "    ]))\n",
    "\n",
    "\n",
    "def build_scanpath_network():\n",
    "    return nn.Sequential(OrderedDict([\n",
    "        ('encoding0', FlexibleScanpathHistoryEncoding(in_fixations=4, channels_per_fixation=3, out_channels=128, kernel_size=[1, 1], bias=True)),\n",
    "        ('softplus0', nn.Softplus()),\n",
    "\n",
    "        ('layernorm1', LayerNorm(128)),\n",
    "        ('conv1', nn.Conv2d(128, 16, (1, 1), bias=False)),\n",
    "        ('bias1', Bias(16)),\n",
    "        ('softplus1', nn.Softplus()),\n",
    "    ]))\n",
    "\n",
    "\n",
    "def build_fixation_selection_network(scanpath_features=16):\n",
    "    return nn.Sequential(OrderedDict([\n",
    "        ('layernorm0', LayerNormMultiInput([1, scanpath_features])),\n",
    "        ('conv0', Conv2dMultiInput([1, scanpath_features], 128, (1, 1), bias=False)),\n",
    "        ('bias0', Bias(128)),\n",
    "        ('softplus0', nn.Softplus()),\n",
    "\n",
    "        ('layernorm1', LayerNorm(128)),\n",
    "        ('conv1', nn.Conv2d(128, 16, (1, 1), bias=False)),\n",
    "        ('bias1', Bias(16)),\n",
    "        ('softplus1', nn.Softplus()),\n",
    "\n",
    "        ('conv2', nn.Conv2d(16, 1, (1, 1), bias=False)),\n",
    "    ]))"
   ],
   "metadata": {
    "execution": {
     "iopub.status.busy": "2023-12-30T10:24:34.264143Z",
     "iopub.execute_input": "2023-12-30T10:24:34.264944Z",
     "iopub.status.idle": "2023-12-30T10:24:34.280091Z",
     "shell.execute_reply.started": "2023-12-30T10:24:34.264905Z",
     "shell.execute_reply": "2023-12-30T10:24:34.279069Z"
    },
    "trusted": true
   },
   "execution_count": 7,
   "outputs": []
  },
  {
   "cell_type": "code",
   "source": [
    "def prepare_spatial_dataset(stimuli, fixations, centerbias, batch_size, path=None):\n",
    "    if path is not None:\n",
    "        path.mkdir(parents=True, exist_ok=True)\n",
    "        lmdb_path = str(path)\n",
    "    else:\n",
    "        lmdb_path = None\n",
    "\n",
    "    dataset = ImageDataset(\n",
    "        stimuli=stimuli,\n",
    "        fixations=fixations,\n",
    "        centerbias_model=centerbias,\n",
    "        transform=FixationMaskTransform(sparse=False),\n",
    "        average='image',\n",
    "        lmdb_path=lmdb_path,\n",
    "    )\n",
    "\n",
    "    loader = torch.utils.data.DataLoader(\n",
    "        dataset,\n",
    "        batch_sampler=ImageDatasetSampler(dataset, batch_size=batch_size),\n",
    "        pin_memory=False,\n",
    "        num_workers=0,\n",
    "    )\n",
    "\n",
    "    return loader"
   ],
   "metadata": {
    "execution": {
     "iopub.status.busy": "2023-12-30T10:24:34.281422Z",
     "iopub.execute_input": "2023-12-30T10:24:34.281788Z",
     "iopub.status.idle": "2023-12-30T10:24:34.293877Z",
     "shell.execute_reply.started": "2023-12-30T10:24:34.281760Z",
     "shell.execute_reply": "2023-12-30T10:24:34.292814Z"
    },
    "trusted": true
   },
   "execution_count": 8,
   "outputs": []
  },
  {
   "cell_type": "code",
   "source": [
    "def prepare_scanpath_dataset(stimuli, fixations, centerbias, batch_size, path=None):\n",
    "    if path is not None:\n",
    "        path.mkdir(parents=True, exist_ok=True)\n",
    "        lmdb_path = str(path)\n",
    "    else:\n",
    "        lmdb_path = None\n",
    "\n",
    "    dataset = FixationDataset(\n",
    "        stimuli=stimuli,\n",
    "        fixations=fixations,\n",
    "        centerbias_model=centerbias,\n",
    "        included_fixations=[-1, -2, -3, -4],\n",
    "        allow_missing_fixations=True,\n",
    "        transform=FixationMaskTransform(sparse=False),\n",
    "        average='image',\n",
    "        lmdb_path=lmdb_path,\n",
    "    )\n",
    "\n",
    "    loader = torch.utils.data.DataLoader(\n",
    "        dataset,\n",
    "        batch_sampler=ImageDatasetSampler(dataset, batch_size=batch_size),\n",
    "        pin_memory=False,\n",
    "        num_workers=0,\n",
    "    )\n",
    "\n",
    "    return loader"
   ],
   "metadata": {
    "execution": {
     "iopub.status.busy": "2023-12-30T10:24:34.295235Z",
     "iopub.execute_input": "2023-12-30T10:24:34.295671Z",
     "iopub.status.idle": "2023-12-30T10:24:34.307556Z",
     "shell.execute_reply.started": "2023-12-30T10:24:34.295631Z",
     "shell.execute_reply": "2023-12-30T10:24:34.306558Z"
    },
    "trusted": true
   },
   "execution_count": 9,
   "outputs": []
  },
  {
   "cell_type": "code",
   "source": [
    "dataset_directory = Path('pysaliency_datasets')\n",
    "train_directory = Path('../train_deepgaze3')\n",
    "\n",
    "print(train_directory)"
   ],
   "metadata": {
    "execution": {
     "iopub.status.busy": "2023-12-30T10:24:34.309152Z",
     "iopub.execute_input": "2023-12-30T10:24:34.309888Z",
     "iopub.status.idle": "2023-12-30T10:24:34.318237Z",
     "shell.execute_reply.started": "2023-12-30T10:24:34.309852Z",
     "shell.execute_reply": "2023-12-30T10:24:34.317218Z"
    },
    "trusted": true
   },
   "execution_count": 10,
   "outputs": [
    {
     "name": "stdout",
     "text": "../train_deepgaze3\n",
     "output_type": "stream"
    }
   ]
  },
  {
   "cell_type": "code",
   "source": [
    "device = 'cuda' if torch.cuda.is_available() else 'cpu'\n",
    "print(device)"
   ],
   "metadata": {
    "execution": {
     "iopub.status.busy": "2023-12-30T10:24:34.322136Z",
     "iopub.execute_input": "2023-12-30T10:24:34.322491Z",
     "iopub.status.idle": "2023-12-30T10:24:34.353980Z",
     "shell.execute_reply.started": "2023-12-30T10:24:34.322464Z",
     "shell.execute_reply": "2023-12-30T10:24:34.352967Z"
    },
    "trusted": true,
    "ExecuteTime": {
     "end_time": "2023-12-30T22:03:06.966915Z",
     "start_time": "2023-12-30T22:03:06.278644Z"
    }
   },
   "execution_count": 4,
   "outputs": [
    {
     "ename": "NameError",
     "evalue": "name 'torch' is not defined",
     "output_type": "error",
     "traceback": [
      "\u001B[0;31m---------------------------------------------------------------------------\u001B[0m",
      "\u001B[0;31mNameError\u001B[0m                                 Traceback (most recent call last)",
      "Cell \u001B[0;32mIn[4], line 1\u001B[0m\n\u001B[0;32m----> 1\u001B[0m device \u001B[38;5;241m=\u001B[39m \u001B[38;5;124m'\u001B[39m\u001B[38;5;124mcuda\u001B[39m\u001B[38;5;124m'\u001B[39m \u001B[38;5;28;01mif\u001B[39;00m \u001B[43mtorch\u001B[49m\u001B[38;5;241m.\u001B[39mcuda\u001B[38;5;241m.\u001B[39mis_available() \u001B[38;5;28;01melse\u001B[39;00m \u001B[38;5;124m'\u001B[39m\u001B[38;5;124mcpu\u001B[39m\u001B[38;5;124m'\u001B[39m\n\u001B[1;32m      2\u001B[0m \u001B[38;5;28mprint\u001B[39m(device)\n",
      "\u001B[0;31mNameError\u001B[0m: name 'torch' is not defined"
     ]
    }
   ]
  },
  {
   "cell_type": "markdown",
   "source": [
    "# Pretraining on SALICON"
   ],
   "metadata": {}
  },
  {
   "cell_type": "code",
   "source": [
    "!pip install gdown"
   ],
   "metadata": {
    "execution": {
     "iopub.status.busy": "2023-12-30T10:24:34.355220Z",
     "iopub.execute_input": "2023-12-30T10:24:34.355563Z",
     "iopub.status.idle": "2023-12-30T10:24:47.084824Z",
     "shell.execute_reply.started": "2023-12-30T10:24:34.355536Z",
     "shell.execute_reply": "2023-12-30T10:24:47.083704Z"
    },
    "trusted": true
   },
   "execution_count": 12,
   "outputs": [
    {
     "name": "stdout",
     "text": "Collecting gdown\n  Downloading gdown-4.7.1-py3-none-any.whl (15 kB)\nRequirement already satisfied: filelock in /opt/conda/lib/python3.10/site-packages (from gdown) (3.12.2)\nRequirement already satisfied: requests[socks] in /opt/conda/lib/python3.10/site-packages (from gdown) (2.31.0)\nRequirement already satisfied: six in /opt/conda/lib/python3.10/site-packages (from gdown) (1.16.0)\nRequirement already satisfied: tqdm in /opt/conda/lib/python3.10/site-packages (from gdown) (4.66.1)\nRequirement already satisfied: beautifulsoup4 in /opt/conda/lib/python3.10/site-packages (from gdown) (4.12.2)\nRequirement already satisfied: soupsieve>1.2 in /opt/conda/lib/python3.10/site-packages (from beautifulsoup4->gdown) (2.3.2.post1)\nRequirement already satisfied: charset-normalizer<4,>=2 in /opt/conda/lib/python3.10/site-packages (from requests[socks]->gdown) (3.1.0)\nRequirement already satisfied: idna<4,>=2.5 in /opt/conda/lib/python3.10/site-packages (from requests[socks]->gdown) (3.4)\nRequirement already satisfied: urllib3<3,>=1.21.1 in /opt/conda/lib/python3.10/site-packages (from requests[socks]->gdown) (1.26.15)\nRequirement already satisfied: certifi>=2017.4.17 in /opt/conda/lib/python3.10/site-packages (from requests[socks]->gdown) (2023.7.22)\nRequirement already satisfied: PySocks!=1.5.7,>=1.5.6 in /opt/conda/lib/python3.10/site-packages (from requests[socks]->gdown) (1.7.1)\nInstalling collected packages: gdown\nSuccessfully installed gdown-4.7.1\n",
     "output_type": "stream"
    }
   ]
  },
  {
   "cell_type": "code",
   "source": [
    "SALICON_train_stimuli, SALICON_train_fixations = pysaliency.get_SALICON_train(location=dataset_directory, max_samples=2)\n",
    "SALICON_val_stimuli, SALICON_val_fixations = pysaliency.get_SALICON_val(location=dataset_directory, max_samples=2)\n",
    "\n",
    "# parameters taken from an early fit for MIT1003. Since SALICON has many more fixations, the bandwidth won't be too small\n",
    "SALICON_centerbias = BaselineModel(stimuli=SALICON_train_stimuli, fixations=SALICON_train_fixations, bandwidth=0.0217, eps=2e-13, caching=False)\n",
    "\n",
    "# takes quite some time, feel free to set to zero\n",
    "train_baseline_log_likelihood = 0.46408017115279737 #SALICON_centerbias.information_gain(SALICON_train_stimuli, SALICON_train_fixations, verbose=True, average='image')\n",
    "val_baseline_log_likelihood = 0.4291592320821603 #SALICON_centerbias.information_gain(SALICON_val_stimuli, SALICON_val_fixations, verbose=True, average='image')"
   ],
   "metadata": {
    "execution": {
     "iopub.status.busy": "2023-12-30T10:24:47.086410Z",
     "iopub.execute_input": "2023-12-30T10:24:47.086767Z",
     "iopub.status.idle": "2023-12-30T10:25:51.054560Z",
     "shell.execute_reply.started": "2023-12-30T10:24:47.086737Z",
     "shell.execute_reply": "2023-12-30T10:25:51.053544Z"
    },
    "trusted": true
   },
   "execution_count": 13,
   "outputs": [
    {
     "name": "stderr",
     "text": "Downloading...\nFrom (uriginal): https://drive.google.com/uc?id=1g8j-hTT-51IG1UFwP0xTGhLdgIUCW5e5\nFrom (redirected): https://drive.google.com/uc?id=1g8j-hTT-51IG1UFwP0xTGhLdgIUCW5e5&confirm=t&uuid=6bbbcccb-2b5c-4f1d-b0f0-7058478fa455\nTo: /tmp/tmplaw5pe9f/stimuli.zip\n100%|██████████| 2.27G/2.27G [00:24<00:00, 93.0MB/s]\n",
     "output_type": "stream"
    },
    {
     "name": "stdout",
     "text": "Checking md5 sum...\nExtracting stimuli\n",
     "output_type": "stream"
    },
    {
     "name": "stderr",
     "text": "Downloading...\nFrom (uriginal): https://drive.google.com/uc?id=1WVEiXba-I4GN33f0uUl4KhaN1rK7qzs6\nFrom (redirected): https://drive.google.com/uc?id=1WVEiXba-I4GN33f0uUl4KhaN1rK7qzs6&confirm=t&uuid=d67241fd-4b55-41cd-a0af-8d19eb06badf\nTo: /tmp/tmp37lplyoi/fixations.zip\n100%|██████████| 445M/445M [00:05<00:00, 87.7MB/s] \n",
     "output_type": "stream"
    },
    {
     "name": "stdout",
     "text": "Checking md5 sum...\n",
     "output_type": "stream"
    },
    {
     "name": "stderr",
     "text": "100%|██████████| 2/2 [00:00<00:00, 199.48it/s]\n100%|██████████| 2/2 [00:00<00:00, 269.72it/s]\n",
     "output_type": "stream"
    }
   ]
  },
  {
   "cell_type": "code",
   "source": [
    "model = DeepGazeIII(\n",
    "    features=FeatureExtractor(RGBDenseNet201(), [\n",
    "            '1.features.denseblock4.denselayer32.norm1',\n",
    "            '1.features.denseblock4.denselayer32.conv1',\n",
    "            '1.features.denseblock4.denselayer31.conv2',\n",
    "        ]),\n",
    "    saliency_network=build_saliency_network(2048),\n",
    "    scanpath_network=None,\n",
    "    fixation_selection_network=build_fixation_selection_network(scanpath_features=0),\n",
    "    downsample=1.5,\n",
    "    readout_factor=4,\n",
    "    saliency_map_factor=4,\n",
    "    included_fixations=[],\n",
    ")\n",
    "\n",
    "model = model.to(device)\n",
    "optimizer = torch.optim.Adam(model.parameters(), lr=0.001)\n",
    "lr_scheduler = torch.optim.lr_scheduler.MultiStepLR(optimizer, milestones=[15, 30, 45, 60, 75, 90, 105, 120])"
   ],
   "metadata": {
    "execution": {
     "iopub.status.busy": "2023-12-30T10:25:51.056056Z",
     "iopub.execute_input": "2023-12-30T10:25:51.056763Z",
     "iopub.status.idle": "2023-12-30T10:26:00.135816Z",
     "shell.execute_reply.started": "2023-12-30T10:25:51.056731Z",
     "shell.execute_reply": "2023-12-30T10:26:00.134984Z"
    },
    "trusted": true
   },
   "execution_count": 14,
   "outputs": [
    {
     "name": "stderr",
     "text": "Downloading: \"https://github.com/pytorch/vision/zipball/v0.6.0\" to /root/.cache/torch/hub/v0.6.0.zip\n/opt/conda/lib/python3.10/site-packages/torchvision/models/_utils.py:208: UserWarning: The parameter 'pretrained' is deprecated since 0.13 and may be removed in the future, please use 'weights' instead.\n  warnings.warn(\n/opt/conda/lib/python3.10/site-packages/torchvision/models/_utils.py:223: UserWarning: Arguments other than a weight enum or `None` for 'weights' are deprecated since 0.13 and may be removed in the future. The current behavior is equivalent to passing `weights=DenseNet201_Weights.IMAGENET1K_V1`. You can also use `weights=DenseNet201_Weights.DEFAULT` to get the most up-to-date weights.\n  warnings.warn(msg)\nDownloading: \"https://download.pytorch.org/models/densenet201-c1103571.pth\" to /root/.cache/torch/hub/checkpoints/densenet201-c1103571.pth\n100%|██████████| 77.4M/77.4M [00:01<00:00, 78.1MB/s]\n",
     "output_type": "stream"
    }
   ]
  },
  {
   "cell_type": "code",
   "source": [
    "import gc\n",
    "\n",
    "gc.collect()\n",
    "\n",
    "train_loader = prepare_spatial_dataset(SALICON_train_stimuli, SALICON_train_fixations, SALICON_centerbias, batch_size=2, path=train_directory / 'lmdb_cache' / 'SALICON_train')\n",
    "gc.collect()\n",
    "validation_loader = prepare_spatial_dataset(SALICON_val_stimuli, SALICON_val_fixations, SALICON_centerbias, batch_size=2, path=train_directory / 'lmdb_cache' / 'SALICON_val')"
   ],
   "metadata": {
    "execution": {
     "iopub.status.busy": "2023-12-30T10:26:00.136949Z",
     "iopub.execute_input": "2023-12-30T10:26:00.137274Z",
     "iopub.status.idle": "2023-12-30T10:26:01.058423Z",
     "shell.execute_reply.started": "2023-12-30T10:26:00.137248Z",
     "shell.execute_reply": "2023-12-30T10:26:01.057487Z"
    },
    "trusted": true
   },
   "execution_count": 15,
   "outputs": [
    {
     "name": "stdout",
     "text": "Generate LMDB to ../train_deepgaze3/lmdb_cache/SALICON_train\n",
     "output_type": "stream"
    },
    {
     "name": "stderr",
     "text": "100%|██████████| 2/2 [00:00<00:00,  9.73it/s]\n",
     "output_type": "stream"
    },
    {
     "name": "stdout",
     "text": "Flushing database ...\nPopulating fixations cache\n",
     "output_type": "stream"
    },
    {
     "name": "stderr",
     "text": "100%|█████████▉| 12940/12941 [00:00<00:00, 601930.79it/s]\n",
     "output_type": "stream"
    },
    {
     "name": "stdout",
     "text": "Generate LMDB to ../train_deepgaze3/lmdb_cache/SALICON_val\n",
     "output_type": "stream"
    },
    {
     "name": "stderr",
     "text": "100%|██████████| 2/2 [00:00<00:00, 65.89it/s]\n",
     "output_type": "stream"
    },
    {
     "name": "stdout",
     "text": "Flushing database ...\nPopulating fixations cache\n",
     "output_type": "stream"
    },
    {
     "name": "stderr",
     "text": "100%|█████████▉| 15523/15524 [00:00<00:00, 612442.79it/s]\n",
     "output_type": "stream"
    }
   ]
  },
  {
   "cell_type": "code",
   "source": [
    "_train(train_directory / 'pretraining',\n",
    "    model,\n",
    "    train_loader, train_baseline_log_likelihood,\n",
    "    validation_loader, val_baseline_log_likelihood,\n",
    "    optimizer, lr_scheduler,\n",
    "    minimum_learning_rate=1e-7,\n",
    "    device=device,\n",
    ")\n"
   ],
   "metadata": {
    "execution": {
     "iopub.status.busy": "2023-12-30T10:26:01.059641Z",
     "iopub.execute_input": "2023-12-30T10:26:01.059936Z",
     "iopub.status.idle": "2023-12-30T10:26:52.320371Z",
     "shell.execute_reply.started": "2023-12-30T10:26:01.059910Z",
     "shell.execute_reply": "2023-12-30T10:26:52.319281Z"
    },
    "trusted": true
   },
   "execution_count": 16,
   "outputs": [
    {
     "name": "stdout",
     "text": "Using device cuda\nvalidation metrics ['IG', 'LL', 'AUC', 'NSS']\nBeginning training\n",
     "output_type": "stream"
    },
    {
     "name": "stderr",
     "text": "LL 0.03047: 100%|██████████| 1/1 [00:04<00:00,  4.77s/it]\n",
     "output_type": "stream"
    },
    {
     "name": "stdout",
     "text": "   epoch                  timestamp  learning_rate  loss  validation_IG  \\\n0      0 2023-12-30 10:26:06.098563          0.001   NaN      -0.398685   \n\n   validation_LL  validation_AUC  validation_NSS  \n0       0.030474        0.646169        0.612676  \nvalidation_LL     0\nvalidation_NSS    0\nvalidation_AUC    0\nvalidation_IG     0\ndtype: int64\n",
     "output_type": "stream"
    },
    {
     "name": "stderr",
     "text": "-0.68511: 100%|██████████| 1/1 [00:01<00:00,  1.07s/it]\nLL 0.06102: 100%|██████████| 1/1 [00:00<00:00,  5.25it/s]\n",
     "output_type": "stream"
    },
    {
     "name": "stdout",
     "text": "   epoch                  timestamp  learning_rate      loss  validation_IG  \\\n0      0 2023-12-30 10:26:06.098563          0.001       NaN      -0.398685   \n1      1 2023-12-30 10:26:07.640223          0.001 -0.685108      -0.368136   \n\n   validation_LL  validation_AUC  validation_NSS  \n0       0.030474        0.646169        0.612676  \n1       0.061023        0.653873        0.636243  \nvalidation_LL     1\nvalidation_NSS    1\nvalidation_AUC    1\nvalidation_IG     1\ndtype: int64\n",
     "output_type": "stream"
    },
    {
     "name": "stderr",
     "text": "-0.70662: 100%|██████████| 1/1 [00:00<00:00,  8.67it/s]\nLL 0.08670: 100%|██████████| 1/1 [00:00<00:00,  5.41it/s]\n",
     "output_type": "stream"
    },
    {
     "name": "stdout",
     "text": "   epoch                  timestamp  learning_rate      loss  validation_IG  \\\n1      1 2023-12-30 10:26:07.640223          0.001 -0.685108      -0.368136   \n2      2 2023-12-30 10:26:08.220069          0.001 -0.706617      -0.342461   \n\n   validation_LL  validation_AUC  validation_NSS  \n1       0.061023        0.653873        0.636243  \n2       0.086698        0.661744        0.656860  \nvalidation_LL     2\nvalidation_NSS    2\nvalidation_AUC    2\nvalidation_IG     2\ndtype: int64\nremoving ../train_deepgaze3/pretraining/step-0001.pth\n",
     "output_type": "stream"
    },
    {
     "name": "stderr",
     "text": "-0.74365: 100%|██████████| 1/1 [00:00<00:00,  8.92it/s]\nLL 0.10498: 100%|██████████| 1/1 [00:00<00:00,  5.43it/s]\n",
     "output_type": "stream"
    },
    {
     "name": "stdout",
     "text": "   epoch                  timestamp  learning_rate      loss  validation_IG  \\\n2      2 2023-12-30 10:26:08.220069          0.001 -0.706617      -0.342461   \n3      3 2023-12-30 10:26:08.797997          0.001 -0.743647      -0.324177   \n\n   validation_LL  validation_AUC  validation_NSS  \n2       0.086698        0.661744        0.656860  \n3       0.104982        0.668406        0.672648  \nvalidation_LL     3\nvalidation_NSS    3\nvalidation_AUC    3\nvalidation_IG     3\ndtype: int64\nremoving ../train_deepgaze3/pretraining/step-0002.pth\n",
     "output_type": "stream"
    },
    {
     "name": "stderr",
     "text": "-0.77318: 100%|██████████| 1/1 [00:00<00:00,  8.91it/s]\nLL 0.11806: 100%|██████████| 1/1 [00:00<00:00,  5.42it/s]\n",
     "output_type": "stream"
    },
    {
     "name": "stdout",
     "text": "   epoch                  timestamp  learning_rate      loss  validation_IG  \\\n3      3 2023-12-30 10:26:08.797997          0.001 -0.743647      -0.324177   \n4      4 2023-12-30 10:26:09.380047          0.001 -0.773183      -0.311101   \n\n   validation_LL  validation_AUC  validation_NSS  \n3       0.104982        0.668406        0.672648  \n4       0.118058        0.674086        0.682683  \nvalidation_LL     4\nvalidation_NSS    4\nvalidation_AUC    4\nvalidation_IG     4\ndtype: int64\nremoving ../train_deepgaze3/pretraining/step-0003.pth\n",
     "output_type": "stream"
    },
    {
     "name": "stderr",
     "text": "-0.79689: 100%|██████████| 1/1 [00:00<00:00,  9.09it/s]\nLL 0.12084: 100%|██████████| 1/1 [00:00<00:00,  5.44it/s]\n",
     "output_type": "stream"
    },
    {
     "name": "stdout",
     "text": "   epoch                  timestamp  learning_rate      loss  validation_IG  \\\n4      4 2023-12-30 10:26:09.380047          0.001 -0.773183      -0.311101   \n5      5 2023-12-30 10:26:09.965285          0.001 -0.796894      -0.308315   \n\n   validation_LL  validation_AUC  validation_NSS  \n4       0.118058        0.674086        0.682683  \n5       0.120844        0.677739        0.679700  \nvalidation_LL     5\nvalidation_NSS    4\nvalidation_AUC    5\nvalidation_IG     5\ndtype: int64\nremoving ../train_deepgaze3/pretraining/step-0004.pth\n",
     "output_type": "stream"
    },
    {
     "name": "stderr",
     "text": "-0.81454: 100%|██████████| 1/1 [00:00<00:00,  8.98it/s]\nLL 0.11377: 100%|██████████| 1/1 [00:00<00:00,  5.39it/s]\n",
     "output_type": "stream"
    },
    {
     "name": "stdout",
     "text": "   epoch                  timestamp  learning_rate      loss  validation_IG  \\\n5      5 2023-12-30 10:26:09.965285          0.001 -0.796894      -0.308315   \n6      6 2023-12-30 10:26:10.546853          0.001 -0.814536      -0.315388   \n\n   validation_LL  validation_AUC  validation_NSS  \n5       0.120844        0.677739        0.679700  \n6       0.113772        0.679207        0.663835  \nvalidation_LL     5\nvalidation_NSS    4\nvalidation_AUC    6\nvalidation_IG     5\ndtype: int64\n",
     "output_type": "stream"
    },
    {
     "name": "stderr",
     "text": "-0.82639: 100%|██████████| 1/1 [00:00<00:00,  8.69it/s]\nLL 0.09715: 100%|██████████| 1/1 [00:00<00:00,  5.05it/s]\n",
     "output_type": "stream"
    },
    {
     "name": "stdout",
     "text": "   epoch                  timestamp  learning_rate      loss  validation_IG  \\\n6      6 2023-12-30 10:26:10.546853          0.001 -0.814536      -0.315388   \n7      7 2023-12-30 10:26:11.186391          0.001 -0.826392      -0.332007   \n\n   validation_LL  validation_AUC  validation_NSS  \n6       0.113772        0.679207        0.663835  \n7       0.097152        0.678993        0.636573  \nvalidation_LL     5\nvalidation_NSS    4\nvalidation_AUC    6\nvalidation_IG     5\ndtype: int64\nremoving ../train_deepgaze3/pretraining/step-0006.pth\n",
     "output_type": "stream"
    },
    {
     "name": "stderr",
     "text": "-0.83370: 100%|██████████| 1/1 [00:00<00:00,  7.31it/s]\nLL 0.06998: 100%|██████████| 1/1 [00:00<00:00,  5.37it/s]\n",
     "output_type": "stream"
    },
    {
     "name": "stdout",
     "text": "   epoch                  timestamp  learning_rate      loss  validation_IG  \\\n7      7 2023-12-30 10:26:11.186391          0.001 -0.826392      -0.332007   \n8      8 2023-12-30 10:26:11.836341          0.001 -0.833700      -0.359174   \n\n   validation_LL  validation_AUC  validation_NSS  \n7       0.097152        0.678993        0.636573  \n8       0.069985        0.677545        0.605341  \nvalidation_LL     5\nvalidation_NSS    4\nvalidation_AUC    6\nvalidation_IG     5\ndtype: int64\nremoving ../train_deepgaze3/pretraining/step-0007.pth\n",
     "output_type": "stream"
    },
    {
     "name": "stderr",
     "text": "-0.83801: 100%|██████████| 1/1 [00:00<00:00,  8.97it/s]\nLL 0.03378: 100%|██████████| 1/1 [00:00<00:00,  5.38it/s]\n",
     "output_type": "stream"
    },
    {
     "name": "stdout",
     "text": "   epoch                  timestamp  learning_rate      loss  validation_IG  \\\n8      8 2023-12-30 10:26:11.836341          0.001 -0.833700      -0.359174   \n9      9 2023-12-30 10:26:12.432247          0.001 -0.838009      -0.395381   \n\n   validation_LL  validation_AUC  validation_NSS  \n8       0.069985        0.677545        0.605341  \n9       0.033778        0.674857        0.575603  \nvalidation_LL     5\nvalidation_NSS    4\nvalidation_AUC    6\nvalidation_IG     5\ndtype: int64\nremoving ../train_deepgaze3/pretraining/step-0008.pth\n",
     "output_type": "stream"
    },
    {
     "name": "stderr",
     "text": "-0.84267: 100%|██████████| 1/1 [00:00<00:00,  8.70it/s]\nLL -0.00969: 100%|██████████| 1/1 [00:00<00:00,  5.23it/s]\n",
     "output_type": "stream"
    },
    {
     "name": "stdout",
     "text": "    epoch                  timestamp  learning_rate      loss  validation_IG  \\\n9       9 2023-12-30 10:26:12.432247          0.001 -0.838009      -0.395381   \n10     10 2023-12-30 10:26:13.044201          0.001 -0.842669      -0.438847   \n\n    validation_LL  validation_AUC  validation_NSS  \n9        0.033778        0.674857        0.575603  \n10      -0.009688        0.670308        0.535759  \nvalidation_LL     5\nvalidation_NSS    4\nvalidation_AUC    6\nvalidation_IG     5\ndtype: int64\nremoving ../train_deepgaze3/pretraining/step-0009.pth\n",
     "output_type": "stream"
    },
    {
     "name": "stderr",
     "text": "-0.84788: 100%|██████████| 1/1 [00:00<00:00,  8.71it/s]\nLL -0.05138: 100%|██████████| 1/1 [00:00<00:00,  5.27it/s]\n",
     "output_type": "stream"
    },
    {
     "name": "stdout",
     "text": "    epoch                  timestamp  learning_rate      loss  validation_IG  \\\n10     10 2023-12-30 10:26:13.044201          0.001 -0.842669      -0.438847   \n11     11 2023-12-30 10:26:13.646330          0.001 -0.847877      -0.480542   \n\n    validation_LL  validation_AUC  validation_NSS  \n10      -0.009688        0.670308        0.535759  \n11      -0.051383        0.665117        0.489650  \nvalidation_LL     5\nvalidation_NSS    4\nvalidation_AUC    6\nvalidation_IG     5\ndtype: int64\nremoving ../train_deepgaze3/pretraining/step-0010.pth\n",
     "output_type": "stream"
    },
    {
     "name": "stderr",
     "text": "-0.85293: 100%|██████████| 1/1 [00:00<00:00,  9.00it/s]\nLL -0.08069: 100%|██████████| 1/1 [00:00<00:00,  5.32it/s]\n",
     "output_type": "stream"
    },
    {
     "name": "stdout",
     "text": "    epoch                  timestamp  learning_rate      loss  validation_IG  \\\n11     11 2023-12-30 10:26:13.646330          0.001 -0.847877      -0.480542   \n12     12 2023-12-30 10:26:14.230243          0.001 -0.852930      -0.509852   \n\n    validation_LL  validation_AUC  validation_NSS  \n11      -0.051383        0.665117        0.489650  \n12      -0.080693        0.661177        0.456784  \nvalidation_LL     5\nvalidation_NSS    4\nvalidation_AUC    6\nvalidation_IG     5\ndtype: int64\nremoving ../train_deepgaze3/pretraining/step-0011.pth\n",
     "output_type": "stream"
    },
    {
     "name": "stderr",
     "text": "-0.85670: 100%|██████████| 1/1 [00:00<00:00,  9.01it/s]\nLL -0.09366: 100%|██████████| 1/1 [00:00<00:00,  5.50it/s]\n",
     "output_type": "stream"
    },
    {
     "name": "stdout",
     "text": "    epoch                  timestamp  learning_rate      loss  validation_IG  \\\n12     12 2023-12-30 10:26:14.230243          0.001 -0.852930      -0.509852   \n13     13 2023-12-30 10:26:14.814499          0.001 -0.856702      -0.522821   \n\n    validation_LL  validation_AUC  validation_NSS  \n12      -0.080693        0.661177        0.456784  \n13      -0.093662        0.659388        0.446845  \nvalidation_LL     5\nvalidation_NSS    4\nvalidation_AUC    6\nvalidation_IG     5\ndtype: int64\nremoving ../train_deepgaze3/pretraining/step-0012.pth\n",
     "output_type": "stream"
    },
    {
     "name": "stderr",
     "text": "-0.86002: 100%|██████████| 1/1 [00:00<00:00,  9.07it/s]\nLL -0.09789: 100%|██████████| 1/1 [00:00<00:00,  5.41it/s]\n",
     "output_type": "stream"
    },
    {
     "name": "stdout",
     "text": "    epoch                  timestamp  learning_rate      loss  validation_IG  \\\n13     13 2023-12-30 10:26:14.814499          0.001 -0.856702      -0.522821   \n14     14 2023-12-30 10:26:15.392769          0.001 -0.860021      -0.527046   \n\n    validation_LL  validation_AUC  validation_NSS  \n13      -0.093662        0.659388        0.446845  \n14      -0.097887        0.658816        0.446519  \nvalidation_LL     5\nvalidation_NSS    4\nvalidation_AUC    6\nvalidation_IG     5\ndtype: int64\nremoving ../train_deepgaze3/pretraining/step-0013.pth\n",
     "output_type": "stream"
    },
    {
     "name": "stderr",
     "text": "-0.86225: 100%|██████████| 1/1 [00:00<00:00,  9.03it/s]\nLL -0.10142: 100%|██████████| 1/1 [00:00<00:00,  5.50it/s]\n",
     "output_type": "stream"
    },
    {
     "name": "stdout",
     "text": "    epoch                  timestamp  learning_rate      loss  validation_IG  \\\n14     14 2023-12-30 10:26:15.392769          0.001 -0.860021      -0.527046   \n15     15 2023-12-30 10:26:15.964126          0.001 -0.862251      -0.530578   \n\n    validation_LL  validation_AUC  validation_NSS  \n14      -0.097887        0.658816        0.446519  \n15      -0.101419        0.658378        0.442714  \nvalidation_LL     5\nvalidation_NSS    4\nvalidation_AUC    6\nvalidation_IG     5\ndtype: int64\nremoving ../train_deepgaze3/pretraining/step-0014.pth\n",
     "output_type": "stream"
    },
    {
     "name": "stderr",
     "text": "-0.86374: 100%|██████████| 1/1 [00:00<00:00,  8.93it/s]\nLL -0.10200: 100%|██████████| 1/1 [00:00<00:00,  5.37it/s]\n",
     "output_type": "stream"
    },
    {
     "name": "stdout",
     "text": "    epoch                  timestamp  learning_rate      loss  validation_IG  \\\n15     15 2023-12-30 10:26:15.964126         0.0010 -0.862251      -0.530578   \n16     16 2023-12-30 10:26:16.566691         0.0001 -0.863737      -0.531158   \n\n    validation_LL  validation_AUC  validation_NSS  \n15      -0.101419        0.658378        0.442714  \n16      -0.101999        0.658322        0.441771  \nvalidation_LL     5\nvalidation_NSS    4\nvalidation_AUC    6\nvalidation_IG     5\ndtype: int64\nremoving ../train_deepgaze3/pretraining/step-0015.pth\n",
     "output_type": "stream"
    },
    {
     "name": "stderr",
     "text": "-0.86392: 100%|██████████| 1/1 [00:00<00:00,  9.01it/s]\nLL -0.10278: 100%|██████████| 1/1 [00:00<00:00,  5.19it/s]\n",
     "output_type": "stream"
    },
    {
     "name": "stdout",
     "text": "    epoch                  timestamp  learning_rate      loss  validation_IG  \\\n16     16 2023-12-30 10:26:16.566691         0.0001 -0.863737      -0.531158   \n17     17 2023-12-30 10:26:17.205042         0.0001 -0.863922      -0.531940   \n\n    validation_LL  validation_AUC  validation_NSS  \n16      -0.101999        0.658322        0.441771  \n17      -0.102781        0.658258        0.440367  \nvalidation_LL     5\nvalidation_NSS    4\nvalidation_AUC    6\nvalidation_IG     5\ndtype: int64\nremoving ../train_deepgaze3/pretraining/step-0016.pth\n",
     "output_type": "stream"
    },
    {
     "name": "stderr",
     "text": "-0.86418: 100%|██████████| 1/1 [00:00<00:00,  8.99it/s]\nLL -0.10370: 100%|██████████| 1/1 [00:00<00:00,  5.40it/s]\n",
     "output_type": "stream"
    },
    {
     "name": "stdout",
     "text": "    epoch                  timestamp  learning_rate      loss  validation_IG  \\\n17     17 2023-12-30 10:26:17.205042         0.0001 -0.863922       -0.53194   \n18     18 2023-12-30 10:26:17.788083         0.0001 -0.864182       -0.53286   \n\n    validation_LL  validation_AUC  validation_NSS  \n17      -0.102781        0.658258        0.440367  \n18      -0.103701        0.658194        0.438656  \nvalidation_LL     5\nvalidation_NSS    4\nvalidation_AUC    6\nvalidation_IG     5\ndtype: int64\nremoving ../train_deepgaze3/pretraining/step-0017.pth\n",
     "output_type": "stream"
    },
    {
     "name": "stderr",
     "text": "-0.86449: 100%|██████████| 1/1 [00:00<00:00,  9.06it/s]\nLL -0.10469: 100%|██████████| 1/1 [00:00<00:00,  5.44it/s]\n",
     "output_type": "stream"
    },
    {
     "name": "stdout",
     "text": "    epoch                  timestamp  learning_rate      loss  validation_IG  \\\n18     18 2023-12-30 10:26:17.788083         0.0001 -0.864182       -0.53286   \n19     19 2023-12-30 10:26:18.362400         0.0001 -0.864495       -0.53385   \n\n    validation_LL  validation_AUC  validation_NSS  \n18      -0.103701        0.658194        0.438656  \n19      -0.104691        0.658134        0.436805  \nvalidation_LL     5\nvalidation_NSS    4\nvalidation_AUC    6\nvalidation_IG     5\ndtype: int64\nremoving ../train_deepgaze3/pretraining/step-0018.pth\n",
     "output_type": "stream"
    },
    {
     "name": "stderr",
     "text": "-0.86484: 100%|██████████| 1/1 [00:00<00:00,  9.02it/s]\nLL -0.10567: 100%|██████████| 1/1 [00:00<00:00,  5.46it/s]\n",
     "output_type": "stream"
    },
    {
     "name": "stdout",
     "text": "    epoch                  timestamp  learning_rate      loss  validation_IG  \\\n19     19 2023-12-30 10:26:18.362400         0.0001 -0.864495      -0.533850   \n20     20 2023-12-30 10:26:18.932925         0.0001 -0.864836      -0.534832   \n\n    validation_LL  validation_AUC  validation_NSS  \n19      -0.104691        0.658134        0.436805  \n20      -0.105672        0.658093        0.434982  \nvalidation_LL     5\nvalidation_NSS    4\nvalidation_AUC    6\nvalidation_IG     5\ndtype: int64\nremoving ../train_deepgaze3/pretraining/step-0019.pth\n",
     "output_type": "stream"
    },
    {
     "name": "stderr",
     "text": "-0.86519: 100%|██████████| 1/1 [00:00<00:00,  8.97it/s]\nLL -0.10657: 100%|██████████| 1/1 [00:00<00:00,  5.41it/s]\n",
     "output_type": "stream"
    },
    {
     "name": "stdout",
     "text": "    epoch                  timestamp  learning_rate      loss  validation_IG  \\\n20     20 2023-12-30 10:26:18.932925         0.0001 -0.864836      -0.534832   \n21     21 2023-12-30 10:26:19.519202         0.0001 -0.865193      -0.535725   \n\n    validation_LL  validation_AUC  validation_NSS  \n20      -0.105672        0.658093        0.434982  \n21      -0.106566        0.658075        0.433340  \nvalidation_LL     5\nvalidation_NSS    4\nvalidation_AUC    6\nvalidation_IG     5\ndtype: int64\nremoving ../train_deepgaze3/pretraining/step-0020.pth\n",
     "output_type": "stream"
    },
    {
     "name": "stderr",
     "text": "-0.86556: 100%|██████████| 1/1 [00:00<00:00,  8.93it/s]\nLL -0.10731: 100%|██████████| 1/1 [00:00<00:00,  5.30it/s]\n",
     "output_type": "stream"
    },
    {
     "name": "stdout",
     "text": "    epoch                  timestamp  learning_rate      loss  validation_IG  \\\n21     21 2023-12-30 10:26:19.519202         0.0001 -0.865193      -0.535725   \n22     22 2023-12-30 10:26:20.100653         0.0001 -0.865559      -0.536469   \n\n    validation_LL  validation_AUC  validation_NSS  \n21      -0.106566        0.658075        0.433340  \n22      -0.107310        0.658090        0.431997  \nvalidation_LL     5\nvalidation_NSS    4\nvalidation_AUC    6\nvalidation_IG     5\ndtype: int64\nremoving ../train_deepgaze3/pretraining/step-0021.pth\n",
     "output_type": "stream"
    },
    {
     "name": "stderr",
     "text": "-0.86594: 100%|██████████| 1/1 [00:00<00:00,  9.05it/s]\nLL -0.10787: 100%|██████████| 1/1 [00:00<00:00,  5.38it/s]\n",
     "output_type": "stream"
    },
    {
     "name": "stdout",
     "text": "    epoch                  timestamp  learning_rate      loss  validation_IG  \\\n22     22 2023-12-30 10:26:20.100653         0.0001 -0.865559      -0.536469   \n23     23 2023-12-30 10:26:20.684105         0.0001 -0.865937      -0.537025   \n\n    validation_LL  validation_AUC  validation_NSS  \n22      -0.107310        0.658090        0.431997  \n23      -0.107866        0.658144        0.431021  \nvalidation_LL     5\nvalidation_NSS    4\nvalidation_AUC    6\nvalidation_IG     5\ndtype: int64\nremoving ../train_deepgaze3/pretraining/step-0022.pth\n",
     "output_type": "stream"
    },
    {
     "name": "stderr",
     "text": "-0.86632: 100%|██████████| 1/1 [00:00<00:00,  8.83it/s]\nLL -0.10822: 100%|██████████| 1/1 [00:00<00:00,  5.43it/s]\n",
     "output_type": "stream"
    },
    {
     "name": "stdout",
     "text": "    epoch                  timestamp  learning_rate      loss  validation_IG  \\\n23     23 2023-12-30 10:26:20.684105         0.0001 -0.865937      -0.537025   \n24     24 2023-12-30 10:26:21.273681         0.0001 -0.866324      -0.537377   \n\n    validation_LL  validation_AUC  validation_NSS  \n23      -0.107866        0.658144        0.431021  \n24      -0.108218        0.658241        0.430427  \nvalidation_LL     5\nvalidation_NSS    4\nvalidation_AUC    6\nvalidation_IG     5\ndtype: int64\nremoving ../train_deepgaze3/pretraining/step-0023.pth\n",
     "output_type": "stream"
    },
    {
     "name": "stderr",
     "text": "-0.86672: 100%|██████████| 1/1 [00:00<00:00,  8.83it/s]\nLL -0.10838: 100%|██████████| 1/1 [00:00<00:00,  5.36it/s]\n",
     "output_type": "stream"
    },
    {
     "name": "stdout",
     "text": "    epoch                  timestamp  learning_rate      loss  validation_IG  \\\n24     24 2023-12-30 10:26:21.273681         0.0001 -0.866324      -0.537377   \n25     25 2023-12-30 10:26:21.875515         0.0001 -0.866722      -0.537536   \n\n    validation_LL  validation_AUC  validation_NSS  \n24      -0.108218        0.658241        0.430427  \n25      -0.108376        0.658374        0.430177  \nvalidation_LL     5\nvalidation_NSS    4\nvalidation_AUC    6\nvalidation_IG     5\ndtype: int64\nremoving ../train_deepgaze3/pretraining/step-0024.pth\n",
     "output_type": "stream"
    },
    {
     "name": "stderr",
     "text": "-0.86712: 100%|██████████| 1/1 [00:00<00:00,  8.86it/s]\nLL -0.10837: 100%|██████████| 1/1 [00:00<00:00,  5.38it/s]\n",
     "output_type": "stream"
    },
    {
     "name": "stdout",
     "text": "    epoch                  timestamp  learning_rate      loss  validation_IG  \\\n25     25 2023-12-30 10:26:21.875515         0.0001 -0.866722      -0.537536   \n26     26 2023-12-30 10:26:22.465964         0.0001 -0.867124      -0.537532   \n\n    validation_LL  validation_AUC  validation_NSS  \n25      -0.108376        0.658374        0.430177  \n26      -0.108372        0.658544        0.430196  \nvalidation_LL     5\nvalidation_NSS    4\nvalidation_AUC    6\nvalidation_IG     5\ndtype: int64\nremoving ../train_deepgaze3/pretraining/step-0025.pth\n",
     "output_type": "stream"
    },
    {
     "name": "stderr",
     "text": "-0.86752: 100%|██████████| 1/1 [00:00<00:00,  8.78it/s]\nLL -0.10825: 100%|██████████| 1/1 [00:00<00:00,  5.31it/s]\n",
     "output_type": "stream"
    },
    {
     "name": "stdout",
     "text": "    epoch                  timestamp  learning_rate      loss  validation_IG  \\\n26     26 2023-12-30 10:26:22.465964         0.0001 -0.867124      -0.537532   \n27     27 2023-12-30 10:26:23.061912         0.0001 -0.867520      -0.537407   \n\n    validation_LL  validation_AUC  validation_NSS  \n26      -0.108372        0.658544        0.430196  \n27      -0.108248        0.658735        0.430381  \nvalidation_LL     5\nvalidation_NSS    4\nvalidation_AUC    6\nvalidation_IG     5\ndtype: int64\nremoving ../train_deepgaze3/pretraining/step-0026.pth\n",
     "output_type": "stream"
    },
    {
     "name": "stderr",
     "text": "-0.86790: 100%|██████████| 1/1 [00:00<00:00,  8.89it/s]\nLL -0.10806: 100%|██████████| 1/1 [00:00<00:00,  5.47it/s]\n",
     "output_type": "stream"
    },
    {
     "name": "stdout",
     "text": "    epoch                  timestamp  learning_rate      loss  validation_IG  \\\n27     27 2023-12-30 10:26:23.061912         0.0001 -0.867520      -0.537407   \n28     28 2023-12-30 10:26:23.642556         0.0001 -0.867904      -0.537220   \n\n    validation_LL  validation_AUC  validation_NSS  \n27      -0.108248        0.658735        0.430381  \n28      -0.108061        0.658931        0.430616  \nvalidation_LL     5\nvalidation_NSS    4\nvalidation_AUC    6\nvalidation_IG     5\ndtype: int64\nremoving ../train_deepgaze3/pretraining/step-0027.pth\n",
     "output_type": "stream"
    },
    {
     "name": "stderr",
     "text": "-0.86827: 100%|██████████| 1/1 [00:00<00:00,  8.98it/s]\nLL -0.10786: 100%|██████████| 1/1 [00:00<00:00,  5.44it/s]\n",
     "output_type": "stream"
    },
    {
     "name": "stdout",
     "text": "    epoch                  timestamp  learning_rate      loss  validation_IG  \\\n28     28 2023-12-30 10:26:23.642556         0.0001 -0.867904      -0.537220   \n29     29 2023-12-30 10:26:24.223368         0.0001 -0.868266      -0.537022   \n\n    validation_LL  validation_AUC  validation_NSS  \n28      -0.108061        0.658931        0.430616  \n29      -0.107863        0.659125        0.430785  \nvalidation_LL     5\nvalidation_NSS    4\nvalidation_AUC    6\nvalidation_IG     5\ndtype: int64\nremoving ../train_deepgaze3/pretraining/step-0028.pth\n",
     "output_type": "stream"
    },
    {
     "name": "stderr",
     "text": "-0.86861: 100%|██████████| 1/1 [00:00<00:00,  8.92it/s]\nLL -0.10771: 100%|██████████| 1/1 [00:00<00:00,  5.45it/s]\n",
     "output_type": "stream"
    },
    {
     "name": "stdout",
     "text": "    epoch                  timestamp  learning_rate      loss  validation_IG  \\\n29     29 2023-12-30 10:26:24.223368         0.0001 -0.868266      -0.537022   \n30     30 2023-12-30 10:26:24.806947         0.0001 -0.868608      -0.536869   \n\n    validation_LL  validation_AUC  validation_NSS  \n29      -0.107863        0.659125        0.430785  \n30      -0.107710        0.659314        0.430784  \nvalidation_LL     5\nvalidation_NSS    4\nvalidation_AUC    6\nvalidation_IG     5\ndtype: int64\nremoving ../train_deepgaze3/pretraining/step-0029.pth\n",
     "output_type": "stream"
    },
    {
     "name": "stderr",
     "text": "-0.86893: 100%|██████████| 1/1 [00:00<00:00,  9.00it/s]\nLL -0.10770: 100%|██████████| 1/1 [00:00<00:00,  5.50it/s]\n",
     "output_type": "stream"
    },
    {
     "name": "stdout",
     "text": "    epoch                  timestamp  learning_rate      loss  validation_IG  \\\n30     30 2023-12-30 10:26:24.806947        0.00010 -0.868608      -0.536869   \n31     31 2023-12-30 10:26:25.381014        0.00001 -0.868931      -0.536861   \n\n    validation_LL  validation_AUC  validation_NSS  \n30      -0.107710        0.659314        0.430784  \n31      -0.107702        0.659334        0.430760  \nvalidation_LL     5\nvalidation_NSS    4\nvalidation_AUC    6\nvalidation_IG     5\ndtype: int64\nremoving ../train_deepgaze3/pretraining/step-0030.pth\n",
     "output_type": "stream"
    },
    {
     "name": "stderr",
     "text": "-0.86896: 100%|██████████| 1/1 [00:00<00:00,  8.95it/s]\nLL -0.10770: 100%|██████████| 1/1 [00:00<00:00,  5.46it/s]\n",
     "output_type": "stream"
    },
    {
     "name": "stdout",
     "text": "    epoch                  timestamp  learning_rate      loss  validation_IG  \\\n31     31 2023-12-30 10:26:25.381014        0.00001 -0.868931      -0.536861   \n32     32 2023-12-30 10:26:25.955070        0.00001 -0.868961      -0.536863   \n\n    validation_LL  validation_AUC  validation_NSS  \n31      -0.107702        0.659334        0.430760  \n32      -0.107704        0.659352        0.430713  \nvalidation_LL     5\nvalidation_NSS    4\nvalidation_AUC    6\nvalidation_IG     5\ndtype: int64\nremoving ../train_deepgaze3/pretraining/step-0031.pth\n",
     "output_type": "stream"
    },
    {
     "name": "stderr",
     "text": "-0.86899: 100%|██████████| 1/1 [00:00<00:00,  9.05it/s]\nLL -0.10771: 100%|██████████| 1/1 [00:00<00:00,  5.47it/s]\n",
     "output_type": "stream"
    },
    {
     "name": "stdout",
     "text": "    epoch                  timestamp  learning_rate      loss  validation_IG  \\\n32     32 2023-12-30 10:26:25.955070        0.00001 -0.868961      -0.536863   \n33     33 2023-12-30 10:26:26.533355        0.00001 -0.868994      -0.536873   \n\n    validation_LL  validation_AUC  validation_NSS  \n32      -0.107704        0.659352        0.430713  \n33      -0.107714        0.659365        0.430645  \nvalidation_LL     5\nvalidation_NSS    4\nvalidation_AUC    6\nvalidation_IG     5\ndtype: int64\nremoving ../train_deepgaze3/pretraining/step-0032.pth\n",
     "output_type": "stream"
    },
    {
     "name": "stderr",
     "text": "-0.86903: 100%|██████████| 1/1 [00:00<00:00,  9.08it/s]\nLL -0.10773: 100%|██████████| 1/1 [00:00<00:00,  4.95it/s]\n",
     "output_type": "stream"
    },
    {
     "name": "stdout",
     "text": "    epoch                  timestamp  learning_rate      loss  validation_IG  \\\n33     33 2023-12-30 10:26:26.533355        0.00001 -0.868994      -0.536873   \n34     34 2023-12-30 10:26:27.136684        0.00001 -0.869026      -0.536888   \n\n    validation_LL  validation_AUC  validation_NSS  \n33      -0.107714        0.659365        0.430645  \n34      -0.107728        0.659378        0.430557  \nvalidation_LL     5\nvalidation_NSS    4\nvalidation_AUC    6\nvalidation_IG     5\ndtype: int64\nremoving ../train_deepgaze3/pretraining/step-0033.pth\n",
     "output_type": "stream"
    },
    {
     "name": "stderr",
     "text": "-0.86906: 100%|██████████| 1/1 [00:00<00:00,  9.10it/s]\nLL -0.10775: 100%|██████████| 1/1 [00:00<00:00,  5.03it/s]\n",
     "output_type": "stream"
    },
    {
     "name": "stdout",
     "text": "    epoch                  timestamp  learning_rate      loss  validation_IG  \\\n34     34 2023-12-30 10:26:27.136684        0.00001 -0.869026      -0.536888   \n35     35 2023-12-30 10:26:27.729694        0.00001 -0.869058      -0.536911   \n\n    validation_LL  validation_AUC  validation_NSS  \n34      -0.107728        0.659378        0.430557  \n35      -0.107752        0.659393        0.430452  \nvalidation_LL     5\nvalidation_NSS    4\nvalidation_AUC    6\nvalidation_IG     5\ndtype: int64\nremoving ../train_deepgaze3/pretraining/step-0034.pth\n",
     "output_type": "stream"
    },
    {
     "name": "stderr",
     "text": "-0.86909: 100%|██████████| 1/1 [00:00<00:00,  8.59it/s]\nLL -0.10778: 100%|██████████| 1/1 [00:00<00:00,  5.30it/s]\n",
     "output_type": "stream"
    },
    {
     "name": "stdout",
     "text": "    epoch                  timestamp  learning_rate      loss  validation_IG  \\\n35     35 2023-12-30 10:26:27.729694        0.00001 -0.869058      -0.536911   \n36     36 2023-12-30 10:26:28.333911        0.00001 -0.869092      -0.536939   \n\n    validation_LL  validation_AUC  validation_NSS  \n35      -0.107752        0.659393        0.430452  \n36      -0.107780        0.659405        0.430332  \nvalidation_LL     5\nvalidation_NSS    4\nvalidation_AUC    6\nvalidation_IG     5\ndtype: int64\nremoving ../train_deepgaze3/pretraining/step-0035.pth\n",
     "output_type": "stream"
    },
    {
     "name": "stderr",
     "text": "-0.86913: 100%|██████████| 1/1 [00:00<00:00,  8.99it/s]\nLL -0.10781: 100%|██████████| 1/1 [00:00<00:00,  5.41it/s]\n",
     "output_type": "stream"
    },
    {
     "name": "stdout",
     "text": "    epoch                  timestamp  learning_rate      loss  validation_IG  \\\n36     36 2023-12-30 10:26:28.333911        0.00001 -0.869092      -0.536939   \n37     37 2023-12-30 10:26:29.212695        0.00001 -0.869126      -0.536973   \n\n    validation_LL  validation_AUC  validation_NSS  \n36      -0.107780        0.659405        0.430332  \n37      -0.107814        0.659415        0.430197  \nvalidation_LL     5\nvalidation_NSS    4\nvalidation_AUC    6\nvalidation_IG     5\ndtype: int64\nremoving ../train_deepgaze3/pretraining/step-0036.pth\n",
     "output_type": "stream"
    },
    {
     "name": "stderr",
     "text": "-0.86916: 100%|██████████| 1/1 [00:00<00:00,  8.96it/s]\nLL -0.10785: 100%|██████████| 1/1 [00:00<00:00,  5.37it/s]\n",
     "output_type": "stream"
    },
    {
     "name": "stdout",
     "text": "    epoch                  timestamp  learning_rate      loss  validation_IG  \\\n37     37 2023-12-30 10:26:29.212695        0.00001 -0.869126      -0.536973   \n38     38 2023-12-30 10:26:29.808655        0.00001 -0.869159      -0.537014   \n\n    validation_LL  validation_AUC  validation_NSS  \n37      -0.107814        0.659415        0.430197  \n38      -0.107855        0.659424        0.430051  \nvalidation_LL     5\nvalidation_NSS    4\nvalidation_AUC    6\nvalidation_IG     5\ndtype: int64\nremoving ../train_deepgaze3/pretraining/step-0037.pth\n",
     "output_type": "stream"
    },
    {
     "name": "stderr",
     "text": "-0.86919: 100%|██████████| 1/1 [00:00<00:00,  8.90it/s]\nLL -0.10790: 100%|██████████| 1/1 [00:00<00:00,  5.40it/s]\n",
     "output_type": "stream"
    },
    {
     "name": "stdout",
     "text": "    epoch                  timestamp  learning_rate      loss  validation_IG  \\\n38     38 2023-12-30 10:26:29.808655        0.00001 -0.869159      -0.537014   \n39     39 2023-12-30 10:26:30.394777        0.00001 -0.869193      -0.537057   \n\n    validation_LL  validation_AUC  validation_NSS  \n38      -0.107855        0.659424        0.430051  \n39      -0.107898        0.659432        0.429895  \nvalidation_LL     5\nvalidation_NSS    4\nvalidation_AUC    6\nvalidation_IG     5\ndtype: int64\nremoving ../train_deepgaze3/pretraining/step-0038.pth\n",
     "output_type": "stream"
    },
    {
     "name": "stderr",
     "text": "-0.86923: 100%|██████████| 1/1 [00:00<00:00,  8.85it/s]\nLL -0.10795: 100%|██████████| 1/1 [00:00<00:00,  5.32it/s]\n",
     "output_type": "stream"
    },
    {
     "name": "stdout",
     "text": "    epoch                  timestamp  learning_rate      loss  validation_IG  \\\n39     39 2023-12-30 10:26:30.394777        0.00001 -0.869193      -0.537057   \n40     40 2023-12-30 10:26:30.987439        0.00001 -0.869228      -0.537105   \n\n    validation_LL  validation_AUC  validation_NSS  \n39      -0.107898        0.659432        0.429895  \n40      -0.107946        0.659439        0.429729  \nvalidation_LL     5\nvalidation_NSS    4\nvalidation_AUC    6\nvalidation_IG     5\ndtype: int64\nremoving ../train_deepgaze3/pretraining/step-0039.pth\n",
     "output_type": "stream"
    },
    {
     "name": "stderr",
     "text": "-0.86926: 100%|██████████| 1/1 [00:00<00:00,  8.79it/s]\nLL -0.10800: 100%|██████████| 1/1 [00:00<00:00,  5.33it/s]\n",
     "output_type": "stream"
    },
    {
     "name": "stdout",
     "text": "    epoch                  timestamp  learning_rate      loss  validation_IG  \\\n40     40 2023-12-30 10:26:30.987439        0.00001 -0.869228      -0.537105   \n41     41 2023-12-30 10:26:31.591464        0.00001 -0.869263      -0.537156   \n\n    validation_LL  validation_AUC  validation_NSS  \n40      -0.107946        0.659439        0.429729  \n41      -0.107997        0.659445        0.429558  \nvalidation_LL     5\nvalidation_NSS    4\nvalidation_AUC    6\nvalidation_IG     5\ndtype: int64\nremoving ../train_deepgaze3/pretraining/step-0040.pth\n",
     "output_type": "stream"
    },
    {
     "name": "stderr",
     "text": "-0.86930: 100%|██████████| 1/1 [00:00<00:00,  8.74it/s]\nLL -0.10805: 100%|██████████| 1/1 [00:00<00:00,  5.40it/s]\n",
     "output_type": "stream"
    },
    {
     "name": "stdout",
     "text": "    epoch                  timestamp  learning_rate      loss  validation_IG  \\\n41     41 2023-12-30 10:26:31.591464        0.00001 -0.869263      -0.537156   \n42     42 2023-12-30 10:26:32.181954        0.00001 -0.869296      -0.537210   \n\n    validation_LL  validation_AUC  validation_NSS  \n41      -0.107997        0.659445        0.429558  \n42      -0.108051        0.659451        0.429382  \nvalidation_LL     5\nvalidation_NSS    4\nvalidation_AUC    6\nvalidation_IG     5\ndtype: int64\nremoving ../train_deepgaze3/pretraining/step-0041.pth\n",
     "output_type": "stream"
    },
    {
     "name": "stderr",
     "text": "-0.86933: 100%|██████████| 1/1 [00:00<00:00,  8.92it/s]\nLL -0.10811: 100%|██████████| 1/1 [00:00<00:00,  5.49it/s]\n",
     "output_type": "stream"
    },
    {
     "name": "stdout",
     "text": "    epoch                  timestamp  learning_rate      loss  validation_IG  \\\n42     42 2023-12-30 10:26:32.181954        0.00001 -0.869296      -0.537210   \n43     43 2023-12-30 10:26:32.766860        0.00001 -0.869331      -0.537265   \n\n    validation_LL  validation_AUC  validation_NSS  \n42      -0.108051        0.659451        0.429382  \n43      -0.108106        0.659458        0.429203  \nvalidation_LL     5\nvalidation_NSS    4\nvalidation_AUC    6\nvalidation_IG     5\ndtype: int64\nremoving ../train_deepgaze3/pretraining/step-0042.pth\n",
     "output_type": "stream"
    },
    {
     "name": "stderr",
     "text": "-0.86936: 100%|██████████| 1/1 [00:00<00:00,  9.15it/s]\nLL -0.10816: 100%|██████████| 1/1 [00:00<00:00,  5.41it/s]\n",
     "output_type": "stream"
    },
    {
     "name": "stdout",
     "text": "    epoch                  timestamp  learning_rate      loss  validation_IG  \\\n43     43 2023-12-30 10:26:32.766860        0.00001 -0.869331      -0.537265   \n44     44 2023-12-30 10:26:33.341549        0.00001 -0.869365      -0.537324   \n\n    validation_LL  validation_AUC  validation_NSS  \n43      -0.108106        0.659458        0.429203  \n44      -0.108164        0.659467        0.429023  \nvalidation_LL     5\nvalidation_NSS    4\nvalidation_AUC    6\nvalidation_IG     5\ndtype: int64\nremoving ../train_deepgaze3/pretraining/step-0043.pth\n",
     "output_type": "stream"
    },
    {
     "name": "stderr",
     "text": "-0.86940: 100%|██████████| 1/1 [00:00<00:00,  8.83it/s]\nLL -0.10822: 100%|██████████| 1/1 [00:00<00:00,  5.31it/s]\n",
     "output_type": "stream"
    },
    {
     "name": "stdout",
     "text": "    epoch                  timestamp  learning_rate      loss  validation_IG  \\\n44     44 2023-12-30 10:26:33.341549        0.00001 -0.869365      -0.537324   \n45     45 2023-12-30 10:26:33.933400        0.00001 -0.869399      -0.537382   \n\n    validation_LL  validation_AUC  validation_NSS  \n44      -0.108164        0.659467        0.429023  \n45      -0.108223        0.659473        0.428842  \nvalidation_LL     5\nvalidation_NSS    4\nvalidation_AUC    6\nvalidation_IG     5\ndtype: int64\nremoving ../train_deepgaze3/pretraining/step-0044.pth\n",
     "output_type": "stream"
    },
    {
     "name": "stderr",
     "text": "-0.86943: 100%|██████████| 1/1 [00:00<00:00,  8.93it/s]\nLL -0.10823: 100%|██████████| 1/1 [00:00<00:00,  5.46it/s]\n",
     "output_type": "stream"
    },
    {
     "name": "stdout",
     "text": "    epoch                  timestamp  learning_rate      loss  validation_IG  \\\n45     45 2023-12-30 10:26:33.933400       0.000010 -0.869399      -0.537382   \n46     46 2023-12-30 10:26:34.519009       0.000001 -0.869434      -0.537387   \n\n    validation_LL  validation_AUC  validation_NSS  \n45      -0.108223        0.659473        0.428842  \n46      -0.108228        0.659473        0.428824  \nvalidation_LL     5\nvalidation_NSS    4\nvalidation_AUC    6\nvalidation_IG     5\ndtype: int64\nremoving ../train_deepgaze3/pretraining/step-0045.pth\n",
     "output_type": "stream"
    },
    {
     "name": "stderr",
     "text": "-0.86944: 100%|██████████| 1/1 [00:00<00:00,  8.89it/s]\nLL -0.10823: 100%|██████████| 1/1 [00:00<00:00,  5.46it/s]\n",
     "output_type": "stream"
    },
    {
     "name": "stdout",
     "text": "    epoch                  timestamp  learning_rate      loss  validation_IG  \\\n46     46 2023-12-30 10:26:34.519009       0.000001 -0.869434      -0.537387   \n47     47 2023-12-30 10:26:35.101115       0.000001 -0.869436      -0.537393   \n\n    validation_LL  validation_AUC  validation_NSS  \n46      -0.108228        0.659473        0.428824  \n47      -0.108234        0.659474        0.428806  \nvalidation_LL     5\nvalidation_NSS    4\nvalidation_AUC    6\nvalidation_IG     5\ndtype: int64\nremoving ../train_deepgaze3/pretraining/step-0046.pth\n",
     "output_type": "stream"
    },
    {
     "name": "stderr",
     "text": "-0.86944: 100%|██████████| 1/1 [00:00<00:00,  9.07it/s]\nLL -0.10824: 100%|██████████| 1/1 [00:00<00:00,  5.45it/s]\n",
     "output_type": "stream"
    },
    {
     "name": "stdout",
     "text": "    epoch                  timestamp  learning_rate      loss  validation_IG  \\\n47     47 2023-12-30 10:26:35.101115       0.000001 -0.869436      -0.537393   \n48     48 2023-12-30 10:26:35.681482       0.000001 -0.869443      -0.537400   \n\n    validation_LL  validation_AUC  validation_NSS  \n47      -0.108234        0.659474        0.428806  \n48      -0.108240        0.659475        0.428788  \nvalidation_LL     5\nvalidation_NSS    4\nvalidation_AUC    6\nvalidation_IG     5\ndtype: int64\nremoving ../train_deepgaze3/pretraining/step-0047.pth\n",
     "output_type": "stream"
    },
    {
     "name": "stderr",
     "text": "-0.86945: 100%|██████████| 1/1 [00:00<00:00,  8.76it/s]\nLL -0.10824: 100%|██████████| 1/1 [00:00<00:00,  5.39it/s]\n",
     "output_type": "stream"
    },
    {
     "name": "stdout",
     "text": "    epoch                  timestamp  learning_rate      loss  validation_IG  \\\n48     48 2023-12-30 10:26:35.681482       0.000001 -0.869443      -0.537400   \n49     49 2023-12-30 10:26:36.270141       0.000001 -0.869445      -0.537404   \n\n    validation_LL  validation_AUC  validation_NSS  \n48      -0.108240        0.659475        0.428788  \n49      -0.108244        0.659476        0.428771  \nvalidation_LL     5\nvalidation_NSS    4\nvalidation_AUC    6\nvalidation_IG     5\ndtype: int64\nremoving ../train_deepgaze3/pretraining/step-0048.pth\n",
     "output_type": "stream"
    },
    {
     "name": "stderr",
     "text": "-0.86945: 100%|██████████| 1/1 [00:00<00:00,  9.08it/s]\nLL -0.10825: 100%|██████████| 1/1 [00:00<00:00,  5.41it/s]\n",
     "output_type": "stream"
    },
    {
     "name": "stdout",
     "text": "    epoch                  timestamp  learning_rate      loss  validation_IG  \\\n49     49 2023-12-30 10:26:36.270141       0.000001 -0.869445      -0.537404   \n50     50 2023-12-30 10:26:36.860315       0.000001 -0.869449      -0.537411   \n\n    validation_LL  validation_AUC  validation_NSS  \n49      -0.108244        0.659476        0.428771  \n50      -0.108252        0.659476        0.428753  \nvalidation_LL     5\nvalidation_NSS    4\nvalidation_AUC    6\nvalidation_IG     5\ndtype: int64\nremoving ../train_deepgaze3/pretraining/step-0049.pth\n",
     "output_type": "stream"
    },
    {
     "name": "stderr",
     "text": "-0.86945: 100%|██████████| 1/1 [00:00<00:00,  8.51it/s]\nLL -0.10826: 100%|██████████| 1/1 [00:00<00:00,  5.43it/s]\n",
     "output_type": "stream"
    },
    {
     "name": "stdout",
     "text": "    epoch                  timestamp  learning_rate      loss  validation_IG  \\\n50     50 2023-12-30 10:26:36.860315       0.000001 -0.869449      -0.537411   \n51     51 2023-12-30 10:26:37.457095       0.000001 -0.869451      -0.537417   \n\n    validation_LL  validation_AUC  validation_NSS  \n50      -0.108252        0.659476        0.428753  \n51      -0.108258        0.659477        0.428736  \nvalidation_LL     5\nvalidation_NSS    4\nvalidation_AUC    6\nvalidation_IG     5\ndtype: int64\nremoving ../train_deepgaze3/pretraining/step-0050.pth\n",
     "output_type": "stream"
    },
    {
     "name": "stderr",
     "text": "-0.86945: 100%|██████████| 1/1 [00:00<00:00,  9.10it/s]\nLL -0.10826: 100%|██████████| 1/1 [00:00<00:00,  5.39it/s]\n",
     "output_type": "stream"
    },
    {
     "name": "stdout",
     "text": "    epoch                  timestamp  learning_rate      loss  validation_IG  \\\n51     51 2023-12-30 10:26:37.457095       0.000001 -0.869451      -0.537417   \n52     52 2023-12-30 10:26:38.046800       0.000001 -0.869455      -0.537423   \n\n    validation_LL  validation_AUC  validation_NSS  \n51      -0.108258        0.659477        0.428736  \n52      -0.108264        0.659477        0.428719  \nvalidation_LL     5\nvalidation_NSS    4\nvalidation_AUC    6\nvalidation_IG     5\ndtype: int64\nremoving ../train_deepgaze3/pretraining/step-0051.pth\n",
     "output_type": "stream"
    },
    {
     "name": "stderr",
     "text": "-0.86946: 100%|██████████| 1/1 [00:00<00:00,  9.01it/s]\nLL -0.10827: 100%|██████████| 1/1 [00:00<00:00,  5.18it/s]\n",
     "output_type": "stream"
    },
    {
     "name": "stdout",
     "text": "    epoch                  timestamp  learning_rate      loss  validation_IG  \\\n52     52 2023-12-30 10:26:38.046800       0.000001 -0.869455      -0.537423   \n53     53 2023-12-30 10:26:38.643111       0.000001 -0.869459      -0.537429   \n\n    validation_LL  validation_AUC  validation_NSS  \n52      -0.108264        0.659477        0.428719  \n53      -0.108270        0.659478        0.428701  \nvalidation_LL     5\nvalidation_NSS    4\nvalidation_AUC    6\nvalidation_IG     5\ndtype: int64\nremoving ../train_deepgaze3/pretraining/step-0052.pth\n",
     "output_type": "stream"
    },
    {
     "name": "stderr",
     "text": "-0.86946: 100%|██████████| 1/1 [00:00<00:00,  8.85it/s]\nLL -0.10828: 100%|██████████| 1/1 [00:00<00:00,  5.42it/s]\n",
     "output_type": "stream"
    },
    {
     "name": "stdout",
     "text": "    epoch                  timestamp  learning_rate      loss  validation_IG  \\\n53     53 2023-12-30 10:26:38.643111       0.000001 -0.869459      -0.537429   \n54     54 2023-12-30 10:26:39.232763       0.000001 -0.869462      -0.537435   \n\n    validation_LL  validation_AUC  validation_NSS  \n53      -0.108270        0.659478        0.428701  \n54      -0.108276        0.659478        0.428684  \nvalidation_LL     5\nvalidation_NSS    4\nvalidation_AUC    6\nvalidation_IG     5\ndtype: int64\nremoving ../train_deepgaze3/pretraining/step-0053.pth\n",
     "output_type": "stream"
    },
    {
     "name": "stderr",
     "text": "-0.86947: 100%|██████████| 1/1 [00:00<00:00,  8.75it/s]\nLL -0.10828: 100%|██████████| 1/1 [00:00<00:00,  5.32it/s]\n",
     "output_type": "stream"
    },
    {
     "name": "stdout",
     "text": "    epoch                  timestamp  learning_rate      loss  validation_IG  \\\n54     54 2023-12-30 10:26:39.232763       0.000001 -0.869462      -0.537435   \n55     55 2023-12-30 10:26:39.833745       0.000001 -0.869465      -0.537441   \n\n    validation_LL  validation_AUC  validation_NSS  \n54      -0.108276        0.659478        0.428684  \n55      -0.108282        0.659479        0.428668  \nvalidation_LL     5\nvalidation_NSS    4\nvalidation_AUC    6\nvalidation_IG     5\ndtype: int64\nremoving ../train_deepgaze3/pretraining/step-0054.pth\n",
     "output_type": "stream"
    },
    {
     "name": "stderr",
     "text": "-0.86947: 100%|██████████| 1/1 [00:00<00:00,  8.99it/s]\nLL -0.10829: 100%|██████████| 1/1 [00:00<00:00,  5.46it/s]\n",
     "output_type": "stream"
    },
    {
     "name": "stdout",
     "text": "    epoch                  timestamp  learning_rate      loss  validation_IG  \\\n55     55 2023-12-30 10:26:39.833745       0.000001 -0.869465      -0.537441   \n56     56 2023-12-30 10:26:40.413681       0.000001 -0.869469      -0.537447   \n\n    validation_LL  validation_AUC  validation_NSS  \n55      -0.108282        0.659479        0.428668  \n56      -0.108288        0.659479        0.428651  \nvalidation_LL     5\nvalidation_NSS    4\nvalidation_AUC    6\nvalidation_IG     5\ndtype: int64\nremoving ../train_deepgaze3/pretraining/step-0055.pth\n",
     "output_type": "stream"
    },
    {
     "name": "stderr",
     "text": "-0.86947: 100%|██████████| 1/1 [00:00<00:00,  9.09it/s]\nLL -0.10830: 100%|██████████| 1/1 [00:00<00:00,  5.34it/s]\n",
     "output_type": "stream"
    },
    {
     "name": "stdout",
     "text": "    epoch                  timestamp  learning_rate      loss  validation_IG  \\\n56     56 2023-12-30 10:26:40.413681       0.000001 -0.869469      -0.537447   \n57     57 2023-12-30 10:26:41.004264       0.000001 -0.869472      -0.537455   \n\n    validation_LL  validation_AUC  validation_NSS  \n56      -0.108288        0.659479        0.428651  \n57      -0.108295        0.659479        0.428634  \nvalidation_LL     5\nvalidation_NSS    4\nvalidation_AUC    6\nvalidation_IG     5\ndtype: int64\nremoving ../train_deepgaze3/pretraining/step-0056.pth\n",
     "output_type": "stream"
    },
    {
     "name": "stderr",
     "text": "-0.86948: 100%|██████████| 1/1 [00:00<00:00,  8.92it/s]\nLL -0.10830: 100%|██████████| 1/1 [00:00<00:00,  5.48it/s]\n",
     "output_type": "stream"
    },
    {
     "name": "stdout",
     "text": "    epoch                  timestamp  learning_rate      loss  validation_IG  \\\n57     57 2023-12-30 10:26:41.004264       0.000001 -0.869472      -0.537455   \n58     58 2023-12-30 10:26:41.586014       0.000001 -0.869476      -0.537458   \n\n    validation_LL  validation_AUC  validation_NSS  \n57      -0.108295        0.659479        0.428634  \n58      -0.108299        0.659480        0.428617  \nvalidation_LL     5\nvalidation_NSS    4\nvalidation_AUC    6\nvalidation_IG     5\ndtype: int64\nremoving ../train_deepgaze3/pretraining/step-0057.pth\n",
     "output_type": "stream"
    },
    {
     "name": "stderr",
     "text": "-0.86948: 100%|██████████| 1/1 [00:00<00:00,  9.10it/s]\nLL -0.10831: 100%|██████████| 1/1 [00:00<00:00,  5.16it/s]\n",
     "output_type": "stream"
    },
    {
     "name": "stdout",
     "text": "    epoch                  timestamp  learning_rate      loss  validation_IG  \\\n58     58 2023-12-30 10:26:41.586014       0.000001 -0.869476      -0.537458   \n59     59 2023-12-30 10:26:42.176907       0.000001 -0.869480      -0.537465   \n\n    validation_LL  validation_AUC  validation_NSS  \n58      -0.108299         0.65948        0.428617  \n59      -0.108306         0.65948        0.428601  \nvalidation_LL     5\nvalidation_NSS    4\nvalidation_AUC    6\nvalidation_IG     5\ndtype: int64\nremoving ../train_deepgaze3/pretraining/step-0058.pth\n",
     "output_type": "stream"
    },
    {
     "name": "stderr",
     "text": "-0.86948: 100%|██████████| 1/1 [00:00<00:00,  8.52it/s]\nLL -0.10831: 100%|██████████| 1/1 [00:00<00:00,  5.22it/s]\n",
     "output_type": "stream"
    },
    {
     "name": "stdout",
     "text": "    epoch                  timestamp  learning_rate      loss  validation_IG  \\\n59     59 2023-12-30 10:26:42.176907       0.000001 -0.869480      -0.537465   \n60     60 2023-12-30 10:26:42.826138       0.000001 -0.869484      -0.537471   \n\n    validation_LL  validation_AUC  validation_NSS  \n59      -0.108306        0.659480        0.428601  \n60      -0.108312        0.659481        0.428584  \nvalidation_LL     5\nvalidation_NSS    4\nvalidation_AUC    6\nvalidation_IG     5\ndtype: int64\nremoving ../train_deepgaze3/pretraining/step-0059.pth\n",
     "output_type": "stream"
    },
    {
     "name": "stderr",
     "text": "-0.86949: 100%|██████████| 1/1 [00:00<00:00,  8.72it/s]\nLL -0.10831: 100%|██████████| 1/1 [00:00<00:00,  5.46it/s]\n",
     "output_type": "stream"
    },
    {
     "name": "stdout",
     "text": "    epoch                  timestamp  learning_rate      loss  validation_IG  \\\n60     60 2023-12-30 10:26:42.826138   1.000000e-06 -0.869484      -0.537471   \n61     61 2023-12-30 10:26:43.410389   1.000000e-07 -0.869487      -0.537473   \n\n    validation_LL  validation_AUC  validation_NSS  \n60      -0.108312        0.659481        0.428584  \n61      -0.108313        0.659481        0.428582  \nvalidation_LL     5\nvalidation_NSS    4\nvalidation_AUC    6\nvalidation_IG     5\ndtype: int64\nremoving ../train_deepgaze3/pretraining/step-0060.pth\n",
     "output_type": "stream"
    },
    {
     "name": "stderr",
     "text": "-0.86949: 100%|██████████| 1/1 [00:00<00:00,  9.05it/s]\nLL -0.10831: 100%|██████████| 1/1 [00:00<00:00,  5.25it/s]\n",
     "output_type": "stream"
    },
    {
     "name": "stdout",
     "text": "    epoch                  timestamp  learning_rate      loss  validation_IG  \\\n61     61 2023-12-30 10:26:43.410389   1.000000e-07 -0.869487      -0.537473   \n62     62 2023-12-30 10:26:43.997837   1.000000e-07 -0.869488      -0.537474   \n\n    validation_LL  validation_AUC  validation_NSS  \n61      -0.108313        0.659481        0.428582  \n62      -0.108315        0.659481        0.428581  \nvalidation_LL     5\nvalidation_NSS    4\nvalidation_AUC    6\nvalidation_IG     5\ndtype: int64\nremoving ../train_deepgaze3/pretraining/step-0061.pth\n",
     "output_type": "stream"
    },
    {
     "name": "stderr",
     "text": "-0.86949: 100%|██████████| 1/1 [00:00<00:00,  8.84it/s]\nLL -0.10831: 100%|██████████| 1/1 [00:00<00:00,  5.43it/s]\n",
     "output_type": "stream"
    },
    {
     "name": "stdout",
     "text": "    epoch                  timestamp  learning_rate      loss  validation_IG  \\\n62     62 2023-12-30 10:26:43.997837   1.000000e-07 -0.869488      -0.537474   \n63     63 2023-12-30 10:26:44.596536   1.000000e-07 -0.869488      -0.537472   \n\n    validation_LL  validation_AUC  validation_NSS  \n62      -0.108315        0.659481        0.428581  \n63      -0.108313        0.659481        0.428579  \nvalidation_LL     5\nvalidation_NSS    4\nvalidation_AUC    6\nvalidation_IG     5\ndtype: int64\nremoving ../train_deepgaze3/pretraining/step-0062.pth\n",
     "output_type": "stream"
    },
    {
     "name": "stderr",
     "text": "-0.86949: 100%|██████████| 1/1 [00:00<00:00,  8.74it/s]\nLL -0.10831: 100%|██████████| 1/1 [00:00<00:00,  5.41it/s]\n",
     "output_type": "stream"
    },
    {
     "name": "stdout",
     "text": "    epoch                  timestamp  learning_rate      loss  validation_IG  \\\n63     63 2023-12-30 10:26:44.596536   1.000000e-07 -0.869488      -0.537472   \n64     64 2023-12-30 10:26:45.185079   1.000000e-07 -0.869488      -0.537473   \n\n    validation_LL  validation_AUC  validation_NSS  \n63      -0.108313        0.659481        0.428579  \n64      -0.108314        0.659482        0.428578  \nvalidation_LL     5\nvalidation_NSS    4\nvalidation_AUC    6\nvalidation_IG     5\ndtype: int64\nremoving ../train_deepgaze3/pretraining/step-0063.pth\n",
     "output_type": "stream"
    },
    {
     "name": "stderr",
     "text": "-0.86949: 100%|██████████| 1/1 [00:00<00:00,  8.92it/s]\nLL -0.10832: 100%|██████████| 1/1 [00:00<00:00,  5.32it/s]\n",
     "output_type": "stream"
    },
    {
     "name": "stdout",
     "text": "    epoch                  timestamp  learning_rate      loss  validation_IG  \\\n64     64 2023-12-30 10:26:45.185079   1.000000e-07 -0.869488      -0.537473   \n65     65 2023-12-30 10:26:45.782987   1.000000e-07 -0.869488      -0.537475   \n\n    validation_LL  validation_AUC  validation_NSS  \n64      -0.108314        0.659482        0.428578  \n65      -0.108316        0.659482        0.428576  \nvalidation_LL     5\nvalidation_NSS    4\nvalidation_AUC    6\nvalidation_IG     5\ndtype: int64\nremoving ../train_deepgaze3/pretraining/step-0064.pth\n",
     "output_type": "stream"
    },
    {
     "name": "stderr",
     "text": "-0.86949: 100%|██████████| 1/1 [00:00<00:00,  8.79it/s]\nLL -0.10832: 100%|██████████| 1/1 [00:00<00:00,  5.40it/s]\n",
     "output_type": "stream"
    },
    {
     "name": "stdout",
     "text": "    epoch                  timestamp  learning_rate      loss  validation_IG  \\\n65     65 2023-12-30 10:26:45.782987   1.000000e-07 -0.869488      -0.537475   \n66     66 2023-12-30 10:26:46.376230   1.000000e-07 -0.869491      -0.537476   \n\n    validation_LL  validation_AUC  validation_NSS  \n65      -0.108316        0.659482        0.428576  \n66      -0.108317        0.659482        0.428574  \nvalidation_LL     5\nvalidation_NSS    4\nvalidation_AUC    6\nvalidation_IG     5\ndtype: int64\nremoving ../train_deepgaze3/pretraining/step-0065.pth\n",
     "output_type": "stream"
    },
    {
     "name": "stderr",
     "text": "-0.86949: 100%|██████████| 1/1 [00:00<00:00,  8.86it/s]\nLL -0.10832: 100%|██████████| 1/1 [00:00<00:00,  5.24it/s]\n",
     "output_type": "stream"
    },
    {
     "name": "stdout",
     "text": "    epoch                  timestamp  learning_rate      loss  validation_IG  \\\n66     66 2023-12-30 10:26:46.376230   1.000000e-07 -0.869491      -0.537476   \n67     67 2023-12-30 10:26:46.972662   1.000000e-07 -0.869491      -0.537476   \n\n    validation_LL  validation_AUC  validation_NSS  \n66      -0.108317        0.659482        0.428574  \n67      -0.108317        0.659482        0.428573  \nvalidation_LL     5\nvalidation_NSS    4\nvalidation_AUC    6\nvalidation_IG     5\ndtype: int64\nremoving ../train_deepgaze3/pretraining/step-0066.pth\n",
     "output_type": "stream"
    },
    {
     "name": "stderr",
     "text": "-0.86949: 100%|██████████| 1/1 [00:00<00:00,  9.05it/s]\nLL -0.10832: 100%|██████████| 1/1 [00:00<00:00,  5.41it/s]\n",
     "output_type": "stream"
    },
    {
     "name": "stdout",
     "text": "    epoch                  timestamp  learning_rate      loss  validation_IG  \\\n67     67 2023-12-30 10:26:46.972662   1.000000e-07 -0.869491      -0.537476   \n68     68 2023-12-30 10:26:47.572544   1.000000e-07 -0.869491      -0.537477   \n\n    validation_LL  validation_AUC  validation_NSS  \n67      -0.108317        0.659482        0.428573  \n68      -0.108317        0.659482        0.428571  \nvalidation_LL     5\nvalidation_NSS    4\nvalidation_AUC    6\nvalidation_IG     5\ndtype: int64\nremoving ../train_deepgaze3/pretraining/step-0067.pth\n",
     "output_type": "stream"
    },
    {
     "name": "stderr",
     "text": "-0.86949: 100%|██████████| 1/1 [00:00<00:00,  8.80it/s]\nLL -0.10832: 100%|██████████| 1/1 [00:00<00:00,  5.37it/s]\n",
     "output_type": "stream"
    },
    {
     "name": "stdout",
     "text": "    epoch                  timestamp  learning_rate      loss  validation_IG  \\\n68     68 2023-12-30 10:26:47.572544   1.000000e-07 -0.869491      -0.537477   \n69     69 2023-12-30 10:26:48.172521   1.000000e-07 -0.869491      -0.537477   \n\n    validation_LL  validation_AUC  validation_NSS  \n68      -0.108317        0.659482        0.428571  \n69      -0.108317        0.659482        0.428570  \nvalidation_LL     5\nvalidation_NSS    4\nvalidation_AUC    6\nvalidation_IG     5\ndtype: int64\nremoving ../train_deepgaze3/pretraining/step-0068.pth\n",
     "output_type": "stream"
    },
    {
     "name": "stderr",
     "text": "-0.86949: 100%|██████████| 1/1 [00:00<00:00,  8.95it/s]\nLL -0.10832: 100%|██████████| 1/1 [00:00<00:00,  5.33it/s]\n",
     "output_type": "stream"
    },
    {
     "name": "stdout",
     "text": "    epoch                  timestamp  learning_rate      loss  validation_IG  \\\n69     69 2023-12-30 10:26:48.172521   1.000000e-07 -0.869491      -0.537477   \n70     70 2023-12-30 10:26:48.766791   1.000000e-07 -0.869491      -0.537478   \n\n    validation_LL  validation_AUC  validation_NSS  \n69      -0.108317        0.659482        0.428570  \n70      -0.108319        0.659482        0.428568  \nvalidation_LL     5\nvalidation_NSS    4\nvalidation_AUC    6\nvalidation_IG     5\ndtype: int64\nremoving ../train_deepgaze3/pretraining/step-0069.pth\n",
     "output_type": "stream"
    },
    {
     "name": "stderr",
     "text": "-0.86949: 100%|██████████| 1/1 [00:00<00:00,  8.70it/s]\nLL -0.10832: 100%|██████████| 1/1 [00:00<00:00,  5.32it/s]\n",
     "output_type": "stream"
    },
    {
     "name": "stdout",
     "text": "    epoch                  timestamp  learning_rate      loss  validation_IG  \\\n70     70 2023-12-30 10:26:48.766791   1.000000e-07 -0.869491      -0.537478   \n71     71 2023-12-30 10:26:49.364040   1.000000e-07 -0.869492      -0.537478   \n\n    validation_LL  validation_AUC  validation_NSS  \n70      -0.108319        0.659482        0.428568  \n71      -0.108319        0.659482        0.428566  \nvalidation_LL     5\nvalidation_NSS    4\nvalidation_AUC    6\nvalidation_IG     5\ndtype: int64\nremoving ../train_deepgaze3/pretraining/step-0070.pth\n",
     "output_type": "stream"
    },
    {
     "name": "stderr",
     "text": "-0.86949: 100%|██████████| 1/1 [00:00<00:00,  8.78it/s]\nLL -0.10832: 100%|██████████| 1/1 [00:00<00:00,  5.41it/s]\n",
     "output_type": "stream"
    },
    {
     "name": "stdout",
     "text": "    epoch                  timestamp  learning_rate      loss  validation_IG  \\\n71     71 2023-12-30 10:26:49.364040   1.000000e-07 -0.869492      -0.537478   \n72     72 2023-12-30 10:26:49.958177   1.000000e-07 -0.869491      -0.537479   \n\n    validation_LL  validation_AUC  validation_NSS  \n71      -0.108319        0.659482        0.428566  \n72      -0.108320        0.659483        0.428565  \nvalidation_LL     5\nvalidation_NSS    4\nvalidation_AUC    6\nvalidation_IG     5\ndtype: int64\nremoving ../train_deepgaze3/pretraining/step-0071.pth\n",
     "output_type": "stream"
    },
    {
     "name": "stderr",
     "text": "-0.86949: 100%|██████████| 1/1 [00:00<00:00,  8.81it/s]\nLL -0.10832: 100%|██████████| 1/1 [00:00<00:00,  5.39it/s]\n",
     "output_type": "stream"
    },
    {
     "name": "stdout",
     "text": "    epoch                  timestamp  learning_rate      loss  validation_IG  \\\n72     72 2023-12-30 10:26:49.958177   1.000000e-07 -0.869491      -0.537479   \n73     73 2023-12-30 10:26:50.556567   1.000000e-07 -0.869491      -0.537481   \n\n    validation_LL  validation_AUC  validation_NSS  \n72      -0.108320        0.659483        0.428565  \n73      -0.108321        0.659482        0.428563  \nvalidation_LL     5\nvalidation_NSS    4\nvalidation_AUC    6\nvalidation_IG     5\ndtype: int64\nremoving ../train_deepgaze3/pretraining/step-0072.pth\n",
     "output_type": "stream"
    },
    {
     "name": "stderr",
     "text": "-0.86949: 100%|██████████| 1/1 [00:00<00:00,  8.71it/s]\nLL -0.10832: 100%|██████████| 1/1 [00:00<00:00,  5.37it/s]\n",
     "output_type": "stream"
    },
    {
     "name": "stdout",
     "text": "    epoch                  timestamp  learning_rate      loss  validation_IG  \\\n73     73 2023-12-30 10:26:50.556567   1.000000e-07 -0.869491      -0.537481   \n74     74 2023-12-30 10:26:51.157662   1.000000e-07 -0.869493      -0.537480   \n\n    validation_LL  validation_AUC  validation_NSS  \n73      -0.108321        0.659482        0.428563  \n74      -0.108321        0.659483        0.428562  \nvalidation_LL     5\nvalidation_NSS    4\nvalidation_AUC    6\nvalidation_IG     5\ndtype: int64\nremoving ../train_deepgaze3/pretraining/step-0073.pth\n",
     "output_type": "stream"
    },
    {
     "name": "stderr",
     "text": "-0.86949: 100%|██████████| 1/1 [00:00<00:00,  8.90it/s]\nLL -0.10832: 100%|██████████| 1/1 [00:00<00:00,  5.38it/s]\n",
     "output_type": "stream"
    },
    {
     "name": "stdout",
     "text": "    epoch                  timestamp  learning_rate      loss  validation_IG  \\\n74     74 2023-12-30 10:26:51.157662   1.000000e-07 -0.869493      -0.537480   \n75     75 2023-12-30 10:26:52.030540   1.000000e-07 -0.869494      -0.537481   \n\n    validation_LL  validation_AUC  validation_NSS  \n74      -0.108321        0.659483        0.428562  \n75      -0.108322        0.659483        0.428560  \nvalidation_LL     5\nvalidation_NSS    4\nvalidation_AUC    6\nvalidation_IG     5\ndtype: int64\nremoving ../train_deepgaze3/pretraining/step-0074.pth\nremoving ../train_deepgaze3/pretraining/step-0005.pth\nremoving ../train_deepgaze3/pretraining/step-0000.pth\nremoving ../train_deepgaze3/pretraining/step-0075.pth\n",
     "output_type": "stream"
    }
   ]
  },
  {
   "cell_type": "markdown",
   "source": [
    "# Preparing the MIT1003 dataset"
   ],
   "metadata": {}
  },
  {
   "cell_type": "code",
   "source": [
    "# mit_stimuli_orig, mit_scanpaths_orig = pysaliency.external_datasets.mit.get_mit1003_with_initial_fixation(location=dataset_directory, replace_initial_invalid_fixations=True)\n",
    "\n",
    "import pysaliency\n",
    "\n",
    "source_directory = '/kaggle/input/mit1003-dataset/MIT1003 dataset'\n",
    "destination_directory = '../datasets'\n",
    "\n",
    "import shutil, errno\n",
    "shutil.copytree(source_directory, destination_directory)\n",
    "\n",
    "mit_stimuli_orig = pysaliency.read_hdf5(destination_directory + '/stimuli.hdf5')\n",
    "mit_scanpaths_orig = pysaliency.read_hdf5(destination_directory + '/fixations.hdf5')\n",
    "\n",
    "print(mit_stimuli_orig, mit_scanpaths_orig)"
   ],
   "metadata": {
    "execution": {
     "iopub.status.busy": "2023-12-30T10:26:52.321707Z",
     "iopub.execute_input": "2023-12-30T10:26:52.321978Z",
     "iopub.status.idle": "2023-12-30T10:26:53.756221Z",
     "shell.execute_reply.started": "2023-12-30T10:26:52.321956Z",
     "shell.execute_reply": "2023-12-30T10:26:53.755233Z"
    },
    "trusted": true
   },
   "execution_count": 17,
   "outputs": [
    {
     "name": "stdout",
     "text": "<pysaliency.datasets.FileStimuli object at 0x7935aa219540> <pysaliency.datasets.FixationTrains object at 0x7935a2f25b10>\n",
     "output_type": "stream"
    }
   ]
  },
  {
   "cell_type": "code",
   "source": [
    "!wget \"http://people.csail.mit.edu/tjudd/WherePeopleLook/ALLSTIMULI.zip\" -O \"stimuli.zip\"\n",
    "!unzip \"stimuli.zip\" -d \"../datasets\"\n",
    "!mv ../datasets/ALLSTIMULI ../datasets/stimuli"
   ],
   "metadata": {
    "execution": {
     "iopub.status.busy": "2023-12-30T10:26:53.757686Z",
     "iopub.execute_input": "2023-12-30T10:26:53.758292Z",
     "iopub.status.idle": "2023-12-30T10:27:12.533068Z",
     "shell.execute_reply.started": "2023-12-30T10:26:53.758254Z",
     "shell.execute_reply": "2023-12-30T10:27:12.531775Z"
    },
    "trusted": true
   },
   "execution_count": 18,
   "outputs": [
    {
     "name": "stdout",
     "text": "--2023-12-30 10:26:54--  http://people.csail.mit.edu/tjudd/WherePeopleLook/ALLSTIMULI.zip\nResolving people.csail.mit.edu (people.csail.mit.edu)... 128.30.2.133\nConnecting to people.csail.mit.edu (people.csail.mit.edu)|128.30.2.133|:80... connected.\nHTTP request sent, awaiting response... 200 OK\nLength: 235000497 (224M) [application/zip]\nSaving to: ‘stimuli.zip’\n\nstimuli.zip         100%[===================>] 224.11M  19.6MB/s    in 13s     \n\n2023-12-30 10:27:08 (16.7 MB/s) - ‘stimuli.zip’ saved [235000497/235000497]\n\nArchive:  stimuli.zip\n   creating: ../datasets/ALLSTIMULI/\n  inflating: ../datasets/ALLSTIMULI/.DS_Store  \n   creating: ../datasets/__MACOSX/\n   creating: ../datasets/__MACOSX/ALLSTIMULI/\n  inflating: ../datasets/__MACOSX/ALLSTIMULI/._.DS_Store  \n   creating: ../datasets/ALLSTIMULI/.svn/\n  inflating: ../datasets/ALLSTIMULI/.svn/entries  \n  inflating: ../datasets/ALLSTIMULI/.svn/format  \n   creating: ../datasets/ALLSTIMULI/.svn/prop-base/\n  inflating: ../datasets/ALLSTIMULI/.svn/prop-base/i05june05_static_street_boston_p1010764.jpeg.svn-base  \n  inflating: ../datasets/ALLSTIMULI/.svn/prop-base/i05june05_static_street_boston_p1010785.jpeg.svn-base  \n  inflating: ../datasets/ALLSTIMULI/.svn/prop-base/i05june05_static_street_boston_p1010800.jpeg.svn-base  \n  inflating: ../datasets/ALLSTIMULI/.svn/prop-base/i05june05_static_street_boston_p1010806.jpeg.svn-base  \n  inflating: ../datasets/ALLSTIMULI/.svn/prop-base/i05june05_static_street_boston_p1010808.jpeg.svn-base  \n  inflating: ../datasets/ALLSTIMULI/.svn/prop-base/i05june05_static_street_boston_p1010816.jpeg.svn-base  \n  inflating: ../datasets/ALLSTIMULI/.svn/prop-base/i05june05_static_street_boston_p1010855.jpeg.svn-base  \n  inflating: ../datasets/ALLSTIMULI/.svn/prop-base/i05june05_static_street_boston_p1010885.jpeg.svn-base  \n  inflating: ../datasets/ALLSTIMULI/.svn/prop-base/i05june05_static_street_boston_p1010907.jpeg.svn-base  \n  inflating: ../datasets/ALLSTIMULI/.svn/prop-base/i1000274881.jpeg.svn-base  \n  inflating: ../datasets/ALLSTIMULI/.svn/prop-base/i1000978947.jpeg.svn-base  \n  inflating: ../datasets/ALLSTIMULI/.svn/prop-base/i1007068829.jpeg.svn-base  \n  inflating: ../datasets/ALLSTIMULI/.svn/prop-base/i100856683.jpeg.svn-base  \n  inflating: ../datasets/ALLSTIMULI/.svn/prop-base/i1010483663.jpeg.svn-base  \n  inflating: ../datasets/ALLSTIMULI/.svn/prop-base/i1011319098.jpeg.svn-base  \n  inflating: ../datasets/ALLSTIMULI/.svn/prop-base/i1014163009.jpeg.svn-base  \n  inflating: ../datasets/ALLSTIMULI/.svn/prop-base/i1016451573.jpeg.svn-base  \n  inflating: ../datasets/ALLSTIMULI/.svn/prop-base/i1019046221.jpeg.svn-base  \n  inflating: ../datasets/ALLSTIMULI/.svn/prop-base/i1019928312.jpeg.svn-base  \n  inflating: ../datasets/ALLSTIMULI/.svn/prop-base/i1021218710.jpeg.svn-base  \n  inflating: ../datasets/ALLSTIMULI/.svn/prop-base/i1022085609.jpeg.svn-base  \n  inflating: ../datasets/ALLSTIMULI/.svn/prop-base/i1023439436.jpeg.svn-base  \n  inflating: ../datasets/ALLSTIMULI/.svn/prop-base/i102423191.jpeg.svn-base  \n  inflating: ../datasets/ALLSTIMULI/.svn/prop-base/i1025035805.jpeg.svn-base  \n  inflating: ../datasets/ALLSTIMULI/.svn/prop-base/i1025113889.jpeg.svn-base  \n  inflating: ../datasets/ALLSTIMULI/.svn/prop-base/i1025132509.jpeg.svn-base  \n  inflating: ../datasets/ALLSTIMULI/.svn/prop-base/i103134560.jpeg.svn-base  \n  inflating: ../datasets/ALLSTIMULI/.svn/prop-base/i1031604161.jpeg.svn-base  \n  inflating: ../datasets/ALLSTIMULI/.svn/prop-base/i1031917817.jpeg.svn-base  \n  inflating: ../datasets/ALLSTIMULI/.svn/prop-base/i1032358.jpeg.svn-base  \n  inflating: ../datasets/ALLSTIMULI/.svn/prop-base/i1032393.jpeg.svn-base  \n  inflating: ../datasets/ALLSTIMULI/.svn/prop-base/i103385030.jpeg.svn-base  \n  inflating: ../datasets/ALLSTIMULI/.svn/prop-base/i103385035.jpeg.svn-base  \n  inflating: ../datasets/ALLSTIMULI/.svn/prop-base/i1035544976.jpeg.svn-base  \n  inflating: ../datasets/ALLSTIMULI/.svn/prop-base/i1040585936.jpeg.svn-base  \n  inflating: ../datasets/ALLSTIMULI/.svn/prop-base/i1042209003.jpeg.svn-base  \n  inflating: ../datasets/ALLSTIMULI/.svn/prop-base/i104267087.jpeg.svn-base  \n  inflating: ../datasets/ALLSTIMULI/.svn/prop-base/i1043252298.jpeg.svn-base  \n  inflating: ../datasets/ALLSTIMULI/.svn/prop-base/i104879632.jpeg.svn-base  \n  inflating: ../datasets/ALLSTIMULI/.svn/prop-base/i104880109.jpeg.svn-base  \n  inflating: ../datasets/ALLSTIMULI/.svn/prop-base/i104935329.jpeg.svn-base  \n  inflating: ../datasets/ALLSTIMULI/.svn/prop-base/i1049420118.jpeg.svn-base  \n  inflating: ../datasets/ALLSTIMULI/.svn/prop-base/i105126201.jpeg.svn-base  \n  inflating: ../datasets/ALLSTIMULI/.svn/prop-base/i105415081.jpeg.svn-base  \n  inflating: ../datasets/ALLSTIMULI/.svn/prop-base/i105615320.jpeg.svn-base  \n  inflating: ../datasets/ALLSTIMULI/.svn/prop-base/i105918635.jpeg.svn-base  \n  inflating: ../datasets/ALLSTIMULI/.svn/prop-base/i1060622926.jpeg.svn-base  \n  inflating: ../datasets/ALLSTIMULI/.svn/prop-base/i1061875704.jpeg.svn-base  \n  inflating: ../datasets/ALLSTIMULI/.svn/prop-base/i106389849.jpeg.svn-base  \n  inflating: ../datasets/ALLSTIMULI/.svn/prop-base/i106390852.jpeg.svn-base  \n  inflating: ../datasets/ALLSTIMULI/.svn/prop-base/i1064228254.jpeg.svn-base  \n  inflating: ../datasets/ALLSTIMULI/.svn/prop-base/i1064999233.jpeg.svn-base  \n  inflating: ../datasets/ALLSTIMULI/.svn/prop-base/i1065019259.jpeg.svn-base  \n  inflating: ../datasets/ALLSTIMULI/.svn/prop-base/i1065169436.jpeg.svn-base  \n  inflating: ../datasets/ALLSTIMULI/.svn/prop-base/i1066946823.jpeg.svn-base  \n  inflating: ../datasets/ALLSTIMULI/.svn/prop-base/i1071145422.jpeg.svn-base  \n  inflating: ../datasets/ALLSTIMULI/.svn/prop-base/i107362766.jpeg.svn-base  \n  inflating: ../datasets/ALLSTIMULI/.svn/prop-base/i1073650522.jpeg.svn-base  \n  inflating: ../datasets/ALLSTIMULI/.svn/prop-base/i1074021825.jpeg.svn-base  \n  inflating: ../datasets/ALLSTIMULI/.svn/prop-base/i1074359567.jpeg.svn-base  \n  inflating: ../datasets/ALLSTIMULI/.svn/prop-base/i1075466100.jpeg.svn-base  \n  inflating: ../datasets/ALLSTIMULI/.svn/prop-base/i107724041.jpeg.svn-base  \n  inflating: ../datasets/ALLSTIMULI/.svn/prop-base/i1079765858.jpeg.svn-base  \n  inflating: ../datasets/ALLSTIMULI/.svn/prop-base/i1080181540.jpeg.svn-base  \n  inflating: ../datasets/ALLSTIMULI/.svn/prop-base/i1082647.jpeg.svn-base  \n  inflating: ../datasets/ALLSTIMULI/.svn/prop-base/i1086742403.jpeg.svn-base  \n  inflating: ../datasets/ALLSTIMULI/.svn/prop-base/i108784287.jpeg.svn-base  \n  inflating: ../datasets/ALLSTIMULI/.svn/prop-base/i1089044309.jpeg.svn-base  \n  inflating: ../datasets/ALLSTIMULI/.svn/prop-base/i10941198.jpeg.svn-base  \n  inflating: ../datasets/ALLSTIMULI/.svn/prop-base/i1094694998.jpeg.svn-base  \n  inflating: ../datasets/ALLSTIMULI/.svn/prop-base/i109572486.jpeg.svn-base  \n  inflating: ../datasets/ALLSTIMULI/.svn/prop-base/i1099936696.jpeg.svn-base  \n  inflating: ../datasets/ALLSTIMULI/.svn/prop-base/i10feb04_static_cars_highland_img_0843.jpeg.svn-base  \n  inflating: ../datasets/ALLSTIMULI/.svn/prop-base/i10feb04_static_cars_highland_img_0847.jpeg.svn-base  \n  inflating: ../datasets/ALLSTIMULI/.svn/prop-base/i10feb04_static_techsquare_img_0873.jpeg.svn-base  \n  inflating: ../datasets/ALLSTIMULI/.svn/prop-base/i110545600.jpeg.svn-base  \n  inflating: ../datasets/ALLSTIMULI/.svn/prop-base/i1107247595.jpeg.svn-base  \n  inflating: ../datasets/ALLSTIMULI/.svn/prop-base/i1107916524.jpeg.svn-base  \n  inflating: ../datasets/ALLSTIMULI/.svn/prop-base/i110996888.jpeg.svn-base  \n  inflating: ../datasets/ALLSTIMULI/.svn/prop-base/i1113064474.jpeg.svn-base  \n  inflating: ../datasets/ALLSTIMULI/.svn/prop-base/i111366726.jpeg.svn-base  \n  inflating: ../datasets/ALLSTIMULI/.svn/prop-base/i111369435.jpeg.svn-base  \n  inflating: ../datasets/ALLSTIMULI/.svn/prop-base/i111373642.jpeg.svn-base  \n  inflating: ../datasets/ALLSTIMULI/.svn/prop-base/i1115183390.jpeg.svn-base  \n  inflating: ../datasets/ALLSTIMULI/.svn/prop-base/i1116123355.jpeg.svn-base  \n  inflating: ../datasets/ALLSTIMULI/.svn/prop-base/i1116953942.jpeg.svn-base  \n  inflating: ../datasets/ALLSTIMULI/.svn/prop-base/i1117616565.jpeg.svn-base  \n  inflating: ../datasets/ALLSTIMULI/.svn/prop-base/i1117993383.jpeg.svn-base  \n  inflating: ../datasets/ALLSTIMULI/.svn/prop-base/i1118636964.jpeg.svn-base  \n  inflating: ../datasets/ALLSTIMULI/.svn/prop-base/i112041276.jpeg.svn-base  \n  inflating: ../datasets/ALLSTIMULI/.svn/prop-base/i1121584164.jpeg.svn-base  \n  inflating: ../datasets/ALLSTIMULI/.svn/prop-base/i1122022227.jpeg.svn-base  \n  inflating: ../datasets/ALLSTIMULI/.svn/prop-base/i1122841352.jpeg.svn-base  \n  inflating: ../datasets/ALLSTIMULI/.svn/prop-base/i1126243635.jpeg.svn-base  \n  inflating: ../datasets/ALLSTIMULI/.svn/prop-base/i1130496707.jpeg.svn-base  \n  inflating: ../datasets/ALLSTIMULI/.svn/prop-base/i1130504626.jpeg.svn-base  \n  inflating: ../datasets/ALLSTIMULI/.svn/prop-base/i1131124824.jpeg.svn-base  \n  inflating: ../datasets/ALLSTIMULI/.svn/prop-base/i1131209719.jpeg.svn-base  \n  inflating: ../datasets/ALLSTIMULI/.svn/prop-base/i1132643854.jpeg.svn-base  \n  inflating: ../datasets/ALLSTIMULI/.svn/prop-base/i113347896.jpeg.svn-base  \n  inflating: ../datasets/ALLSTIMULI/.svn/prop-base/i1133557495.jpeg.svn-base  \n  inflating: ../datasets/ALLSTIMULI/.svn/prop-base/i1134327970.jpeg.svn-base  \n  inflating: ../datasets/ALLSTIMULI/.svn/prop-base/i113829406.jpeg.svn-base  \n  inflating: ../datasets/ALLSTIMULI/.svn/prop-base/i1138885959.jpeg.svn-base  \n  inflating: ../datasets/ALLSTIMULI/.svn/prop-base/i113908266.jpeg.svn-base  \n  inflating: ../datasets/ALLSTIMULI/.svn/prop-base/i113911116.jpeg.svn-base  \n  inflating: ../datasets/ALLSTIMULI/.svn/prop-base/i113913836.jpeg.svn-base  \n  inflating: ../datasets/ALLSTIMULI/.svn/prop-base/i113941602.jpeg.svn-base  \n  inflating: ../datasets/ALLSTIMULI/.svn/prop-base/i1139671063.jpeg.svn-base  \n  inflating: ../datasets/ALLSTIMULI/.svn/prop-base/i1139715898.jpeg.svn-base  \n  inflating: ../datasets/ALLSTIMULI/.svn/prop-base/i1139720852.jpeg.svn-base  \n  inflating: ../datasets/ALLSTIMULI/.svn/prop-base/i113985471.jpeg.svn-base  \n  inflating: ../datasets/ALLSTIMULI/.svn/prop-base/i114124777.jpeg.svn-base  \n  inflating: ../datasets/ALLSTIMULI/.svn/prop-base/i114175990.jpeg.svn-base  \n  inflating: ../datasets/ALLSTIMULI/.svn/prop-base/i1142164052.jpeg.svn-base  \n  inflating: ../datasets/ALLSTIMULI/.svn/prop-base/i1143521266.jpeg.svn-base  \n  inflating: ../datasets/ALLSTIMULI/.svn/prop-base/i1143924367.jpeg.svn-base  \n  inflating: ../datasets/ALLSTIMULI/.svn/prop-base/i1145957845.jpeg.svn-base  \n  inflating: ../datasets/ALLSTIMULI/.svn/prop-base/i114742201.jpeg.svn-base  \n  inflating: ../datasets/ALLSTIMULI/.svn/prop-base/i1147516428.jpeg.svn-base  \n  inflating: ../datasets/ALLSTIMULI/.svn/prop-base/i11560614.jpeg.svn-base  \n  inflating: ../datasets/ALLSTIMULI/.svn/prop-base/i1156480850.jpeg.svn-base  \n  inflating: ../datasets/ALLSTIMULI/.svn/prop-base/i1158217360.jpeg.svn-base  \n  inflating: ../datasets/ALLSTIMULI/.svn/prop-base/i1158544165.jpeg.svn-base  \n  inflating: ../datasets/ALLSTIMULI/.svn/prop-base/i1158892521.jpeg.svn-base  \n  inflating: ../datasets/ALLSTIMULI/.svn/prop-base/i1158900179.jpeg.svn-base  \n  inflating: ../datasets/ALLSTIMULI/.svn/prop-base/i1158903665.jpeg.svn-base  \n  inflating: ../datasets/ALLSTIMULI/.svn/prop-base/i1161381449.jpeg.svn-base  \n  inflating: ../datasets/ALLSTIMULI/.svn/prop-base/i1162738677.jpeg.svn-base  \n  inflating: ../datasets/ALLSTIMULI/.svn/prop-base/i1163341362.jpeg.svn-base  \n  inflating: ../datasets/ALLSTIMULI/.svn/prop-base/i1163616258.jpeg.svn-base  \n  inflating: ../datasets/ALLSTIMULI/.svn/prop-base/i1163635870.jpeg.svn-base  \n  inflating: ../datasets/ALLSTIMULI/.svn/prop-base/i1164346942.jpeg.svn-base  \n  inflating: ../datasets/ALLSTIMULI/.svn/prop-base/i116604700.jpeg.svn-base  \n  inflating: ../datasets/ALLSTIMULI/.svn/prop-base/i1166229983.jpeg.svn-base  \n  inflating: ../datasets/ALLSTIMULI/.svn/prop-base/i1169220553.jpeg.svn-base  \n  inflating: ../datasets/ALLSTIMULI/.svn/prop-base/i1172413505.jpeg.svn-base  \n  inflating: ../datasets/ALLSTIMULI/.svn/prop-base/i1176114117.jpeg.svn-base  \n  inflating: ../datasets/ALLSTIMULI/.svn/prop-base/i1176623615.jpeg.svn-base  \n  inflating: ../datasets/ALLSTIMULI/.svn/prop-base/i1177389596.jpeg.svn-base  \n  inflating: ../datasets/ALLSTIMULI/.svn/prop-base/i1177391126.jpeg.svn-base  \n  inflating: ../datasets/ALLSTIMULI/.svn/prop-base/i117772445.jpeg.svn-base  \n  inflating: ../datasets/ALLSTIMULI/.svn/prop-base/i1182314083.jpeg.svn-base  \n  inflating: ../datasets/ALLSTIMULI/.svn/prop-base/i1182505554.jpeg.svn-base  \n  inflating: ../datasets/ALLSTIMULI/.svn/prop-base/i1185710392.jpeg.svn-base  \n  inflating: ../datasets/ALLSTIMULI/.svn/prop-base/i118680869.jpeg.svn-base  \n  inflating: ../datasets/ALLSTIMULI/.svn/prop-base/i1187451298.jpeg.svn-base  \n  inflating: ../datasets/ALLSTIMULI/.svn/prop-base/i1190302019.jpeg.svn-base  \n  inflating: ../datasets/ALLSTIMULI/.svn/prop-base/i1190306215.jpeg.svn-base  \n  inflating: ../datasets/ALLSTIMULI/.svn/prop-base/i1198772915.jpeg.svn-base  \n  inflating: ../datasets/ALLSTIMULI/.svn/prop-base/i1199505141.jpeg.svn-base  \n  inflating: ../datasets/ALLSTIMULI/.svn/prop-base/i120225437.jpeg.svn-base  \n  inflating: ../datasets/ALLSTIMULI/.svn/prop-base/i12030916.jpeg.svn-base  \n  inflating: ../datasets/ALLSTIMULI/.svn/prop-base/i1203833517.jpeg.svn-base  \n  inflating: ../datasets/ALLSTIMULI/.svn/prop-base/i12049788.jpeg.svn-base  \n  inflating: ../datasets/ALLSTIMULI/.svn/prop-base/i1205929127.jpeg.svn-base  \n  inflating: ../datasets/ALLSTIMULI/.svn/prop-base/i1206857407.jpeg.svn-base  \n  inflating: ../datasets/ALLSTIMULI/.svn/prop-base/i1207262076.jpeg.svn-base  \n  inflating: ../datasets/ALLSTIMULI/.svn/prop-base/i1209163197.jpeg.svn-base  \n  inflating: ../datasets/ALLSTIMULI/.svn/prop-base/i1217965345.jpeg.svn-base  \n  inflating: ../datasets/ALLSTIMULI/.svn/prop-base/i1217995119.jpeg.svn-base  \n  inflating: ../datasets/ALLSTIMULI/.svn/prop-base/i1222460064.jpeg.svn-base  \n  inflating: ../datasets/ALLSTIMULI/.svn/prop-base/i1228653180.jpeg.svn-base  \n  inflating: ../datasets/ALLSTIMULI/.svn/prop-base/i1229102713.jpeg.svn-base  \n  inflating: ../datasets/ALLSTIMULI/.svn/prop-base/i1231061555.jpeg.svn-base  \n  inflating: ../datasets/ALLSTIMULI/.svn/prop-base/i1232366169.jpeg.svn-base  \n  inflating: ../datasets/ALLSTIMULI/.svn/prop-base/i1232952864.jpeg.svn-base  \n  inflating: ../datasets/ALLSTIMULI/.svn/prop-base/i123476629.jpeg.svn-base  \n  inflating: ../datasets/ALLSTIMULI/.svn/prop-base/i1235260142.jpeg.svn-base  \n  inflating: ../datasets/ALLSTIMULI/.svn/prop-base/i1236338489.jpeg.svn-base  \n  inflating: ../datasets/ALLSTIMULI/.svn/prop-base/i1240539233.jpeg.svn-base  \n  inflating: ../datasets/ALLSTIMULI/.svn/prop-base/i1243968281.jpeg.svn-base  \n  inflating: ../datasets/ALLSTIMULI/.svn/prop-base/i124489010.jpeg.svn-base  \n  inflating: ../datasets/ALLSTIMULI/.svn/prop-base/i1245116076.jpeg.svn-base  \n  inflating: ../datasets/ALLSTIMULI/.svn/prop-base/i1246228365.jpeg.svn-base  \n  inflating: ../datasets/ALLSTIMULI/.svn/prop-base/i1246347137.jpeg.svn-base  \n  inflating: ../datasets/ALLSTIMULI/.svn/prop-base/i1246367427.jpeg.svn-base  \n  inflating: ../datasets/ALLSTIMULI/.svn/prop-base/i1246368617.jpeg.svn-base  \n  inflating: ../datasets/ALLSTIMULI/.svn/prop-base/i1246371431.jpeg.svn-base  \n  inflating: ../datasets/ALLSTIMULI/.svn/prop-base/i124682633.jpeg.svn-base  \n  inflating: ../datasets/ALLSTIMULI/.svn/prop-base/i1247210024.jpeg.svn-base  \n  inflating: ../datasets/ALLSTIMULI/.svn/prop-base/i1247865242.jpeg.svn-base  \n  inflating: ../datasets/ALLSTIMULI/.svn/prop-base/i1248920013.jpeg.svn-base  \n  inflating: ../datasets/ALLSTIMULI/.svn/prop-base/i1248939379.jpeg.svn-base  \n  inflating: ../datasets/ALLSTIMULI/.svn/prop-base/i125087769.jpeg.svn-base  \n  inflating: ../datasets/ALLSTIMULI/.svn/prop-base/i1251979217.jpeg.svn-base  \n  inflating: ../datasets/ALLSTIMULI/.svn/prop-base/i125218174.jpeg.svn-base  \n  inflating: ../datasets/ALLSTIMULI/.svn/prop-base/i1252592787.jpeg.svn-base  \n  inflating: ../datasets/ALLSTIMULI/.svn/prop-base/i1252680396.jpeg.svn-base  \n  inflating: ../datasets/ALLSTIMULI/.svn/prop-base/i1252871718.jpeg.svn-base  \n  inflating: ../datasets/ALLSTIMULI/.svn/prop-base/i125393007.jpeg.svn-base  \n  inflating: ../datasets/ALLSTIMULI/.svn/prop-base/i1257775141.jpeg.svn-base  \n  inflating: ../datasets/ALLSTIMULI/.svn/prop-base/i1260588917.jpeg.svn-base  \n  inflating: ../datasets/ALLSTIMULI/.svn/prop-base/i1260655983.jpeg.svn-base  \n  inflating: ../datasets/ALLSTIMULI/.svn/prop-base/i126277076.jpeg.svn-base  \n  inflating: ../datasets/ALLSTIMULI/.svn/prop-base/i126446520.jpeg.svn-base  \n  inflating: ../datasets/ALLSTIMULI/.svn/prop-base/i126605331.jpeg.svn-base  \n  inflating: ../datasets/ALLSTIMULI/.svn/prop-base/i1267668332.jpeg.svn-base  \n  inflating: ../datasets/ALLSTIMULI/.svn/prop-base/i126850786.jpeg.svn-base  \n  inflating: ../datasets/ALLSTIMULI/.svn/prop-base/i1270375142.jpeg.svn-base  \n  inflating: ../datasets/ALLSTIMULI/.svn/prop-base/i1272116803.jpeg.svn-base  \n  inflating: ../datasets/ALLSTIMULI/.svn/prop-base/i1272119743.jpeg.svn-base  \n  inflating: ../datasets/ALLSTIMULI/.svn/prop-base/i127442050.jpeg.svn-base  \n  inflating: ../datasets/ALLSTIMULI/.svn/prop-base/i1275003744.jpeg.svn-base  \n  inflating: ../datasets/ALLSTIMULI/.svn/prop-base/i1276571229.jpeg.svn-base  \n  inflating: ../datasets/ALLSTIMULI/.svn/prop-base/i1280080218.jpeg.svn-base  \n  inflating: ../datasets/ALLSTIMULI/.svn/prop-base/i1280528250.jpeg.svn-base  \n  inflating: ../datasets/ALLSTIMULI/.svn/prop-base/i128320633.jpeg.svn-base  \n  inflating: ../datasets/ALLSTIMULI/.svn/prop-base/i1295408832.jpeg.svn-base  \n  inflating: ../datasets/ALLSTIMULI/.svn/prop-base/i1295626324.jpeg.svn-base  \n  inflating: ../datasets/ALLSTIMULI/.svn/prop-base/i1296050196.jpeg.svn-base  \n  inflating: ../datasets/ALLSTIMULI/.svn/prop-base/i129682290.jpeg.svn-base  \n  inflating: ../datasets/ALLSTIMULI/.svn/prop-base/i1297641633.jpeg.svn-base  \n  inflating: ../datasets/ALLSTIMULI/.svn/prop-base/i129772911.jpeg.svn-base  \n  inflating: ../datasets/ALLSTIMULI/.svn/prop-base/i129796908.jpeg.svn-base  \n  inflating: ../datasets/ALLSTIMULI/.svn/prop-base/i130022388.jpeg.svn-base  \n  inflating: ../datasets/ALLSTIMULI/.svn/prop-base/i1300905195.jpeg.svn-base  \n  inflating: ../datasets/ALLSTIMULI/.svn/prop-base/i1300910455.jpeg.svn-base  \n  inflating: ../datasets/ALLSTIMULI/.svn/prop-base/i1302165994.jpeg.svn-base  \n  inflating: ../datasets/ALLSTIMULI/.svn/prop-base/i130736782.jpeg.svn-base  \n  inflating: ../datasets/ALLSTIMULI/.svn/prop-base/i1308677325.jpeg.svn-base  \n  inflating: ../datasets/ALLSTIMULI/.svn/prop-base/i1308682205.jpeg.svn-base  \n  inflating: ../datasets/ALLSTIMULI/.svn/prop-base/i1312550716.jpeg.svn-base  \n  inflating: ../datasets/ALLSTIMULI/.svn/prop-base/i131993073.jpeg.svn-base  \n  inflating: ../datasets/ALLSTIMULI/.svn/prop-base/i132306037.jpeg.svn-base  \n  inflating: ../datasets/ALLSTIMULI/.svn/prop-base/i132306528.jpeg.svn-base  \n  inflating: ../datasets/ALLSTIMULI/.svn/prop-base/i132306741.jpeg.svn-base  \n  inflating: ../datasets/ALLSTIMULI/.svn/prop-base/i132416605.jpeg.svn-base  \n  inflating: ../datasets/ALLSTIMULI/.svn/prop-base/i132418079.jpeg.svn-base  \n  inflating: ../datasets/ALLSTIMULI/.svn/prop-base/i132419257.jpeg.svn-base  \n  inflating: ../datasets/ALLSTIMULI/.svn/prop-base/i1325243029.jpeg.svn-base  \n  inflating: ../datasets/ALLSTIMULI/.svn/prop-base/i1325514089.jpeg.svn-base  \n  inflating: ../datasets/ALLSTIMULI/.svn/prop-base/i132672866.jpeg.svn-base  \n  inflating: ../datasets/ALLSTIMULI/.svn/prop-base/i1326772343.jpeg.svn-base  \n  inflating: ../datasets/ALLSTIMULI/.svn/prop-base/i133055176.jpeg.svn-base  \n  inflating: ../datasets/ALLSTIMULI/.svn/prop-base/i1332346516.jpeg.svn-base  \n  inflating: ../datasets/ALLSTIMULI/.svn/prop-base/i1335933891.jpeg.svn-base  \n  inflating: ../datasets/ALLSTIMULI/.svn/prop-base/i1336805698.jpeg.svn-base  \n  inflating: ../datasets/ALLSTIMULI/.svn/prop-base/i1338484745.jpeg.svn-base  \n  inflating: ../datasets/ALLSTIMULI/.svn/prop-base/i1338496399.jpeg.svn-base  \n  inflating: ../datasets/ALLSTIMULI/.svn/prop-base/i133905582.jpeg.svn-base  \n  inflating: ../datasets/ALLSTIMULI/.svn/prop-base/i1343103601.jpeg.svn-base  \n  inflating: ../datasets/ALLSTIMULI/.svn/prop-base/i134430368.jpeg.svn-base  \n  inflating: ../datasets/ALLSTIMULI/.svn/prop-base/i1344739819.jpeg.svn-base  \n  inflating: ../datasets/ALLSTIMULI/.svn/prop-base/i134585813.jpeg.svn-base  \n  inflating: ../datasets/ALLSTIMULI/.svn/prop-base/i134592788.jpeg.svn-base  \n  inflating: ../datasets/ALLSTIMULI/.svn/prop-base/i1346278050.jpeg.svn-base  \n  inflating: ../datasets/ALLSTIMULI/.svn/prop-base/i134694966.jpeg.svn-base  \n  inflating: ../datasets/ALLSTIMULI/.svn/prop-base/i1349055388.jpeg.svn-base  \n  inflating: ../datasets/ALLSTIMULI/.svn/prop-base/i1351438699.jpeg.svn-base  \n  inflating: ../datasets/ALLSTIMULI/.svn/prop-base/i1355213079.jpeg.svn-base  \n  inflating: ../datasets/ALLSTIMULI/.svn/prop-base/i1355286331.jpeg.svn-base  \n  inflating: ../datasets/ALLSTIMULI/.svn/prop-base/i135996473.jpeg.svn-base  \n  inflating: ../datasets/ALLSTIMULI/.svn/prop-base/i1361149388.jpeg.svn-base  \n  inflating: ../datasets/ALLSTIMULI/.svn/prop-base/i1362671223.jpeg.svn-base  \n  inflating: ../datasets/ALLSTIMULI/.svn/prop-base/i1368050923.jpeg.svn-base  \n  inflating: ../datasets/ALLSTIMULI/.svn/prop-base/i1368359073.jpeg.svn-base  \n  inflating: ../datasets/ALLSTIMULI/.svn/prop-base/i1370407372.jpeg.svn-base  \n  inflating: ../datasets/ALLSTIMULI/.svn/prop-base/i138348611.jpeg.svn-base  \n  inflating: ../datasets/ALLSTIMULI/.svn/prop-base/i1388086595.jpeg.svn-base  \n  inflating: ../datasets/ALLSTIMULI/.svn/prop-base/i1388275624.jpeg.svn-base  \n  inflating: ../datasets/ALLSTIMULI/.svn/prop-base/i1388450272.jpeg.svn-base  \n  inflating: ../datasets/ALLSTIMULI/.svn/prop-base/i1388704075.jpeg.svn-base  \n  inflating: ../datasets/ALLSTIMULI/.svn/prop-base/i1389946337.jpeg.svn-base  \n  inflating: ../datasets/ALLSTIMULI/.svn/prop-base/i1390242687.jpeg.svn-base  \n  inflating: ../datasets/ALLSTIMULI/.svn/prop-base/i1390834220.jpeg.svn-base  \n  inflating: ../datasets/ALLSTIMULI/.svn/prop-base/i13910717.jpeg.svn-base  \n  inflating: ../datasets/ALLSTIMULI/.svn/prop-base/i1394080896.jpeg.svn-base  \n  inflating: ../datasets/ALLSTIMULI/.svn/prop-base/i1395373257.jpeg.svn-base  \n  inflating: ../datasets/ALLSTIMULI/.svn/prop-base/i1395380429.jpeg.svn-base  \n  inflating: ../datasets/ALLSTIMULI/.svn/prop-base/i1398733076.jpeg.svn-base  \n  inflating: ../datasets/ALLSTIMULI/.svn/prop-base/i14020903.jpeg.svn-base  \n  inflating: ../datasets/ALLSTIMULI/.svn/prop-base/i1413522668.jpeg.svn-base  \n  inflating: ../datasets/ALLSTIMULI/.svn/prop-base/i1414673039.jpeg.svn-base  \n  inflating: ../datasets/ALLSTIMULI/.svn/prop-base/i1425513894.jpeg.svn-base  \n  inflating: ../datasets/ALLSTIMULI/.svn/prop-base/i1425518494.jpeg.svn-base  \n  inflating: ../datasets/ALLSTIMULI/.svn/prop-base/i1425519942.jpeg.svn-base  \n  inflating: ../datasets/ALLSTIMULI/.svn/prop-base/i1426163477.jpeg.svn-base  \n  inflating: ../datasets/ALLSTIMULI/.svn/prop-base/i1426598345.jpeg.svn-base  \n  inflating: ../datasets/ALLSTIMULI/.svn/prop-base/i1426605399.jpeg.svn-base  \n  inflating: ../datasets/ALLSTIMULI/.svn/prop-base/i1426615161.jpeg.svn-base  \n  inflating: ../datasets/ALLSTIMULI/.svn/prop-base/i142662322.jpeg.svn-base  \n  inflating: ../datasets/ALLSTIMULI/.svn/prop-base/i1427101898.jpeg.svn-base  \n  inflating: ../datasets/ALLSTIMULI/.svn/prop-base/i1427114536.jpeg.svn-base  \n  inflating: ../datasets/ALLSTIMULI/.svn/prop-base/i1429004931.jpeg.svn-base  \n  inflating: ../datasets/ALLSTIMULI/.svn/prop-base/i1429029695.jpeg.svn-base  \n  inflating: ../datasets/ALLSTIMULI/.svn/prop-base/i1430117625.jpeg.svn-base  \n  inflating: ../datasets/ALLSTIMULI/.svn/prop-base/i1430672270.jpeg.svn-base  \n  inflating: ../datasets/ALLSTIMULI/.svn/prop-base/i1431286095.jpeg.svn-base  \n  inflating: ../datasets/ALLSTIMULI/.svn/prop-base/i1433281460.jpeg.svn-base  \n  inflating: ../datasets/ALLSTIMULI/.svn/prop-base/i1433681776.jpeg.svn-base  \n  inflating: ../datasets/ALLSTIMULI/.svn/prop-base/i1436869067.jpeg.svn-base  \n  inflating: ../datasets/ALLSTIMULI/.svn/prop-base/i1436876661.jpeg.svn-base  \n  inflating: ../datasets/ALLSTIMULI/.svn/prop-base/i1436880351.jpeg.svn-base  \n  inflating: ../datasets/ALLSTIMULI/.svn/prop-base/i1450211186.jpeg.svn-base  \n  inflating: ../datasets/ALLSTIMULI/.svn/prop-base/i1456209950.jpeg.svn-base  \n  inflating: ../datasets/ALLSTIMULI/.svn/prop-base/i1459316934.jpeg.svn-base  \n  inflating: ../datasets/ALLSTIMULI/.svn/prop-base/i1460152281.jpeg.svn-base  \n  inflating: ../datasets/ALLSTIMULI/.svn/prop-base/i1460281774.jpeg.svn-base  \n  inflating: ../datasets/ALLSTIMULI/.svn/prop-base/i1461500311.jpeg.svn-base  \n  inflating: ../datasets/ALLSTIMULI/.svn/prop-base/i1464437389.jpeg.svn-base  \n  inflating: ../datasets/ALLSTIMULI/.svn/prop-base/i1465015711.jpeg.svn-base  \n  inflating: ../datasets/ALLSTIMULI/.svn/prop-base/i1465243665.jpeg.svn-base  \n  inflating: ../datasets/ALLSTIMULI/.svn/prop-base/i1465270782.jpeg.svn-base  \n  inflating: ../datasets/ALLSTIMULI/.svn/prop-base/i1465710085.jpeg.svn-base  \n  inflating: ../datasets/ALLSTIMULI/.svn/prop-base/i1465804180.jpeg.svn-base  \n  inflating: ../datasets/ALLSTIMULI/.svn/prop-base/i1465862934.jpeg.svn-base  \n  inflating: ../datasets/ALLSTIMULI/.svn/prop-base/i1466094492.jpeg.svn-base  \n  inflating: ../datasets/ALLSTIMULI/.svn/prop-base/i1473135008.jpeg.svn-base  \n  inflating: ../datasets/ALLSTIMULI/.svn/prop-base/i1485310101.jpeg.svn-base  \n  inflating: ../datasets/ALLSTIMULI/.svn/prop-base/i1485351340.jpeg.svn-base  \n  inflating: ../datasets/ALLSTIMULI/.svn/prop-base/i1486171792.jpeg.svn-base  \n  inflating: ../datasets/ALLSTIMULI/.svn/prop-base/i1488196573.jpeg.svn-base  \n  inflating: ../datasets/ALLSTIMULI/.svn/prop-base/i1490402847.jpeg.svn-base  \n  inflating: ../datasets/ALLSTIMULI/.svn/prop-base/i1490404437.jpeg.svn-base  \n  inflating: ../datasets/ALLSTIMULI/.svn/prop-base/i1492679408.jpeg.svn-base  \n  inflating: ../datasets/ALLSTIMULI/.svn/prop-base/i1496991666.jpeg.svn-base  \n  inflating: ../datasets/ALLSTIMULI/.svn/prop-base/i1503092014.jpeg.svn-base  \n  inflating: ../datasets/ALLSTIMULI/.svn/prop-base/i1507505298.jpeg.svn-base  \n  inflating: ../datasets/ALLSTIMULI/.svn/prop-base/i1507520018.jpeg.svn-base  \n  inflating: ../datasets/ALLSTIMULI/.svn/prop-base/i1508828.jpeg.svn-base  \n  inflating: ../datasets/ALLSTIMULI/.svn/prop-base/i1511249507.jpeg.svn-base  \n  inflating: ../datasets/ALLSTIMULI/.svn/prop-base/i151260195.jpeg.svn-base  \n  inflating: ../datasets/ALLSTIMULI/.svn/prop-base/i151492118.jpeg.svn-base  \n  inflating: ../datasets/ALLSTIMULI/.svn/prop-base/i1519001350.jpeg.svn-base  \n  inflating: ../datasets/ALLSTIMULI/.svn/prop-base/i1519495464.jpeg.svn-base  \n  inflating: ../datasets/ALLSTIMULI/.svn/prop-base/i1526935589.jpeg.svn-base  \n  inflating: ../datasets/ALLSTIMULI/.svn/prop-base/i1539822082.jpeg.svn-base  \n  inflating: ../datasets/ALLSTIMULI/.svn/prop-base/i1540552783.jpeg.svn-base  \n  inflating: ../datasets/ALLSTIMULI/.svn/prop-base/i1546500996.jpeg.svn-base  \n  inflating: ../datasets/ALLSTIMULI/.svn/prop-base/i1548394620.jpeg.svn-base  \n  inflating: ../datasets/ALLSTIMULI/.svn/prop-base/i1548942940.jpeg.svn-base  \n  inflating: ../datasets/ALLSTIMULI/.svn/prop-base/i1552375082.jpeg.svn-base  \n  inflating: ../datasets/ALLSTIMULI/.svn/prop-base/i1559515013.jpeg.svn-base  \n  inflating: ../datasets/ALLSTIMULI/.svn/prop-base/i1560309298.jpeg.svn-base  \n  inflating: ../datasets/ALLSTIMULI/.svn/prop-base/i1562869159.jpeg.svn-base  \n  inflating: ../datasets/ALLSTIMULI/.svn/prop-base/i156404992.jpeg.svn-base  \n  inflating: ../datasets/ALLSTIMULI/.svn/prop-base/i156568569.jpeg.svn-base  \n  inflating: ../datasets/ALLSTIMULI/.svn/prop-base/i1572657251.jpeg.svn-base  \n  inflating: ../datasets/ALLSTIMULI/.svn/prop-base/i1572706519.jpeg.svn-base  \n  inflating: ../datasets/ALLSTIMULI/.svn/prop-base/i1583042749.jpeg.svn-base  \n  inflating: ../datasets/ALLSTIMULI/.svn/prop-base/i159812896.jpeg.svn-base  \n  inflating: ../datasets/ALLSTIMULI/.svn/prop-base/i159875849.jpeg.svn-base  \n  inflating: ../datasets/ALLSTIMULI/.svn/prop-base/i1602482813.jpeg.svn-base  \n  inflating: ../datasets/ALLSTIMULI/.svn/prop-base/i160271625.jpeg.svn-base  \n  inflating: ../datasets/ALLSTIMULI/.svn/prop-base/i160758712.jpeg.svn-base  \n  inflating: ../datasets/ALLSTIMULI/.svn/prop-base/i160759133.jpeg.svn-base  \n  inflating: ../datasets/ALLSTIMULI/.svn/prop-base/i161052265.jpeg.svn-base  \n  inflating: ../datasets/ALLSTIMULI/.svn/prop-base/i161218845.jpeg.svn-base  \n  inflating: ../datasets/ALLSTIMULI/.svn/prop-base/i161629560.jpeg.svn-base  \n  inflating: ../datasets/ALLSTIMULI/.svn/prop-base/i1626133401.jpeg.svn-base  \n  inflating: ../datasets/ALLSTIMULI/.svn/prop-base/i163125223.jpeg.svn-base  \n  inflating: ../datasets/ALLSTIMULI/.svn/prop-base/i163744793.jpeg.svn-base  \n  inflating: ../datasets/ALLSTIMULI/.svn/prop-base/i163823931.jpeg.svn-base  \n  inflating: ../datasets/ALLSTIMULI/.svn/prop-base/i1659323957.jpeg.svn-base  \n  inflating: ../datasets/ALLSTIMULI/.svn/prop-base/i167462665.jpeg.svn-base  \n  inflating: ../datasets/ALLSTIMULI/.svn/prop-base/i167469109.jpeg.svn-base  \n  inflating: ../datasets/ALLSTIMULI/.svn/prop-base/i1677421979.jpeg.svn-base  \n  inflating: ../datasets/ALLSTIMULI/.svn/prop-base/i1691562175.jpeg.svn-base  \n  inflating: ../datasets/ALLSTIMULI/.svn/prop-base/i169636965.jpeg.svn-base  \n  inflating: ../datasets/ALLSTIMULI/.svn/prop-base/i170746079.jpeg.svn-base  \n  inflating: ../datasets/ALLSTIMULI/.svn/prop-base/i1715062725.jpeg.svn-base  \n  inflating: ../datasets/ALLSTIMULI/.svn/prop-base/i1733711537.jpeg.svn-base  \n  inflating: ../datasets/ALLSTIMULI/.svn/prop-base/i1733818305.jpeg.svn-base  \n  inflating: ../datasets/ALLSTIMULI/.svn/prop-base/i1739584262.jpeg.svn-base  \n  inflating: ../datasets/ALLSTIMULI/.svn/prop-base/i1740677522.jpeg.svn-base  \n  inflating: ../datasets/ALLSTIMULI/.svn/prop-base/i175936273.jpeg.svn-base  \n  inflating: ../datasets/ALLSTIMULI/.svn/prop-base/i176365896.jpeg.svn-base  \n  inflating: ../datasets/ALLSTIMULI/.svn/prop-base/i1771710966.jpeg.svn-base  \n  inflating: ../datasets/ALLSTIMULI/.svn/prop-base/i1773927318.jpeg.svn-base  \n  inflating: ../datasets/ALLSTIMULI/.svn/prop-base/i1777084263.jpeg.svn-base  \n  inflating: ../datasets/ALLSTIMULI/.svn/prop-base/i1777384643.jpeg.svn-base  \n  inflating: ../datasets/ALLSTIMULI/.svn/prop-base/i1784306863.jpeg.svn-base  \n  inflating: ../datasets/ALLSTIMULI/.svn/prop-base/i1784535425.jpeg.svn-base  \n  inflating: ../datasets/ALLSTIMULI/.svn/prop-base/i1784751720.jpeg.svn-base  \n  inflating: ../datasets/ALLSTIMULI/.svn/prop-base/i1791248749.jpeg.svn-base  \n  inflating: ../datasets/ALLSTIMULI/.svn/prop-base/i1791282115.jpeg.svn-base  \n  inflating: ../datasets/ALLSTIMULI/.svn/prop-base/i1795912442.jpeg.svn-base  \n  inflating: ../datasets/ALLSTIMULI/.svn/prop-base/i1797491266.jpeg.svn-base  \n  inflating: ../datasets/ALLSTIMULI/.svn/prop-base/i1798804180.jpeg.svn-base  \n  inflating: ../datasets/ALLSTIMULI/.svn/prop-base/i179901987.jpeg.svn-base  \n  inflating: ../datasets/ALLSTIMULI/.svn/prop-base/i1799873859.jpeg.svn-base  \n  inflating: ../datasets/ALLSTIMULI/.svn/prop-base/i1801281281.jpeg.svn-base  \n  inflating: ../datasets/ALLSTIMULI/.svn/prop-base/i1802328941.jpeg.svn-base  \n  inflating: ../datasets/ALLSTIMULI/.svn/prop-base/i1808007663.jpeg.svn-base  \n  inflating: ../datasets/ALLSTIMULI/.svn/prop-base/i181096125.jpeg.svn-base  \n  inflating: ../datasets/ALLSTIMULI/.svn/prop-base/i1812945250.jpeg.svn-base  \n  inflating: ../datasets/ALLSTIMULI/.svn/prop-base/i1815291162.jpeg.svn-base  \n  inflating: ../datasets/ALLSTIMULI/.svn/prop-base/i1817839270.jpeg.svn-base  \n  inflating: ../datasets/ALLSTIMULI/.svn/prop-base/i1818663426.jpeg.svn-base  \n  inflating: ../datasets/ALLSTIMULI/.svn/prop-base/i182241423.jpeg.svn-base  \n  inflating: ../datasets/ALLSTIMULI/.svn/prop-base/i182708511.jpeg.svn-base  \n  inflating: ../datasets/ALLSTIMULI/.svn/prop-base/i1830140040.jpeg.svn-base  \n  inflating: ../datasets/ALLSTIMULI/.svn/prop-base/i1843172607.jpeg.svn-base  \n  inflating: ../datasets/ALLSTIMULI/.svn/prop-base/i1843332699.jpeg.svn-base  \n  inflating: ../datasets/ALLSTIMULI/.svn/prop-base/i1843338577.jpeg.svn-base  \n  inflating: ../datasets/ALLSTIMULI/.svn/prop-base/i1843381423.jpeg.svn-base  \n  inflating: ../datasets/ALLSTIMULI/.svn/prop-base/i1843924285.jpeg.svn-base  \n  inflating: ../datasets/ALLSTIMULI/.svn/prop-base/i184411602.jpeg.svn-base  \n  inflating: ../datasets/ALLSTIMULI/.svn/prop-base/i1847447551.jpeg.svn-base  \n  inflating: ../datasets/ALLSTIMULI/.svn/prop-base/i1848304046.jpeg.svn-base  \n  inflating: ../datasets/ALLSTIMULI/.svn/prop-base/i1862760825.jpeg.svn-base  \n  inflating: ../datasets/ALLSTIMULI/.svn/prop-base/i1865070582.jpeg.svn-base  \n  inflating: ../datasets/ALLSTIMULI/.svn/prop-base/i1865602483.jpeg.svn-base  \n  inflating: ../datasets/ALLSTIMULI/.svn/prop-base/i1866404164.jpeg.svn-base  \n  inflating: ../datasets/ALLSTIMULI/.svn/prop-base/i1866531260.jpeg.svn-base  \n  inflating: ../datasets/ALLSTIMULI/.svn/prop-base/i1870142757.jpeg.svn-base  \n  inflating: ../datasets/ALLSTIMULI/.svn/prop-base/i1872398737.jpeg.svn-base  \n  inflating: ../datasets/ALLSTIMULI/.svn/prop-base/i1872904642.jpeg.svn-base  \n  inflating: ../datasets/ALLSTIMULI/.svn/prop-base/i1872905470.jpeg.svn-base  \n  inflating: ../datasets/ALLSTIMULI/.svn/prop-base/i188182199.jpeg.svn-base  \n  inflating: ../datasets/ALLSTIMULI/.svn/prop-base/i1893435749.jpeg.svn-base  \n  inflating: ../datasets/ALLSTIMULI/.svn/prop-base/i1894296898.jpeg.svn-base  \n  inflating: ../datasets/ALLSTIMULI/.svn/prop-base/i190198267.jpeg.svn-base  \n  inflating: ../datasets/ALLSTIMULI/.svn/prop-base/i19023164.jpeg.svn-base  \n  inflating: ../datasets/ALLSTIMULI/.svn/prop-base/i1912623958.jpeg.svn-base  \n  inflating: ../datasets/ALLSTIMULI/.svn/prop-base/i191788956.jpeg.svn-base  \n  inflating: ../datasets/ALLSTIMULI/.svn/prop-base/i1918259724.jpeg.svn-base  \n  inflating: ../datasets/ALLSTIMULI/.svn/prop-base/i192592020.jpeg.svn-base  \n  inflating: ../datasets/ALLSTIMULI/.svn/prop-base/i1936168563.jpeg.svn-base  \n  inflating: ../datasets/ALLSTIMULI/.svn/prop-base/i193942938.jpeg.svn-base  \n  inflating: ../datasets/ALLSTIMULI/.svn/prop-base/i195628584.jpeg.svn-base  \n  inflating: ../datasets/ALLSTIMULI/.svn/prop-base/i1961232813.jpeg.svn-base  \n  inflating: ../datasets/ALLSTIMULI/.svn/prop-base/i1970299923.jpeg.svn-base  \n  inflating: ../datasets/ALLSTIMULI/.svn/prop-base/i1970328489.jpeg.svn-base  \n  inflating: ../datasets/ALLSTIMULI/.svn/prop-base/i1971145444.jpeg.svn-base  \n  inflating: ../datasets/ALLSTIMULI/.svn/prop-base/i1977159993.jpeg.svn-base  \n  inflating: ../datasets/ALLSTIMULI/.svn/prop-base/i1986309807.jpeg.svn-base  \n  inflating: ../datasets/ALLSTIMULI/.svn/prop-base/i199491590.jpeg.svn-base  \n  inflating: ../datasets/ALLSTIMULI/.svn/prop-base/i199840071.jpeg.svn-base  \n  inflating: ../datasets/ALLSTIMULI/.svn/prop-base/i200539576.jpeg.svn-base  \n  inflating: ../datasets/ALLSTIMULI/.svn/prop-base/i2011580182.jpeg.svn-base  \n  inflating: ../datasets/ALLSTIMULI/.svn/prop-base/i201161868.jpeg.svn-base  \n  inflating: ../datasets/ALLSTIMULI/.svn/prop-base/i202396633.jpeg.svn-base  \n  inflating: ../datasets/ALLSTIMULI/.svn/prop-base/i2024335538.jpeg.svn-base  \n  inflating: ../datasets/ALLSTIMULI/.svn/prop-base/i2035194870.jpeg.svn-base  \n  inflating: ../datasets/ALLSTIMULI/.svn/prop-base/i2038156448.jpeg.svn-base  \n  inflating: ../datasets/ALLSTIMULI/.svn/prop-base/i2043350963.jpeg.svn-base  \n  inflating: ../datasets/ALLSTIMULI/.svn/prop-base/i2044688217.jpeg.svn-base  \n  inflating: ../datasets/ALLSTIMULI/.svn/prop-base/i204599070.jpeg.svn-base  \n  inflating: ../datasets/ALLSTIMULI/.svn/prop-base/i2048557303.jpeg.svn-base  \n  inflating: ../datasets/ALLSTIMULI/.svn/prop-base/i2048790493.jpeg.svn-base  \n  inflating: ../datasets/ALLSTIMULI/.svn/prop-base/i2049327173.jpeg.svn-base  \n  inflating: ../datasets/ALLSTIMULI/.svn/prop-base/i2051249439.jpeg.svn-base  \n  inflating: ../datasets/ALLSTIMULI/.svn/prop-base/i2055719827.jpeg.svn-base  \n  inflating: ../datasets/ALLSTIMULI/.svn/prop-base/i2057541.jpeg.svn-base  \n  inflating: ../datasets/ALLSTIMULI/.svn/prop-base/i205838601.jpeg.svn-base  \n  inflating: ../datasets/ALLSTIMULI/.svn/prop-base/i2062358324.jpeg.svn-base  \n  inflating: ../datasets/ALLSTIMULI/.svn/prop-base/i2067603576.jpeg.svn-base  \n  inflating: ../datasets/ALLSTIMULI/.svn/prop-base/i2067966842.jpeg.svn-base  \n  inflating: ../datasets/ALLSTIMULI/.svn/prop-base/i206881209.jpeg.svn-base  \n  inflating: ../datasets/ALLSTIMULI/.svn/prop-base/i2069913521.jpeg.svn-base  \n  inflating: ../datasets/ALLSTIMULI/.svn/prop-base/i20708508.jpeg.svn-base  \n  inflating: ../datasets/ALLSTIMULI/.svn/prop-base/i2073398890.jpeg.svn-base  \n  inflating: ../datasets/ALLSTIMULI/.svn/prop-base/i2077402873.jpeg.svn-base  \n  inflating: ../datasets/ALLSTIMULI/.svn/prop-base/i207747794.jpeg.svn-base  \n  inflating: ../datasets/ALLSTIMULI/.svn/prop-base/i207806307.jpeg.svn-base  \n  inflating: ../datasets/ALLSTIMULI/.svn/prop-base/i2078195666.jpeg.svn-base  \n  inflating: ../datasets/ALLSTIMULI/.svn/prop-base/i207874017.jpeg.svn-base  \n  inflating: ../datasets/ALLSTIMULI/.svn/prop-base/i2079551712.jpeg.svn-base  \n  inflating: ../datasets/ALLSTIMULI/.svn/prop-base/i2079697681.jpeg.svn-base  \n  inflating: ../datasets/ALLSTIMULI/.svn/prop-base/i2083298845.jpeg.svn-base  \n  inflating: ../datasets/ALLSTIMULI/.svn/prop-base/i2084420834.jpeg.svn-base  \n  inflating: ../datasets/ALLSTIMULI/.svn/prop-base/i2085117683.jpeg.svn-base  \n  inflating: ../datasets/ALLSTIMULI/.svn/prop-base/i2087721279.jpeg.svn-base  \n  inflating: ../datasets/ALLSTIMULI/.svn/prop-base/i2087728385.jpeg.svn-base  \n  inflating: ../datasets/ALLSTIMULI/.svn/prop-base/i2089223639.jpeg.svn-base  \n  inflating: ../datasets/ALLSTIMULI/.svn/prop-base/i2089736919.jpeg.svn-base  \n  inflating: ../datasets/ALLSTIMULI/.svn/prop-base/i2090406652.jpeg.svn-base  \n  inflating: ../datasets/ALLSTIMULI/.svn/prop-base/i2096251724.jpeg.svn-base  \n  inflating: ../datasets/ALLSTIMULI/.svn/prop-base/i2096842680.jpeg.svn-base  \n  inflating: ../datasets/ALLSTIMULI/.svn/prop-base/i2103244527.jpeg.svn-base  \n  inflating: ../datasets/ALLSTIMULI/.svn/prop-base/i2104785691.jpeg.svn-base  \n  inflating: ../datasets/ALLSTIMULI/.svn/prop-base/i2108405712.jpeg.svn-base  \n  inflating: ../datasets/ALLSTIMULI/.svn/prop-base/i2113390015.jpeg.svn-base  \n  inflating: ../datasets/ALLSTIMULI/.svn/prop-base/i2117655611.jpeg.svn-base  \n  inflating: ../datasets/ALLSTIMULI/.svn/prop-base/i2120341021.jpeg.svn-base  \n  inflating: ../datasets/ALLSTIMULI/.svn/prop-base/i2125418545.jpeg.svn-base  \n  inflating: ../datasets/ALLSTIMULI/.svn/prop-base/i2125430605.jpeg.svn-base  \n  inflating: ../datasets/ALLSTIMULI/.svn/prop-base/i2127301639.jpeg.svn-base  \n  inflating: ../datasets/ALLSTIMULI/.svn/prop-base/i2127815415.jpeg.svn-base  \n  inflating: ../datasets/ALLSTIMULI/.svn/prop-base/i2127986969.jpeg.svn-base  \n  inflating: ../datasets/ALLSTIMULI/.svn/prop-base/i2128074106.jpeg.svn-base  \n  inflating: ../datasets/ALLSTIMULI/.svn/prop-base/i2128591182.jpeg.svn-base  \n  inflating: ../datasets/ALLSTIMULI/.svn/prop-base/i2129357785.jpeg.svn-base  \n  inflating: ../datasets/ALLSTIMULI/.svn/prop-base/i2130088089.jpeg.svn-base  \n  inflating: ../datasets/ALLSTIMULI/.svn/prop-base/i2130135439.jpeg.svn-base  \n  inflating: ../datasets/ALLSTIMULI/.svn/prop-base/i2130202677.jpeg.svn-base  \n  inflating: ../datasets/ALLSTIMULI/.svn/prop-base/i2130219267.jpeg.svn-base  \n  inflating: ../datasets/ALLSTIMULI/.svn/prop-base/i2130236527.jpeg.svn-base  \n  inflating: ../datasets/ALLSTIMULI/.svn/prop-base/i2130718051.jpeg.svn-base  \n  inflating: ../datasets/ALLSTIMULI/.svn/prop-base/i2131629177.jpeg.svn-base  \n  inflating: ../datasets/ALLSTIMULI/.svn/prop-base/i2131664213.jpeg.svn-base  \n  inflating: ../datasets/ALLSTIMULI/.svn/prop-base/i2131696017.jpeg.svn-base  \n  inflating: ../datasets/ALLSTIMULI/.svn/prop-base/i2131963792.jpeg.svn-base  \n  inflating: ../datasets/ALLSTIMULI/.svn/prop-base/i2132011929.jpeg.svn-base  \n  inflating: ../datasets/ALLSTIMULI/.svn/prop-base/i2132126218.jpeg.svn-base  \n  inflating: ../datasets/ALLSTIMULI/.svn/prop-base/i2132410530.jpeg.svn-base  \n  inflating: ../datasets/ALLSTIMULI/.svn/prop-base/i2132553812.jpeg.svn-base  \n  inflating: ../datasets/ALLSTIMULI/.svn/prop-base/i2133522539.jpeg.svn-base  \n  inflating: ../datasets/ALLSTIMULI/.svn/prop-base/i2134841990.jpeg.svn-base  \n  inflating: ../datasets/ALLSTIMULI/.svn/prop-base/i2135366103.jpeg.svn-base  \n  inflating: ../datasets/ALLSTIMULI/.svn/prop-base/i2138748225.jpeg.svn-base  \n  inflating: ../datasets/ALLSTIMULI/.svn/prop-base/i2139086685.jpeg.svn-base  \n  inflating: ../datasets/ALLSTIMULI/.svn/prop-base/i2140171593.jpeg.svn-base  \n  inflating: ../datasets/ALLSTIMULI/.svn/prop-base/i2141160962.jpeg.svn-base  \n  inflating: ../datasets/ALLSTIMULI/.svn/prop-base/i2141312562.jpeg.svn-base  \n  inflating: ../datasets/ALLSTIMULI/.svn/prop-base/i2145018847.jpeg.svn-base  \n  inflating: ../datasets/ALLSTIMULI/.svn/prop-base/i2145105890.jpeg.svn-base  \n  inflating: ../datasets/ALLSTIMULI/.svn/prop-base/i2145575787.jpeg.svn-base  \n  inflating: ../datasets/ALLSTIMULI/.svn/prop-base/i2145580323.jpeg.svn-base  \n  inflating: ../datasets/ALLSTIMULI/.svn/prop-base/i2145581941.jpeg.svn-base  \n  inflating: ../datasets/ALLSTIMULI/.svn/prop-base/i2145830934.jpeg.svn-base  \n  inflating: ../datasets/ALLSTIMULI/.svn/prop-base/i2147039741.jpeg.svn-base  \n  inflating: ../datasets/ALLSTIMULI/.svn/prop-base/i2147250639.jpeg.svn-base  \n  inflating: ../datasets/ALLSTIMULI/.svn/prop-base/i2148436990.jpeg.svn-base  \n  inflating: ../datasets/ALLSTIMULI/.svn/prop-base/i2148681608.jpeg.svn-base  \n  inflating: ../datasets/ALLSTIMULI/.svn/prop-base/i2152854053.jpeg.svn-base  \n  inflating: ../datasets/ALLSTIMULI/.svn/prop-base/i2154989221.jpeg.svn-base  \n  inflating: ../datasets/ALLSTIMULI/.svn/prop-base/i2155084730.jpeg.svn-base  \n  inflating: ../datasets/ALLSTIMULI/.svn/prop-base/i2155229819.jpeg.svn-base  \n  inflating: ../datasets/ALLSTIMULI/.svn/prop-base/i2155306779.jpeg.svn-base  \n  inflating: ../datasets/ALLSTIMULI/.svn/prop-base/i2155595511.jpeg.svn-base  \n  inflating: ../datasets/ALLSTIMULI/.svn/prop-base/i2156209373.jpeg.svn-base  \n  inflating: ../datasets/ALLSTIMULI/.svn/prop-base/i2156407718.jpeg.svn-base  \n  inflating: ../datasets/ALLSTIMULI/.svn/prop-base/i2158540867.jpeg.svn-base  \n  inflating: ../datasets/ALLSTIMULI/.svn/prop-base/i2160369496.jpeg.svn-base  \n  inflating: ../datasets/ALLSTIMULI/.svn/prop-base/i2166923001.jpeg.svn-base  \n  inflating: ../datasets/ALLSTIMULI/.svn/prop-base/i2168018881.jpeg.svn-base  \n  inflating: ../datasets/ALLSTIMULI/.svn/prop-base/i2168068710.jpeg.svn-base  \n  inflating: ../datasets/ALLSTIMULI/.svn/prop-base/i2168660165.jpeg.svn-base  \n  inflating: ../datasets/ALLSTIMULI/.svn/prop-base/i2168982172.jpeg.svn-base  \n  inflating: ../datasets/ALLSTIMULI/.svn/prop-base/i2169262237.jpeg.svn-base  \n  inflating: ../datasets/ALLSTIMULI/.svn/prop-base/i2169308750.jpeg.svn-base  \n  inflating: ../datasets/ALLSTIMULI/.svn/prop-base/i2169932251.jpeg.svn-base  \n  inflating: ../datasets/ALLSTIMULI/.svn/prop-base/i2170431637.jpeg.svn-base  \n  inflating: ../datasets/ALLSTIMULI/.svn/prop-base/i2170813265.jpeg.svn-base  \n  inflating: ../datasets/ALLSTIMULI/.svn/prop-base/i2171576731.jpeg.svn-base  \n  inflating: ../datasets/ALLSTIMULI/.svn/prop-base/i2172150551.jpeg.svn-base  \n  inflating: ../datasets/ALLSTIMULI/.svn/prop-base/i2172274186.jpeg.svn-base  \n  inflating: ../datasets/ALLSTIMULI/.svn/prop-base/i2172660077.jpeg.svn-base  \n  inflating: ../datasets/ALLSTIMULI/.svn/prop-base/i2172895099.jpeg.svn-base  \n  inflating: ../datasets/ALLSTIMULI/.svn/prop-base/i2173051128.jpeg.svn-base  \n  inflating: ../datasets/ALLSTIMULI/.svn/prop-base/i2173246245.jpeg.svn-base  \n  inflating: ../datasets/ALLSTIMULI/.svn/prop-base/i2174162303.jpeg.svn-base  \n  inflating: ../datasets/ALLSTIMULI/.svn/prop-base/i2174164459.jpeg.svn-base  \n  inflating: ../datasets/ALLSTIMULI/.svn/prop-base/i2174193219.jpeg.svn-base  \n  inflating: ../datasets/ALLSTIMULI/.svn/prop-base/i2174530507.jpeg.svn-base  \n  inflating: ../datasets/ALLSTIMULI/.svn/prop-base/i2175491001.jpeg.svn-base  \n  inflating: ../datasets/ALLSTIMULI/.svn/prop-base/i2183824399.jpeg.svn-base  \n  inflating: ../datasets/ALLSTIMULI/.svn/prop-base/i2184058853.jpeg.svn-base  \n  inflating: ../datasets/ALLSTIMULI/.svn/prop-base/i2186383189.jpeg.svn-base  \n  inflating: ../datasets/ALLSTIMULI/.svn/prop-base/i2186422800.jpeg.svn-base  \n  inflating: ../datasets/ALLSTIMULI/.svn/prop-base/i2186890210.jpeg.svn-base  \n  inflating: ../datasets/ALLSTIMULI/.svn/prop-base/i2187178955.jpeg.svn-base  \n  inflating: ../datasets/ALLSTIMULI/.svn/prop-base/i2189914746.jpeg.svn-base  \n  inflating: ../datasets/ALLSTIMULI/.svn/prop-base/i2190511227.jpeg.svn-base  \n  inflating: ../datasets/ALLSTIMULI/.svn/prop-base/i2190576311.jpeg.svn-base  \n  inflating: ../datasets/ALLSTIMULI/.svn/prop-base/i2190823731.jpeg.svn-base  \n  inflating: ../datasets/ALLSTIMULI/.svn/prop-base/i2193346743.jpeg.svn-base  \n  inflating: ../datasets/ALLSTIMULI/.svn/prop-base/i2194959008.jpeg.svn-base  \n  inflating: ../datasets/ALLSTIMULI/.svn/prop-base/i2194963502.jpeg.svn-base  \n  inflating: ../datasets/ALLSTIMULI/.svn/prop-base/i2195097920.jpeg.svn-base  \n  inflating: ../datasets/ALLSTIMULI/.svn/prop-base/i2196095208.jpeg.svn-base  \n  inflating: ../datasets/ALLSTIMULI/.svn/prop-base/i2197089389.jpeg.svn-base  \n  inflating: ../datasets/ALLSTIMULI/.svn/prop-base/i2197862712.jpeg.svn-base  \n  inflating: ../datasets/ALLSTIMULI/.svn/prop-base/i2197948762.jpeg.svn-base  \n  inflating: ../datasets/ALLSTIMULI/.svn/prop-base/i2198824278.jpeg.svn-base  \n  inflating: ../datasets/ALLSTIMULI/.svn/prop-base/i2199606749.jpeg.svn-base  \n  inflating: ../datasets/ALLSTIMULI/.svn/prop-base/i2199632150.jpeg.svn-base  \n  inflating: ../datasets/ALLSTIMULI/.svn/prop-base/i2199787601.jpeg.svn-base  \n  inflating: ../datasets/ALLSTIMULI/.svn/prop-base/i2200082985.jpeg.svn-base  \n  inflating: ../datasets/ALLSTIMULI/.svn/prop-base/i2200457814.jpeg.svn-base  \n  inflating: ../datasets/ALLSTIMULI/.svn/prop-base/i2200881784.jpeg.svn-base  \n  inflating: ../datasets/ALLSTIMULI/.svn/prop-base/i2201034412.jpeg.svn-base  \n  inflating: ../datasets/ALLSTIMULI/.svn/prop-base/i2201426231.jpeg.svn-base  \n  inflating: ../datasets/ALLSTIMULI/.svn/prop-base/i2202108776.jpeg.svn-base  \n  inflating: ../datasets/ALLSTIMULI/.svn/prop-base/i2202295378.jpeg.svn-base  \n  inflating: ../datasets/ALLSTIMULI/.svn/prop-base/i2203431935.jpeg.svn-base  \n  inflating: ../datasets/ALLSTIMULI/.svn/prop-base/i2204386205.jpeg.svn-base  \n  inflating: ../datasets/ALLSTIMULI/.svn/prop-base/i2204782081.jpeg.svn-base  \n  inflating: ../datasets/ALLSTIMULI/.svn/prop-base/i2205555719.jpeg.svn-base  \n  inflating: ../datasets/ALLSTIMULI/.svn/prop-base/i2205565085.jpeg.svn-base  \n  inflating: ../datasets/ALLSTIMULI/.svn/prop-base/i2206023527.jpeg.svn-base  \n  inflating: ../datasets/ALLSTIMULI/.svn/prop-base/i2206265639.jpeg.svn-base  \n  inflating: ../datasets/ALLSTIMULI/.svn/prop-base/i2206349266.jpeg.svn-base  \n  inflating: ../datasets/ALLSTIMULI/.svn/prop-base/i2208022381.jpeg.svn-base  \n  inflating: ../datasets/ALLSTIMULI/.svn/prop-base/i2208329824.jpeg.svn-base  \n  inflating: ../datasets/ALLSTIMULI/.svn/prop-base/i2208535579.jpeg.svn-base  \n  inflating: ../datasets/ALLSTIMULI/.svn/prop-base/i2210375453.jpeg.svn-base  \n  inflating: ../datasets/ALLSTIMULI/.svn/prop-base/i2210396651.jpeg.svn-base  \n  inflating: ../datasets/ALLSTIMULI/.svn/prop-base/i2210603425.jpeg.svn-base  \n  inflating: ../datasets/ALLSTIMULI/.svn/prop-base/i2211263127.jpeg.svn-base  \n  inflating: ../datasets/ALLSTIMULI/.svn/prop-base/i2211349766.jpeg.svn-base  \n  inflating: ../datasets/ALLSTIMULI/.svn/prop-base/i2211589033.jpeg.svn-base  \n  inflating: ../datasets/ALLSTIMULI/.svn/prop-base/i2211739055.jpeg.svn-base  \n  inflating: ../datasets/ALLSTIMULI/.svn/prop-base/i2211765468.jpeg.svn-base  \n  inflating: ../datasets/ALLSTIMULI/.svn/prop-base/i2213103902.jpeg.svn-base  \n  inflating: ../datasets/ALLSTIMULI/.svn/prop-base/i2213974944.jpeg.svn-base  \n  inflating: ../datasets/ALLSTIMULI/.svn/prop-base/i2214763761.jpeg.svn-base  \n  inflating: ../datasets/ALLSTIMULI/.svn/prop-base/i2215088717.jpeg.svn-base  \n  inflating: ../datasets/ALLSTIMULI/.svn/prop-base/i2218174961.jpeg.svn-base  \n  inflating: ../datasets/ALLSTIMULI/.svn/prop-base/i2218200403.jpeg.svn-base  \n  inflating: ../datasets/ALLSTIMULI/.svn/prop-base/i2218506905.jpeg.svn-base  \n  inflating: ../datasets/ALLSTIMULI/.svn/prop-base/i2218709961.jpeg.svn-base  \n  inflating: ../datasets/ALLSTIMULI/.svn/prop-base/i2221028009.jpeg.svn-base  \n  inflating: ../datasets/ALLSTIMULI/.svn/prop-base/i2221573154.jpeg.svn-base  \n  inflating: ../datasets/ALLSTIMULI/.svn/prop-base/i2221599411.jpeg.svn-base  \n  inflating: ../datasets/ALLSTIMULI/.svn/prop-base/i2221608509.jpeg.svn-base  \n  inflating: ../datasets/ALLSTIMULI/.svn/prop-base/i2222945716.jpeg.svn-base  \n  inflating: ../datasets/ALLSTIMULI/.svn/prop-base/i2223014359.jpeg.svn-base  \n  inflating: ../datasets/ALLSTIMULI/.svn/prop-base/i2224739969.jpeg.svn-base  \n  inflating: ../datasets/ALLSTIMULI/.svn/prop-base/i2229496653.jpeg.svn-base  \n  inflating: ../datasets/ALLSTIMULI/.svn/prop-base/i2229917843.jpeg.svn-base  \n  inflating: ../datasets/ALLSTIMULI/.svn/prop-base/i2229926082.jpeg.svn-base  \n  inflating: ../datasets/ALLSTIMULI/.svn/prop-base/i2230355522.jpeg.svn-base  \n  inflating: ../datasets/ALLSTIMULI/.svn/prop-base/i2230533761.jpeg.svn-base  \n  inflating: ../datasets/ALLSTIMULI/.svn/prop-base/i2230623212.jpeg.svn-base  \n  inflating: ../datasets/ALLSTIMULI/.svn/prop-base/i2232633490.jpeg.svn-base  \n  inflating: ../datasets/ALLSTIMULI/.svn/prop-base/i2232765267.jpeg.svn-base  \n  inflating: ../datasets/ALLSTIMULI/.svn/prop-base/i2232823435.jpeg.svn-base  \n  inflating: ../datasets/ALLSTIMULI/.svn/prop-base/i2234097332.jpeg.svn-base  \n  inflating: ../datasets/ALLSTIMULI/.svn/prop-base/i2234137378.jpeg.svn-base  \n  inflating: ../datasets/ALLSTIMULI/.svn/prop-base/i2234959271.jpeg.svn-base  \n  inflating: ../datasets/ALLSTIMULI/.svn/prop-base/i2235879193.jpeg.svn-base  \n  inflating: ../datasets/ALLSTIMULI/.svn/prop-base/i2236128403.jpeg.svn-base  \n  inflating: ../datasets/ALLSTIMULI/.svn/prop-base/i2236294346.jpeg.svn-base  \n  inflating: ../datasets/ALLSTIMULI/.svn/prop-base/i2237001917.jpeg.svn-base  \n  inflating: ../datasets/ALLSTIMULI/.svn/prop-base/i2237729434.jpeg.svn-base  \n  inflating: ../datasets/ALLSTIMULI/.svn/prop-base/i2237760217.jpeg.svn-base  \n  inflating: ../datasets/ALLSTIMULI/.svn/prop-base/i2237801383.jpeg.svn-base  \n  inflating: ../datasets/ALLSTIMULI/.svn/prop-base/i2237929211.jpeg.svn-base  \n  inflating: ../datasets/ALLSTIMULI/.svn/prop-base/i2238238891.jpeg.svn-base  \n  inflating: ../datasets/ALLSTIMULI/.svn/prop-base/i2238366740.jpeg.svn-base  \n  inflating: ../datasets/ALLSTIMULI/.svn/prop-base/i2238477160.jpeg.svn-base  \n  inflating: ../datasets/ALLSTIMULI/.svn/prop-base/i2238688346.jpeg.svn-base  \n  inflating: ../datasets/ALLSTIMULI/.svn/prop-base/i2238758189.jpeg.svn-base  \n  inflating: ../datasets/ALLSTIMULI/.svn/prop-base/i2239664592.jpeg.svn-base  \n  inflating: ../datasets/ALLSTIMULI/.svn/prop-base/i2239766632.jpeg.svn-base  \n  inflating: ../datasets/ALLSTIMULI/.svn/prop-base/i2240160496.jpeg.svn-base  \n  inflating: ../datasets/ALLSTIMULI/.svn/prop-base/i2240165147.jpeg.svn-base  \n  inflating: ../datasets/ALLSTIMULI/.svn/prop-base/i2240165567.jpeg.svn-base  \n  inflating: ../datasets/ALLSTIMULI/.svn/prop-base/i2240166669.jpeg.svn-base  \n  inflating: ../datasets/ALLSTIMULI/.svn/prop-base/i2240569900.jpeg.svn-base  \n  inflating: ../datasets/ALLSTIMULI/.svn/prop-base/i2240581851.jpeg.svn-base  \n  inflating: ../datasets/ALLSTIMULI/.svn/prop-base/i2241063231.jpeg.svn-base  \n  inflating: ../datasets/ALLSTIMULI/.svn/prop-base/i2243369152.jpeg.svn-base  \n  inflating: ../datasets/ALLSTIMULI/.svn/prop-base/i2243931087.jpeg.svn-base  \n  inflating: ../datasets/ALLSTIMULI/.svn/prop-base/i2243982741.jpeg.svn-base  \n  inflating: ../datasets/ALLSTIMULI/.svn/prop-base/i2244097646.jpeg.svn-base  \n  inflating: ../datasets/ALLSTIMULI/.svn/prop-base/i2244445589.jpeg.svn-base  \n  inflating: ../datasets/ALLSTIMULI/.svn/prop-base/i2244455009.jpeg.svn-base  \n  inflating: ../datasets/ALLSTIMULI/.svn/prop-base/i2244474095.jpeg.svn-base  \n  inflating: ../datasets/ALLSTIMULI/.svn/prop-base/i2244493155.jpeg.svn-base  \n  inflating: ../datasets/ALLSTIMULI/.svn/prop-base/i2244589999.jpeg.svn-base  \n  inflating: ../datasets/ALLSTIMULI/.svn/prop-base/i2245334593.jpeg.svn-base  \n  inflating: ../datasets/ALLSTIMULI/.svn/prop-base/i2245353852.jpeg.svn-base  \n  inflating: ../datasets/ALLSTIMULI/.svn/prop-base/i2246191935.jpeg.svn-base  \n  inflating: ../datasets/ALLSTIMULI/.svn/prop-base/i2246755161.jpeg.svn-base  \n  inflating: ../datasets/ALLSTIMULI/.svn/prop-base/i2247811037.jpeg.svn-base  \n  inflating: ../datasets/ALLSTIMULI/.svn/prop-base/i2248598896.jpeg.svn-base  \n  inflating: ../datasets/ALLSTIMULI/.svn/prop-base/i2249293171.jpeg.svn-base  \n  inflating: ../datasets/ALLSTIMULI/.svn/prop-base/i2252029279.jpeg.svn-base  \n  inflating: ../datasets/ALLSTIMULI/.svn/prop-base/i2252058417.jpeg.svn-base  \n  inflating: ../datasets/ALLSTIMULI/.svn/prop-base/i2252150223.jpeg.svn-base  \n  inflating: ../datasets/ALLSTIMULI/.svn/prop-base/i2252480851.jpeg.svn-base  \n  inflating: ../datasets/ALLSTIMULI/.svn/prop-base/i2253396498.jpeg.svn-base  \n  inflating: ../datasets/ALLSTIMULI/.svn/prop-base/i2254311605.jpeg.svn-base  \n  inflating: ../datasets/ALLSTIMULI/.svn/prop-base/i2254450797.jpeg.svn-base  \n  inflating: ../datasets/ALLSTIMULI/.svn/prop-base/i2255800269.jpeg.svn-base  \n  inflating: ../datasets/ALLSTIMULI/.svn/prop-base/i2255893801.jpeg.svn-base  \n  inflating: ../datasets/ALLSTIMULI/.svn/prop-base/i2256363400.jpeg.svn-base  \n  inflating: ../datasets/ALLSTIMULI/.svn/prop-base/i2257330951.jpeg.svn-base  \n  inflating: ../datasets/ALLSTIMULI/.svn/prop-base/i2257413600.jpeg.svn-base  \n  inflating: ../datasets/ALLSTIMULI/.svn/prop-base/i2257748677.jpeg.svn-base  \n  inflating: ../datasets/ALLSTIMULI/.svn/prop-base/i2257749827.jpeg.svn-base  \n  inflating: ../datasets/ALLSTIMULI/.svn/prop-base/i2257756967.jpeg.svn-base  \n  inflating: ../datasets/ALLSTIMULI/.svn/prop-base/i2257777237.jpeg.svn-base  \n  inflating: ../datasets/ALLSTIMULI/.svn/prop-base/i2257930945.jpeg.svn-base  \n  inflating: ../datasets/ALLSTIMULI/.svn/prop-base/i2257986084.jpeg.svn-base  \n  inflating: ../datasets/ALLSTIMULI/.svn/prop-base/i2258108354.jpeg.svn-base  \n  inflating: ../datasets/ALLSTIMULI/.svn/prop-base/i2259160448.jpeg.svn-base  \n  inflating: ../datasets/ALLSTIMULI/.svn/prop-base/i2259160458.jpeg.svn-base  \n  inflating: ../datasets/ALLSTIMULI/.svn/prop-base/i2260404605.jpeg.svn-base  \n  inflating: ../datasets/ALLSTIMULI/.svn/prop-base/i2260967221.jpeg.svn-base  \n  inflating: ../datasets/ALLSTIMULI/.svn/prop-base/i2260969243.jpeg.svn-base  \n  inflating: ../datasets/ALLSTIMULI/.svn/prop-base/i2260969693.jpeg.svn-base  \n  inflating: ../datasets/ALLSTIMULI/.svn/prop-base/i2261687971.jpeg.svn-base  \n  inflating: ../datasets/ALLSTIMULI/.svn/prop-base/i2263021117.jpeg.svn-base  \n  inflating: ../datasets/ALLSTIMULI/.svn/prop-base/i2263032487.jpeg.svn-base  \n  inflating: ../datasets/ALLSTIMULI/.svn/prop-base/i2263137783.jpeg.svn-base  \n  inflating: ../datasets/ALLSTIMULI/.svn/prop-base/i2263796362.jpeg.svn-base  \n  inflating: ../datasets/ALLSTIMULI/.svn/prop-base/i2263853284.jpeg.svn-base  \n  inflating: ../datasets/ALLSTIMULI/.svn/prop-base/i2263931014.jpeg.svn-base  \n  inflating: ../datasets/ALLSTIMULI/.svn/prop-base/i2264112311.jpeg.svn-base  \n  inflating: ../datasets/ALLSTIMULI/.svn/prop-base/i2264134553.jpeg.svn-base  \n  inflating: ../datasets/ALLSTIMULI/.svn/prop-base/i2264595399.jpeg.svn-base  \n  inflating: ../datasets/ALLSTIMULI/.svn/prop-base/i2264606081.jpeg.svn-base  \n  inflating: ../datasets/ALLSTIMULI/.svn/prop-base/i2265201355.jpeg.svn-base  \n  inflating: ../datasets/ALLSTIMULI/.svn/prop-base/i2265609722.jpeg.svn-base  \n  inflating: ../datasets/ALLSTIMULI/.svn/prop-base/i2266104683.jpeg.svn-base  \n  inflating: ../datasets/ALLSTIMULI/.svn/prop-base/i2266552045.jpeg.svn-base  \n  inflating: ../datasets/ALLSTIMULI/.svn/prop-base/i2267703789.jpeg.svn-base  \n  inflating: ../datasets/ALLSTIMULI/.svn/prop-base/i2267710273.jpeg.svn-base  \n  inflating: ../datasets/ALLSTIMULI/.svn/prop-base/i2267791566.jpeg.svn-base  \n  inflating: ../datasets/ALLSTIMULI/.svn/prop-base/i2268806470.jpeg.svn-base  \n  inflating: ../datasets/ALLSTIMULI/.svn/prop-base/i2268807046.jpeg.svn-base  \n  inflating: ../datasets/ALLSTIMULI/.svn/prop-base/i2268807436.jpeg.svn-base  \n  inflating: ../datasets/ALLSTIMULI/.svn/prop-base/i2269011799.jpeg.svn-base  \n  inflating: ../datasets/ALLSTIMULI/.svn/prop-base/i2269335025.jpeg.svn-base  \n  inflating: ../datasets/ALLSTIMULI/.svn/prop-base/i2270031495.jpeg.svn-base  \n  inflating: ../datasets/ALLSTIMULI/.svn/prop-base/i2270102601.jpeg.svn-base  \n  inflating: ../datasets/ALLSTIMULI/.svn/prop-base/i2271293627.jpeg.svn-base  \n  inflating: ../datasets/ALLSTIMULI/.svn/prop-base/i2271918453.jpeg.svn-base  \n  inflating: ../datasets/ALLSTIMULI/.svn/prop-base/i2272663539.jpeg.svn-base  \n  inflating: ../datasets/ALLSTIMULI/.svn/prop-base/i2272814913.jpeg.svn-base  \n  inflating: ../datasets/ALLSTIMULI/.svn/prop-base/i2272909117.jpeg.svn-base  \n  inflating: ../datasets/ALLSTIMULI/.svn/prop-base/i2273025586.jpeg.svn-base  \n  inflating: ../datasets/ALLSTIMULI/.svn/prop-base/i2273330095.jpeg.svn-base  \n  inflating: ../datasets/ALLSTIMULI/.svn/prop-base/i2273502861.jpeg.svn-base  \n  inflating: ../datasets/ALLSTIMULI/.svn/prop-base/i2273510179.jpeg.svn-base  \n  inflating: ../datasets/ALLSTIMULI/.svn/prop-base/i2274287237.jpeg.svn-base  \n  inflating: ../datasets/ALLSTIMULI/.svn/prop-base/i2274292178.jpeg.svn-base  \n  inflating: ../datasets/ALLSTIMULI/.svn/prop-base/i2274296096.jpeg.svn-base  \n  inflating: ../datasets/ALLSTIMULI/.svn/prop-base/i2274554255.jpeg.svn-base  \n  inflating: ../datasets/ALLSTIMULI/.svn/prop-base/i2274764417.jpeg.svn-base  \n  inflating: ../datasets/ALLSTIMULI/.svn/prop-base/i2274770415.jpeg.svn-base  \n  inflating: ../datasets/ALLSTIMULI/.svn/prop-base/i2274948196.jpeg.svn-base  \n  inflating: ../datasets/ALLSTIMULI/.svn/prop-base/i2275159166.jpeg.svn-base  \n  inflating: ../datasets/ALLSTIMULI/.svn/prop-base/i2275575220.jpeg.svn-base  \n  inflating: ../datasets/ALLSTIMULI/.svn/prop-base/i2275677162.jpeg.svn-base  \n  inflating: ../datasets/ALLSTIMULI/.svn/prop-base/i2276321014.jpeg.svn-base  \n  inflating: ../datasets/ALLSTIMULI/.svn/prop-base/i2277198372.jpeg.svn-base  \n  inflating: ../datasets/ALLSTIMULI/.svn/prop-base/i2277207572.jpeg.svn-base  \n  inflating: ../datasets/ALLSTIMULI/.svn/prop-base/i2277658391.jpeg.svn-base  \n  inflating: ../datasets/ALLSTIMULI/.svn/prop-base/i2277680996.jpeg.svn-base  \n  inflating: ../datasets/ALLSTIMULI/.svn/prop-base/i2277843532.jpeg.svn-base  \n  inflating: ../datasets/ALLSTIMULI/.svn/prop-base/i2277905563.jpeg.svn-base  \n  inflating: ../datasets/ALLSTIMULI/.svn/prop-base/i2278087939.jpeg.svn-base  \n  inflating: ../datasets/ALLSTIMULI/.svn/prop-base/i2278136983.jpeg.svn-base  \n  inflating: ../datasets/ALLSTIMULI/.svn/prop-base/i2278199647.jpeg.svn-base  \n  inflating: ../datasets/ALLSTIMULI/.svn/prop-base/i2278465534.jpeg.svn-base  \n  inflating: ../datasets/ALLSTIMULI/.svn/prop-base/i2278549502.jpeg.svn-base  \n  inflating: ../datasets/ALLSTIMULI/.svn/prop-base/i2279103962.jpeg.svn-base  \n  inflating: ../datasets/ALLSTIMULI/.svn/prop-base/i2279208009.jpeg.svn-base  \n  inflating: ../datasets/ALLSTIMULI/.svn/prop-base/i2279312497.jpeg.svn-base  \n  inflating: ../datasets/ALLSTIMULI/.svn/prop-base/i2279314231.jpeg.svn-base  \n  inflating: ../datasets/ALLSTIMULI/.svn/prop-base/i2279799129.jpeg.svn-base  \n  inflating: ../datasets/ALLSTIMULI/.svn/prop-base/i2280425561.jpeg.svn-base  \n  inflating: ../datasets/ALLSTIMULI/.svn/prop-base/i2280611353.jpeg.svn-base  \n  inflating: ../datasets/ALLSTIMULI/.svn/prop-base/i2280648305.jpeg.svn-base  \n  inflating: ../datasets/ALLSTIMULI/.svn/prop-base/i2280879779.jpeg.svn-base  \n  inflating: ../datasets/ALLSTIMULI/.svn/prop-base/i2281390450.jpeg.svn-base  \n  inflating: ../datasets/ALLSTIMULI/.svn/prop-base/i2281390926.jpeg.svn-base  \n  inflating: ../datasets/ALLSTIMULI/.svn/prop-base/i2281397626.jpeg.svn-base  \n  inflating: ../datasets/ALLSTIMULI/.svn/prop-base/i2281538905.jpeg.svn-base  \n  inflating: ../datasets/ALLSTIMULI/.svn/prop-base/i2281902585.jpeg.svn-base  \n  inflating: ../datasets/ALLSTIMULI/.svn/prop-base/i2282543251.jpeg.svn-base  \n  inflating: ../datasets/ALLSTIMULI/.svn/prop-base/i2283683445.jpeg.svn-base  \n  inflating: ../datasets/ALLSTIMULI/.svn/prop-base/i2284316374.jpeg.svn-base  \n  inflating: ../datasets/ALLSTIMULI/.svn/prop-base/i2284954143.jpeg.svn-base  \n  inflating: ../datasets/ALLSTIMULI/.svn/prop-base/i2284956309.jpeg.svn-base  \n  inflating: ../datasets/ALLSTIMULI/.svn/prop-base/i2285475491.jpeg.svn-base  \n  inflating: ../datasets/ALLSTIMULI/.svn/prop-base/i2285904669.jpeg.svn-base  \n  inflating: ../datasets/ALLSTIMULI/.svn/prop-base/i2285970199.jpeg.svn-base  \n  inflating: ../datasets/ALLSTIMULI/.svn/prop-base/i2286040943.jpeg.svn-base  \n  inflating: ../datasets/ALLSTIMULI/.svn/prop-base/i2286138209.jpeg.svn-base  \n  inflating: ../datasets/ALLSTIMULI/.svn/prop-base/i2286258230.jpeg.svn-base  \n  inflating: ../datasets/ALLSTIMULI/.svn/prop-base/i2286398519.jpeg.svn-base  \n  inflating: ../datasets/ALLSTIMULI/.svn/prop-base/i2286511796.jpeg.svn-base  \n  inflating: ../datasets/ALLSTIMULI/.svn/prop-base/i2286576851.jpeg.svn-base  \n  inflating: ../datasets/ALLSTIMULI/.svn/prop-base/i2286577669.jpeg.svn-base  \n  inflating: ../datasets/ALLSTIMULI/.svn/prop-base/i2286934018.jpeg.svn-base  \n  inflating: ../datasets/ALLSTIMULI/.svn/prop-base/i2287067143.jpeg.svn-base  \n  inflating: ../datasets/ALLSTIMULI/.svn/prop-base/i2287434183.jpeg.svn-base  \n  inflating: ../datasets/ALLSTIMULI/.svn/prop-base/i2287603237.jpeg.svn-base  \n  inflating: ../datasets/ALLSTIMULI/.svn/prop-base/i2287732726.jpeg.svn-base  \n  inflating: ../datasets/ALLSTIMULI/.svn/prop-base/i2287736466.jpeg.svn-base  \n  inflating: ../datasets/ALLSTIMULI/.svn/prop-base/i2287747547.jpeg.svn-base  \n  inflating: ../datasets/ALLSTIMULI/.svn/prop-base/i2288313715.jpeg.svn-base  \n  inflating: ../datasets/ALLSTIMULI/.svn/prop-base/i2288346129.jpeg.svn-base  \n  inflating: ../datasets/ALLSTIMULI/.svn/prop-base/i2288352265.jpeg.svn-base  \n  inflating: ../datasets/ALLSTIMULI/.svn/prop-base/i2288435981.jpeg.svn-base  \n  inflating: ../datasets/ALLSTIMULI/.svn/prop-base/i2288544059.jpeg.svn-base  \n  inflating: ../datasets/ALLSTIMULI/.svn/prop-base/i2289344696.jpeg.svn-base  \n  inflating: ../datasets/ALLSTIMULI/.svn/prop-base/i2289350187.jpeg.svn-base  \n  inflating: ../datasets/ALLSTIMULI/.svn/prop-base/i2289458290.jpeg.svn-base  \n  inflating: ../datasets/ALLSTIMULI/.svn/prop-base/i2289665173.jpeg.svn-base  \n  inflating: ../datasets/ALLSTIMULI/.svn/prop-base/i2289694577.jpeg.svn-base  \n  inflating: ../datasets/ALLSTIMULI/.svn/prop-base/i2289711593.jpeg.svn-base  \n  inflating: ../datasets/ALLSTIMULI/.svn/prop-base/i2289717227.jpeg.svn-base  \n  inflating: ../datasets/ALLSTIMULI/.svn/prop-base/i2289739189.jpeg.svn-base  \n  inflating: ../datasets/ALLSTIMULI/.svn/prop-base/i2290495268.jpeg.svn-base  \n  inflating: ../datasets/ALLSTIMULI/.svn/prop-base/i2290787775.jpeg.svn-base  \n  inflating: ../datasets/ALLSTIMULI/.svn/prop-base/i2290794919.jpeg.svn-base  \n  inflating: ../datasets/ALLSTIMULI/.svn/prop-base/i2290847457.jpeg.svn-base  \n  inflating: ../datasets/ALLSTIMULI/.svn/prop-base/i2290865981.jpeg.svn-base  \n  inflating: ../datasets/ALLSTIMULI/.svn/prop-base/i2291139547.jpeg.svn-base  \n  inflating: ../datasets/ALLSTIMULI/.svn/prop-base/i2291250914.jpeg.svn-base  \n  inflating: ../datasets/ALLSTIMULI/.svn/prop-base/i2291485733.jpeg.svn-base  \n  inflating: ../datasets/ALLSTIMULI/.svn/prop-base/i2291589385.jpeg.svn-base  \n  inflating: ../datasets/ALLSTIMULI/.svn/prop-base/i2291666088.jpeg.svn-base  \n  inflating: ../datasets/ALLSTIMULI/.svn/prop-base/i2291750140.jpeg.svn-base  \n  inflating: ../datasets/ALLSTIMULI/.svn/prop-base/i2292390104.jpeg.svn-base  \n  inflating: ../datasets/ALLSTIMULI/.svn/prop-base/i2292751124.jpeg.svn-base  \n  inflating: ../datasets/ALLSTIMULI/.svn/prop-base/i2292794437.jpeg.svn-base  \n  inflating: ../datasets/ALLSTIMULI/.svn/prop-base/i2293362913.jpeg.svn-base  \n  inflating: ../datasets/ALLSTIMULI/.svn/prop-base/i2293654605.jpeg.svn-base  \n  inflating: ../datasets/ALLSTIMULI/.svn/prop-base/i2294701937.jpeg.svn-base  \n  inflating: ../datasets/ALLSTIMULI/.svn/prop-base/i2294898365.jpeg.svn-base  \n  inflating: ../datasets/ALLSTIMULI/.svn/prop-base/i2295106133.jpeg.svn-base  \n  inflating: ../datasets/ALLSTIMULI/.svn/prop-base/i2295411886.jpeg.svn-base  \n  inflating: ../datasets/ALLSTIMULI/.svn/prop-base/i2295551038.jpeg.svn-base  \n  inflating: ../datasets/ALLSTIMULI/.svn/prop-base/i2296179544.jpeg.svn-base  \n  inflating: ../datasets/ALLSTIMULI/.svn/prop-base/i2297503703.jpeg.svn-base  \n  inflating: ../datasets/ALLSTIMULI/.svn/prop-base/i2297596765.jpeg.svn-base  \n  inflating: ../datasets/ALLSTIMULI/.svn/prop-base/i2297598229.jpeg.svn-base  \n  inflating: ../datasets/ALLSTIMULI/.svn/prop-base/i2297752925.jpeg.svn-base  \n  inflating: ../datasets/ALLSTIMULI/.svn/prop-base/i2297891028.jpeg.svn-base  \n  inflating: ../datasets/ALLSTIMULI/.svn/prop-base/i2298125807.jpeg.svn-base  \n  inflating: ../datasets/ALLSTIMULI/.svn/prop-base/i2299034477.jpeg.svn-base  \n  inflating: ../datasets/ALLSTIMULI/.svn/prop-base/i2299063277.jpeg.svn-base  \n  inflating: ../datasets/ALLSTIMULI/.svn/prop-base/i2299085201.jpeg.svn-base  \n  inflating: ../datasets/ALLSTIMULI/.svn/prop-base/i2299690621.jpeg.svn-base  \n  inflating: ../datasets/ALLSTIMULI/.svn/prop-base/i2299919722.jpeg.svn-base  \n  inflating: ../datasets/ALLSTIMULI/.svn/prop-base/i2300011983.jpeg.svn-base  \n  inflating: ../datasets/ALLSTIMULI/.svn/prop-base/i2300094693.jpeg.svn-base  \n  inflating: ../datasets/ALLSTIMULI/.svn/prop-base/i2300136569.jpeg.svn-base  \n  inflating: ../datasets/ALLSTIMULI/.svn/prop-base/i2300143227.jpeg.svn-base  \n  inflating: ../datasets/ALLSTIMULI/.svn/prop-base/i2300237262.jpeg.svn-base  \n  inflating: ../datasets/ALLSTIMULI/.svn/prop-base/i2300299195.jpeg.svn-base  \n  inflating: ../datasets/ALLSTIMULI/.svn/prop-base/i2300558115.jpeg.svn-base  \n  inflating: ../datasets/ALLSTIMULI/.svn/prop-base/i2300935113.jpeg.svn-base  \n  inflating: ../datasets/ALLSTIMULI/.svn/prop-base/i2301179161.jpeg.svn-base  \n  inflating: ../datasets/ALLSTIMULI/.svn/prop-base/i2301233235.jpeg.svn-base  \n  inflating: ../datasets/ALLSTIMULI/.svn/prop-base/i2301237310.jpeg.svn-base  \n  inflating: ../datasets/ALLSTIMULI/.svn/prop-base/i2301460189.jpeg.svn-base  \n  inflating: ../datasets/ALLSTIMULI/.svn/prop-base/i2301631442.jpeg.svn-base  \n  inflating: ../datasets/ALLSTIMULI/.svn/prop-base/i2301799925.jpeg.svn-base  \n  inflating: ../datasets/ALLSTIMULI/.svn/prop-base/i2302242348.jpeg.svn-base  \n  inflating: ../datasets/ALLSTIMULI/.svn/prop-base/i2302491658.jpeg.svn-base  \n  inflating: ../datasets/ALLSTIMULI/.svn/prop-base/i2302567831.jpeg.svn-base  \n  inflating: ../datasets/ALLSTIMULI/.svn/prop-base/i2303119791.jpeg.svn-base  \n  inflating: ../datasets/ALLSTIMULI/.svn/prop-base/i2303447136.jpeg.svn-base  \n  inflating: ../datasets/ALLSTIMULI/.svn/prop-base/i2303678791.jpeg.svn-base  \n  inflating: ../datasets/ALLSTIMULI/.svn/prop-base/i2304433407.jpeg.svn-base  \n  inflating: ../datasets/ALLSTIMULI/.svn/prop-base/i2304945037.jpeg.svn-base  \n  inflating: ../datasets/ALLSTIMULI/.svn/prop-base/i2305300253.jpeg.svn-base  \n  inflating: ../datasets/ALLSTIMULI/.svn/prop-base/i2305314113.jpeg.svn-base  \n  inflating: ../datasets/ALLSTIMULI/.svn/prop-base/i2305344695.jpeg.svn-base  \n  inflating: ../datasets/ALLSTIMULI/.svn/prop-base/i2305412211.jpeg.svn-base  \n  inflating: ../datasets/ALLSTIMULI/.svn/prop-base/i2305875863.jpeg.svn-base  \n  inflating: ../datasets/ALLSTIMULI/.svn/prop-base/i2306009363.jpeg.svn-base  \n  inflating: ../datasets/ALLSTIMULI/.svn/prop-base/i2306201755.jpeg.svn-base  \n  inflating: ../datasets/ALLSTIMULI/.svn/prop-base/i2306380490.jpeg.svn-base  \n  inflating: ../datasets/ALLSTIMULI/.svn/prop-base/i2306664884.jpeg.svn-base  \n  inflating: ../datasets/ALLSTIMULI/.svn/prop-base/i2307207961.jpeg.svn-base  \n  inflating: ../datasets/ALLSTIMULI/.svn/prop-base/i2307584030.jpeg.svn-base  \n  inflating: ../datasets/ALLSTIMULI/.svn/prop-base/i2308394240.jpeg.svn-base  \n  inflating: ../datasets/ALLSTIMULI/.svn/prop-base/i2308842869.jpeg.svn-base  \n  inflating: ../datasets/ALLSTIMULI/.svn/prop-base/i2309002059.jpeg.svn-base  \n  inflating: ../datasets/ALLSTIMULI/.svn/prop-base/i2309143405.jpeg.svn-base  \n  inflating: ../datasets/ALLSTIMULI/.svn/prop-base/i2309997405.jpeg.svn-base  \n  inflating: ../datasets/ALLSTIMULI/.svn/prop-base/i2310011075.jpeg.svn-base  \n  inflating: ../datasets/ALLSTIMULI/.svn/prop-base/i2310025483.jpeg.svn-base  \n  inflating: ../datasets/ALLSTIMULI/.svn/prop-base/i2310037773.jpeg.svn-base  \n  inflating: ../datasets/ALLSTIMULI/.svn/prop-base/i2310105376.jpeg.svn-base  \n  inflating: ../datasets/ALLSTIMULI/.svn/prop-base/i2310876153.jpeg.svn-base  \n  inflating: ../datasets/ALLSTIMULI/.svn/prop-base/i2311048559.jpeg.svn-base  \n  inflating: ../datasets/ALLSTIMULI/.svn/prop-base/i2311360809.jpeg.svn-base  \n  inflating: ../datasets/ALLSTIMULI/.svn/prop-base/i2312141889.jpeg.svn-base  \n  inflating: ../datasets/ALLSTIMULI/.svn/prop-base/i2312211495.jpeg.svn-base  \n  inflating: ../datasets/ALLSTIMULI/.svn/prop-base/i2312920143.jpeg.svn-base  \n  inflating: ../datasets/ALLSTIMULI/.svn/prop-base/i2313446865.jpeg.svn-base  \n  inflating: ../datasets/ALLSTIMULI/.svn/prop-base/i2313869697.jpeg.svn-base  \n  inflating: ../datasets/ALLSTIMULI/.svn/prop-base/i2313874233.jpeg.svn-base  \n  inflating: ../datasets/ALLSTIMULI/.svn/prop-base/i2316452961.jpeg.svn-base  \n  inflating: ../datasets/ALLSTIMULI/.svn/prop-base/i245864757.jpeg.svn-base  \n  inflating: ../datasets/ALLSTIMULI/.svn/prop-base/i24622350.jpeg.svn-base  \n  inflating: ../datasets/ALLSTIMULI/.svn/prop-base/i246575348.jpeg.svn-base  \n  inflating: ../datasets/ALLSTIMULI/.svn/prop-base/i281369959.jpeg.svn-base  \n  inflating: ../datasets/ALLSTIMULI/.svn/prop-base/i282863243.jpeg.svn-base  \n  inflating: ../datasets/ALLSTIMULI/.svn/prop-base/i307151791.jpeg.svn-base  \n  inflating: ../datasets/ALLSTIMULI/.svn/prop-base/i30may05_static_street_cambridge_p1010717.jpeg.svn-base  \n  inflating: ../datasets/ALLSTIMULI/.svn/prop-base/i30may05_static_street_cambridge_p1010735.jpeg.svn-base  \n  inflating: ../datasets/ALLSTIMULI/.svn/prop-base/i335910791.jpeg.svn-base  \n  inflating: ../datasets/ALLSTIMULI/.svn/prop-base/i33894157.jpeg.svn-base  \n  inflating: ../datasets/ALLSTIMULI/.svn/prop-base/i348747407.jpeg.svn-base  \n  inflating: ../datasets/ALLSTIMULI/.svn/prop-base/i350435387.jpeg.svn-base  \n  inflating: ../datasets/ALLSTIMULI/.svn/prop-base/i375779601.jpeg.svn-base  \n  inflating: ../datasets/ALLSTIMULI/.svn/prop-base/i391150010.jpeg.svn-base  \n  inflating: ../datasets/ALLSTIMULI/.svn/prop-base/i40576393.jpeg.svn-base  \n  inflating: ../datasets/ALLSTIMULI/.svn/prop-base/i41829193.jpeg.svn-base  \n  inflating: ../datasets/ALLSTIMULI/.svn/prop-base/i418843655.jpeg.svn-base  \n  inflating: ../datasets/ALLSTIMULI/.svn/prop-base/i41930076.jpeg.svn-base  \n  inflating: ../datasets/ALLSTIMULI/.svn/prop-base/i420400353.jpeg.svn-base  \n  inflating: ../datasets/ALLSTIMULI/.svn/prop-base/i436895919.jpeg.svn-base  \n  inflating: ../datasets/ALLSTIMULI/.svn/prop-base/i441014928.jpeg.svn-base  \n  inflating: ../datasets/ALLSTIMULI/.svn/prop-base/i441015422.jpeg.svn-base  \n  inflating: ../datasets/ALLSTIMULI/.svn/prop-base/i443027538.jpeg.svn-base  \n  inflating: ../datasets/ALLSTIMULI/.svn/prop-base/i446655072.jpeg.svn-base  \n  inflating: ../datasets/ALLSTIMULI/.svn/prop-base/i4466881.jpeg.svn-base  \n  inflating: ../datasets/ALLSTIMULI/.svn/prop-base/i450075958.jpeg.svn-base  \n  inflating: ../datasets/ALLSTIMULI/.svn/prop-base/i450075962.jpeg.svn-base  \n  inflating: ../datasets/ALLSTIMULI/.svn/prop-base/i455593157.jpeg.svn-base  \n  inflating: ../datasets/ALLSTIMULI/.svn/prop-base/i457818913.jpeg.svn-base  \n  inflating: ../datasets/ALLSTIMULI/.svn/prop-base/i467891882.jpeg.svn-base  \n  inflating: ../datasets/ALLSTIMULI/.svn/prop-base/i540042392.jpeg.svn-base  \n  inflating: ../datasets/ALLSTIMULI/.svn/prop-base/i64011654.jpeg.svn-base  \n  inflating: ../datasets/ALLSTIMULI/.svn/prop-base/i666418509.jpeg.svn-base  \n  inflating: ../datasets/ALLSTIMULI/.svn/prop-base/i698623061.jpeg.svn-base  \n  inflating: ../datasets/ALLSTIMULI/.svn/prop-base/i698860717.jpeg.svn-base  \n  inflating: ../datasets/ALLSTIMULI/.svn/prop-base/i758143153.jpeg.svn-base  \n  inflating: ../datasets/ALLSTIMULI/.svn/prop-base/i758173517.jpeg.svn-base  \n  inflating: ../datasets/ALLSTIMULI/.svn/prop-base/iapril21_static_outdoor_davis_img_0942.jpeg.svn-base  \n  inflating: ../datasets/ALLSTIMULI/.svn/prop-base/ibarcelona_static_street_p9140514.jpeg.svn-base  \n  inflating: ../datasets/ALLSTIMULI/.svn/prop-base/ibarcelona_static_street_p9150528.jpeg.svn-base  \n  inflating: ../datasets/ALLSTIMULI/.svn/prop-base/imadrid_static_street_p9110480.jpeg.svn-base  \n  inflating: ../datasets/ALLSTIMULI/.svn/prop-base/inov6_static_outdoor_img_0522.jpeg.svn-base  \n  inflating: ../datasets/ALLSTIMULI/.svn/prop-base/ioffice_indoor_set2_web_static_despacho.jpeg.svn-base  \n  inflating: ../datasets/ALLSTIMULI/.svn/prop-base/iseq_stereo_office_stata_oct24_img_19_00001_left.jpeg.svn-base  \n  inflating: ../datasets/ALLSTIMULI/.svn/prop-base/istatic_barcelona_street_city_outdoor_2005_img_0303.jpeg.svn-base  \n  inflating: ../datasets/ALLSTIMULI/.svn/prop-base/istatic_barcelona_street_city_outdoor_2005_img_0308.jpeg.svn-base  \n  inflating: ../datasets/ALLSTIMULI/.svn/prop-base/istatic_barcelona_street_city_outdoor_2005_img_0391.jpeg.svn-base  \n  inflating: ../datasets/ALLSTIMULI/.svn/prop-base/istatic_barcelona_street_city_outdoor_2005_img_0455.jpeg.svn-base  \n  inflating: ../datasets/ALLSTIMULI/.svn/prop-base/istatic_barcelona_street_city_outdoor_2005_img_0553.jpeg.svn-base  \n  inflating: ../datasets/ALLSTIMULI/.svn/prop-base/istatic_barcelona_street_city_outdoor_2005_img_0561.jpeg.svn-base  \n  inflating: ../datasets/ALLSTIMULI/.svn/prop-base/istatic_barcelona_street_city_outdoor_2005_img_0587.jpeg.svn-base  \n  inflating: ../datasets/ALLSTIMULI/.svn/prop-base/istatic_barcelona_street_city_outdoor_2005_img_0588.jpeg.svn-base  \n  inflating: ../datasets/ALLSTIMULI/.svn/prop-base/istatic_barcelona_street_city_outdoor_2_2005_dsc04120.jpeg.svn-base  \n  inflating: ../datasets/ALLSTIMULI/.svn/prop-base/istatic_barcelona_street_city_outdoor_2_2005_dsc04121.jpeg.svn-base  \n  inflating: ../datasets/ALLSTIMULI/.svn/prop-base/istatic_barcelona_street_city_outdoor_2_2005_dsc04140.jpeg.svn-base  \n  inflating: ../datasets/ALLSTIMULI/.svn/prop-base/istatic_barcelona_street_city_outdoor_2_2005_dsc04265.jpeg.svn-base  \n  inflating: ../datasets/ALLSTIMULI/.svn/prop-base/istatic_barcelona_street_city_outdoor_2_2005_dsc04303.jpeg.svn-base  \n  inflating: ../datasets/ALLSTIMULI/.svn/prop-base/istatic_barcelona_street_city_outdoor_2_2005_dsc04318.jpeg.svn-base  \n  inflating: ../datasets/ALLSTIMULI/.svn/prop-base/istatic_barcelona_street_city_outdoor_2_2005_dsc04417.jpeg.svn-base  \n  inflating: ../datasets/ALLSTIMULI/.svn/prop-base/istatic_barcelona_street_city_outdoor_2_2005_img_0611.jpeg.svn-base  \n  inflating: ../datasets/ALLSTIMULI/.svn/prop-base/istatic_barcelona_street_city_outdoor_2_2005_img_0612.jpeg.svn-base  \n  inflating: ../datasets/ALLSTIMULI/.svn/prop-base/istatic_barcelona_street_city_outdoor_2_2005_img_0625.jpeg.svn-base  \n  inflating: ../datasets/ALLSTIMULI/.svn/prop-base/istatic_barcelona_street_city_outdoor_2_2005_img_0650.jpeg.svn-base  \n  inflating: ../datasets/ALLSTIMULI/.svn/prop-base/istatic_boston_street_april_p1010067.jpeg.svn-base  \n  inflating: ../datasets/ALLSTIMULI/.svn/prop-base/istatic_boston_street_april_p1010179.jpeg.svn-base  \n  inflating: ../datasets/ALLSTIMULI/.svn/prop-base/istatic_boston_street_april_p1010184.jpeg.svn-base  \n  inflating: ../datasets/ALLSTIMULI/.svn/prop-base/istatic_boston_street_april_p1010271.jpeg.svn-base  \n  inflating: ../datasets/ALLSTIMULI/.svn/prop-base/istatic_coast_landscape_outdoor_dsc03095.jpeg.svn-base  \n  inflating: ../datasets/ALLSTIMULI/.svn/prop-base/istatic_coast_palafrugel_outdoor_spain_IMG_9165.jpeg.svn-base  \n  inflating: ../datasets/ALLSTIMULI/.svn/prop-base/istatic_coast_palafrugel_outdoor_spain_IMG_9284.jpeg.svn-base  \n  inflating: ../datasets/ALLSTIMULI/.svn/prop-base/istatic_hotel_room_indoor_IMG_0999.jpeg.svn-base  \n  inflating: ../datasets/ALLSTIMULI/.svn/prop-base/istatic_hotel_room_indoor_IMG_1003.jpeg.svn-base  \n  inflating: ../datasets/ALLSTIMULI/.svn/prop-base/istatic_hotel_room_indoor_IMG_1080.jpeg.svn-base  \n  inflating: ../datasets/ALLSTIMULI/.svn/prop-base/istatic_hotel_room_indoor_IMG_1098.jpeg.svn-base  \n  inflating: ../datasets/ALLSTIMULI/.svn/prop-base/istatic_hotel_room_indoor_IMG_1559.jpeg.svn-base  \n  inflating: ../datasets/ALLSTIMULI/.svn/prop-base/istatic_hotel_room_indoor_IMG_3208.jpeg.svn-base  \n  inflating: ../datasets/ALLSTIMULI/.svn/prop-base/istatic_hotel_room_indoor_IMG_3264.jpeg.svn-base  \n  inflating: ../datasets/ALLSTIMULI/.svn/prop-base/istatic_hotel_room_indoor_IMG_3265.jpeg.svn-base  \n  inflating: ../datasets/ALLSTIMULI/.svn/prop-base/istatic_hotel_room_indoor_IMG_3274.jpeg.svn-base  \n  inflating: ../datasets/ALLSTIMULI/.svn/prop-base/istatic_houses_boston_2005_IMG_3629.jpeg.svn-base  \n  inflating: ../datasets/ALLSTIMULI/.svn/prop-base/istatic_houses_boston_2005_IMG_4024.jpeg.svn-base  \n  inflating: ../datasets/ALLSTIMULI/.svn/prop-base/istatic_houses_boston_2005_IMG_4108.jpeg.svn-base  \n  inflating: ../datasets/ALLSTIMULI/.svn/prop-base/istatic_indoor_mixed_img_0998.jpeg.svn-base  \n  inflating: ../datasets/ALLSTIMULI/.svn/prop-base/istatic_madrid_outdoor_august_2005_img_0844.jpeg.svn-base  \n  inflating: ../datasets/ALLSTIMULI/.svn/prop-base/istatic_newyork_cvpr_celiu_june_2006_IMG_2359.jpeg.svn-base  \n  inflating: ../datasets/ALLSTIMULI/.svn/prop-base/istatic_outdoor_airport_IMG_1469.jpeg.svn-base  \n  inflating: ../datasets/ALLSTIMULI/.svn/prop-base/istatic_outdoor_bay_area_submitted_alyosha_efros_102_0213.jpeg.svn-base  \n  inflating: ../datasets/ALLSTIMULI/.svn/prop-base/istatic_outdoor_bay_area_submitted_alyosha_efros_126_2639.jpeg.svn-base  \n  inflating: ../datasets/ALLSTIMULI/.svn/prop-base/istatic_outdoor_mallorca_spain_IMG_8527.jpeg.svn-base  \n  inflating: ../datasets/ALLSTIMULI/.svn/prop-base/istatic_outdoor_nature_tanzania_photos_by_fredo_durand_060811_125130__Z9B0580.jpeg.svn-base  \n  inflating: ../datasets/ALLSTIMULI/.svn/prop-base/istatic_outdoor_road_mallorca_spain_IMG_0540.jpeg.svn-base  \n  inflating: ../datasets/ALLSTIMULI/.svn/prop-base/istatic_outdoor_road_mallorca_spain_IMG_0544.jpeg.svn-base  \n  inflating: ../datasets/ALLSTIMULI/.svn/prop-base/istatic_outdoor_road_mallorca_spain_IMG_0621.jpeg.svn-base  \n  inflating: ../datasets/ALLSTIMULI/.svn/prop-base/istatic_outdoor_road_mallorca_spain_IMG_0641.jpeg.svn-base  \n  inflating: ../datasets/ALLSTIMULI/.svn/prop-base/istatic_outdoor_road_mallorca_spain_IMG_0642.jpeg.svn-base  \n  inflating: ../datasets/ALLSTIMULI/.svn/prop-base/istatic_outdoor_street_city_barcelona_spain_night_img_1967.jpeg.svn-base  \n  inflating: ../datasets/ALLSTIMULI/.svn/prop-base/istatic_outdoor_street_city_barcelona_spain_night_img_1973.jpeg.svn-base  \n  inflating: ../datasets/ALLSTIMULI/.svn/prop-base/istatic_outdoor_street_city_cambridge_uk_IMG_8687.jpeg.svn-base  \n  inflating: ../datasets/ALLSTIMULI/.svn/prop-base/istatic_outdoor_street_city_cambridge_uk_IMG_8702.jpeg.svn-base  \n  inflating: ../datasets/ALLSTIMULI/.svn/prop-base/istatic_outdoor_street_city_cambridge_uk_IMG_8778.jpeg.svn-base  \n  inflating: ../datasets/ALLSTIMULI/.svn/prop-base/istatic_outdoor_street_city_cambridge_uk_IMG_8893.jpeg.svn-base  \n  inflating: ../datasets/ALLSTIMULI/.svn/prop-base/istatic_outdoor_street_village_puigpunyent_mallorca_spain_IMG_4162.jpeg.svn-base  \n  inflating: ../datasets/ALLSTIMULI/.svn/prop-base/istatic_outdoor_street_village_puigpunyent_mallorca_spain_IMG_4206.jpeg.svn-base  \n  inflating: ../datasets/ALLSTIMULI/.svn/prop-base/istatic_outdoor_street_village_puigpunyent_mallorca_spain_IMG_4220.jpeg.svn-base  \n  inflating: ../datasets/ALLSTIMULI/.svn/prop-base/istatic_outdoor_urban_city_london_uk_IMG_8638.jpeg.svn-base  \n  inflating: ../datasets/ALLSTIMULI/.svn/prop-base/istatic_outdoor_urban_city_street_coruna_spain_IMG_7851.jpeg.svn-base  \n  inflating: ../datasets/ALLSTIMULI/.svn/prop-base/istatic_outdoor_urban_city_street_coruna_spain_IMG_7853.jpeg.svn-base  \n  inflating: ../datasets/ALLSTIMULI/.svn/prop-base/istatic_outdoor_urban_city_street_coruna_spain_IMG_7859.jpeg.svn-base  \n  inflating: ../datasets/ALLSTIMULI/.svn/prop-base/istatic_outdoor_urban_city_street_coruna_spain_IMG_7863.jpeg.svn-base  \n  inflating: ../datasets/ALLSTIMULI/.svn/prop-base/istatic_outdoor_urban_city_street_coruna_spain_IMG_8008.jpeg.svn-base  \n  inflating: ../datasets/ALLSTIMULI/.svn/prop-base/istatic_palma_outdoor_august_2005_set2_img_1618.jpeg.svn-base  \n  inflating: ../datasets/ALLSTIMULI/.svn/prop-base/istatic_park_outdoor_boston_IMG_0134.jpeg.svn-base  \n  inflating: ../datasets/ALLSTIMULI/.svn/prop-base/istatic_street_cambridge_outdoor_july_2005_img_0270.jpeg.svn-base  \n  inflating: ../datasets/ALLSTIMULI/.svn/prop-base/istatic_street_outdoor_palma_mallorca_spain_IMG_0459.jpeg.svn-base  \n  inflating: ../datasets/ALLSTIMULI/.svn/prop-base/istatic_street_outdoor_palma_mallorca_spain_IMG_0686.jpeg.svn-base  \n  inflating: ../datasets/ALLSTIMULI/.svn/prop-base/istatic_street_outdoor_palma_mallorca_spain_IMG_0706.jpeg.svn-base  \n  inflating: ../datasets/ALLSTIMULI/.svn/prop-base/istatic_street_outdoor_palma_mallorca_spain_IMG_0714.jpeg.svn-base  \n  inflating: ../datasets/ALLSTIMULI/.svn/prop-base/istatic_street_outdoor_palma_mallorca_spain_IMG_0805.jpeg.svn-base  \n  inflating: ../datasets/ALLSTIMULI/.svn/prop-base/istatic_submitted_saxena_chung_ng_nips2005_learningdepth_img_gatesback2_p_15t0.jpeg.svn-base  \n  inflating: ../datasets/ALLSTIMULI/.svn/prop-base/istatic_submitted_saxena_chung_ng_nips2005_learningdepth_img_manmade5_p_139t0.jpeg.svn-base  \n  inflating: ../datasets/ALLSTIMULI/.svn/prop-base/istatic_submitted_saxena_chung_ng_nips2005_learningdepth_img_manmade7_p_343t0.jpeg.svn-base  \n  inflating: ../datasets/ALLSTIMULI/.svn/prop-base/istatic_submitted_saxena_chung_ng_nips2005_learningdepth_img_math14_p_313t0.jpeg.svn-base  \n  inflating: ../datasets/ALLSTIMULI/.svn/prop-base/syntheticData1.jpeg.svn-base  \n  inflating: ../datasets/ALLSTIMULI/.svn/prop-base/syntheticData2.jpeg.svn-base  \n  inflating: ../datasets/ALLSTIMULI/.svn/prop-base/syntheticData3.jpeg.svn-base  \n  inflating: ../datasets/ALLSTIMULI/.svn/prop-base/syntheticData4.jpeg.svn-base  \n   creating: ../datasets/ALLSTIMULI/.svn/props/\n   creating: ../datasets/ALLSTIMULI/.svn/text-base/\n  inflating: ../datasets/ALLSTIMULI/.svn/text-base/i05june05_static_street_boston_p1010764.jpeg.svn-base  \n  inflating: ../datasets/ALLSTIMULI/.svn/text-base/i05june05_static_street_boston_p1010785.jpeg.svn-base  \n  inflating: ../datasets/ALLSTIMULI/.svn/text-base/i05june05_static_street_boston_p1010800.jpeg.svn-base  \n  inflating: ../datasets/ALLSTIMULI/.svn/text-base/i05june05_static_street_boston_p1010806.jpeg.svn-base  \n  inflating: ../datasets/ALLSTIMULI/.svn/text-base/i05june05_static_street_boston_p1010808.jpeg.svn-base  \n  inflating: ../datasets/ALLSTIMULI/.svn/text-base/i05june05_static_street_boston_p1010816.jpeg.svn-base  \n  inflating: ../datasets/ALLSTIMULI/.svn/text-base/i05june05_static_street_boston_p1010855.jpeg.svn-base  \n  inflating: ../datasets/ALLSTIMULI/.svn/text-base/i05june05_static_street_boston_p1010885.jpeg.svn-base  \n  inflating: ../datasets/ALLSTIMULI/.svn/text-base/i05june05_static_street_boston_p1010907.jpeg.svn-base  \n  inflating: ../datasets/ALLSTIMULI/.svn/text-base/i1000274881.jpeg.svn-base  \n  inflating: ../datasets/ALLSTIMULI/.svn/text-base/i1000978947.jpeg.svn-base  \n  inflating: ../datasets/ALLSTIMULI/.svn/text-base/i1007068829.jpeg.svn-base  \n  inflating: ../datasets/ALLSTIMULI/.svn/text-base/i100856683.jpeg.svn-base  \n  inflating: ../datasets/ALLSTIMULI/.svn/text-base/i1010483663.jpeg.svn-base  \n  inflating: ../datasets/ALLSTIMULI/.svn/text-base/i1011319098.jpeg.svn-base  \n  inflating: ../datasets/ALLSTIMULI/.svn/text-base/i1014163009.jpeg.svn-base  \n  inflating: ../datasets/ALLSTIMULI/.svn/text-base/i1016451573.jpeg.svn-base  \n  inflating: ../datasets/ALLSTIMULI/.svn/text-base/i1019046221.jpeg.svn-base  \n  inflating: ../datasets/ALLSTIMULI/.svn/text-base/i1019928312.jpeg.svn-base  \n  inflating: ../datasets/ALLSTIMULI/.svn/text-base/i1021218710.jpeg.svn-base  \n  inflating: ../datasets/ALLSTIMULI/.svn/text-base/i1022085609.jpeg.svn-base  \n  inflating: ../datasets/ALLSTIMULI/.svn/text-base/i1023439436.jpeg.svn-base  \n  inflating: ../datasets/ALLSTIMULI/.svn/text-base/i102423191.jpeg.svn-base  \n  inflating: ../datasets/ALLSTIMULI/.svn/text-base/i1025035805.jpeg.svn-base  \n  inflating: ../datasets/ALLSTIMULI/.svn/text-base/i1025113889.jpeg.svn-base  \n  inflating: ../datasets/ALLSTIMULI/.svn/text-base/i1025132509.jpeg.svn-base  \n  inflating: ../datasets/ALLSTIMULI/.svn/text-base/i103134560.jpeg.svn-base  \n  inflating: ../datasets/ALLSTIMULI/.svn/text-base/i1031604161.jpeg.svn-base  \n  inflating: ../datasets/ALLSTIMULI/.svn/text-base/i1031917817.jpeg.svn-base  \n  inflating: ../datasets/ALLSTIMULI/.svn/text-base/i1032358.jpeg.svn-base  \n  inflating: ../datasets/ALLSTIMULI/.svn/text-base/i1032393.jpeg.svn-base  \n  inflating: ../datasets/ALLSTIMULI/.svn/text-base/i103385030.jpeg.svn-base  \n  inflating: ../datasets/ALLSTIMULI/.svn/text-base/i103385035.jpeg.svn-base  \n  inflating: ../datasets/ALLSTIMULI/.svn/text-base/i1035544976.jpeg.svn-base  \n  inflating: ../datasets/ALLSTIMULI/.svn/text-base/i1040585936.jpeg.svn-base  \n  inflating: ../datasets/ALLSTIMULI/.svn/text-base/i1042209003.jpeg.svn-base  \n  inflating: ../datasets/ALLSTIMULI/.svn/text-base/i104267087.jpeg.svn-base  \n  inflating: ../datasets/ALLSTIMULI/.svn/text-base/i1043252298.jpeg.svn-base  \n  inflating: ../datasets/ALLSTIMULI/.svn/text-base/i104879632.jpeg.svn-base  \n  inflating: ../datasets/ALLSTIMULI/.svn/text-base/i104880109.jpeg.svn-base  \n  inflating: ../datasets/ALLSTIMULI/.svn/text-base/i104935329.jpeg.svn-base  \n  inflating: ../datasets/ALLSTIMULI/.svn/text-base/i1049420118.jpeg.svn-base  \n  inflating: ../datasets/ALLSTIMULI/.svn/text-base/i105126201.jpeg.svn-base  \n  inflating: ../datasets/ALLSTIMULI/.svn/text-base/i105415081.jpeg.svn-base  \n  inflating: ../datasets/ALLSTIMULI/.svn/text-base/i105615320.jpeg.svn-base  \n  inflating: ../datasets/ALLSTIMULI/.svn/text-base/i105918635.jpeg.svn-base  \n  inflating: ../datasets/ALLSTIMULI/.svn/text-base/i1060622926.jpeg.svn-base  \n  inflating: ../datasets/ALLSTIMULI/.svn/text-base/i1061875704.jpeg.svn-base  \n  inflating: ../datasets/ALLSTIMULI/.svn/text-base/i106389849.jpeg.svn-base  \n  inflating: ../datasets/ALLSTIMULI/.svn/text-base/i106390852.jpeg.svn-base  \n  inflating: ../datasets/ALLSTIMULI/.svn/text-base/i1064228254.jpeg.svn-base  \n  inflating: ../datasets/ALLSTIMULI/.svn/text-base/i1064999233.jpeg.svn-base  \n  inflating: ../datasets/ALLSTIMULI/.svn/text-base/i1065019259.jpeg.svn-base  \n  inflating: ../datasets/ALLSTIMULI/.svn/text-base/i1065169436.jpeg.svn-base  \n  inflating: ../datasets/ALLSTIMULI/.svn/text-base/i1066946823.jpeg.svn-base  \n  inflating: ../datasets/ALLSTIMULI/.svn/text-base/i1071145422.jpeg.svn-base  \n  inflating: ../datasets/ALLSTIMULI/.svn/text-base/i107362766.jpeg.svn-base  \n  inflating: ../datasets/ALLSTIMULI/.svn/text-base/i1073650522.jpeg.svn-base  \n  inflating: ../datasets/ALLSTIMULI/.svn/text-base/i1074021825.jpeg.svn-base  \n  inflating: ../datasets/ALLSTIMULI/.svn/text-base/i1074359567.jpeg.svn-base  \n  inflating: ../datasets/ALLSTIMULI/.svn/text-base/i1075466100.jpeg.svn-base  \n  inflating: ../datasets/ALLSTIMULI/.svn/text-base/i107724041.jpeg.svn-base  \n  inflating: ../datasets/ALLSTIMULI/.svn/text-base/i1079765858.jpeg.svn-base  \n  inflating: ../datasets/ALLSTIMULI/.svn/text-base/i1080181540.jpeg.svn-base  \n  inflating: ../datasets/ALLSTIMULI/.svn/text-base/i1082647.jpeg.svn-base  \n  inflating: ../datasets/ALLSTIMULI/.svn/text-base/i1086742403.jpeg.svn-base  \n  inflating: ../datasets/ALLSTIMULI/.svn/text-base/i108784287.jpeg.svn-base  \n  inflating: ../datasets/ALLSTIMULI/.svn/text-base/i1089044309.jpeg.svn-base  \n  inflating: ../datasets/ALLSTIMULI/.svn/text-base/i10941198.jpeg.svn-base  \n  inflating: ../datasets/ALLSTIMULI/.svn/text-base/i1094694998.jpeg.svn-base  \n  inflating: ../datasets/ALLSTIMULI/.svn/text-base/i109572486.jpeg.svn-base  \n  inflating: ../datasets/ALLSTIMULI/.svn/text-base/i1099936696.jpeg.svn-base  \n  inflating: ../datasets/ALLSTIMULI/.svn/text-base/i10feb04_static_cars_highland_img_0843.jpeg.svn-base  \n  inflating: ../datasets/ALLSTIMULI/.svn/text-base/i10feb04_static_cars_highland_img_0847.jpeg.svn-base  \n  inflating: ../datasets/ALLSTIMULI/.svn/text-base/i10feb04_static_techsquare_img_0873.jpeg.svn-base  \n  inflating: ../datasets/ALLSTIMULI/.svn/text-base/i110545600.jpeg.svn-base  \n  inflating: ../datasets/ALLSTIMULI/.svn/text-base/i1107247595.jpeg.svn-base  \n  inflating: ../datasets/ALLSTIMULI/.svn/text-base/i1107916524.jpeg.svn-base  \n  inflating: ../datasets/ALLSTIMULI/.svn/text-base/i110996888.jpeg.svn-base  \n  inflating: ../datasets/ALLSTIMULI/.svn/text-base/i1113064474.jpeg.svn-base  \n  inflating: ../datasets/ALLSTIMULI/.svn/text-base/i111366726.jpeg.svn-base  \n  inflating: ../datasets/ALLSTIMULI/.svn/text-base/i111369435.jpeg.svn-base  \n  inflating: ../datasets/ALLSTIMULI/.svn/text-base/i111373642.jpeg.svn-base  \n  inflating: ../datasets/ALLSTIMULI/.svn/text-base/i1115183390.jpeg.svn-base  \n  inflating: ../datasets/ALLSTIMULI/.svn/text-base/i1116123355.jpeg.svn-base  \n  inflating: ../datasets/ALLSTIMULI/.svn/text-base/i1116953942.jpeg.svn-base  \n  inflating: ../datasets/ALLSTIMULI/.svn/text-base/i1117616565.jpeg.svn-base  \n  inflating: ../datasets/ALLSTIMULI/.svn/text-base/i1117993383.jpeg.svn-base  \n  inflating: ../datasets/ALLSTIMULI/.svn/text-base/i1118636964.jpeg.svn-base  \n  inflating: ../datasets/ALLSTIMULI/.svn/text-base/i112041276.jpeg.svn-base  \n  inflating: ../datasets/ALLSTIMULI/.svn/text-base/i1121584164.jpeg.svn-base  \n  inflating: ../datasets/ALLSTIMULI/.svn/text-base/i1122022227.jpeg.svn-base  \n  inflating: ../datasets/ALLSTIMULI/.svn/text-base/i1122841352.jpeg.svn-base  \n  inflating: ../datasets/ALLSTIMULI/.svn/text-base/i1126243635.jpeg.svn-base  \n  inflating: ../datasets/ALLSTIMULI/.svn/text-base/i1130496707.jpeg.svn-base  \n  inflating: ../datasets/ALLSTIMULI/.svn/text-base/i1130504626.jpeg.svn-base  \n  inflating: ../datasets/ALLSTIMULI/.svn/text-base/i1131124824.jpeg.svn-base  \n  inflating: ../datasets/ALLSTIMULI/.svn/text-base/i1131209719.jpeg.svn-base  \n  inflating: ../datasets/ALLSTIMULI/.svn/text-base/i1132643854.jpeg.svn-base  \n  inflating: ../datasets/ALLSTIMULI/.svn/text-base/i113347896.jpeg.svn-base  \n  inflating: ../datasets/ALLSTIMULI/.svn/text-base/i1133557495.jpeg.svn-base  \n  inflating: ../datasets/ALLSTIMULI/.svn/text-base/i1134327970.jpeg.svn-base  \n  inflating: ../datasets/ALLSTIMULI/.svn/text-base/i113829406.jpeg.svn-base  \n  inflating: ../datasets/ALLSTIMULI/.svn/text-base/i1138885959.jpeg.svn-base  \n  inflating: ../datasets/ALLSTIMULI/.svn/text-base/i113908266.jpeg.svn-base  \n  inflating: ../datasets/ALLSTIMULI/.svn/text-base/i113911116.jpeg.svn-base  \n  inflating: ../datasets/ALLSTIMULI/.svn/text-base/i113913836.jpeg.svn-base  \n  inflating: ../datasets/ALLSTIMULI/.svn/text-base/i113941602.jpeg.svn-base  \n  inflating: ../datasets/ALLSTIMULI/.svn/text-base/i1139671063.jpeg.svn-base  \n  inflating: ../datasets/ALLSTIMULI/.svn/text-base/i1139715898.jpeg.svn-base  \n  inflating: ../datasets/ALLSTIMULI/.svn/text-base/i1139720852.jpeg.svn-base  \n  inflating: ../datasets/ALLSTIMULI/.svn/text-base/i113985471.jpeg.svn-base  \n  inflating: ../datasets/ALLSTIMULI/.svn/text-base/i114124777.jpeg.svn-base  \n  inflating: ../datasets/ALLSTIMULI/.svn/text-base/i114175990.jpeg.svn-base  \n  inflating: ../datasets/ALLSTIMULI/.svn/text-base/i1142164052.jpeg.svn-base  \n  inflating: ../datasets/ALLSTIMULI/.svn/text-base/i1143521266.jpeg.svn-base  \n  inflating: ../datasets/ALLSTIMULI/.svn/text-base/i1143924367.jpeg.svn-base  \n  inflating: ../datasets/ALLSTIMULI/.svn/text-base/i1145957845.jpeg.svn-base  \n  inflating: ../datasets/ALLSTIMULI/.svn/text-base/i114742201.jpeg.svn-base  \n  inflating: ../datasets/ALLSTIMULI/.svn/text-base/i1147516428.jpeg.svn-base  \n  inflating: ../datasets/ALLSTIMULI/.svn/text-base/i11560614.jpeg.svn-base  \n  inflating: ../datasets/ALLSTIMULI/.svn/text-base/i1156480850.jpeg.svn-base  \n  inflating: ../datasets/ALLSTIMULI/.svn/text-base/i1158217360.jpeg.svn-base  \n  inflating: ../datasets/ALLSTIMULI/.svn/text-base/i1158544165.jpeg.svn-base  \n  inflating: ../datasets/ALLSTIMULI/.svn/text-base/i1158892521.jpeg.svn-base  \n  inflating: ../datasets/ALLSTIMULI/.svn/text-base/i1158900179.jpeg.svn-base  \n  inflating: ../datasets/ALLSTIMULI/.svn/text-base/i1158903665.jpeg.svn-base  \n  inflating: ../datasets/ALLSTIMULI/.svn/text-base/i1161381449.jpeg.svn-base  \n  inflating: ../datasets/ALLSTIMULI/.svn/text-base/i1162738677.jpeg.svn-base  \n  inflating: ../datasets/ALLSTIMULI/.svn/text-base/i1163341362.jpeg.svn-base  \n  inflating: ../datasets/ALLSTIMULI/.svn/text-base/i1163616258.jpeg.svn-base  \n  inflating: ../datasets/ALLSTIMULI/.svn/text-base/i1163635870.jpeg.svn-base  \n  inflating: ../datasets/ALLSTIMULI/.svn/text-base/i1164346942.jpeg.svn-base  \n  inflating: ../datasets/ALLSTIMULI/.svn/text-base/i116604700.jpeg.svn-base  \n  inflating: ../datasets/ALLSTIMULI/.svn/text-base/i1166229983.jpeg.svn-base  \n  inflating: ../datasets/ALLSTIMULI/.svn/text-base/i1169220553.jpeg.svn-base  \n  inflating: ../datasets/ALLSTIMULI/.svn/text-base/i1172413505.jpeg.svn-base  \n  inflating: ../datasets/ALLSTIMULI/.svn/text-base/i1176114117.jpeg.svn-base  \n  inflating: ../datasets/ALLSTIMULI/.svn/text-base/i1176623615.jpeg.svn-base  \n  inflating: ../datasets/ALLSTIMULI/.svn/text-base/i1177389596.jpeg.svn-base  \n  inflating: ../datasets/ALLSTIMULI/.svn/text-base/i1177391126.jpeg.svn-base  \n  inflating: ../datasets/ALLSTIMULI/.svn/text-base/i117772445.jpeg.svn-base  \n  inflating: ../datasets/ALLSTIMULI/.svn/text-base/i1182314083.jpeg.svn-base  \n  inflating: ../datasets/ALLSTIMULI/.svn/text-base/i1182505554.jpeg.svn-base  \n  inflating: ../datasets/ALLSTIMULI/.svn/text-base/i1185710392.jpeg.svn-base  \n  inflating: ../datasets/ALLSTIMULI/.svn/text-base/i118680869.jpeg.svn-base  \n  inflating: ../datasets/ALLSTIMULI/.svn/text-base/i1187451298.jpeg.svn-base  \n  inflating: ../datasets/ALLSTIMULI/.svn/text-base/i1190302019.jpeg.svn-base  \n  inflating: ../datasets/ALLSTIMULI/.svn/text-base/i1190306215.jpeg.svn-base  \n  inflating: ../datasets/ALLSTIMULI/.svn/text-base/i1198772915.jpeg.svn-base  \n  inflating: ../datasets/ALLSTIMULI/.svn/text-base/i1199505141.jpeg.svn-base  \n  inflating: ../datasets/ALLSTIMULI/.svn/text-base/i120225437.jpeg.svn-base  \n  inflating: ../datasets/ALLSTIMULI/.svn/text-base/i12030916.jpeg.svn-base  \n  inflating: ../datasets/ALLSTIMULI/.svn/text-base/i1203833517.jpeg.svn-base  \n  inflating: ../datasets/ALLSTIMULI/.svn/text-base/i12049788.jpeg.svn-base  \n  inflating: ../datasets/ALLSTIMULI/.svn/text-base/i1205929127.jpeg.svn-base  \n  inflating: ../datasets/ALLSTIMULI/.svn/text-base/i1206857407.jpeg.svn-base  \n  inflating: ../datasets/ALLSTIMULI/.svn/text-base/i1207262076.jpeg.svn-base  \n  inflating: ../datasets/ALLSTIMULI/.svn/text-base/i1209163197.jpeg.svn-base  \n  inflating: ../datasets/ALLSTIMULI/.svn/text-base/i1217965345.jpeg.svn-base  \n  inflating: ../datasets/ALLSTIMULI/.svn/text-base/i1217995119.jpeg.svn-base  \n  inflating: ../datasets/ALLSTIMULI/.svn/text-base/i1222460064.jpeg.svn-base  \n  inflating: ../datasets/ALLSTIMULI/.svn/text-base/i1228653180.jpeg.svn-base  \n  inflating: ../datasets/ALLSTIMULI/.svn/text-base/i1229102713.jpeg.svn-base  \n  inflating: ../datasets/ALLSTIMULI/.svn/text-base/i1231061555.jpeg.svn-base  \n  inflating: ../datasets/ALLSTIMULI/.svn/text-base/i1232366169.jpeg.svn-base  \n  inflating: ../datasets/ALLSTIMULI/.svn/text-base/i1232952864.jpeg.svn-base  \n  inflating: ../datasets/ALLSTIMULI/.svn/text-base/i123476629.jpeg.svn-base  \n  inflating: ../datasets/ALLSTIMULI/.svn/text-base/i1235260142.jpeg.svn-base  \n  inflating: ../datasets/ALLSTIMULI/.svn/text-base/i1236338489.jpeg.svn-base  \n  inflating: ../datasets/ALLSTIMULI/.svn/text-base/i1240539233.jpeg.svn-base  \n  inflating: ../datasets/ALLSTIMULI/.svn/text-base/i1243968281.jpeg.svn-base  \n  inflating: ../datasets/ALLSTIMULI/.svn/text-base/i124489010.jpeg.svn-base  \n  inflating: ../datasets/ALLSTIMULI/.svn/text-base/i1245116076.jpeg.svn-base  \n  inflating: ../datasets/ALLSTIMULI/.svn/text-base/i1246228365.jpeg.svn-base  \n  inflating: ../datasets/ALLSTIMULI/.svn/text-base/i1246347137.jpeg.svn-base  \n  inflating: ../datasets/ALLSTIMULI/.svn/text-base/i1246367427.jpeg.svn-base  \n  inflating: ../datasets/ALLSTIMULI/.svn/text-base/i1246368617.jpeg.svn-base  \n  inflating: ../datasets/ALLSTIMULI/.svn/text-base/i1246371431.jpeg.svn-base  \n  inflating: ../datasets/ALLSTIMULI/.svn/text-base/i124682633.jpeg.svn-base  \n  inflating: ../datasets/ALLSTIMULI/.svn/text-base/i1247210024.jpeg.svn-base  \n  inflating: ../datasets/ALLSTIMULI/.svn/text-base/i1247865242.jpeg.svn-base  \n  inflating: ../datasets/ALLSTIMULI/.svn/text-base/i1248920013.jpeg.svn-base  \n  inflating: ../datasets/ALLSTIMULI/.svn/text-base/i1248939379.jpeg.svn-base  \n  inflating: ../datasets/ALLSTIMULI/.svn/text-base/i125087769.jpeg.svn-base  \n  inflating: ../datasets/ALLSTIMULI/.svn/text-base/i1251979217.jpeg.svn-base  \n  inflating: ../datasets/ALLSTIMULI/.svn/text-base/i125218174.jpeg.svn-base  \n  inflating: ../datasets/ALLSTIMULI/.svn/text-base/i1252592787.jpeg.svn-base  \n  inflating: ../datasets/ALLSTIMULI/.svn/text-base/i1252680396.jpeg.svn-base  \n  inflating: ../datasets/ALLSTIMULI/.svn/text-base/i1252871718.jpeg.svn-base  \n  inflating: ../datasets/ALLSTIMULI/.svn/text-base/i125393007.jpeg.svn-base  \n  inflating: ../datasets/ALLSTIMULI/.svn/text-base/i1257775141.jpeg.svn-base  \n  inflating: ../datasets/ALLSTIMULI/.svn/text-base/i1260588917.jpeg.svn-base  \n  inflating: ../datasets/ALLSTIMULI/.svn/text-base/i1260655983.jpeg.svn-base  \n  inflating: ../datasets/ALLSTIMULI/.svn/text-base/i126277076.jpeg.svn-base  \n  inflating: ../datasets/ALLSTIMULI/.svn/text-base/i126446520.jpeg.svn-base  \n  inflating: ../datasets/ALLSTIMULI/.svn/text-base/i126605331.jpeg.svn-base  \n  inflating: ../datasets/ALLSTIMULI/.svn/text-base/i1267668332.jpeg.svn-base  \n  inflating: ../datasets/ALLSTIMULI/.svn/text-base/i126850786.jpeg.svn-base  \n  inflating: ../datasets/ALLSTIMULI/.svn/text-base/i1270375142.jpeg.svn-base  \n  inflating: ../datasets/ALLSTIMULI/.svn/text-base/i1272116803.jpeg.svn-base  \n  inflating: ../datasets/ALLSTIMULI/.svn/text-base/i1272119743.jpeg.svn-base  \n  inflating: ../datasets/ALLSTIMULI/.svn/text-base/i127442050.jpeg.svn-base  \n  inflating: ../datasets/ALLSTIMULI/.svn/text-base/i1275003744.jpeg.svn-base  \n  inflating: ../datasets/ALLSTIMULI/.svn/text-base/i1276571229.jpeg.svn-base  \n  inflating: ../datasets/ALLSTIMULI/.svn/text-base/i1280080218.jpeg.svn-base  \n  inflating: ../datasets/ALLSTIMULI/.svn/text-base/i1280528250.jpeg.svn-base  \n  inflating: ../datasets/ALLSTIMULI/.svn/text-base/i128320633.jpeg.svn-base  \n  inflating: ../datasets/ALLSTIMULI/.svn/text-base/i1295408832.jpeg.svn-base  \n  inflating: ../datasets/ALLSTIMULI/.svn/text-base/i1295626324.jpeg.svn-base  \n  inflating: ../datasets/ALLSTIMULI/.svn/text-base/i1296050196.jpeg.svn-base  \n  inflating: ../datasets/ALLSTIMULI/.svn/text-base/i129682290.jpeg.svn-base  \n  inflating: ../datasets/ALLSTIMULI/.svn/text-base/i1297641633.jpeg.svn-base  \n  inflating: ../datasets/ALLSTIMULI/.svn/text-base/i129772911.jpeg.svn-base  \n  inflating: ../datasets/ALLSTIMULI/.svn/text-base/i129796908.jpeg.svn-base  \n  inflating: ../datasets/ALLSTIMULI/.svn/text-base/i130022388.jpeg.svn-base  \n  inflating: ../datasets/ALLSTIMULI/.svn/text-base/i1300905195.jpeg.svn-base  \n  inflating: ../datasets/ALLSTIMULI/.svn/text-base/i1300910455.jpeg.svn-base  \n  inflating: ../datasets/ALLSTIMULI/.svn/text-base/i1302165994.jpeg.svn-base  \n  inflating: ../datasets/ALLSTIMULI/.svn/text-base/i130736782.jpeg.svn-base  \n  inflating: ../datasets/ALLSTIMULI/.svn/text-base/i1308677325.jpeg.svn-base  \n  inflating: ../datasets/ALLSTIMULI/.svn/text-base/i1308682205.jpeg.svn-base  \n  inflating: ../datasets/ALLSTIMULI/.svn/text-base/i1312550716.jpeg.svn-base  \n  inflating: ../datasets/ALLSTIMULI/.svn/text-base/i131993073.jpeg.svn-base  \n  inflating: ../datasets/ALLSTIMULI/.svn/text-base/i132306037.jpeg.svn-base  \n  inflating: ../datasets/ALLSTIMULI/.svn/text-base/i132306528.jpeg.svn-base  \n  inflating: ../datasets/ALLSTIMULI/.svn/text-base/i132306741.jpeg.svn-base  \n  inflating: ../datasets/ALLSTIMULI/.svn/text-base/i132416605.jpeg.svn-base  \n  inflating: ../datasets/ALLSTIMULI/.svn/text-base/i132418079.jpeg.svn-base  \n  inflating: ../datasets/ALLSTIMULI/.svn/text-base/i132419257.jpeg.svn-base  \n  inflating: ../datasets/ALLSTIMULI/.svn/text-base/i1325243029.jpeg.svn-base  \n  inflating: ../datasets/ALLSTIMULI/.svn/text-base/i1325514089.jpeg.svn-base  \n  inflating: ../datasets/ALLSTIMULI/.svn/text-base/i132672866.jpeg.svn-base  \n  inflating: ../datasets/ALLSTIMULI/.svn/text-base/i1326772343.jpeg.svn-base  \n  inflating: ../datasets/ALLSTIMULI/.svn/text-base/i133055176.jpeg.svn-base  \n  inflating: ../datasets/ALLSTIMULI/.svn/text-base/i1332346516.jpeg.svn-base  \n  inflating: ../datasets/ALLSTIMULI/.svn/text-base/i1335933891.jpeg.svn-base  \n  inflating: ../datasets/ALLSTIMULI/.svn/text-base/i1336805698.jpeg.svn-base  \n  inflating: ../datasets/ALLSTIMULI/.svn/text-base/i1338484745.jpeg.svn-base  \n  inflating: ../datasets/ALLSTIMULI/.svn/text-base/i1338496399.jpeg.svn-base  \n  inflating: ../datasets/ALLSTIMULI/.svn/text-base/i133905582.jpeg.svn-base  \n  inflating: ../datasets/ALLSTIMULI/.svn/text-base/i1343103601.jpeg.svn-base  \n  inflating: ../datasets/ALLSTIMULI/.svn/text-base/i134430368.jpeg.svn-base  \n  inflating: ../datasets/ALLSTIMULI/.svn/text-base/i1344739819.jpeg.svn-base  \n  inflating: ../datasets/ALLSTIMULI/.svn/text-base/i134585813.jpeg.svn-base  \n  inflating: ../datasets/ALLSTIMULI/.svn/text-base/i134592788.jpeg.svn-base  \n  inflating: ../datasets/ALLSTIMULI/.svn/text-base/i1346278050.jpeg.svn-base  \n  inflating: ../datasets/ALLSTIMULI/.svn/text-base/i134694966.jpeg.svn-base  \n  inflating: ../datasets/ALLSTIMULI/.svn/text-base/i1349055388.jpeg.svn-base  \n  inflating: ../datasets/ALLSTIMULI/.svn/text-base/i1351438699.jpeg.svn-base  \n  inflating: ../datasets/ALLSTIMULI/.svn/text-base/i1355213079.jpeg.svn-base  \n  inflating: ../datasets/ALLSTIMULI/.svn/text-base/i1355286331.jpeg.svn-base  \n  inflating: ../datasets/ALLSTIMULI/.svn/text-base/i135996473.jpeg.svn-base  \n  inflating: ../datasets/ALLSTIMULI/.svn/text-base/i1361149388.jpeg.svn-base  \n  inflating: ../datasets/ALLSTIMULI/.svn/text-base/i1362671223.jpeg.svn-base  \n  inflating: ../datasets/ALLSTIMULI/.svn/text-base/i1368050923.jpeg.svn-base  \n  inflating: ../datasets/ALLSTIMULI/.svn/text-base/i1368359073.jpeg.svn-base  \n  inflating: ../datasets/ALLSTIMULI/.svn/text-base/i1370407372.jpeg.svn-base  \n  inflating: ../datasets/ALLSTIMULI/.svn/text-base/i138348611.jpeg.svn-base  \n  inflating: ../datasets/ALLSTIMULI/.svn/text-base/i1388086595.jpeg.svn-base  \n  inflating: ../datasets/ALLSTIMULI/.svn/text-base/i1388275624.jpeg.svn-base  \n  inflating: ../datasets/ALLSTIMULI/.svn/text-base/i1388450272.jpeg.svn-base  \n  inflating: ../datasets/ALLSTIMULI/.svn/text-base/i1388704075.jpeg.svn-base  \n  inflating: ../datasets/ALLSTIMULI/.svn/text-base/i1389946337.jpeg.svn-base  \n  inflating: ../datasets/ALLSTIMULI/.svn/text-base/i1390242687.jpeg.svn-base  \n  inflating: ../datasets/ALLSTIMULI/.svn/text-base/i1390834220.jpeg.svn-base  \n  inflating: ../datasets/ALLSTIMULI/.svn/text-base/i13910717.jpeg.svn-base  \n  inflating: ../datasets/ALLSTIMULI/.svn/text-base/i1394080896.jpeg.svn-base  \n  inflating: ../datasets/ALLSTIMULI/.svn/text-base/i1395373257.jpeg.svn-base  \n  inflating: ../datasets/ALLSTIMULI/.svn/text-base/i1395380429.jpeg.svn-base  \n  inflating: ../datasets/ALLSTIMULI/.svn/text-base/i1398733076.jpeg.svn-base  \n  inflating: ../datasets/ALLSTIMULI/.svn/text-base/i14020903.jpeg.svn-base  \n  inflating: ../datasets/ALLSTIMULI/.svn/text-base/i1413522668.jpeg.svn-base  \n  inflating: ../datasets/ALLSTIMULI/.svn/text-base/i1414673039.jpeg.svn-base  \n  inflating: ../datasets/ALLSTIMULI/.svn/text-base/i1425513894.jpeg.svn-base  \n  inflating: ../datasets/ALLSTIMULI/.svn/text-base/i1425518494.jpeg.svn-base  \n  inflating: ../datasets/ALLSTIMULI/.svn/text-base/i1425519942.jpeg.svn-base  \n  inflating: ../datasets/ALLSTIMULI/.svn/text-base/i1426163477.jpeg.svn-base  \n  inflating: ../datasets/ALLSTIMULI/.svn/text-base/i1426598345.jpeg.svn-base  \n  inflating: ../datasets/ALLSTIMULI/.svn/text-base/i1426605399.jpeg.svn-base  \n  inflating: ../datasets/ALLSTIMULI/.svn/text-base/i1426615161.jpeg.svn-base  \n  inflating: ../datasets/ALLSTIMULI/.svn/text-base/i142662322.jpeg.svn-base  \n  inflating: ../datasets/ALLSTIMULI/.svn/text-base/i1427101898.jpeg.svn-base  \n  inflating: ../datasets/ALLSTIMULI/.svn/text-base/i1427114536.jpeg.svn-base  \n  inflating: ../datasets/ALLSTIMULI/.svn/text-base/i1429004931.jpeg.svn-base  \n  inflating: ../datasets/ALLSTIMULI/.svn/text-base/i1429029695.jpeg.svn-base  \n  inflating: ../datasets/ALLSTIMULI/.svn/text-base/i1430117625.jpeg.svn-base  \n  inflating: ../datasets/ALLSTIMULI/.svn/text-base/i1430672270.jpeg.svn-base  \n  inflating: ../datasets/ALLSTIMULI/.svn/text-base/i1431286095.jpeg.svn-base  \n  inflating: ../datasets/ALLSTIMULI/.svn/text-base/i1433281460.jpeg.svn-base  \n  inflating: ../datasets/ALLSTIMULI/.svn/text-base/i1433681776.jpeg.svn-base  \n  inflating: ../datasets/ALLSTIMULI/.svn/text-base/i1436869067.jpeg.svn-base  \n  inflating: ../datasets/ALLSTIMULI/.svn/text-base/i1436876661.jpeg.svn-base  \n  inflating: ../datasets/ALLSTIMULI/.svn/text-base/i1436880351.jpeg.svn-base  \n  inflating: ../datasets/ALLSTIMULI/.svn/text-base/i1450211186.jpeg.svn-base  \n  inflating: ../datasets/ALLSTIMULI/.svn/text-base/i1456209950.jpeg.svn-base  \n  inflating: ../datasets/ALLSTIMULI/.svn/text-base/i1459316934.jpeg.svn-base  \n  inflating: ../datasets/ALLSTIMULI/.svn/text-base/i1460152281.jpeg.svn-base  \n  inflating: ../datasets/ALLSTIMULI/.svn/text-base/i1460281774.jpeg.svn-base  \n  inflating: ../datasets/ALLSTIMULI/.svn/text-base/i1461500311.jpeg.svn-base  \n  inflating: ../datasets/ALLSTIMULI/.svn/text-base/i1464437389.jpeg.svn-base  \n  inflating: ../datasets/ALLSTIMULI/.svn/text-base/i1465015711.jpeg.svn-base  \n  inflating: ../datasets/ALLSTIMULI/.svn/text-base/i1465243665.jpeg.svn-base  \n  inflating: ../datasets/ALLSTIMULI/.svn/text-base/i1465270782.jpeg.svn-base  \n  inflating: ../datasets/ALLSTIMULI/.svn/text-base/i1465710085.jpeg.svn-base  \n  inflating: ../datasets/ALLSTIMULI/.svn/text-base/i1465804180.jpeg.svn-base  \n  inflating: ../datasets/ALLSTIMULI/.svn/text-base/i1465862934.jpeg.svn-base  \n  inflating: ../datasets/ALLSTIMULI/.svn/text-base/i1466094492.jpeg.svn-base  \n  inflating: ../datasets/ALLSTIMULI/.svn/text-base/i1473135008.jpeg.svn-base  \n  inflating: ../datasets/ALLSTIMULI/.svn/text-base/i1485310101.jpeg.svn-base  \n  inflating: ../datasets/ALLSTIMULI/.svn/text-base/i1485351340.jpeg.svn-base  \n  inflating: ../datasets/ALLSTIMULI/.svn/text-base/i1486171792.jpeg.svn-base  \n  inflating: ../datasets/ALLSTIMULI/.svn/text-base/i1488196573.jpeg.svn-base  \n  inflating: ../datasets/ALLSTIMULI/.svn/text-base/i1490402847.jpeg.svn-base  \n  inflating: ../datasets/ALLSTIMULI/.svn/text-base/i1490404437.jpeg.svn-base  \n  inflating: ../datasets/ALLSTIMULI/.svn/text-base/i1492679408.jpeg.svn-base  \n  inflating: ../datasets/ALLSTIMULI/.svn/text-base/i1496991666.jpeg.svn-base  \n  inflating: ../datasets/ALLSTIMULI/.svn/text-base/i1503092014.jpeg.svn-base  \n  inflating: ../datasets/ALLSTIMULI/.svn/text-base/i1507505298.jpeg.svn-base  \n  inflating: ../datasets/ALLSTIMULI/.svn/text-base/i1507520018.jpeg.svn-base  \n  inflating: ../datasets/ALLSTIMULI/.svn/text-base/i1508828.jpeg.svn-base  \n  inflating: ../datasets/ALLSTIMULI/.svn/text-base/i1511249507.jpeg.svn-base  \n  inflating: ../datasets/ALLSTIMULI/.svn/text-base/i151260195.jpeg.svn-base  \n  inflating: ../datasets/ALLSTIMULI/.svn/text-base/i151492118.jpeg.svn-base  \n  inflating: ../datasets/ALLSTIMULI/.svn/text-base/i1519001350.jpeg.svn-base  \n  inflating: ../datasets/ALLSTIMULI/.svn/text-base/i1519495464.jpeg.svn-base  \n  inflating: ../datasets/ALLSTIMULI/.svn/text-base/i1526935589.jpeg.svn-base  \n  inflating: ../datasets/ALLSTIMULI/.svn/text-base/i1539822082.jpeg.svn-base  \n  inflating: ../datasets/ALLSTIMULI/.svn/text-base/i1540552783.jpeg.svn-base  \n  inflating: ../datasets/ALLSTIMULI/.svn/text-base/i1546500996.jpeg.svn-base  \n  inflating: ../datasets/ALLSTIMULI/.svn/text-base/i1548394620.jpeg.svn-base  \n  inflating: ../datasets/ALLSTIMULI/.svn/text-base/i1548942940.jpeg.svn-base  \n  inflating: ../datasets/ALLSTIMULI/.svn/text-base/i1552375082.jpeg.svn-base  \n  inflating: ../datasets/ALLSTIMULI/.svn/text-base/i1559515013.jpeg.svn-base  \n  inflating: ../datasets/ALLSTIMULI/.svn/text-base/i1560309298.jpeg.svn-base  \n  inflating: ../datasets/ALLSTIMULI/.svn/text-base/i1562869159.jpeg.svn-base  \n  inflating: ../datasets/ALLSTIMULI/.svn/text-base/i156404992.jpeg.svn-base  \n  inflating: ../datasets/ALLSTIMULI/.svn/text-base/i156568569.jpeg.svn-base  \n  inflating: ../datasets/ALLSTIMULI/.svn/text-base/i1572657251.jpeg.svn-base  \n  inflating: ../datasets/ALLSTIMULI/.svn/text-base/i1572706519.jpeg.svn-base  \n  inflating: ../datasets/ALLSTIMULI/.svn/text-base/i1583042749.jpeg.svn-base  \n  inflating: ../datasets/ALLSTIMULI/.svn/text-base/i159812896.jpeg.svn-base  \n  inflating: ../datasets/ALLSTIMULI/.svn/text-base/i159875849.jpeg.svn-base  \n  inflating: ../datasets/ALLSTIMULI/.svn/text-base/i1602482813.jpeg.svn-base  \n  inflating: ../datasets/ALLSTIMULI/.svn/text-base/i160271625.jpeg.svn-base  \n  inflating: ../datasets/ALLSTIMULI/.svn/text-base/i160758712.jpeg.svn-base  \n  inflating: ../datasets/ALLSTIMULI/.svn/text-base/i160759133.jpeg.svn-base  \n  inflating: ../datasets/ALLSTIMULI/.svn/text-base/i161052265.jpeg.svn-base  \n  inflating: ../datasets/ALLSTIMULI/.svn/text-base/i161218845.jpeg.svn-base  \n  inflating: ../datasets/ALLSTIMULI/.svn/text-base/i161629560.jpeg.svn-base  \n  inflating: ../datasets/ALLSTIMULI/.svn/text-base/i1626133401.jpeg.svn-base  \n  inflating: ../datasets/ALLSTIMULI/.svn/text-base/i163125223.jpeg.svn-base  \n  inflating: ../datasets/ALLSTIMULI/.svn/text-base/i163744793.jpeg.svn-base  \n  inflating: ../datasets/ALLSTIMULI/.svn/text-base/i163823931.jpeg.svn-base  \n  inflating: ../datasets/ALLSTIMULI/.svn/text-base/i1659323957.jpeg.svn-base  \n  inflating: ../datasets/ALLSTIMULI/.svn/text-base/i167462665.jpeg.svn-base  \n  inflating: ../datasets/ALLSTIMULI/.svn/text-base/i167469109.jpeg.svn-base  \n  inflating: ../datasets/ALLSTIMULI/.svn/text-base/i1677421979.jpeg.svn-base  \n  inflating: ../datasets/ALLSTIMULI/.svn/text-base/i1691562175.jpeg.svn-base  \n  inflating: ../datasets/ALLSTIMULI/.svn/text-base/i169636965.jpeg.svn-base  \n  inflating: ../datasets/ALLSTIMULI/.svn/text-base/i170746079.jpeg.svn-base  \n  inflating: ../datasets/ALLSTIMULI/.svn/text-base/i1715062725.jpeg.svn-base  \n  inflating: ../datasets/ALLSTIMULI/.svn/text-base/i1733711537.jpeg.svn-base  \n  inflating: ../datasets/ALLSTIMULI/.svn/text-base/i1733818305.jpeg.svn-base  \n  inflating: ../datasets/ALLSTIMULI/.svn/text-base/i1739584262.jpeg.svn-base  \n  inflating: ../datasets/ALLSTIMULI/.svn/text-base/i1740677522.jpeg.svn-base  \n  inflating: ../datasets/ALLSTIMULI/.svn/text-base/i175936273.jpeg.svn-base  \n  inflating: ../datasets/ALLSTIMULI/.svn/text-base/i176365896.jpeg.svn-base  \n  inflating: ../datasets/ALLSTIMULI/.svn/text-base/i1771710966.jpeg.svn-base  \n  inflating: ../datasets/ALLSTIMULI/.svn/text-base/i1773927318.jpeg.svn-base  \n  inflating: ../datasets/ALLSTIMULI/.svn/text-base/i1777084263.jpeg.svn-base  \n  inflating: ../datasets/ALLSTIMULI/.svn/text-base/i1777384643.jpeg.svn-base  \n  inflating: ../datasets/ALLSTIMULI/.svn/text-base/i1784306863.jpeg.svn-base  \n  inflating: ../datasets/ALLSTIMULI/.svn/text-base/i1784535425.jpeg.svn-base  \n  inflating: ../datasets/ALLSTIMULI/.svn/text-base/i1784751720.jpeg.svn-base  \n  inflating: ../datasets/ALLSTIMULI/.svn/text-base/i1791248749.jpeg.svn-base  \n  inflating: ../datasets/ALLSTIMULI/.svn/text-base/i1791282115.jpeg.svn-base  \n  inflating: ../datasets/ALLSTIMULI/.svn/text-base/i1795912442.jpeg.svn-base  \n  inflating: ../datasets/ALLSTIMULI/.svn/text-base/i1797491266.jpeg.svn-base  \n  inflating: ../datasets/ALLSTIMULI/.svn/text-base/i1798804180.jpeg.svn-base  \n  inflating: ../datasets/ALLSTIMULI/.svn/text-base/i179901987.jpeg.svn-base  \n  inflating: ../datasets/ALLSTIMULI/.svn/text-base/i1799873859.jpeg.svn-base  \n  inflating: ../datasets/ALLSTIMULI/.svn/text-base/i1801281281.jpeg.svn-base  \n  inflating: ../datasets/ALLSTIMULI/.svn/text-base/i1802328941.jpeg.svn-base  \n  inflating: ../datasets/ALLSTIMULI/.svn/text-base/i1808007663.jpeg.svn-base  \n  inflating: ../datasets/ALLSTIMULI/.svn/text-base/i181096125.jpeg.svn-base  \n  inflating: ../datasets/ALLSTIMULI/.svn/text-base/i1812945250.jpeg.svn-base  \n  inflating: ../datasets/ALLSTIMULI/.svn/text-base/i1815291162.jpeg.svn-base  \n  inflating: ../datasets/ALLSTIMULI/.svn/text-base/i1817839270.jpeg.svn-base  \n  inflating: ../datasets/ALLSTIMULI/.svn/text-base/i1818663426.jpeg.svn-base  \n  inflating: ../datasets/ALLSTIMULI/.svn/text-base/i182241423.jpeg.svn-base  \n  inflating: ../datasets/ALLSTIMULI/.svn/text-base/i182708511.jpeg.svn-base  \n  inflating: ../datasets/ALLSTIMULI/.svn/text-base/i1830140040.jpeg.svn-base  \n  inflating: ../datasets/ALLSTIMULI/.svn/text-base/i1843172607.jpeg.svn-base  \n  inflating: ../datasets/ALLSTIMULI/.svn/text-base/i1843332699.jpeg.svn-base  \n  inflating: ../datasets/ALLSTIMULI/.svn/text-base/i1843338577.jpeg.svn-base  \n  inflating: ../datasets/ALLSTIMULI/.svn/text-base/i1843381423.jpeg.svn-base  \n  inflating: ../datasets/ALLSTIMULI/.svn/text-base/i1843924285.jpeg.svn-base  \n  inflating: ../datasets/ALLSTIMULI/.svn/text-base/i184411602.jpeg.svn-base  \n  inflating: ../datasets/ALLSTIMULI/.svn/text-base/i1847447551.jpeg.svn-base  \n  inflating: ../datasets/ALLSTIMULI/.svn/text-base/i1848304046.jpeg.svn-base  \n  inflating: ../datasets/ALLSTIMULI/.svn/text-base/i1862760825.jpeg.svn-base  \n  inflating: ../datasets/ALLSTIMULI/.svn/text-base/i1865070582.jpeg.svn-base  \n  inflating: ../datasets/ALLSTIMULI/.svn/text-base/i1865602483.jpeg.svn-base  \n  inflating: ../datasets/ALLSTIMULI/.svn/text-base/i1866404164.jpeg.svn-base  \n  inflating: ../datasets/ALLSTIMULI/.svn/text-base/i1866531260.jpeg.svn-base  \n  inflating: ../datasets/ALLSTIMULI/.svn/text-base/i1870142757.jpeg.svn-base  \n  inflating: ../datasets/ALLSTIMULI/.svn/text-base/i1872398737.jpeg.svn-base  \n  inflating: ../datasets/ALLSTIMULI/.svn/text-base/i1872904642.jpeg.svn-base  \n  inflating: ../datasets/ALLSTIMULI/.svn/text-base/i1872905470.jpeg.svn-base  \n  inflating: ../datasets/ALLSTIMULI/.svn/text-base/i188182199.jpeg.svn-base  \n  inflating: ../datasets/ALLSTIMULI/.svn/text-base/i1893435749.jpeg.svn-base  \n  inflating: ../datasets/ALLSTIMULI/.svn/text-base/i1894296898.jpeg.svn-base  \n  inflating: ../datasets/ALLSTIMULI/.svn/text-base/i190198267.jpeg.svn-base  \n  inflating: ../datasets/ALLSTIMULI/.svn/text-base/i19023164.jpeg.svn-base  \n  inflating: ../datasets/ALLSTIMULI/.svn/text-base/i1912623958.jpeg.svn-base  \n  inflating: ../datasets/ALLSTIMULI/.svn/text-base/i191788956.jpeg.svn-base  \n  inflating: ../datasets/ALLSTIMULI/.svn/text-base/i1918259724.jpeg.svn-base  \n  inflating: ../datasets/ALLSTIMULI/.svn/text-base/i192592020.jpeg.svn-base  \n  inflating: ../datasets/ALLSTIMULI/.svn/text-base/i1936168563.jpeg.svn-base  \n  inflating: ../datasets/ALLSTIMULI/.svn/text-base/i193942938.jpeg.svn-base  \n  inflating: ../datasets/ALLSTIMULI/.svn/text-base/i195628584.jpeg.svn-base  \n  inflating: ../datasets/ALLSTIMULI/.svn/text-base/i1961232813.jpeg.svn-base  \n  inflating: ../datasets/ALLSTIMULI/.svn/text-base/i1970299923.jpeg.svn-base  \n  inflating: ../datasets/ALLSTIMULI/.svn/text-base/i1970328489.jpeg.svn-base  \n  inflating: ../datasets/ALLSTIMULI/.svn/text-base/i1971145444.jpeg.svn-base  \n  inflating: ../datasets/ALLSTIMULI/.svn/text-base/i1977159993.jpeg.svn-base  \n  inflating: ../datasets/ALLSTIMULI/.svn/text-base/i1986309807.jpeg.svn-base  \n  inflating: ../datasets/ALLSTIMULI/.svn/text-base/i199491590.jpeg.svn-base  \n  inflating: ../datasets/ALLSTIMULI/.svn/text-base/i199840071.jpeg.svn-base  \n  inflating: ../datasets/ALLSTIMULI/.svn/text-base/i200539576.jpeg.svn-base  \n  inflating: ../datasets/ALLSTIMULI/.svn/text-base/i2011580182.jpeg.svn-base  \n  inflating: ../datasets/ALLSTIMULI/.svn/text-base/i201161868.jpeg.svn-base  \n  inflating: ../datasets/ALLSTIMULI/.svn/text-base/i202396633.jpeg.svn-base  \n  inflating: ../datasets/ALLSTIMULI/.svn/text-base/i2024335538.jpeg.svn-base  \n  inflating: ../datasets/ALLSTIMULI/.svn/text-base/i2035194870.jpeg.svn-base  \n  inflating: ../datasets/ALLSTIMULI/.svn/text-base/i2038156448.jpeg.svn-base  \n  inflating: ../datasets/ALLSTIMULI/.svn/text-base/i2043350963.jpeg.svn-base  \n  inflating: ../datasets/ALLSTIMULI/.svn/text-base/i2044688217.jpeg.svn-base  \n  inflating: ../datasets/ALLSTIMULI/.svn/text-base/i204599070.jpeg.svn-base  \n  inflating: ../datasets/ALLSTIMULI/.svn/text-base/i2048557303.jpeg.svn-base  \n  inflating: ../datasets/ALLSTIMULI/.svn/text-base/i2048790493.jpeg.svn-base  \n  inflating: ../datasets/ALLSTIMULI/.svn/text-base/i2049327173.jpeg.svn-base  \n  inflating: ../datasets/ALLSTIMULI/.svn/text-base/i2051249439.jpeg.svn-base  \n  inflating: ../datasets/ALLSTIMULI/.svn/text-base/i2055719827.jpeg.svn-base  \n  inflating: ../datasets/ALLSTIMULI/.svn/text-base/i2057541.jpeg.svn-base  \n  inflating: ../datasets/ALLSTIMULI/.svn/text-base/i205838601.jpeg.svn-base  \n  inflating: ../datasets/ALLSTIMULI/.svn/text-base/i2062358324.jpeg.svn-base  \n  inflating: ../datasets/ALLSTIMULI/.svn/text-base/i2067603576.jpeg.svn-base  \n  inflating: ../datasets/ALLSTIMULI/.svn/text-base/i2067966842.jpeg.svn-base  \n  inflating: ../datasets/ALLSTIMULI/.svn/text-base/i206881209.jpeg.svn-base  \n  inflating: ../datasets/ALLSTIMULI/.svn/text-base/i2069913521.jpeg.svn-base  \n  inflating: ../datasets/ALLSTIMULI/.svn/text-base/i20708508.jpeg.svn-base  \n  inflating: ../datasets/ALLSTIMULI/.svn/text-base/i2073398890.jpeg.svn-base  \n  inflating: ../datasets/ALLSTIMULI/.svn/text-base/i2077402873.jpeg.svn-base  \n  inflating: ../datasets/ALLSTIMULI/.svn/text-base/i207747794.jpeg.svn-base  \n  inflating: ../datasets/ALLSTIMULI/.svn/text-base/i207806307.jpeg.svn-base  \n  inflating: ../datasets/ALLSTIMULI/.svn/text-base/i2078195666.jpeg.svn-base  \n  inflating: ../datasets/ALLSTIMULI/.svn/text-base/i207874017.jpeg.svn-base  \n  inflating: ../datasets/ALLSTIMULI/.svn/text-base/i2079551712.jpeg.svn-base  \n  inflating: ../datasets/ALLSTIMULI/.svn/text-base/i2079697681.jpeg.svn-base  \n  inflating: ../datasets/ALLSTIMULI/.svn/text-base/i2083298845.jpeg.svn-base  \n  inflating: ../datasets/ALLSTIMULI/.svn/text-base/i2084420834.jpeg.svn-base  \n  inflating: ../datasets/ALLSTIMULI/.svn/text-base/i2085117683.jpeg.svn-base  \n  inflating: ../datasets/ALLSTIMULI/.svn/text-base/i2087721279.jpeg.svn-base  \n  inflating: ../datasets/ALLSTIMULI/.svn/text-base/i2087728385.jpeg.svn-base  \n  inflating: ../datasets/ALLSTIMULI/.svn/text-base/i2089223639.jpeg.svn-base  \n  inflating: ../datasets/ALLSTIMULI/.svn/text-base/i2089736919.jpeg.svn-base  \n  inflating: ../datasets/ALLSTIMULI/.svn/text-base/i2090406652.jpeg.svn-base  \n  inflating: ../datasets/ALLSTIMULI/.svn/text-base/i2096251724.jpeg.svn-base  \n  inflating: ../datasets/ALLSTIMULI/.svn/text-base/i2096842680.jpeg.svn-base  \n  inflating: ../datasets/ALLSTIMULI/.svn/text-base/i2103244527.jpeg.svn-base  \n  inflating: ../datasets/ALLSTIMULI/.svn/text-base/i2104785691.jpeg.svn-base  \n  inflating: ../datasets/ALLSTIMULI/.svn/text-base/i2108405712.jpeg.svn-base  \n  inflating: ../datasets/ALLSTIMULI/.svn/text-base/i2113390015.jpeg.svn-base  \n  inflating: ../datasets/ALLSTIMULI/.svn/text-base/i2117655611.jpeg.svn-base  \n  inflating: ../datasets/ALLSTIMULI/.svn/text-base/i2120341021.jpeg.svn-base  \n  inflating: ../datasets/ALLSTIMULI/.svn/text-base/i2125418545.jpeg.svn-base  \n  inflating: ../datasets/ALLSTIMULI/.svn/text-base/i2125430605.jpeg.svn-base  \n  inflating: ../datasets/ALLSTIMULI/.svn/text-base/i2127301639.jpeg.svn-base  \n  inflating: ../datasets/ALLSTIMULI/.svn/text-base/i2127815415.jpeg.svn-base  \n  inflating: ../datasets/ALLSTIMULI/.svn/text-base/i2127986969.jpeg.svn-base  \n  inflating: ../datasets/ALLSTIMULI/.svn/text-base/i2128074106.jpeg.svn-base  \n  inflating: ../datasets/ALLSTIMULI/.svn/text-base/i2128591182.jpeg.svn-base  \n  inflating: ../datasets/ALLSTIMULI/.svn/text-base/i2129357785.jpeg.svn-base  \n  inflating: ../datasets/ALLSTIMULI/.svn/text-base/i2130088089.jpeg.svn-base  \n  inflating: ../datasets/ALLSTIMULI/.svn/text-base/i2130135439.jpeg.svn-base  \n  inflating: ../datasets/ALLSTIMULI/.svn/text-base/i2130202677.jpeg.svn-base  \n  inflating: ../datasets/ALLSTIMULI/.svn/text-base/i2130219267.jpeg.svn-base  \n  inflating: ../datasets/ALLSTIMULI/.svn/text-base/i2130236527.jpeg.svn-base  \n  inflating: ../datasets/ALLSTIMULI/.svn/text-base/i2130718051.jpeg.svn-base  \n  inflating: ../datasets/ALLSTIMULI/.svn/text-base/i2131629177.jpeg.svn-base  \n  inflating: ../datasets/ALLSTIMULI/.svn/text-base/i2131664213.jpeg.svn-base  \n  inflating: ../datasets/ALLSTIMULI/.svn/text-base/i2131696017.jpeg.svn-base  \n  inflating: ../datasets/ALLSTIMULI/.svn/text-base/i2131963792.jpeg.svn-base  \n  inflating: ../datasets/ALLSTIMULI/.svn/text-base/i2132011929.jpeg.svn-base  \n  inflating: ../datasets/ALLSTIMULI/.svn/text-base/i2132126218.jpeg.svn-base  \n  inflating: ../datasets/ALLSTIMULI/.svn/text-base/i2132410530.jpeg.svn-base  \n  inflating: ../datasets/ALLSTIMULI/.svn/text-base/i2132553812.jpeg.svn-base  \n  inflating: ../datasets/ALLSTIMULI/.svn/text-base/i2133522539.jpeg.svn-base  \n  inflating: ../datasets/ALLSTIMULI/.svn/text-base/i2134841990.jpeg.svn-base  \n  inflating: ../datasets/ALLSTIMULI/.svn/text-base/i2135366103.jpeg.svn-base  \n  inflating: ../datasets/ALLSTIMULI/.svn/text-base/i2138748225.jpeg.svn-base  \n  inflating: ../datasets/ALLSTIMULI/.svn/text-base/i2139086685.jpeg.svn-base  \n  inflating: ../datasets/ALLSTIMULI/.svn/text-base/i2140171593.jpeg.svn-base  \n  inflating: ../datasets/ALLSTIMULI/.svn/text-base/i2141160962.jpeg.svn-base  \n  inflating: ../datasets/ALLSTIMULI/.svn/text-base/i2141312562.jpeg.svn-base  \n  inflating: ../datasets/ALLSTIMULI/.svn/text-base/i2145018847.jpeg.svn-base  \n  inflating: ../datasets/ALLSTIMULI/.svn/text-base/i2145105890.jpeg.svn-base  \n  inflating: ../datasets/ALLSTIMULI/.svn/text-base/i2145575787.jpeg.svn-base  \n  inflating: ../datasets/ALLSTIMULI/.svn/text-base/i2145580323.jpeg.svn-base  \n  inflating: ../datasets/ALLSTIMULI/.svn/text-base/i2145581941.jpeg.svn-base  \n  inflating: ../datasets/ALLSTIMULI/.svn/text-base/i2145830934.jpeg.svn-base  \n  inflating: ../datasets/ALLSTIMULI/.svn/text-base/i2147039741.jpeg.svn-base  \n  inflating: ../datasets/ALLSTIMULI/.svn/text-base/i2147250639.jpeg.svn-base  \n  inflating: ../datasets/ALLSTIMULI/.svn/text-base/i2148436990.jpeg.svn-base  \n  inflating: ../datasets/ALLSTIMULI/.svn/text-base/i2148681608.jpeg.svn-base  \n  inflating: ../datasets/ALLSTIMULI/.svn/text-base/i2152854053.jpeg.svn-base  \n  inflating: ../datasets/ALLSTIMULI/.svn/text-base/i2154989221.jpeg.svn-base  \n  inflating: ../datasets/ALLSTIMULI/.svn/text-base/i2155084730.jpeg.svn-base  \n  inflating: ../datasets/ALLSTIMULI/.svn/text-base/i2155229819.jpeg.svn-base  \n  inflating: ../datasets/ALLSTIMULI/.svn/text-base/i2155306779.jpeg.svn-base  \n  inflating: ../datasets/ALLSTIMULI/.svn/text-base/i2155595511.jpeg.svn-base  \n  inflating: ../datasets/ALLSTIMULI/.svn/text-base/i2156209373.jpeg.svn-base  \n  inflating: ../datasets/ALLSTIMULI/.svn/text-base/i2156407718.jpeg.svn-base  \n  inflating: ../datasets/ALLSTIMULI/.svn/text-base/i2158540867.jpeg.svn-base  \n  inflating: ../datasets/ALLSTIMULI/.svn/text-base/i2160369496.jpeg.svn-base  \n  inflating: ../datasets/ALLSTIMULI/.svn/text-base/i2166923001.jpeg.svn-base  \n  inflating: ../datasets/ALLSTIMULI/.svn/text-base/i2168018881.jpeg.svn-base  \n  inflating: ../datasets/ALLSTIMULI/.svn/text-base/i2168068710.jpeg.svn-base  \n  inflating: ../datasets/ALLSTIMULI/.svn/text-base/i2168660165.jpeg.svn-base  \n  inflating: ../datasets/ALLSTIMULI/.svn/text-base/i2168982172.jpeg.svn-base  \n  inflating: ../datasets/ALLSTIMULI/.svn/text-base/i2169262237.jpeg.svn-base  \n  inflating: ../datasets/ALLSTIMULI/.svn/text-base/i2169308750.jpeg.svn-base  \n  inflating: ../datasets/ALLSTIMULI/.svn/text-base/i2169932251.jpeg.svn-base  \n  inflating: ../datasets/ALLSTIMULI/.svn/text-base/i2170431637.jpeg.svn-base  \n  inflating: ../datasets/ALLSTIMULI/.svn/text-base/i2170813265.jpeg.svn-base  \n  inflating: ../datasets/ALLSTIMULI/.svn/text-base/i2171576731.jpeg.svn-base  \n  inflating: ../datasets/ALLSTIMULI/.svn/text-base/i2172150551.jpeg.svn-base  \n  inflating: ../datasets/ALLSTIMULI/.svn/text-base/i2172274186.jpeg.svn-base  \n  inflating: ../datasets/ALLSTIMULI/.svn/text-base/i2172660077.jpeg.svn-base  \n  inflating: ../datasets/ALLSTIMULI/.svn/text-base/i2172895099.jpeg.svn-base  \n  inflating: ../datasets/ALLSTIMULI/.svn/text-base/i2173051128.jpeg.svn-base  \n  inflating: ../datasets/ALLSTIMULI/.svn/text-base/i2173246245.jpeg.svn-base  \n  inflating: ../datasets/ALLSTIMULI/.svn/text-base/i2174162303.jpeg.svn-base  \n  inflating: ../datasets/ALLSTIMULI/.svn/text-base/i2174164459.jpeg.svn-base  \n  inflating: ../datasets/ALLSTIMULI/.svn/text-base/i2174193219.jpeg.svn-base  \n  inflating: ../datasets/ALLSTIMULI/.svn/text-base/i2174530507.jpeg.svn-base  \n  inflating: ../datasets/ALLSTIMULI/.svn/text-base/i2175491001.jpeg.svn-base  \n  inflating: ../datasets/ALLSTIMULI/.svn/text-base/i2183824399.jpeg.svn-base  \n  inflating: ../datasets/ALLSTIMULI/.svn/text-base/i2184058853.jpeg.svn-base  \n  inflating: ../datasets/ALLSTIMULI/.svn/text-base/i2186383189.jpeg.svn-base  \n  inflating: ../datasets/ALLSTIMULI/.svn/text-base/i2186422800.jpeg.svn-base  \n  inflating: ../datasets/ALLSTIMULI/.svn/text-base/i2186890210.jpeg.svn-base  \n  inflating: ../datasets/ALLSTIMULI/.svn/text-base/i2187178955.jpeg.svn-base  \n  inflating: ../datasets/ALLSTIMULI/.svn/text-base/i2189914746.jpeg.svn-base  \n  inflating: ../datasets/ALLSTIMULI/.svn/text-base/i2190511227.jpeg.svn-base  \n  inflating: ../datasets/ALLSTIMULI/.svn/text-base/i2190576311.jpeg.svn-base  \n  inflating: ../datasets/ALLSTIMULI/.svn/text-base/i2190823731.jpeg.svn-base  \n  inflating: ../datasets/ALLSTIMULI/.svn/text-base/i2193346743.jpeg.svn-base  \n  inflating: ../datasets/ALLSTIMULI/.svn/text-base/i2194959008.jpeg.svn-base  \n  inflating: ../datasets/ALLSTIMULI/.svn/text-base/i2194963502.jpeg.svn-base  \n  inflating: ../datasets/ALLSTIMULI/.svn/text-base/i2195097920.jpeg.svn-base  \n  inflating: ../datasets/ALLSTIMULI/.svn/text-base/i2196095208.jpeg.svn-base  \n  inflating: ../datasets/ALLSTIMULI/.svn/text-base/i2197089389.jpeg.svn-base  \n  inflating: ../datasets/ALLSTIMULI/.svn/text-base/i2197862712.jpeg.svn-base  \n  inflating: ../datasets/ALLSTIMULI/.svn/text-base/i2197948762.jpeg.svn-base  \n  inflating: ../datasets/ALLSTIMULI/.svn/text-base/i2198824278.jpeg.svn-base  \n  inflating: ../datasets/ALLSTIMULI/.svn/text-base/i2199606749.jpeg.svn-base  \n  inflating: ../datasets/ALLSTIMULI/.svn/text-base/i2199632150.jpeg.svn-base  \n  inflating: ../datasets/ALLSTIMULI/.svn/text-base/i2199787601.jpeg.svn-base  \n  inflating: ../datasets/ALLSTIMULI/.svn/text-base/i2200082985.jpeg.svn-base  \n  inflating: ../datasets/ALLSTIMULI/.svn/text-base/i2200457814.jpeg.svn-base  \n  inflating: ../datasets/ALLSTIMULI/.svn/text-base/i2200881784.jpeg.svn-base  \n  inflating: ../datasets/ALLSTIMULI/.svn/text-base/i2201034412.jpeg.svn-base  \n  inflating: ../datasets/ALLSTIMULI/.svn/text-base/i2201426231.jpeg.svn-base  \n  inflating: ../datasets/ALLSTIMULI/.svn/text-base/i2202108776.jpeg.svn-base  \n  inflating: ../datasets/ALLSTIMULI/.svn/text-base/i2202295378.jpeg.svn-base  \n  inflating: ../datasets/ALLSTIMULI/.svn/text-base/i2203431935.jpeg.svn-base  \n  inflating: ../datasets/ALLSTIMULI/.svn/text-base/i2204386205.jpeg.svn-base  \n  inflating: ../datasets/ALLSTIMULI/.svn/text-base/i2204782081.jpeg.svn-base  \n  inflating: ../datasets/ALLSTIMULI/.svn/text-base/i2205555719.jpeg.svn-base  \n  inflating: ../datasets/ALLSTIMULI/.svn/text-base/i2205565085.jpeg.svn-base  \n  inflating: ../datasets/ALLSTIMULI/.svn/text-base/i2206023527.jpeg.svn-base  \n  inflating: ../datasets/ALLSTIMULI/.svn/text-base/i2206265639.jpeg.svn-base  \n  inflating: ../datasets/ALLSTIMULI/.svn/text-base/i2206349266.jpeg.svn-base  \n  inflating: ../datasets/ALLSTIMULI/.svn/text-base/i2208022381.jpeg.svn-base  \n  inflating: ../datasets/ALLSTIMULI/.svn/text-base/i2208329824.jpeg.svn-base  \n  inflating: ../datasets/ALLSTIMULI/.svn/text-base/i2208535579.jpeg.svn-base  \n  inflating: ../datasets/ALLSTIMULI/.svn/text-base/i2210375453.jpeg.svn-base  \n  inflating: ../datasets/ALLSTIMULI/.svn/text-base/i2210396651.jpeg.svn-base  \n  inflating: ../datasets/ALLSTIMULI/.svn/text-base/i2210603425.jpeg.svn-base  \n  inflating: ../datasets/ALLSTIMULI/.svn/text-base/i2211263127.jpeg.svn-base  \n  inflating: ../datasets/ALLSTIMULI/.svn/text-base/i2211349766.jpeg.svn-base  \n  inflating: ../datasets/ALLSTIMULI/.svn/text-base/i2211589033.jpeg.svn-base  \n  inflating: ../datasets/ALLSTIMULI/.svn/text-base/i2211739055.jpeg.svn-base  \n  inflating: ../datasets/ALLSTIMULI/.svn/text-base/i2211765468.jpeg.svn-base  \n  inflating: ../datasets/ALLSTIMULI/.svn/text-base/i2213103902.jpeg.svn-base  \n  inflating: ../datasets/ALLSTIMULI/.svn/text-base/i2213974944.jpeg.svn-base  \n  inflating: ../datasets/ALLSTIMULI/.svn/text-base/i2214763761.jpeg.svn-base  \n  inflating: ../datasets/ALLSTIMULI/.svn/text-base/i2215088717.jpeg.svn-base  \n  inflating: ../datasets/ALLSTIMULI/.svn/text-base/i2218174961.jpeg.svn-base  \n  inflating: ../datasets/ALLSTIMULI/.svn/text-base/i2218200403.jpeg.svn-base  \n  inflating: ../datasets/ALLSTIMULI/.svn/text-base/i2218506905.jpeg.svn-base  \n  inflating: ../datasets/ALLSTIMULI/.svn/text-base/i2218709961.jpeg.svn-base  \n  inflating: ../datasets/ALLSTIMULI/.svn/text-base/i2221028009.jpeg.svn-base  \n  inflating: ../datasets/ALLSTIMULI/.svn/text-base/i2221573154.jpeg.svn-base  \n  inflating: ../datasets/ALLSTIMULI/.svn/text-base/i2221599411.jpeg.svn-base  \n  inflating: ../datasets/ALLSTIMULI/.svn/text-base/i2221608509.jpeg.svn-base  \n  inflating: ../datasets/ALLSTIMULI/.svn/text-base/i2222945716.jpeg.svn-base  \n  inflating: ../datasets/ALLSTIMULI/.svn/text-base/i2223014359.jpeg.svn-base  \n  inflating: ../datasets/ALLSTIMULI/.svn/text-base/i2224739969.jpeg.svn-base  \n  inflating: ../datasets/ALLSTIMULI/.svn/text-base/i2229496653.jpeg.svn-base  \n  inflating: ../datasets/ALLSTIMULI/.svn/text-base/i2229917843.jpeg.svn-base  \n  inflating: ../datasets/ALLSTIMULI/.svn/text-base/i2229926082.jpeg.svn-base  \n  inflating: ../datasets/ALLSTIMULI/.svn/text-base/i2230355522.jpeg.svn-base  \n  inflating: ../datasets/ALLSTIMULI/.svn/text-base/i2230533761.jpeg.svn-base  \n  inflating: ../datasets/ALLSTIMULI/.svn/text-base/i2230623212.jpeg.svn-base  \n  inflating: ../datasets/ALLSTIMULI/.svn/text-base/i2232633490.jpeg.svn-base  \n  inflating: ../datasets/ALLSTIMULI/.svn/text-base/i2232765267.jpeg.svn-base  \n  inflating: ../datasets/ALLSTIMULI/.svn/text-base/i2232823435.jpeg.svn-base  \n  inflating: ../datasets/ALLSTIMULI/.svn/text-base/i2234097332.jpeg.svn-base  \n  inflating: ../datasets/ALLSTIMULI/.svn/text-base/i2234137378.jpeg.svn-base  \n  inflating: ../datasets/ALLSTIMULI/.svn/text-base/i2234959271.jpeg.svn-base  \n  inflating: ../datasets/ALLSTIMULI/.svn/text-base/i2235879193.jpeg.svn-base  \n  inflating: ../datasets/ALLSTIMULI/.svn/text-base/i2236128403.jpeg.svn-base  \n  inflating: ../datasets/ALLSTIMULI/.svn/text-base/i2236294346.jpeg.svn-base  \n  inflating: ../datasets/ALLSTIMULI/.svn/text-base/i2237001917.jpeg.svn-base  \n  inflating: ../datasets/ALLSTIMULI/.svn/text-base/i2237729434.jpeg.svn-base  \n  inflating: ../datasets/ALLSTIMULI/.svn/text-base/i2237760217.jpeg.svn-base  \n  inflating: ../datasets/ALLSTIMULI/.svn/text-base/i2237801383.jpeg.svn-base  \n  inflating: ../datasets/ALLSTIMULI/.svn/text-base/i2237929211.jpeg.svn-base  \n  inflating: ../datasets/ALLSTIMULI/.svn/text-base/i2238238891.jpeg.svn-base  \n  inflating: ../datasets/ALLSTIMULI/.svn/text-base/i2238366740.jpeg.svn-base  \n  inflating: ../datasets/ALLSTIMULI/.svn/text-base/i2238477160.jpeg.svn-base  \n  inflating: ../datasets/ALLSTIMULI/.svn/text-base/i2238688346.jpeg.svn-base  \n  inflating: ../datasets/ALLSTIMULI/.svn/text-base/i2238758189.jpeg.svn-base  \n  inflating: ../datasets/ALLSTIMULI/.svn/text-base/i2239664592.jpeg.svn-base  \n  inflating: ../datasets/ALLSTIMULI/.svn/text-base/i2239766632.jpeg.svn-base  \n  inflating: ../datasets/ALLSTIMULI/.svn/text-base/i2240160496.jpeg.svn-base  \n  inflating: ../datasets/ALLSTIMULI/.svn/text-base/i2240165147.jpeg.svn-base  \n  inflating: ../datasets/ALLSTIMULI/.svn/text-base/i2240165567.jpeg.svn-base  \n  inflating: ../datasets/ALLSTIMULI/.svn/text-base/i2240166669.jpeg.svn-base  \n  inflating: ../datasets/ALLSTIMULI/.svn/text-base/i2240569900.jpeg.svn-base  \n  inflating: ../datasets/ALLSTIMULI/.svn/text-base/i2240581851.jpeg.svn-base  \n  inflating: ../datasets/ALLSTIMULI/.svn/text-base/i2241063231.jpeg.svn-base  \n  inflating: ../datasets/ALLSTIMULI/.svn/text-base/i2243369152.jpeg.svn-base  \n  inflating: ../datasets/ALLSTIMULI/.svn/text-base/i2243931087.jpeg.svn-base  \n  inflating: ../datasets/ALLSTIMULI/.svn/text-base/i2243982741.jpeg.svn-base  \n  inflating: ../datasets/ALLSTIMULI/.svn/text-base/i2244097646.jpeg.svn-base  \n  inflating: ../datasets/ALLSTIMULI/.svn/text-base/i2244445589.jpeg.svn-base  \n  inflating: ../datasets/ALLSTIMULI/.svn/text-base/i2244455009.jpeg.svn-base  \n  inflating: ../datasets/ALLSTIMULI/.svn/text-base/i2244474095.jpeg.svn-base  \n  inflating: ../datasets/ALLSTIMULI/.svn/text-base/i2244493155.jpeg.svn-base  \n  inflating: ../datasets/ALLSTIMULI/.svn/text-base/i2244589999.jpeg.svn-base  \n  inflating: ../datasets/ALLSTIMULI/.svn/text-base/i2245334593.jpeg.svn-base  \n  inflating: ../datasets/ALLSTIMULI/.svn/text-base/i2245353852.jpeg.svn-base  \n  inflating: ../datasets/ALLSTIMULI/.svn/text-base/i2246191935.jpeg.svn-base  \n  inflating: ../datasets/ALLSTIMULI/.svn/text-base/i2246755161.jpeg.svn-base  \n  inflating: ../datasets/ALLSTIMULI/.svn/text-base/i2247811037.jpeg.svn-base  \n  inflating: ../datasets/ALLSTIMULI/.svn/text-base/i2248598896.jpeg.svn-base  \n  inflating: ../datasets/ALLSTIMULI/.svn/text-base/i2249293171.jpeg.svn-base  \n  inflating: ../datasets/ALLSTIMULI/.svn/text-base/i2252029279.jpeg.svn-base  \n  inflating: ../datasets/ALLSTIMULI/.svn/text-base/i2252058417.jpeg.svn-base  \n  inflating: ../datasets/ALLSTIMULI/.svn/text-base/i2252150223.jpeg.svn-base  \n  inflating: ../datasets/ALLSTIMULI/.svn/text-base/i2252480851.jpeg.svn-base  \n  inflating: ../datasets/ALLSTIMULI/.svn/text-base/i2253396498.jpeg.svn-base  \n  inflating: ../datasets/ALLSTIMULI/.svn/text-base/i2254311605.jpeg.svn-base  \n  inflating: ../datasets/ALLSTIMULI/.svn/text-base/i2254450797.jpeg.svn-base  \n  inflating: ../datasets/ALLSTIMULI/.svn/text-base/i2255800269.jpeg.svn-base  \n  inflating: ../datasets/ALLSTIMULI/.svn/text-base/i2255893801.jpeg.svn-base  \n  inflating: ../datasets/ALLSTIMULI/.svn/text-base/i2256363400.jpeg.svn-base  \n  inflating: ../datasets/ALLSTIMULI/.svn/text-base/i2257330951.jpeg.svn-base  \n  inflating: ../datasets/ALLSTIMULI/.svn/text-base/i2257413600.jpeg.svn-base  \n  inflating: ../datasets/ALLSTIMULI/.svn/text-base/i2257748677.jpeg.svn-base  \n  inflating: ../datasets/ALLSTIMULI/.svn/text-base/i2257749827.jpeg.svn-base  \n  inflating: ../datasets/ALLSTIMULI/.svn/text-base/i2257756967.jpeg.svn-base  \n  inflating: ../datasets/ALLSTIMULI/.svn/text-base/i2257777237.jpeg.svn-base  \n  inflating: ../datasets/ALLSTIMULI/.svn/text-base/i2257930945.jpeg.svn-base  \n  inflating: ../datasets/ALLSTIMULI/.svn/text-base/i2257986084.jpeg.svn-base  \n  inflating: ../datasets/ALLSTIMULI/.svn/text-base/i2258108354.jpeg.svn-base  \n  inflating: ../datasets/ALLSTIMULI/.svn/text-base/i2259160448.jpeg.svn-base  \n  inflating: ../datasets/ALLSTIMULI/.svn/text-base/i2259160458.jpeg.svn-base  \n  inflating: ../datasets/ALLSTIMULI/.svn/text-base/i2260404605.jpeg.svn-base  \n  inflating: ../datasets/ALLSTIMULI/.svn/text-base/i2260967221.jpeg.svn-base  \n  inflating: ../datasets/ALLSTIMULI/.svn/text-base/i2260969243.jpeg.svn-base  \n  inflating: ../datasets/ALLSTIMULI/.svn/text-base/i2260969693.jpeg.svn-base  \n  inflating: ../datasets/ALLSTIMULI/.svn/text-base/i2261687971.jpeg.svn-base  \n  inflating: ../datasets/ALLSTIMULI/.svn/text-base/i2263021117.jpeg.svn-base  \n  inflating: ../datasets/ALLSTIMULI/.svn/text-base/i2263032487.jpeg.svn-base  \n  inflating: ../datasets/ALLSTIMULI/.svn/text-base/i2263137783.jpeg.svn-base  \n  inflating: ../datasets/ALLSTIMULI/.svn/text-base/i2263796362.jpeg.svn-base  \n  inflating: ../datasets/ALLSTIMULI/.svn/text-base/i2263853284.jpeg.svn-base  \n  inflating: ../datasets/ALLSTIMULI/.svn/text-base/i2263931014.jpeg.svn-base  \n  inflating: ../datasets/ALLSTIMULI/.svn/text-base/i2264112311.jpeg.svn-base  \n  inflating: ../datasets/ALLSTIMULI/.svn/text-base/i2264134553.jpeg.svn-base  \n  inflating: ../datasets/ALLSTIMULI/.svn/text-base/i2264595399.jpeg.svn-base  \n  inflating: ../datasets/ALLSTIMULI/.svn/text-base/i2264606081.jpeg.svn-base  \n  inflating: ../datasets/ALLSTIMULI/.svn/text-base/i2265201355.jpeg.svn-base  \n  inflating: ../datasets/ALLSTIMULI/.svn/text-base/i2265609722.jpeg.svn-base  \n  inflating: ../datasets/ALLSTIMULI/.svn/text-base/i2266104683.jpeg.svn-base  \n  inflating: ../datasets/ALLSTIMULI/.svn/text-base/i2266552045.jpeg.svn-base  \n  inflating: ../datasets/ALLSTIMULI/.svn/text-base/i2267703789.jpeg.svn-base  \n  inflating: ../datasets/ALLSTIMULI/.svn/text-base/i2267710273.jpeg.svn-base  \n  inflating: ../datasets/ALLSTIMULI/.svn/text-base/i2267791566.jpeg.svn-base  \n  inflating: ../datasets/ALLSTIMULI/.svn/text-base/i2268806470.jpeg.svn-base  \n  inflating: ../datasets/ALLSTIMULI/.svn/text-base/i2268807046.jpeg.svn-base  \n  inflating: ../datasets/ALLSTIMULI/.svn/text-base/i2268807436.jpeg.svn-base  \n  inflating: ../datasets/ALLSTIMULI/.svn/text-base/i2269011799.jpeg.svn-base  \n  inflating: ../datasets/ALLSTIMULI/.svn/text-base/i2269335025.jpeg.svn-base  \n  inflating: ../datasets/ALLSTIMULI/.svn/text-base/i2270031495.jpeg.svn-base  \n  inflating: ../datasets/ALLSTIMULI/.svn/text-base/i2270102601.jpeg.svn-base  \n  inflating: ../datasets/ALLSTIMULI/.svn/text-base/i2271293627.jpeg.svn-base  \n  inflating: ../datasets/ALLSTIMULI/.svn/text-base/i2271918453.jpeg.svn-base  \n  inflating: ../datasets/ALLSTIMULI/.svn/text-base/i2272663539.jpeg.svn-base  \n  inflating: ../datasets/ALLSTIMULI/.svn/text-base/i2272814913.jpeg.svn-base  \n  inflating: ../datasets/ALLSTIMULI/.svn/text-base/i2272909117.jpeg.svn-base  \n  inflating: ../datasets/ALLSTIMULI/.svn/text-base/i2273025586.jpeg.svn-base  \n  inflating: ../datasets/ALLSTIMULI/.svn/text-base/i2273330095.jpeg.svn-base  \n  inflating: ../datasets/ALLSTIMULI/.svn/text-base/i2273502861.jpeg.svn-base  \n  inflating: ../datasets/ALLSTIMULI/.svn/text-base/i2273510179.jpeg.svn-base  \n  inflating: ../datasets/ALLSTIMULI/.svn/text-base/i2274287237.jpeg.svn-base  \n  inflating: ../datasets/ALLSTIMULI/.svn/text-base/i2274292178.jpeg.svn-base  \n  inflating: ../datasets/ALLSTIMULI/.svn/text-base/i2274296096.jpeg.svn-base  \n  inflating: ../datasets/ALLSTIMULI/.svn/text-base/i2274554255.jpeg.svn-base  \n  inflating: ../datasets/ALLSTIMULI/.svn/text-base/i2274764417.jpeg.svn-base  \n  inflating: ../datasets/ALLSTIMULI/.svn/text-base/i2274770415.jpeg.svn-base  \n  inflating: ../datasets/ALLSTIMULI/.svn/text-base/i2274948196.jpeg.svn-base  \n  inflating: ../datasets/ALLSTIMULI/.svn/text-base/i2275159166.jpeg.svn-base  \n  inflating: ../datasets/ALLSTIMULI/.svn/text-base/i2275575220.jpeg.svn-base  \n  inflating: ../datasets/ALLSTIMULI/.svn/text-base/i2275677162.jpeg.svn-base  \n  inflating: ../datasets/ALLSTIMULI/.svn/text-base/i2276321014.jpeg.svn-base  \n  inflating: ../datasets/ALLSTIMULI/.svn/text-base/i2277198372.jpeg.svn-base  \n  inflating: ../datasets/ALLSTIMULI/.svn/text-base/i2277207572.jpeg.svn-base  \n  inflating: ../datasets/ALLSTIMULI/.svn/text-base/i2277658391.jpeg.svn-base  \n  inflating: ../datasets/ALLSTIMULI/.svn/text-base/i2277680996.jpeg.svn-base  \n  inflating: ../datasets/ALLSTIMULI/.svn/text-base/i2277843532.jpeg.svn-base  \n  inflating: ../datasets/ALLSTIMULI/.svn/text-base/i2277905563.jpeg.svn-base  \n  inflating: ../datasets/ALLSTIMULI/.svn/text-base/i2278087939.jpeg.svn-base  \n  inflating: ../datasets/ALLSTIMULI/.svn/text-base/i2278136983.jpeg.svn-base  \n  inflating: ../datasets/ALLSTIMULI/.svn/text-base/i2278199647.jpeg.svn-base  \n  inflating: ../datasets/ALLSTIMULI/.svn/text-base/i2278465534.jpeg.svn-base  \n  inflating: ../datasets/ALLSTIMULI/.svn/text-base/i2278549502.jpeg.svn-base  \n  inflating: ../datasets/ALLSTIMULI/.svn/text-base/i2279103962.jpeg.svn-base  \n  inflating: ../datasets/ALLSTIMULI/.svn/text-base/i2279208009.jpeg.svn-base  \n  inflating: ../datasets/ALLSTIMULI/.svn/text-base/i2279312497.jpeg.svn-base  \n  inflating: ../datasets/ALLSTIMULI/.svn/text-base/i2279314231.jpeg.svn-base  \n  inflating: ../datasets/ALLSTIMULI/.svn/text-base/i2279799129.jpeg.svn-base  \n  inflating: ../datasets/ALLSTIMULI/.svn/text-base/i2280425561.jpeg.svn-base  \n  inflating: ../datasets/ALLSTIMULI/.svn/text-base/i2280611353.jpeg.svn-base  \n  inflating: ../datasets/ALLSTIMULI/.svn/text-base/i2280648305.jpeg.svn-base  \n  inflating: ../datasets/ALLSTIMULI/.svn/text-base/i2280879779.jpeg.svn-base  \n  inflating: ../datasets/ALLSTIMULI/.svn/text-base/i2281390450.jpeg.svn-base  \n  inflating: ../datasets/ALLSTIMULI/.svn/text-base/i2281390926.jpeg.svn-base  \n  inflating: ../datasets/ALLSTIMULI/.svn/text-base/i2281397626.jpeg.svn-base  \n  inflating: ../datasets/ALLSTIMULI/.svn/text-base/i2281538905.jpeg.svn-base  \n  inflating: ../datasets/ALLSTIMULI/.svn/text-base/i2281902585.jpeg.svn-base  \n  inflating: ../datasets/ALLSTIMULI/.svn/text-base/i2282543251.jpeg.svn-base  \n  inflating: ../datasets/ALLSTIMULI/.svn/text-base/i2283683445.jpeg.svn-base  \n  inflating: ../datasets/ALLSTIMULI/.svn/text-base/i2284316374.jpeg.svn-base  \n  inflating: ../datasets/ALLSTIMULI/.svn/text-base/i2284954143.jpeg.svn-base  \n  inflating: ../datasets/ALLSTIMULI/.svn/text-base/i2284956309.jpeg.svn-base  \n  inflating: ../datasets/ALLSTIMULI/.svn/text-base/i2285475491.jpeg.svn-base  \n  inflating: ../datasets/ALLSTIMULI/.svn/text-base/i2285904669.jpeg.svn-base  \n  inflating: ../datasets/ALLSTIMULI/.svn/text-base/i2285970199.jpeg.svn-base  \n  inflating: ../datasets/ALLSTIMULI/.svn/text-base/i2286040943.jpeg.svn-base  \n  inflating: ../datasets/ALLSTIMULI/.svn/text-base/i2286138209.jpeg.svn-base  \n  inflating: ../datasets/ALLSTIMULI/.svn/text-base/i2286258230.jpeg.svn-base  \n  inflating: ../datasets/ALLSTIMULI/.svn/text-base/i2286398519.jpeg.svn-base  \n  inflating: ../datasets/ALLSTIMULI/.svn/text-base/i2286511796.jpeg.svn-base  \n  inflating: ../datasets/ALLSTIMULI/.svn/text-base/i2286576851.jpeg.svn-base  \n  inflating: ../datasets/ALLSTIMULI/.svn/text-base/i2286577669.jpeg.svn-base  \n  inflating: ../datasets/ALLSTIMULI/.svn/text-base/i2286934018.jpeg.svn-base  \n  inflating: ../datasets/ALLSTIMULI/.svn/text-base/i2287067143.jpeg.svn-base  \n  inflating: ../datasets/ALLSTIMULI/.svn/text-base/i2287434183.jpeg.svn-base  \n  inflating: ../datasets/ALLSTIMULI/.svn/text-base/i2287603237.jpeg.svn-base  \n  inflating: ../datasets/ALLSTIMULI/.svn/text-base/i2287732726.jpeg.svn-base  \n  inflating: ../datasets/ALLSTIMULI/.svn/text-base/i2287736466.jpeg.svn-base  \n  inflating: ../datasets/ALLSTIMULI/.svn/text-base/i2287747547.jpeg.svn-base  \n  inflating: ../datasets/ALLSTIMULI/.svn/text-base/i2288313715.jpeg.svn-base  \n  inflating: ../datasets/ALLSTIMULI/.svn/text-base/i2288346129.jpeg.svn-base  \n  inflating: ../datasets/ALLSTIMULI/.svn/text-base/i2288352265.jpeg.svn-base  \n  inflating: ../datasets/ALLSTIMULI/.svn/text-base/i2288435981.jpeg.svn-base  \n  inflating: ../datasets/ALLSTIMULI/.svn/text-base/i2288544059.jpeg.svn-base  \n  inflating: ../datasets/ALLSTIMULI/.svn/text-base/i2289344696.jpeg.svn-base  \n  inflating: ../datasets/ALLSTIMULI/.svn/text-base/i2289350187.jpeg.svn-base  \n  inflating: ../datasets/ALLSTIMULI/.svn/text-base/i2289458290.jpeg.svn-base  \n  inflating: ../datasets/ALLSTIMULI/.svn/text-base/i2289665173.jpeg.svn-base  \n  inflating: ../datasets/ALLSTIMULI/.svn/text-base/i2289694577.jpeg.svn-base  \n  inflating: ../datasets/ALLSTIMULI/.svn/text-base/i2289711593.jpeg.svn-base  \n  inflating: ../datasets/ALLSTIMULI/.svn/text-base/i2289717227.jpeg.svn-base  \n  inflating: ../datasets/ALLSTIMULI/.svn/text-base/i2289739189.jpeg.svn-base  \n  inflating: ../datasets/ALLSTIMULI/.svn/text-base/i2290495268.jpeg.svn-base  \n  inflating: ../datasets/ALLSTIMULI/.svn/text-base/i2290787775.jpeg.svn-base  \n  inflating: ../datasets/ALLSTIMULI/.svn/text-base/i2290794919.jpeg.svn-base  \n  inflating: ../datasets/ALLSTIMULI/.svn/text-base/i2290847457.jpeg.svn-base  \n  inflating: ../datasets/ALLSTIMULI/.svn/text-base/i2290865981.jpeg.svn-base  \n  inflating: ../datasets/ALLSTIMULI/.svn/text-base/i2291139547.jpeg.svn-base  \n  inflating: ../datasets/ALLSTIMULI/.svn/text-base/i2291250914.jpeg.svn-base  \n  inflating: ../datasets/ALLSTIMULI/.svn/text-base/i2291485733.jpeg.svn-base  \n  inflating: ../datasets/ALLSTIMULI/.svn/text-base/i2291589385.jpeg.svn-base  \n  inflating: ../datasets/ALLSTIMULI/.svn/text-base/i2291666088.jpeg.svn-base  \n  inflating: ../datasets/ALLSTIMULI/.svn/text-base/i2291750140.jpeg.svn-base  \n  inflating: ../datasets/ALLSTIMULI/.svn/text-base/i2292390104.jpeg.svn-base  \n  inflating: ../datasets/ALLSTIMULI/.svn/text-base/i2292751124.jpeg.svn-base  \n  inflating: ../datasets/ALLSTIMULI/.svn/text-base/i2292794437.jpeg.svn-base  \n  inflating: ../datasets/ALLSTIMULI/.svn/text-base/i2293362913.jpeg.svn-base  \n  inflating: ../datasets/ALLSTIMULI/.svn/text-base/i2293654605.jpeg.svn-base  \n  inflating: ../datasets/ALLSTIMULI/.svn/text-base/i2294701937.jpeg.svn-base  \n  inflating: ../datasets/ALLSTIMULI/.svn/text-base/i2294898365.jpeg.svn-base  \n  inflating: ../datasets/ALLSTIMULI/.svn/text-base/i2295106133.jpeg.svn-base  \n  inflating: ../datasets/ALLSTIMULI/.svn/text-base/i2295411886.jpeg.svn-base  \n  inflating: ../datasets/ALLSTIMULI/.svn/text-base/i2295551038.jpeg.svn-base  \n  inflating: ../datasets/ALLSTIMULI/.svn/text-base/i2296179544.jpeg.svn-base  \n  inflating: ../datasets/ALLSTIMULI/.svn/text-base/i2297503703.jpeg.svn-base  \n  inflating: ../datasets/ALLSTIMULI/.svn/text-base/i2297596765.jpeg.svn-base  \n  inflating: ../datasets/ALLSTIMULI/.svn/text-base/i2297598229.jpeg.svn-base  \n  inflating: ../datasets/ALLSTIMULI/.svn/text-base/i2297752925.jpeg.svn-base  \n  inflating: ../datasets/ALLSTIMULI/.svn/text-base/i2297891028.jpeg.svn-base  \n  inflating: ../datasets/ALLSTIMULI/.svn/text-base/i2298125807.jpeg.svn-base  \n  inflating: ../datasets/ALLSTIMULI/.svn/text-base/i2299034477.jpeg.svn-base  \n  inflating: ../datasets/ALLSTIMULI/.svn/text-base/i2299063277.jpeg.svn-base  \n  inflating: ../datasets/ALLSTIMULI/.svn/text-base/i2299085201.jpeg.svn-base  \n  inflating: ../datasets/ALLSTIMULI/.svn/text-base/i2299690621.jpeg.svn-base  \n  inflating: ../datasets/ALLSTIMULI/.svn/text-base/i2299919722.jpeg.svn-base  \n  inflating: ../datasets/ALLSTIMULI/.svn/text-base/i2300011983.jpeg.svn-base  \n  inflating: ../datasets/ALLSTIMULI/.svn/text-base/i2300094693.jpeg.svn-base  \n  inflating: ../datasets/ALLSTIMULI/.svn/text-base/i2300136569.jpeg.svn-base  \n  inflating: ../datasets/ALLSTIMULI/.svn/text-base/i2300143227.jpeg.svn-base  \n  inflating: ../datasets/ALLSTIMULI/.svn/text-base/i2300237262.jpeg.svn-base  \n  inflating: ../datasets/ALLSTIMULI/.svn/text-base/i2300299195.jpeg.svn-base  \n  inflating: ../datasets/ALLSTIMULI/.svn/text-base/i2300558115.jpeg.svn-base  \n  inflating: ../datasets/ALLSTIMULI/.svn/text-base/i2300935113.jpeg.svn-base  \n  inflating: ../datasets/ALLSTIMULI/.svn/text-base/i2301179161.jpeg.svn-base  \n  inflating: ../datasets/ALLSTIMULI/.svn/text-base/i2301233235.jpeg.svn-base  \n  inflating: ../datasets/ALLSTIMULI/.svn/text-base/i2301237310.jpeg.svn-base  \n  inflating: ../datasets/ALLSTIMULI/.svn/text-base/i2301460189.jpeg.svn-base  \n  inflating: ../datasets/ALLSTIMULI/.svn/text-base/i2301631442.jpeg.svn-base  \n  inflating: ../datasets/ALLSTIMULI/.svn/text-base/i2301799925.jpeg.svn-base  \n  inflating: ../datasets/ALLSTIMULI/.svn/text-base/i2302242348.jpeg.svn-base  \n  inflating: ../datasets/ALLSTIMULI/.svn/text-base/i2302491658.jpeg.svn-base  \n  inflating: ../datasets/ALLSTIMULI/.svn/text-base/i2302567831.jpeg.svn-base  \n  inflating: ../datasets/ALLSTIMULI/.svn/text-base/i2303119791.jpeg.svn-base  \n  inflating: ../datasets/ALLSTIMULI/.svn/text-base/i2303447136.jpeg.svn-base  \n  inflating: ../datasets/ALLSTIMULI/.svn/text-base/i2303678791.jpeg.svn-base  \n  inflating: ../datasets/ALLSTIMULI/.svn/text-base/i2304433407.jpeg.svn-base  \n  inflating: ../datasets/ALLSTIMULI/.svn/text-base/i2304945037.jpeg.svn-base  \n  inflating: ../datasets/ALLSTIMULI/.svn/text-base/i2305300253.jpeg.svn-base  \n  inflating: ../datasets/ALLSTIMULI/.svn/text-base/i2305314113.jpeg.svn-base  \n  inflating: ../datasets/ALLSTIMULI/.svn/text-base/i2305344695.jpeg.svn-base  \n  inflating: ../datasets/ALLSTIMULI/.svn/text-base/i2305412211.jpeg.svn-base  \n  inflating: ../datasets/ALLSTIMULI/.svn/text-base/i2305875863.jpeg.svn-base  \n  inflating: ../datasets/ALLSTIMULI/.svn/text-base/i2306009363.jpeg.svn-base  \n  inflating: ../datasets/ALLSTIMULI/.svn/text-base/i2306201755.jpeg.svn-base  \n  inflating: ../datasets/ALLSTIMULI/.svn/text-base/i2306380490.jpeg.svn-base  \n  inflating: ../datasets/ALLSTIMULI/.svn/text-base/i2306664884.jpeg.svn-base  \n  inflating: ../datasets/ALLSTIMULI/.svn/text-base/i2307207961.jpeg.svn-base  \n  inflating: ../datasets/ALLSTIMULI/.svn/text-base/i2307584030.jpeg.svn-base  \n  inflating: ../datasets/ALLSTIMULI/.svn/text-base/i2308394240.jpeg.svn-base  \n  inflating: ../datasets/ALLSTIMULI/.svn/text-base/i2308842869.jpeg.svn-base  \n  inflating: ../datasets/ALLSTIMULI/.svn/text-base/i2309002059.jpeg.svn-base  \n  inflating: ../datasets/ALLSTIMULI/.svn/text-base/i2309143405.jpeg.svn-base  \n  inflating: ../datasets/ALLSTIMULI/.svn/text-base/i2309997405.jpeg.svn-base  \n  inflating: ../datasets/ALLSTIMULI/.svn/text-base/i2310011075.jpeg.svn-base  \n  inflating: ../datasets/ALLSTIMULI/.svn/text-base/i2310025483.jpeg.svn-base  \n  inflating: ../datasets/ALLSTIMULI/.svn/text-base/i2310037773.jpeg.svn-base  \n  inflating: ../datasets/ALLSTIMULI/.svn/text-base/i2310105376.jpeg.svn-base  \n  inflating: ../datasets/ALLSTIMULI/.svn/text-base/i2310876153.jpeg.svn-base  \n  inflating: ../datasets/ALLSTIMULI/.svn/text-base/i2311048559.jpeg.svn-base  \n  inflating: ../datasets/ALLSTIMULI/.svn/text-base/i2311360809.jpeg.svn-base  \n  inflating: ../datasets/ALLSTIMULI/.svn/text-base/i2312141889.jpeg.svn-base  \n  inflating: ../datasets/ALLSTIMULI/.svn/text-base/i2312211495.jpeg.svn-base  \n  inflating: ../datasets/ALLSTIMULI/.svn/text-base/i2312920143.jpeg.svn-base  \n  inflating: ../datasets/ALLSTIMULI/.svn/text-base/i2313446865.jpeg.svn-base  \n  inflating: ../datasets/ALLSTIMULI/.svn/text-base/i2313869697.jpeg.svn-base  \n  inflating: ../datasets/ALLSTIMULI/.svn/text-base/i2313874233.jpeg.svn-base  \n  inflating: ../datasets/ALLSTIMULI/.svn/text-base/i2316452961.jpeg.svn-base  \n  inflating: ../datasets/ALLSTIMULI/.svn/text-base/i245864757.jpeg.svn-base  \n  inflating: ../datasets/ALLSTIMULI/.svn/text-base/i24622350.jpeg.svn-base  \n  inflating: ../datasets/ALLSTIMULI/.svn/text-base/i246575348.jpeg.svn-base  \n  inflating: ../datasets/ALLSTIMULI/.svn/text-base/i281369959.jpeg.svn-base  \n  inflating: ../datasets/ALLSTIMULI/.svn/text-base/i282863243.jpeg.svn-base  \n  inflating: ../datasets/ALLSTIMULI/.svn/text-base/i307151791.jpeg.svn-base  \n  inflating: ../datasets/ALLSTIMULI/.svn/text-base/i30may05_static_street_cambridge_p1010717.jpeg.svn-base  \n  inflating: ../datasets/ALLSTIMULI/.svn/text-base/i30may05_static_street_cambridge_p1010735.jpeg.svn-base  \n  inflating: ../datasets/ALLSTIMULI/.svn/text-base/i335910791.jpeg.svn-base  \n  inflating: ../datasets/ALLSTIMULI/.svn/text-base/i33894157.jpeg.svn-base  \n  inflating: ../datasets/ALLSTIMULI/.svn/text-base/i348747407.jpeg.svn-base  \n  inflating: ../datasets/ALLSTIMULI/.svn/text-base/i350435387.jpeg.svn-base  \n  inflating: ../datasets/ALLSTIMULI/.svn/text-base/i375779601.jpeg.svn-base  \n  inflating: ../datasets/ALLSTIMULI/.svn/text-base/i391150010.jpeg.svn-base  \n  inflating: ../datasets/ALLSTIMULI/.svn/text-base/i40576393.jpeg.svn-base  \n  inflating: ../datasets/ALLSTIMULI/.svn/text-base/i41829193.jpeg.svn-base  \n  inflating: ../datasets/ALLSTIMULI/.svn/text-base/i418843655.jpeg.svn-base  \n  inflating: ../datasets/ALLSTIMULI/.svn/text-base/i41930076.jpeg.svn-base  \n  inflating: ../datasets/ALLSTIMULI/.svn/text-base/i420400353.jpeg.svn-base  \n  inflating: ../datasets/ALLSTIMULI/.svn/text-base/i436895919.jpeg.svn-base  \n  inflating: ../datasets/ALLSTIMULI/.svn/text-base/i441014928.jpeg.svn-base  \n  inflating: ../datasets/ALLSTIMULI/.svn/text-base/i441015422.jpeg.svn-base  \n  inflating: ../datasets/ALLSTIMULI/.svn/text-base/i443027538.jpeg.svn-base  \n  inflating: ../datasets/ALLSTIMULI/.svn/text-base/i446655072.jpeg.svn-base  \n  inflating: ../datasets/ALLSTIMULI/.svn/text-base/i4466881.jpeg.svn-base  \n  inflating: ../datasets/ALLSTIMULI/.svn/text-base/i450075958.jpeg.svn-base  \n  inflating: ../datasets/ALLSTIMULI/.svn/text-base/i450075962.jpeg.svn-base  \n  inflating: ../datasets/ALLSTIMULI/.svn/text-base/i455593157.jpeg.svn-base  \n  inflating: ../datasets/ALLSTIMULI/.svn/text-base/i457818913.jpeg.svn-base  \n  inflating: ../datasets/ALLSTIMULI/.svn/text-base/i467891882.jpeg.svn-base  \n  inflating: ../datasets/ALLSTIMULI/.svn/text-base/i540042392.jpeg.svn-base  \n  inflating: ../datasets/ALLSTIMULI/.svn/text-base/i64011654.jpeg.svn-base  \n  inflating: ../datasets/ALLSTIMULI/.svn/text-base/i666418509.jpeg.svn-base  \n  inflating: ../datasets/ALLSTIMULI/.svn/text-base/i698623061.jpeg.svn-base  \n  inflating: ../datasets/ALLSTIMULI/.svn/text-base/i698860717.jpeg.svn-base  \n  inflating: ../datasets/ALLSTIMULI/.svn/text-base/i758143153.jpeg.svn-base  \n  inflating: ../datasets/ALLSTIMULI/.svn/text-base/i758173517.jpeg.svn-base  \n  inflating: ../datasets/ALLSTIMULI/.svn/text-base/iapril21_static_outdoor_davis_img_0942.jpeg.svn-base  \n  inflating: ../datasets/ALLSTIMULI/.svn/text-base/ibarcelona_static_street_p9140514.jpeg.svn-base  \n  inflating: ../datasets/ALLSTIMULI/.svn/text-base/ibarcelona_static_street_p9150528.jpeg.svn-base  \n  inflating: ../datasets/ALLSTIMULI/.svn/text-base/imadrid_static_street_p9110480.jpeg.svn-base  \n  inflating: ../datasets/ALLSTIMULI/.svn/text-base/inov6_static_outdoor_img_0522.jpeg.svn-base  \n  inflating: ../datasets/ALLSTIMULI/.svn/text-base/ioffice_indoor_set2_web_static_despacho.jpeg.svn-base  \n  inflating: ../datasets/ALLSTIMULI/.svn/text-base/iseq_stereo_office_stata_oct24_img_19_00001_left.jpeg.svn-base  \n  inflating: ../datasets/ALLSTIMULI/.svn/text-base/istatic_barcelona_street_city_outdoor_2005_img_0303.jpeg.svn-base  \n  inflating: ../datasets/ALLSTIMULI/.svn/text-base/istatic_barcelona_street_city_outdoor_2005_img_0308.jpeg.svn-base  \n  inflating: ../datasets/ALLSTIMULI/.svn/text-base/istatic_barcelona_street_city_outdoor_2005_img_0391.jpeg.svn-base  \n  inflating: ../datasets/ALLSTIMULI/.svn/text-base/istatic_barcelona_street_city_outdoor_2005_img_0455.jpeg.svn-base  \n  inflating: ../datasets/ALLSTIMULI/.svn/text-base/istatic_barcelona_street_city_outdoor_2005_img_0553.jpeg.svn-base  \n  inflating: ../datasets/ALLSTIMULI/.svn/text-base/istatic_barcelona_street_city_outdoor_2005_img_0561.jpeg.svn-base  \n  inflating: ../datasets/ALLSTIMULI/.svn/text-base/istatic_barcelona_street_city_outdoor_2005_img_0587.jpeg.svn-base  \n  inflating: ../datasets/ALLSTIMULI/.svn/text-base/istatic_barcelona_street_city_outdoor_2005_img_0588.jpeg.svn-base  \n  inflating: ../datasets/ALLSTIMULI/.svn/text-base/istatic_barcelona_street_city_outdoor_2_2005_dsc04120.jpeg.svn-base  \n  inflating: ../datasets/ALLSTIMULI/.svn/text-base/istatic_barcelona_street_city_outdoor_2_2005_dsc04121.jpeg.svn-base  \n  inflating: ../datasets/ALLSTIMULI/.svn/text-base/istatic_barcelona_street_city_outdoor_2_2005_dsc04140.jpeg.svn-base  \n  inflating: ../datasets/ALLSTIMULI/.svn/text-base/istatic_barcelona_street_city_outdoor_2_2005_dsc04265.jpeg.svn-base  \n  inflating: ../datasets/ALLSTIMULI/.svn/text-base/istatic_barcelona_street_city_outdoor_2_2005_dsc04303.jpeg.svn-base  \n  inflating: ../datasets/ALLSTIMULI/.svn/text-base/istatic_barcelona_street_city_outdoor_2_2005_dsc04318.jpeg.svn-base  \n  inflating: ../datasets/ALLSTIMULI/.svn/text-base/istatic_barcelona_street_city_outdoor_2_2005_dsc04417.jpeg.svn-base  \n  inflating: ../datasets/ALLSTIMULI/.svn/text-base/istatic_barcelona_street_city_outdoor_2_2005_img_0611.jpeg.svn-base  \n  inflating: ../datasets/ALLSTIMULI/.svn/text-base/istatic_barcelona_street_city_outdoor_2_2005_img_0612.jpeg.svn-base  \n  inflating: ../datasets/ALLSTIMULI/.svn/text-base/istatic_barcelona_street_city_outdoor_2_2005_img_0625.jpeg.svn-base  \n  inflating: ../datasets/ALLSTIMULI/.svn/text-base/istatic_barcelona_street_city_outdoor_2_2005_img_0650.jpeg.svn-base  \n  inflating: ../datasets/ALLSTIMULI/.svn/text-base/istatic_boston_street_april_p1010067.jpeg.svn-base  \n  inflating: ../datasets/ALLSTIMULI/.svn/text-base/istatic_boston_street_april_p1010179.jpeg.svn-base  \n  inflating: ../datasets/ALLSTIMULI/.svn/text-base/istatic_boston_street_april_p1010184.jpeg.svn-base  \n  inflating: ../datasets/ALLSTIMULI/.svn/text-base/istatic_boston_street_april_p1010271.jpeg.svn-base  \n  inflating: ../datasets/ALLSTIMULI/.svn/text-base/istatic_coast_landscape_outdoor_dsc03095.jpeg.svn-base  \n  inflating: ../datasets/ALLSTIMULI/.svn/text-base/istatic_coast_palafrugel_outdoor_spain_IMG_9165.jpeg.svn-base  \n  inflating: ../datasets/ALLSTIMULI/.svn/text-base/istatic_coast_palafrugel_outdoor_spain_IMG_9284.jpeg.svn-base  \n  inflating: ../datasets/ALLSTIMULI/.svn/text-base/istatic_hotel_room_indoor_IMG_0999.jpeg.svn-base  \n  inflating: ../datasets/ALLSTIMULI/.svn/text-base/istatic_hotel_room_indoor_IMG_1003.jpeg.svn-base  \n  inflating: ../datasets/ALLSTIMULI/.svn/text-base/istatic_hotel_room_indoor_IMG_1080.jpeg.svn-base  \n  inflating: ../datasets/ALLSTIMULI/.svn/text-base/istatic_hotel_room_indoor_IMG_1098.jpeg.svn-base  \n  inflating: ../datasets/ALLSTIMULI/.svn/text-base/istatic_hotel_room_indoor_IMG_1559.jpeg.svn-base  \n  inflating: ../datasets/ALLSTIMULI/.svn/text-base/istatic_hotel_room_indoor_IMG_3208.jpeg.svn-base  \n  inflating: ../datasets/ALLSTIMULI/.svn/text-base/istatic_hotel_room_indoor_IMG_3264.jpeg.svn-base  \n  inflating: ../datasets/ALLSTIMULI/.svn/text-base/istatic_hotel_room_indoor_IMG_3265.jpeg.svn-base  \n  inflating: ../datasets/ALLSTIMULI/.svn/text-base/istatic_hotel_room_indoor_IMG_3274.jpeg.svn-base  \n  inflating: ../datasets/ALLSTIMULI/.svn/text-base/istatic_houses_boston_2005_IMG_3629.jpeg.svn-base  \n  inflating: ../datasets/ALLSTIMULI/.svn/text-base/istatic_houses_boston_2005_IMG_4024.jpeg.svn-base  \n  inflating: ../datasets/ALLSTIMULI/.svn/text-base/istatic_houses_boston_2005_IMG_4108.jpeg.svn-base  \n  inflating: ../datasets/ALLSTIMULI/.svn/text-base/istatic_indoor_mixed_img_0998.jpeg.svn-base  \n  inflating: ../datasets/ALLSTIMULI/.svn/text-base/istatic_madrid_outdoor_august_2005_img_0844.jpeg.svn-base  \n  inflating: ../datasets/ALLSTIMULI/.svn/text-base/istatic_newyork_cvpr_celiu_june_2006_IMG_2359.jpeg.svn-base  \n  inflating: ../datasets/ALLSTIMULI/.svn/text-base/istatic_outdoor_airport_IMG_1469.jpeg.svn-base  \n  inflating: ../datasets/ALLSTIMULI/.svn/text-base/istatic_outdoor_bay_area_submitted_alyosha_efros_102_0213.jpeg.svn-base  \n  inflating: ../datasets/ALLSTIMULI/.svn/text-base/istatic_outdoor_bay_area_submitted_alyosha_efros_126_2639.jpeg.svn-base  \n  inflating: ../datasets/ALLSTIMULI/.svn/text-base/istatic_outdoor_mallorca_spain_IMG_8527.jpeg.svn-base  \n  inflating: ../datasets/ALLSTIMULI/.svn/text-base/istatic_outdoor_nature_tanzania_photos_by_fredo_durand_060811_125130__Z9B0580.jpeg.svn-base  \n  inflating: ../datasets/ALLSTIMULI/.svn/text-base/istatic_outdoor_road_mallorca_spain_IMG_0540.jpeg.svn-base  \n  inflating: ../datasets/ALLSTIMULI/.svn/text-base/istatic_outdoor_road_mallorca_spain_IMG_0544.jpeg.svn-base  \n  inflating: ../datasets/ALLSTIMULI/.svn/text-base/istatic_outdoor_road_mallorca_spain_IMG_0621.jpeg.svn-base  \n  inflating: ../datasets/ALLSTIMULI/.svn/text-base/istatic_outdoor_road_mallorca_spain_IMG_0641.jpeg.svn-base  \n  inflating: ../datasets/ALLSTIMULI/.svn/text-base/istatic_outdoor_road_mallorca_spain_IMG_0642.jpeg.svn-base  \n  inflating: ../datasets/ALLSTIMULI/.svn/text-base/istatic_outdoor_street_city_barcelona_spain_night_img_1967.jpeg.svn-base  \n  inflating: ../datasets/ALLSTIMULI/.svn/text-base/istatic_outdoor_street_city_barcelona_spain_night_img_1973.jpeg.svn-base  \n  inflating: ../datasets/ALLSTIMULI/.svn/text-base/istatic_outdoor_street_city_cambridge_uk_IMG_8687.jpeg.svn-base  \n  inflating: ../datasets/ALLSTIMULI/.svn/text-base/istatic_outdoor_street_city_cambridge_uk_IMG_8702.jpeg.svn-base  \n  inflating: ../datasets/ALLSTIMULI/.svn/text-base/istatic_outdoor_street_city_cambridge_uk_IMG_8778.jpeg.svn-base  \n  inflating: ../datasets/ALLSTIMULI/.svn/text-base/istatic_outdoor_street_city_cambridge_uk_IMG_8893.jpeg.svn-base  \n  inflating: ../datasets/ALLSTIMULI/.svn/text-base/istatic_outdoor_street_village_puigpunyent_mallorca_spain_IMG_4162.jpeg.svn-base  \n  inflating: ../datasets/ALLSTIMULI/.svn/text-base/istatic_outdoor_street_village_puigpunyent_mallorca_spain_IMG_4206.jpeg.svn-base  \n  inflating: ../datasets/ALLSTIMULI/.svn/text-base/istatic_outdoor_street_village_puigpunyent_mallorca_spain_IMG_4220.jpeg.svn-base  \n  inflating: ../datasets/ALLSTIMULI/.svn/text-base/istatic_outdoor_urban_city_london_uk_IMG_8638.jpeg.svn-base  \n  inflating: ../datasets/ALLSTIMULI/.svn/text-base/istatic_outdoor_urban_city_street_coruna_spain_IMG_7851.jpeg.svn-base  \n  inflating: ../datasets/ALLSTIMULI/.svn/text-base/istatic_outdoor_urban_city_street_coruna_spain_IMG_7853.jpeg.svn-base  \n  inflating: ../datasets/ALLSTIMULI/.svn/text-base/istatic_outdoor_urban_city_street_coruna_spain_IMG_7859.jpeg.svn-base  \n  inflating: ../datasets/ALLSTIMULI/.svn/text-base/istatic_outdoor_urban_city_street_coruna_spain_IMG_7863.jpeg.svn-base  \n  inflating: ../datasets/ALLSTIMULI/.svn/text-base/istatic_outdoor_urban_city_street_coruna_spain_IMG_8008.jpeg.svn-base  \n  inflating: ../datasets/ALLSTIMULI/.svn/text-base/istatic_palma_outdoor_august_2005_set2_img_1618.jpeg.svn-base  \n  inflating: ../datasets/ALLSTIMULI/.svn/text-base/istatic_park_outdoor_boston_IMG_0134.jpeg.svn-base  \n  inflating: ../datasets/ALLSTIMULI/.svn/text-base/istatic_street_cambridge_outdoor_july_2005_img_0270.jpeg.svn-base  \n  inflating: ../datasets/ALLSTIMULI/.svn/text-base/istatic_street_outdoor_palma_mallorca_spain_IMG_0459.jpeg.svn-base  \n  inflating: ../datasets/ALLSTIMULI/.svn/text-base/istatic_street_outdoor_palma_mallorca_spain_IMG_0686.jpeg.svn-base  \n  inflating: ../datasets/ALLSTIMULI/.svn/text-base/istatic_street_outdoor_palma_mallorca_spain_IMG_0706.jpeg.svn-base  \n  inflating: ../datasets/ALLSTIMULI/.svn/text-base/istatic_street_outdoor_palma_mallorca_spain_IMG_0714.jpeg.svn-base  \n  inflating: ../datasets/ALLSTIMULI/.svn/text-base/istatic_street_outdoor_palma_mallorca_spain_IMG_0805.jpeg.svn-base  \n  inflating: ../datasets/ALLSTIMULI/.svn/text-base/istatic_submitted_saxena_chung_ng_nips2005_learningdepth_img_gatesback2_p_15t0.jpeg.svn-base  \n  inflating: ../datasets/ALLSTIMULI/.svn/text-base/istatic_submitted_saxena_chung_ng_nips2005_learningdepth_img_manmade5_p_139t0.jpeg.svn-base  \n  inflating: ../datasets/ALLSTIMULI/.svn/text-base/istatic_submitted_saxena_chung_ng_nips2005_learningdepth_img_manmade7_p_343t0.jpeg.svn-base  \n  inflating: ../datasets/ALLSTIMULI/.svn/text-base/istatic_submitted_saxena_chung_ng_nips2005_learningdepth_img_math14_p_313t0.jpeg.svn-base  \n  inflating: ../datasets/ALLSTIMULI/.svn/text-base/syntheticData1.jpeg.svn-base  \n  inflating: ../datasets/ALLSTIMULI/.svn/text-base/syntheticData2.jpeg.svn-base  \n  inflating: ../datasets/ALLSTIMULI/.svn/text-base/syntheticData3.jpeg.svn-base  \n  inflating: ../datasets/ALLSTIMULI/.svn/text-base/syntheticData4.jpeg.svn-base  \n   creating: ../datasets/ALLSTIMULI/.svn/tmp/\n   creating: ../datasets/ALLSTIMULI/.svn/tmp/prop-base/\n   creating: ../datasets/ALLSTIMULI/.svn/tmp/props/\n   creating: ../datasets/ALLSTIMULI/.svn/tmp/text-base/\n  inflating: ../datasets/ALLSTIMULI/i05june05_static_street_boston_p1010764.jpeg  \n  inflating: ../datasets/ALLSTIMULI/i05june05_static_street_boston_p1010785.jpeg  \n  inflating: ../datasets/ALLSTIMULI/i05june05_static_street_boston_p1010800.jpeg  \n  inflating: ../datasets/ALLSTIMULI/i05june05_static_street_boston_p1010806.jpeg  \n  inflating: ../datasets/ALLSTIMULI/i05june05_static_street_boston_p1010808.jpeg  \n  inflating: ../datasets/ALLSTIMULI/i05june05_static_street_boston_p1010816.jpeg  \n  inflating: ../datasets/ALLSTIMULI/i05june05_static_street_boston_p1010855.jpeg  \n  inflating: ../datasets/ALLSTIMULI/i05june05_static_street_boston_p1010885.jpeg  \n  inflating: ../datasets/ALLSTIMULI/i05june05_static_street_boston_p1010907.jpeg  \n  inflating: ../datasets/ALLSTIMULI/i1000274881.jpeg  \n  inflating: ../datasets/ALLSTIMULI/i1000978947.jpeg  \n  inflating: ../datasets/ALLSTIMULI/i1007068829.jpeg  \n  inflating: ../datasets/ALLSTIMULI/i100856683.jpeg  \n  inflating: ../datasets/ALLSTIMULI/i1010483663.jpeg  \n  inflating: ../datasets/ALLSTIMULI/i1011319098.jpeg  \n  inflating: ../datasets/ALLSTIMULI/i1014163009.jpeg  \n  inflating: ../datasets/ALLSTIMULI/i1016451573.jpeg  \n  inflating: ../datasets/ALLSTIMULI/i1019046221.jpeg  \n  inflating: ../datasets/ALLSTIMULI/i1019928312.jpeg  \n  inflating: ../datasets/ALLSTIMULI/i1021218710.jpeg  \n  inflating: ../datasets/ALLSTIMULI/i1022085609.jpeg  \n  inflating: ../datasets/ALLSTIMULI/i1023439436.jpeg  \n  inflating: ../datasets/ALLSTIMULI/i102423191.jpeg  \n  inflating: ../datasets/ALLSTIMULI/i1025035805.jpeg  \n  inflating: ../datasets/ALLSTIMULI/i1025113889.jpeg  \n  inflating: ../datasets/ALLSTIMULI/i1025132509.jpeg  \n  inflating: ../datasets/ALLSTIMULI/i103134560.jpeg  \n  inflating: ../datasets/ALLSTIMULI/i1031604161.jpeg  \n  inflating: ../datasets/ALLSTIMULI/i1031917817.jpeg  \n  inflating: ../datasets/ALLSTIMULI/i1032358.jpeg  \n  inflating: ../datasets/ALLSTIMULI/i1032393.jpeg  \n  inflating: ../datasets/ALLSTIMULI/i103385030.jpeg  \n  inflating: ../datasets/ALLSTIMULI/i103385035.jpeg  \n  inflating: ../datasets/ALLSTIMULI/i1035544976.jpeg  \n  inflating: ../datasets/ALLSTIMULI/i1040585936.jpeg  \n  inflating: ../datasets/ALLSTIMULI/i1042209003.jpeg  \n  inflating: ../datasets/ALLSTIMULI/i104267087.jpeg  \n  inflating: ../datasets/ALLSTIMULI/i1043252298.jpeg  \n  inflating: ../datasets/ALLSTIMULI/i104879632.jpeg  \n  inflating: ../datasets/ALLSTIMULI/i104880109.jpeg  \n  inflating: ../datasets/ALLSTIMULI/i104935329.jpeg  \n  inflating: ../datasets/ALLSTIMULI/i1049420118.jpeg  \n  inflating: ../datasets/ALLSTIMULI/i105126201.jpeg  \n  inflating: ../datasets/ALLSTIMULI/i105415081.jpeg  \n  inflating: ../datasets/ALLSTIMULI/i105615320.jpeg  \n  inflating: ../datasets/ALLSTIMULI/i105918635.jpeg  \n  inflating: ../datasets/ALLSTIMULI/i1060622926.jpeg  \n  inflating: ../datasets/ALLSTIMULI/i1061875704.jpeg  \n  inflating: ../datasets/ALLSTIMULI/i106389849.jpeg  \n  inflating: ../datasets/ALLSTIMULI/i106390852.jpeg  \n  inflating: ../datasets/ALLSTIMULI/i1064228254.jpeg  \n  inflating: ../datasets/ALLSTIMULI/i1064999233.jpeg  \n  inflating: ../datasets/ALLSTIMULI/i1065019259.jpeg  \n  inflating: ../datasets/ALLSTIMULI/i1065169436.jpeg  \n  inflating: ../datasets/ALLSTIMULI/i1066946823.jpeg  \n  inflating: ../datasets/ALLSTIMULI/i1071145422.jpeg  \n  inflating: ../datasets/ALLSTIMULI/i107362766.jpeg  \n  inflating: ../datasets/ALLSTIMULI/i1073650522.jpeg  \n  inflating: ../datasets/ALLSTIMULI/i1074021825.jpeg  \n  inflating: ../datasets/ALLSTIMULI/i1074359567.jpeg  \n  inflating: ../datasets/ALLSTIMULI/i1075466100.jpeg  \n  inflating: ../datasets/ALLSTIMULI/i107724041.jpeg  \n  inflating: ../datasets/ALLSTIMULI/i1079765858.jpeg  \n  inflating: ../datasets/ALLSTIMULI/i1080181540.jpeg  \n  inflating: ../datasets/ALLSTIMULI/i1082647.jpeg  \n  inflating: ../datasets/ALLSTIMULI/i1086742403.jpeg  \n  inflating: ../datasets/ALLSTIMULI/i108784287.jpeg  \n  inflating: ../datasets/ALLSTIMULI/i1089044309.jpeg  \n  inflating: ../datasets/ALLSTIMULI/i10941198.jpeg  \n  inflating: ../datasets/ALLSTIMULI/i1094694998.jpeg  \n  inflating: ../datasets/ALLSTIMULI/i109572486.jpeg  \n  inflating: ../datasets/ALLSTIMULI/i1099936696.jpeg  \n  inflating: ../datasets/ALLSTIMULI/i10feb04_static_cars_highland_img_0843.jpeg  \n  inflating: ../datasets/ALLSTIMULI/i10feb04_static_cars_highland_img_0847.jpeg  \n  inflating: ../datasets/ALLSTIMULI/i10feb04_static_techsquare_img_0873.jpeg  \n  inflating: ../datasets/ALLSTIMULI/i110545600.jpeg  \n  inflating: ../datasets/ALLSTIMULI/i1107247595.jpeg  \n  inflating: ../datasets/ALLSTIMULI/i1107916524.jpeg  \n  inflating: ../datasets/ALLSTIMULI/i110996888.jpeg  \n  inflating: ../datasets/ALLSTIMULI/i1113064474.jpeg  \n  inflating: ../datasets/ALLSTIMULI/i111366726.jpeg  \n  inflating: ../datasets/ALLSTIMULI/i111369435.jpeg  \n  inflating: ../datasets/ALLSTIMULI/i111373642.jpeg  \n  inflating: ../datasets/ALLSTIMULI/i1115183390.jpeg  \n  inflating: ../datasets/ALLSTIMULI/i1116123355.jpeg  \n  inflating: ../datasets/ALLSTIMULI/i1116953942.jpeg  \n  inflating: ../datasets/ALLSTIMULI/i1117616565.jpeg  \n  inflating: ../datasets/ALLSTIMULI/i1117993383.jpeg  \n  inflating: ../datasets/ALLSTIMULI/i1118636964.jpeg  \n  inflating: ../datasets/ALLSTIMULI/i112041276.jpeg  \n  inflating: ../datasets/ALLSTIMULI/i1121584164.jpeg  \n  inflating: ../datasets/ALLSTIMULI/i1122022227.jpeg  \n  inflating: ../datasets/ALLSTIMULI/i1122841352.jpeg  \n  inflating: ../datasets/ALLSTIMULI/i1126243635.jpeg  \n  inflating: ../datasets/ALLSTIMULI/i1130496707.jpeg  \n  inflating: ../datasets/ALLSTIMULI/i1130504626.jpeg  \n  inflating: ../datasets/ALLSTIMULI/i1131124824.jpeg  \n  inflating: ../datasets/ALLSTIMULI/i1131209719.jpeg  \n  inflating: ../datasets/ALLSTIMULI/i1132643854.jpeg  \n  inflating: ../datasets/ALLSTIMULI/i113347896.jpeg  \n  inflating: ../datasets/ALLSTIMULI/i1133557495.jpeg  \n  inflating: ../datasets/ALLSTIMULI/i1134327970.jpeg  \n  inflating: ../datasets/ALLSTIMULI/i113829406.jpeg  \n  inflating: ../datasets/ALLSTIMULI/i1138885959.jpeg  \n  inflating: ../datasets/ALLSTIMULI/i113908266.jpeg  \n  inflating: ../datasets/ALLSTIMULI/i113911116.jpeg  \n  inflating: ../datasets/ALLSTIMULI/i113913836.jpeg  \n  inflating: ../datasets/ALLSTIMULI/i113941602.jpeg  \n  inflating: ../datasets/ALLSTIMULI/i1139671063.jpeg  \n  inflating: ../datasets/ALLSTIMULI/i1139715898.jpeg  \n  inflating: ../datasets/ALLSTIMULI/i1139720852.jpeg  \n  inflating: ../datasets/ALLSTIMULI/i113985471.jpeg  \n  inflating: ../datasets/ALLSTIMULI/i114124777.jpeg  \n  inflating: ../datasets/ALLSTIMULI/i114175990.jpeg  \n  inflating: ../datasets/ALLSTIMULI/i1142164052.jpeg  \n  inflating: ../datasets/ALLSTIMULI/i1143521266.jpeg  \n  inflating: ../datasets/ALLSTIMULI/i1143924367.jpeg  \n  inflating: ../datasets/ALLSTIMULI/i1145957845.jpeg  \n  inflating: ../datasets/ALLSTIMULI/i114742201.jpeg  \n  inflating: ../datasets/ALLSTIMULI/i1147516428.jpeg  \n  inflating: ../datasets/ALLSTIMULI/i11560614.jpeg  \n  inflating: ../datasets/ALLSTIMULI/i1156480850.jpeg  \n  inflating: ../datasets/ALLSTIMULI/i1158217360.jpeg  \n  inflating: ../datasets/ALLSTIMULI/i1158544165.jpeg  \n  inflating: ../datasets/ALLSTIMULI/i1158892521.jpeg  \n  inflating: ../datasets/ALLSTIMULI/i1158900179.jpeg  \n  inflating: ../datasets/ALLSTIMULI/i1158903665.jpeg  \n  inflating: ../datasets/ALLSTIMULI/i1161381449.jpeg  \n  inflating: ../datasets/ALLSTIMULI/i1162738677.jpeg  \n  inflating: ../datasets/ALLSTIMULI/i1163341362.jpeg  \n  inflating: ../datasets/ALLSTIMULI/i1163616258.jpeg  \n  inflating: ../datasets/ALLSTIMULI/i1163635870.jpeg  \n  inflating: ../datasets/ALLSTIMULI/i1164346942.jpeg  \n  inflating: ../datasets/ALLSTIMULI/i116604700.jpeg  \n  inflating: ../datasets/ALLSTIMULI/i1166229983.jpeg  \n  inflating: ../datasets/ALLSTIMULI/i1169220553.jpeg  \n  inflating: ../datasets/ALLSTIMULI/i1172413505.jpeg  \n  inflating: ../datasets/ALLSTIMULI/i1176114117.jpeg  \n  inflating: ../datasets/ALLSTIMULI/i1176623615.jpeg  \n  inflating: ../datasets/ALLSTIMULI/i1177389596.jpeg  \n  inflating: ../datasets/ALLSTIMULI/i1177391126.jpeg  \n  inflating: ../datasets/ALLSTIMULI/i117772445.jpeg  \n  inflating: ../datasets/ALLSTIMULI/i1182314083.jpeg  \n  inflating: ../datasets/ALLSTIMULI/i1182505554.jpeg  \n  inflating: ../datasets/ALLSTIMULI/i1185710392.jpeg  \n  inflating: ../datasets/ALLSTIMULI/i118680869.jpeg  \n  inflating: ../datasets/ALLSTIMULI/i1187451298.jpeg  \n  inflating: ../datasets/ALLSTIMULI/i1190302019.jpeg  \n  inflating: ../datasets/ALLSTIMULI/i1190306215.jpeg  \n  inflating: ../datasets/ALLSTIMULI/i1198772915.jpeg  \n  inflating: ../datasets/ALLSTIMULI/i1199505141.jpeg  \n  inflating: ../datasets/ALLSTIMULI/i120225437.jpeg  \n  inflating: ../datasets/ALLSTIMULI/i12030916.jpeg  \n  inflating: ../datasets/ALLSTIMULI/i1203833517.jpeg  \n  inflating: ../datasets/ALLSTIMULI/i12049788.jpeg  \n  inflating: ../datasets/ALLSTIMULI/i1205929127.jpeg  \n  inflating: ../datasets/ALLSTIMULI/i1206857407.jpeg  \n  inflating: ../datasets/ALLSTIMULI/i1207262076.jpeg  \n  inflating: ../datasets/ALLSTIMULI/i1209163197.jpeg  \n  inflating: ../datasets/ALLSTIMULI/i1217965345.jpeg  \n  inflating: ../datasets/ALLSTIMULI/i1217995119.jpeg  \n  inflating: ../datasets/ALLSTIMULI/i1222460064.jpeg  \n  inflating: ../datasets/ALLSTIMULI/i1228653180.jpeg  \n  inflating: ../datasets/ALLSTIMULI/i1229102713.jpeg  \n  inflating: ../datasets/ALLSTIMULI/i1231061555.jpeg  \n  inflating: ../datasets/ALLSTIMULI/i1232366169.jpeg  \n  inflating: ../datasets/ALLSTIMULI/i1232952864.jpeg  \n  inflating: ../datasets/ALLSTIMULI/i123476629.jpeg  \n  inflating: ../datasets/ALLSTIMULI/i1235260142.jpeg  \n  inflating: ../datasets/ALLSTIMULI/i1236338489.jpeg  \n  inflating: ../datasets/ALLSTIMULI/i1240539233.jpeg  \n  inflating: ../datasets/ALLSTIMULI/i1243968281.jpeg  \n  inflating: ../datasets/ALLSTIMULI/i124489010.jpeg  \n  inflating: ../datasets/ALLSTIMULI/i1245116076.jpeg  \n  inflating: ../datasets/ALLSTIMULI/i1246228365.jpeg  \n  inflating: ../datasets/ALLSTIMULI/i1246347137.jpeg  \n  inflating: ../datasets/ALLSTIMULI/i1246367427.jpeg  \n  inflating: ../datasets/ALLSTIMULI/i1246368617.jpeg  \n  inflating: ../datasets/ALLSTIMULI/i1246371431.jpeg  \n  inflating: ../datasets/ALLSTIMULI/i124682633.jpeg  \n  inflating: ../datasets/ALLSTIMULI/i1247210024.jpeg  \n  inflating: ../datasets/ALLSTIMULI/i1247865242.jpeg  \n  inflating: ../datasets/ALLSTIMULI/i1248920013.jpeg  \n  inflating: ../datasets/ALLSTIMULI/i1248939379.jpeg  \n  inflating: ../datasets/ALLSTIMULI/i125087769.jpeg  \n  inflating: ../datasets/ALLSTIMULI/i1251979217.jpeg  \n  inflating: ../datasets/ALLSTIMULI/i125218174.jpeg  \n  inflating: ../datasets/ALLSTIMULI/i1252592787.jpeg  \n  inflating: ../datasets/ALLSTIMULI/i1252680396.jpeg  \n  inflating: ../datasets/ALLSTIMULI/i1252871718.jpeg  \n  inflating: ../datasets/ALLSTIMULI/i125393007.jpeg  \n  inflating: ../datasets/ALLSTIMULI/i1257775141.jpeg  \n  inflating: ../datasets/ALLSTIMULI/i1260588917.jpeg  \n  inflating: ../datasets/ALLSTIMULI/i1260655983.jpeg  \n  inflating: ../datasets/ALLSTIMULI/i126277076.jpeg  \n  inflating: ../datasets/ALLSTIMULI/i126446520.jpeg  \n  inflating: ../datasets/ALLSTIMULI/i126605331.jpeg  \n  inflating: ../datasets/ALLSTIMULI/i1267668332.jpeg  \n  inflating: ../datasets/ALLSTIMULI/i126850786.jpeg  \n  inflating: ../datasets/ALLSTIMULI/i1270375142.jpeg  \n  inflating: ../datasets/ALLSTIMULI/i1272116803.jpeg  \n  inflating: ../datasets/ALLSTIMULI/i1272119743.jpeg  \n  inflating: ../datasets/ALLSTIMULI/i127442050.jpeg  \n  inflating: ../datasets/ALLSTIMULI/i1275003744.jpeg  \n  inflating: ../datasets/ALLSTIMULI/i1276571229.jpeg  \n  inflating: ../datasets/ALLSTIMULI/i1280080218.jpeg  \n  inflating: ../datasets/ALLSTIMULI/i1280528250.jpeg  \n  inflating: ../datasets/ALLSTIMULI/i128320633.jpeg  \n  inflating: ../datasets/ALLSTIMULI/i1295408832.jpeg  \n  inflating: ../datasets/ALLSTIMULI/i1295626324.jpeg  \n  inflating: ../datasets/ALLSTIMULI/i1296050196.jpeg  \n  inflating: ../datasets/ALLSTIMULI/i129682290.jpeg  \n  inflating: ../datasets/ALLSTIMULI/i1297641633.jpeg  \n  inflating: ../datasets/ALLSTIMULI/i129772911.jpeg  \n  inflating: ../datasets/ALLSTIMULI/i129796908.jpeg  \n  inflating: ../datasets/ALLSTIMULI/i130022388.jpeg  \n  inflating: ../datasets/ALLSTIMULI/i1300905195.jpeg  \n  inflating: ../datasets/ALLSTIMULI/i1300910455.jpeg  \n  inflating: ../datasets/ALLSTIMULI/i1302165994.jpeg  \n  inflating: ../datasets/ALLSTIMULI/i130736782.jpeg  \n  inflating: ../datasets/ALLSTIMULI/i1308677325.jpeg  \n  inflating: ../datasets/ALLSTIMULI/i1308682205.jpeg  \n  inflating: ../datasets/ALLSTIMULI/i1312550716.jpeg  \n  inflating: ../datasets/ALLSTIMULI/i131993073.jpeg  \n  inflating: ../datasets/ALLSTIMULI/i132306037.jpeg  \n  inflating: ../datasets/ALLSTIMULI/i132306528.jpeg  \n  inflating: ../datasets/ALLSTIMULI/i132306741.jpeg  \n  inflating: ../datasets/ALLSTIMULI/i132416605.jpeg  \n  inflating: ../datasets/ALLSTIMULI/i132418079.jpeg  \n  inflating: ../datasets/ALLSTIMULI/i132419257.jpeg  \n  inflating: ../datasets/ALLSTIMULI/i1325243029.jpeg  \n  inflating: ../datasets/ALLSTIMULI/i1325514089.jpeg  \n  inflating: ../datasets/ALLSTIMULI/i132672866.jpeg  \n  inflating: ../datasets/ALLSTIMULI/i1326772343.jpeg  \n  inflating: ../datasets/ALLSTIMULI/i133055176.jpeg  \n  inflating: ../datasets/ALLSTIMULI/i1332346516.jpeg  \n  inflating: ../datasets/ALLSTIMULI/i1335933891.jpeg  \n  inflating: ../datasets/ALLSTIMULI/i1336805698.jpeg  \n  inflating: ../datasets/ALLSTIMULI/i1338484745.jpeg  \n  inflating: ../datasets/ALLSTIMULI/i1338496399.jpeg  \n  inflating: ../datasets/ALLSTIMULI/i133905582.jpeg  \n  inflating: ../datasets/ALLSTIMULI/i1343103601.jpeg  \n  inflating: ../datasets/ALLSTIMULI/i134430368.jpeg  \n  inflating: ../datasets/ALLSTIMULI/i1344739819.jpeg  \n  inflating: ../datasets/ALLSTIMULI/i134585813.jpeg  \n  inflating: ../datasets/ALLSTIMULI/i134592788.jpeg  \n  inflating: ../datasets/ALLSTIMULI/i1346278050.jpeg  \n  inflating: ../datasets/ALLSTIMULI/i134694966.jpeg  \n  inflating: ../datasets/ALLSTIMULI/i1349055388.jpeg  \n  inflating: ../datasets/ALLSTIMULI/i1351438699.jpeg  \n  inflating: ../datasets/ALLSTIMULI/i1355213079.jpeg  \n  inflating: ../datasets/ALLSTIMULI/i1355286331.jpeg  \n  inflating: ../datasets/ALLSTIMULI/i135996473.jpeg  \n  inflating: ../datasets/ALLSTIMULI/i1361149388.jpeg  \n  inflating: ../datasets/ALLSTIMULI/i1362671223.jpeg  \n  inflating: ../datasets/ALLSTIMULI/i1368050923.jpeg  \n  inflating: ../datasets/ALLSTIMULI/i1368359073.jpeg  \n  inflating: ../datasets/ALLSTIMULI/i1370407372.jpeg  \n  inflating: ../datasets/ALLSTIMULI/i138348611.jpeg  \n  inflating: ../datasets/ALLSTIMULI/i1388086595.jpeg  \n  inflating: ../datasets/ALLSTIMULI/i1388275624.jpeg  \n  inflating: ../datasets/ALLSTIMULI/i1388450272.jpeg  \n  inflating: ../datasets/ALLSTIMULI/i1388704075.jpeg  \n  inflating: ../datasets/ALLSTIMULI/i1389946337.jpeg  \n  inflating: ../datasets/ALLSTIMULI/i1390242687.jpeg  \n  inflating: ../datasets/ALLSTIMULI/i1390834220.jpeg  \n  inflating: ../datasets/ALLSTIMULI/i13910717.jpeg  \n  inflating: ../datasets/ALLSTIMULI/i1394080896.jpeg  \n  inflating: ../datasets/ALLSTIMULI/i1395373257.jpeg  \n  inflating: ../datasets/ALLSTIMULI/i1395380429.jpeg  \n  inflating: ../datasets/ALLSTIMULI/i1398733076.jpeg  \n  inflating: ../datasets/ALLSTIMULI/i14020903.jpeg  \n  inflating: ../datasets/ALLSTIMULI/i1413522668.jpeg  \n  inflating: ../datasets/ALLSTIMULI/i1414673039.jpeg  \n  inflating: ../datasets/ALLSTIMULI/i1425513894.jpeg  \n  inflating: ../datasets/ALLSTIMULI/i1425518494.jpeg  \n  inflating: ../datasets/ALLSTIMULI/i1425519942.jpeg  \n  inflating: ../datasets/ALLSTIMULI/i1426163477.jpeg  \n  inflating: ../datasets/ALLSTIMULI/i1426598345.jpeg  \n  inflating: ../datasets/ALLSTIMULI/i1426605399.jpeg  \n  inflating: ../datasets/ALLSTIMULI/i1426615161.jpeg  \n  inflating: ../datasets/ALLSTIMULI/i142662322.jpeg  \n  inflating: ../datasets/ALLSTIMULI/i1427101898.jpeg  \n  inflating: ../datasets/ALLSTIMULI/i1427114536.jpeg  \n  inflating: ../datasets/ALLSTIMULI/i1429004931.jpeg  \n  inflating: ../datasets/ALLSTIMULI/i1429029695.jpeg  \n  inflating: ../datasets/ALLSTIMULI/i1430117625.jpeg  \n  inflating: ../datasets/ALLSTIMULI/i1430672270.jpeg  \n  inflating: ../datasets/ALLSTIMULI/i1431286095.jpeg  \n  inflating: ../datasets/ALLSTIMULI/i1433281460.jpeg  \n  inflating: ../datasets/ALLSTIMULI/i1433681776.jpeg  \n  inflating: ../datasets/ALLSTIMULI/i1436869067.jpeg  \n  inflating: ../datasets/ALLSTIMULI/i1436876661.jpeg  \n  inflating: ../datasets/ALLSTIMULI/i1436880351.jpeg  \n  inflating: ../datasets/ALLSTIMULI/i1450211186.jpeg  \n  inflating: ../datasets/ALLSTIMULI/i1456209950.jpeg  \n  inflating: ../datasets/ALLSTIMULI/i1459316934.jpeg  \n  inflating: ../datasets/ALLSTIMULI/i1460152281.jpeg  \n  inflating: ../datasets/ALLSTIMULI/i1460281774.jpeg  \n  inflating: ../datasets/ALLSTIMULI/i1461500311.jpeg  \n  inflating: ../datasets/ALLSTIMULI/i1464437389.jpeg  \n  inflating: ../datasets/ALLSTIMULI/i1465015711.jpeg  \n  inflating: ../datasets/ALLSTIMULI/i1465243665.jpeg  \n  inflating: ../datasets/ALLSTIMULI/i1465270782.jpeg  \n  inflating: ../datasets/ALLSTIMULI/i1465710085.jpeg  \n  inflating: ../datasets/ALLSTIMULI/i1465804180.jpeg  \n  inflating: ../datasets/ALLSTIMULI/i1465862934.jpeg  \n  inflating: ../datasets/ALLSTIMULI/i1466094492.jpeg  \n  inflating: ../datasets/ALLSTIMULI/i1473135008.jpeg  \n  inflating: ../datasets/ALLSTIMULI/i1485310101.jpeg  \n  inflating: ../datasets/ALLSTIMULI/i1485351340.jpeg  \n  inflating: ../datasets/ALLSTIMULI/i1486171792.jpeg  \n  inflating: ../datasets/ALLSTIMULI/i1488196573.jpeg  \n  inflating: ../datasets/ALLSTIMULI/i1490402847.jpeg  \n  inflating: ../datasets/ALLSTIMULI/i1490404437.jpeg  \n  inflating: ../datasets/ALLSTIMULI/i1492679408.jpeg  \n  inflating: ../datasets/ALLSTIMULI/i1496991666.jpeg  \n  inflating: ../datasets/ALLSTIMULI/i1503092014.jpeg  \n  inflating: ../datasets/ALLSTIMULI/i1507505298.jpeg  \n  inflating: ../datasets/ALLSTIMULI/i1507520018.jpeg  \n  inflating: ../datasets/ALLSTIMULI/i1508828.jpeg  \n  inflating: ../datasets/ALLSTIMULI/i1511249507.jpeg  \n  inflating: ../datasets/ALLSTIMULI/i151260195.jpeg  \n  inflating: ../datasets/ALLSTIMULI/i151492118.jpeg  \n  inflating: ../datasets/ALLSTIMULI/i1519001350.jpeg  \n  inflating: ../datasets/ALLSTIMULI/i1519495464.jpeg  \n  inflating: ../datasets/ALLSTIMULI/i1526935589.jpeg  \n  inflating: ../datasets/ALLSTIMULI/i1539822082.jpeg  \n  inflating: ../datasets/ALLSTIMULI/i1540552783.jpeg  \n  inflating: ../datasets/ALLSTIMULI/i1546500996.jpeg  \n  inflating: ../datasets/ALLSTIMULI/i1548394620.jpeg  \n  inflating: ../datasets/ALLSTIMULI/i1548942940.jpeg  \n  inflating: ../datasets/ALLSTIMULI/i1552375082.jpeg  \n  inflating: ../datasets/ALLSTIMULI/i1559515013.jpeg  \n  inflating: ../datasets/ALLSTIMULI/i1560309298.jpeg  \n  inflating: ../datasets/ALLSTIMULI/i1562869159.jpeg  \n  inflating: ../datasets/ALLSTIMULI/i156404992.jpeg  \n  inflating: ../datasets/ALLSTIMULI/i156568569.jpeg  \n  inflating: ../datasets/ALLSTIMULI/i1572657251.jpeg  \n  inflating: ../datasets/ALLSTIMULI/i1572706519.jpeg  \n  inflating: ../datasets/ALLSTIMULI/i1583042749.jpeg  \n  inflating: ../datasets/ALLSTIMULI/i159812896.jpeg  \n  inflating: ../datasets/ALLSTIMULI/i159875849.jpeg  \n  inflating: ../datasets/ALLSTIMULI/i1602482813.jpeg  \n  inflating: ../datasets/ALLSTIMULI/i160271625.jpeg  \n  inflating: ../datasets/ALLSTIMULI/i160758712.jpeg  \n  inflating: ../datasets/ALLSTIMULI/i160759133.jpeg  \n  inflating: ../datasets/ALLSTIMULI/i161052265.jpeg  \n  inflating: ../datasets/ALLSTIMULI/i161218845.jpeg  \n  inflating: ../datasets/ALLSTIMULI/i161629560.jpeg  \n  inflating: ../datasets/ALLSTIMULI/i1626133401.jpeg  \n  inflating: ../datasets/ALLSTIMULI/i163125223.jpeg  \n  inflating: ../datasets/ALLSTIMULI/i163744793.jpeg  \n  inflating: ../datasets/ALLSTIMULI/i163823931.jpeg  \n  inflating: ../datasets/ALLSTIMULI/i1659323957.jpeg  \n  inflating: ../datasets/ALLSTIMULI/i167462665.jpeg  \n  inflating: ../datasets/ALLSTIMULI/i167469109.jpeg  \n  inflating: ../datasets/ALLSTIMULI/i1677421979.jpeg  \n  inflating: ../datasets/ALLSTIMULI/i1691562175.jpeg  \n  inflating: ../datasets/ALLSTIMULI/i169636965.jpeg  \n  inflating: ../datasets/ALLSTIMULI/i170746079.jpeg  \n  inflating: ../datasets/ALLSTIMULI/i1715062725.jpeg  \n  inflating: ../datasets/ALLSTIMULI/i1733711537.jpeg  \n  inflating: ../datasets/ALLSTIMULI/i1733818305.jpeg  \n  inflating: ../datasets/ALLSTIMULI/i1739584262.jpeg  \n  inflating: ../datasets/ALLSTIMULI/i1740677522.jpeg  \n  inflating: ../datasets/ALLSTIMULI/i175936273.jpeg  \n  inflating: ../datasets/ALLSTIMULI/i176365896.jpeg  \n  inflating: ../datasets/ALLSTIMULI/i1771710966.jpeg  \n  inflating: ../datasets/ALLSTIMULI/i1773927318.jpeg  \n  inflating: ../datasets/ALLSTIMULI/i1777084263.jpeg  \n  inflating: ../datasets/ALLSTIMULI/i1777384643.jpeg  \n  inflating: ../datasets/ALLSTIMULI/i1784306863.jpeg  \n  inflating: ../datasets/ALLSTIMULI/i1784535425.jpeg  \n  inflating: ../datasets/ALLSTIMULI/i1784751720.jpeg  \n  inflating: ../datasets/ALLSTIMULI/i1791248749.jpeg  \n  inflating: ../datasets/ALLSTIMULI/i1791282115.jpeg  \n  inflating: ../datasets/ALLSTIMULI/i1795912442.jpeg  \n  inflating: ../datasets/ALLSTIMULI/i1797491266.jpeg  \n  inflating: ../datasets/ALLSTIMULI/i1798804180.jpeg  \n  inflating: ../datasets/ALLSTIMULI/i179901987.jpeg  \n  inflating: ../datasets/ALLSTIMULI/i1799873859.jpeg  \n  inflating: ../datasets/ALLSTIMULI/i1801281281.jpeg  \n  inflating: ../datasets/ALLSTIMULI/i1802328941.jpeg  \n  inflating: ../datasets/ALLSTIMULI/i1808007663.jpeg  \n  inflating: ../datasets/ALLSTIMULI/i181096125.jpeg  \n  inflating: ../datasets/ALLSTIMULI/i1812945250.jpeg  \n  inflating: ../datasets/ALLSTIMULI/i1815291162.jpeg  \n  inflating: ../datasets/ALLSTIMULI/i1817839270.jpeg  \n  inflating: ../datasets/ALLSTIMULI/i1818663426.jpeg  \n  inflating: ../datasets/ALLSTIMULI/i182241423.jpeg  \n  inflating: ../datasets/ALLSTIMULI/i182708511.jpeg  \n  inflating: ../datasets/ALLSTIMULI/i1830140040.jpeg  \n  inflating: ../datasets/ALLSTIMULI/i1843172607.jpeg  \n  inflating: ../datasets/ALLSTIMULI/i1843332699.jpeg  \n  inflating: ../datasets/ALLSTIMULI/i1843338577.jpeg  \n  inflating: ../datasets/ALLSTIMULI/i1843381423.jpeg  \n  inflating: ../datasets/ALLSTIMULI/i1843924285.jpeg  \n  inflating: ../datasets/ALLSTIMULI/i184411602.jpeg  \n  inflating: ../datasets/ALLSTIMULI/i1847447551.jpeg  \n  inflating: ../datasets/ALLSTIMULI/i1848304046.jpeg  \n  inflating: ../datasets/ALLSTIMULI/i1862760825.jpeg  \n  inflating: ../datasets/ALLSTIMULI/i1865070582.jpeg  \n  inflating: ../datasets/ALLSTIMULI/i1865602483.jpeg  \n  inflating: ../datasets/ALLSTIMULI/i1866404164.jpeg  \n  inflating: ../datasets/ALLSTIMULI/i1866531260.jpeg  \n  inflating: ../datasets/ALLSTIMULI/i1870142757.jpeg  \n  inflating: ../datasets/ALLSTIMULI/i1872398737.jpeg  \n  inflating: ../datasets/ALLSTIMULI/i1872904642.jpeg  \n  inflating: ../datasets/ALLSTIMULI/i1872905470.jpeg  \n  inflating: ../datasets/ALLSTIMULI/i188182199.jpeg  \n  inflating: ../datasets/ALLSTIMULI/i1893435749.jpeg  \n  inflating: ../datasets/ALLSTIMULI/i1894296898.jpeg  \n  inflating: ../datasets/ALLSTIMULI/i190198267.jpeg  \n  inflating: ../datasets/ALLSTIMULI/i19023164.jpeg  \n  inflating: ../datasets/ALLSTIMULI/i1912623958.jpeg  \n  inflating: ../datasets/ALLSTIMULI/i191788956.jpeg  \n  inflating: ../datasets/ALLSTIMULI/i1918259724.jpeg  \n  inflating: ../datasets/ALLSTIMULI/i192592020.jpeg  \n  inflating: ../datasets/ALLSTIMULI/i1936168563.jpeg  \n  inflating: ../datasets/ALLSTIMULI/i193942938.jpeg  \n  inflating: ../datasets/ALLSTIMULI/i195628584.jpeg  \n  inflating: ../datasets/ALLSTIMULI/i1961232813.jpeg  \n  inflating: ../datasets/ALLSTIMULI/i1970299923.jpeg  \n  inflating: ../datasets/ALLSTIMULI/i1970328489.jpeg  \n  inflating: ../datasets/ALLSTIMULI/i1971145444.jpeg  \n  inflating: ../datasets/ALLSTIMULI/i1977159993.jpeg  \n  inflating: ../datasets/ALLSTIMULI/i1986309807.jpeg  \n  inflating: ../datasets/ALLSTIMULI/i199491590.jpeg  \n  inflating: ../datasets/ALLSTIMULI/i199840071.jpeg  \n  inflating: ../datasets/ALLSTIMULI/i200539576.jpeg  \n  inflating: ../datasets/ALLSTIMULI/i2011580182.jpeg  \n  inflating: ../datasets/ALLSTIMULI/i201161868.jpeg  \n  inflating: ../datasets/ALLSTIMULI/i202396633.jpeg  \n  inflating: ../datasets/ALLSTIMULI/i2024335538.jpeg  \n  inflating: ../datasets/ALLSTIMULI/i2035194870.jpeg  \n  inflating: ../datasets/ALLSTIMULI/i2038156448.jpeg  \n  inflating: ../datasets/ALLSTIMULI/i2043350963.jpeg  \n  inflating: ../datasets/ALLSTIMULI/i2044688217.jpeg  \n  inflating: ../datasets/ALLSTIMULI/i204599070.jpeg  \n  inflating: ../datasets/ALLSTIMULI/i2048557303.jpeg  \n  inflating: ../datasets/ALLSTIMULI/i2048790493.jpeg  \n  inflating: ../datasets/ALLSTIMULI/i2049327173.jpeg  \n  inflating: ../datasets/ALLSTIMULI/i2051249439.jpeg  \n  inflating: ../datasets/ALLSTIMULI/i2055719827.jpeg  \n  inflating: ../datasets/ALLSTIMULI/i2057541.jpeg  \n  inflating: ../datasets/ALLSTIMULI/i205838601.jpeg  \n  inflating: ../datasets/ALLSTIMULI/i2062358324.jpeg  \n  inflating: ../datasets/ALLSTIMULI/i2067603576.jpeg  \n  inflating: ../datasets/ALLSTIMULI/i2067966842.jpeg  \n  inflating: ../datasets/ALLSTIMULI/i206881209.jpeg  \n  inflating: ../datasets/ALLSTIMULI/i2069913521.jpeg  \n  inflating: ../datasets/ALLSTIMULI/i20708508.jpeg  \n  inflating: ../datasets/ALLSTIMULI/i2073398890.jpeg  \n  inflating: ../datasets/ALLSTIMULI/i2077402873.jpeg  \n  inflating: ../datasets/ALLSTIMULI/i207747794.jpeg  \n  inflating: ../datasets/ALLSTIMULI/i207806307.jpeg  \n  inflating: ../datasets/ALLSTIMULI/i2078195666.jpeg  \n  inflating: ../datasets/ALLSTIMULI/i207874017.jpeg  \n  inflating: ../datasets/ALLSTIMULI/i2079551712.jpeg  \n  inflating: ../datasets/ALLSTIMULI/i2079697681.jpeg  \n  inflating: ../datasets/ALLSTIMULI/i2083298845.jpeg  \n  inflating: ../datasets/ALLSTIMULI/i2084420834.jpeg  \n  inflating: ../datasets/ALLSTIMULI/i2085117683.jpeg  \n  inflating: ../datasets/ALLSTIMULI/i2087721279.jpeg  \n  inflating: ../datasets/ALLSTIMULI/i2087728385.jpeg  \n  inflating: ../datasets/ALLSTIMULI/i2089223639.jpeg  \n  inflating: ../datasets/ALLSTIMULI/i2089736919.jpeg  \n  inflating: ../datasets/ALLSTIMULI/i2090406652.jpeg  \n  inflating: ../datasets/ALLSTIMULI/i2096251724.jpeg  \n  inflating: ../datasets/ALLSTIMULI/i2096842680.jpeg  \n  inflating: ../datasets/ALLSTIMULI/i2103244527.jpeg  \n  inflating: ../datasets/ALLSTIMULI/i2104785691.jpeg  \n  inflating: ../datasets/ALLSTIMULI/i2108405712.jpeg  \n  inflating: ../datasets/ALLSTIMULI/i2113390015.jpeg  \n  inflating: ../datasets/ALLSTIMULI/i2117655611.jpeg  \n  inflating: ../datasets/ALLSTIMULI/i2120341021.jpeg  \n  inflating: ../datasets/ALLSTIMULI/i2125418545.jpeg  \n  inflating: ../datasets/ALLSTIMULI/i2125430605.jpeg  \n  inflating: ../datasets/ALLSTIMULI/i2127301639.jpeg  \n  inflating: ../datasets/ALLSTIMULI/i2127815415.jpeg  \n  inflating: ../datasets/ALLSTIMULI/i2127986969.jpeg  \n  inflating: ../datasets/ALLSTIMULI/i2128074106.jpeg  \n  inflating: ../datasets/ALLSTIMULI/i2128591182.jpeg  \n  inflating: ../datasets/ALLSTIMULI/i2129357785.jpeg  \n  inflating: ../datasets/ALLSTIMULI/i2130088089.jpeg  \n  inflating: ../datasets/ALLSTIMULI/i2130135439.jpeg  \n  inflating: ../datasets/ALLSTIMULI/i2130202677.jpeg  \n  inflating: ../datasets/ALLSTIMULI/i2130219267.jpeg  \n  inflating: ../datasets/ALLSTIMULI/i2130236527.jpeg  \n  inflating: ../datasets/ALLSTIMULI/i2130718051.jpeg  \n  inflating: ../datasets/ALLSTIMULI/i2131629177.jpeg  \n  inflating: ../datasets/ALLSTIMULI/i2131664213.jpeg  \n  inflating: ../datasets/ALLSTIMULI/i2131696017.jpeg  \n  inflating: ../datasets/ALLSTIMULI/i2131963792.jpeg  \n  inflating: ../datasets/ALLSTIMULI/i2132011929.jpeg  \n  inflating: ../datasets/ALLSTIMULI/i2132126218.jpeg  \n  inflating: ../datasets/ALLSTIMULI/i2132410530.jpeg  \n  inflating: ../datasets/ALLSTIMULI/i2132553812.jpeg  \n  inflating: ../datasets/ALLSTIMULI/i2133522539.jpeg  \n  inflating: ../datasets/ALLSTIMULI/i2134841990.jpeg  \n  inflating: ../datasets/ALLSTIMULI/i2135366103.jpeg  \n  inflating: ../datasets/ALLSTIMULI/i2138748225.jpeg  \n  inflating: ../datasets/ALLSTIMULI/i2139086685.jpeg  \n  inflating: ../datasets/ALLSTIMULI/i2140171593.jpeg  \n  inflating: ../datasets/ALLSTIMULI/i2141160962.jpeg  \n  inflating: ../datasets/ALLSTIMULI/i2141312562.jpeg  \n  inflating: ../datasets/ALLSTIMULI/i2145018847.jpeg  \n  inflating: ../datasets/ALLSTIMULI/i2145105890.jpeg  \n  inflating: ../datasets/ALLSTIMULI/i2145575787.jpeg  \n  inflating: ../datasets/ALLSTIMULI/i2145580323.jpeg  \n  inflating: ../datasets/ALLSTIMULI/i2145581941.jpeg  \n  inflating: ../datasets/ALLSTIMULI/i2145830934.jpeg  \n  inflating: ../datasets/ALLSTIMULI/i2147039741.jpeg  \n  inflating: ../datasets/ALLSTIMULI/i2147250639.jpeg  \n  inflating: ../datasets/ALLSTIMULI/i2148436990.jpeg  \n  inflating: ../datasets/ALLSTIMULI/i2148681608.jpeg  \n  inflating: ../datasets/ALLSTIMULI/i2152854053.jpeg  \n  inflating: ../datasets/ALLSTIMULI/i2154989221.jpeg  \n  inflating: ../datasets/ALLSTIMULI/i2155084730.jpeg  \n  inflating: ../datasets/ALLSTIMULI/i2155229819.jpeg  \n  inflating: ../datasets/ALLSTIMULI/i2155306779.jpeg  \n  inflating: ../datasets/ALLSTIMULI/i2155595511.jpeg  \n  inflating: ../datasets/ALLSTIMULI/i2156209373.jpeg  \n  inflating: ../datasets/ALLSTIMULI/i2156407718.jpeg  \n  inflating: ../datasets/ALLSTIMULI/i2158540867.jpeg  \n  inflating: ../datasets/ALLSTIMULI/i2160369496.jpeg  \n  inflating: ../datasets/ALLSTIMULI/i2166923001.jpeg  \n  inflating: ../datasets/ALLSTIMULI/i2168018881.jpeg  \n  inflating: ../datasets/ALLSTIMULI/i2168068710.jpeg  \n  inflating: ../datasets/ALLSTIMULI/i2168660165.jpeg  \n  inflating: ../datasets/ALLSTIMULI/i2168982172.jpeg  \n  inflating: ../datasets/ALLSTIMULI/i2169262237.jpeg  \n  inflating: ../datasets/ALLSTIMULI/i2169308750.jpeg  \n  inflating: ../datasets/ALLSTIMULI/i2169932251.jpeg  \n  inflating: ../datasets/ALLSTIMULI/i2170431637.jpeg  \n  inflating: ../datasets/ALLSTIMULI/i2170813265.jpeg  \n  inflating: ../datasets/ALLSTIMULI/i2171576731.jpeg  \n  inflating: ../datasets/ALLSTIMULI/i2172150551.jpeg  \n  inflating: ../datasets/ALLSTIMULI/i2172274186.jpeg  \n  inflating: ../datasets/ALLSTIMULI/i2172660077.jpeg  \n  inflating: ../datasets/ALLSTIMULI/i2172895099.jpeg  \n  inflating: ../datasets/ALLSTIMULI/i2173051128.jpeg  \n  inflating: ../datasets/ALLSTIMULI/i2173246245.jpeg  \n  inflating: ../datasets/ALLSTIMULI/i2174162303.jpeg  \n  inflating: ../datasets/ALLSTIMULI/i2174164459.jpeg  \n  inflating: ../datasets/ALLSTIMULI/i2174193219.jpeg  \n  inflating: ../datasets/ALLSTIMULI/i2174530507.jpeg  \n  inflating: ../datasets/ALLSTIMULI/i2175491001.jpeg  \n  inflating: ../datasets/ALLSTIMULI/i2183824399.jpeg  \n  inflating: ../datasets/ALLSTIMULI/i2184058853.jpeg  \n  inflating: ../datasets/ALLSTIMULI/i2186383189.jpeg  \n  inflating: ../datasets/ALLSTIMULI/i2186422800.jpeg  \n  inflating: ../datasets/ALLSTIMULI/i2186890210.jpeg  \n  inflating: ../datasets/ALLSTIMULI/i2187178955.jpeg  \n  inflating: ../datasets/ALLSTIMULI/i2189914746.jpeg  \n  inflating: ../datasets/ALLSTIMULI/i2190511227.jpeg  \n  inflating: ../datasets/ALLSTIMULI/i2190576311.jpeg  \n  inflating: ../datasets/ALLSTIMULI/i2190823731.jpeg  \n  inflating: ../datasets/ALLSTIMULI/i2193346743.jpeg  \n  inflating: ../datasets/ALLSTIMULI/i2194959008.jpeg  \n  inflating: ../datasets/ALLSTIMULI/i2194963502.jpeg  \n  inflating: ../datasets/ALLSTIMULI/i2195097920.jpeg  \n  inflating: ../datasets/ALLSTIMULI/i2196095208.jpeg  \n  inflating: ../datasets/ALLSTIMULI/i2197089389.jpeg  \n  inflating: ../datasets/ALLSTIMULI/i2197862712.jpeg  \n  inflating: ../datasets/ALLSTIMULI/i2197948762.jpeg  \n  inflating: ../datasets/ALLSTIMULI/i2198824278.jpeg  \n  inflating: ../datasets/ALLSTIMULI/i2199606749.jpeg  \n  inflating: ../datasets/ALLSTIMULI/i2199632150.jpeg  \n  inflating: ../datasets/ALLSTIMULI/i2199787601.jpeg  \n  inflating: ../datasets/ALLSTIMULI/i2200082985.jpeg  \n  inflating: ../datasets/ALLSTIMULI/i2200457814.jpeg  \n  inflating: ../datasets/ALLSTIMULI/i2200881784.jpeg  \n  inflating: ../datasets/ALLSTIMULI/i2201034412.jpeg  \n  inflating: ../datasets/ALLSTIMULI/i2201426231.jpeg  \n  inflating: ../datasets/ALLSTIMULI/i2202108776.jpeg  \n  inflating: ../datasets/ALLSTIMULI/i2202295378.jpeg  \n  inflating: ../datasets/ALLSTIMULI/i2203431935.jpeg  \n  inflating: ../datasets/ALLSTIMULI/i2204386205.jpeg  \n  inflating: ../datasets/ALLSTIMULI/i2204782081.jpeg  \n  inflating: ../datasets/ALLSTIMULI/i2205555719.jpeg  \n  inflating: ../datasets/ALLSTIMULI/i2205565085.jpeg  \n  inflating: ../datasets/ALLSTIMULI/i2206023527.jpeg  \n  inflating: ../datasets/ALLSTIMULI/i2206265639.jpeg  \n  inflating: ../datasets/ALLSTIMULI/i2206349266.jpeg  \n  inflating: ../datasets/ALLSTIMULI/i2208022381.jpeg  \n  inflating: ../datasets/ALLSTIMULI/i2208329824.jpeg  \n  inflating: ../datasets/ALLSTIMULI/i2208535579.jpeg  \n  inflating: ../datasets/ALLSTIMULI/i2210375453.jpeg  \n  inflating: ../datasets/ALLSTIMULI/i2210396651.jpeg  \n  inflating: ../datasets/ALLSTIMULI/i2210603425.jpeg  \n  inflating: ../datasets/ALLSTIMULI/i2211263127.jpeg  \n  inflating: ../datasets/ALLSTIMULI/i2211349766.jpeg  \n  inflating: ../datasets/ALLSTIMULI/i2211589033.jpeg  \n  inflating: ../datasets/ALLSTIMULI/i2211739055.jpeg  \n  inflating: ../datasets/ALLSTIMULI/i2211765468.jpeg  \n  inflating: ../datasets/ALLSTIMULI/i2213103902.jpeg  \n  inflating: ../datasets/ALLSTIMULI/i2213974944.jpeg  \n  inflating: ../datasets/ALLSTIMULI/i2214763761.jpeg  \n  inflating: ../datasets/ALLSTIMULI/i2215088717.jpeg  \n  inflating: ../datasets/ALLSTIMULI/i2218174961.jpeg  \n  inflating: ../datasets/ALLSTIMULI/i2218200403.jpeg  \n  inflating: ../datasets/ALLSTIMULI/i2218506905.jpeg  \n  inflating: ../datasets/ALLSTIMULI/i2218709961.jpeg  \n  inflating: ../datasets/ALLSTIMULI/i2221028009.jpeg  \n  inflating: ../datasets/ALLSTIMULI/i2221573154.jpeg  \n  inflating: ../datasets/ALLSTIMULI/i2221599411.jpeg  \n  inflating: ../datasets/ALLSTIMULI/i2221608509.jpeg  \n  inflating: ../datasets/ALLSTIMULI/i2222945716.jpeg  \n  inflating: ../datasets/ALLSTIMULI/i2223014359.jpeg  \n  inflating: ../datasets/ALLSTIMULI/i2224739969.jpeg  \n  inflating: ../datasets/ALLSTIMULI/i2229496653.jpeg  \n  inflating: ../datasets/ALLSTIMULI/i2229917843.jpeg  \n  inflating: ../datasets/ALLSTIMULI/i2229926082.jpeg  \n  inflating: ../datasets/ALLSTIMULI/i2230355522.jpeg  \n  inflating: ../datasets/ALLSTIMULI/i2230533761.jpeg  \n  inflating: ../datasets/ALLSTIMULI/i2230623212.jpeg  \n  inflating: ../datasets/ALLSTIMULI/i2232633490.jpeg  \n  inflating: ../datasets/ALLSTIMULI/i2232765267.jpeg  \n  inflating: ../datasets/ALLSTIMULI/i2232823435.jpeg  \n  inflating: ../datasets/ALLSTIMULI/i2234097332.jpeg  \n  inflating: ../datasets/ALLSTIMULI/i2234137378.jpeg  \n  inflating: ../datasets/ALLSTIMULI/i2234959271.jpeg  \n  inflating: ../datasets/ALLSTIMULI/i2235879193.jpeg  \n  inflating: ../datasets/ALLSTIMULI/i2236128403.jpeg  \n  inflating: ../datasets/ALLSTIMULI/i2236294346.jpeg  \n  inflating: ../datasets/ALLSTIMULI/i2237001917.jpeg  \n  inflating: ../datasets/ALLSTIMULI/i2237729434.jpeg  \n  inflating: ../datasets/ALLSTIMULI/i2237760217.jpeg  \n  inflating: ../datasets/ALLSTIMULI/i2237801383.jpeg  \n  inflating: ../datasets/ALLSTIMULI/i2237929211.jpeg  \n  inflating: ../datasets/ALLSTIMULI/i2238238891.jpeg  \n  inflating: ../datasets/ALLSTIMULI/i2238366740.jpeg  \n  inflating: ../datasets/ALLSTIMULI/i2238477160.jpeg  \n  inflating: ../datasets/ALLSTIMULI/i2238688346.jpeg  \n  inflating: ../datasets/ALLSTIMULI/i2238758189.jpeg  \n  inflating: ../datasets/ALLSTIMULI/i2239664592.jpeg  \n  inflating: ../datasets/ALLSTIMULI/i2239766632.jpeg  \n  inflating: ../datasets/ALLSTIMULI/i2240160496.jpeg  \n  inflating: ../datasets/ALLSTIMULI/i2240165147.jpeg  \n  inflating: ../datasets/ALLSTIMULI/i2240165567.jpeg  \n  inflating: ../datasets/ALLSTIMULI/i2240166669.jpeg  \n  inflating: ../datasets/ALLSTIMULI/i2240569900.jpeg  \n  inflating: ../datasets/ALLSTIMULI/i2240581851.jpeg  \n  inflating: ../datasets/ALLSTIMULI/i2241063231.jpeg  \n  inflating: ../datasets/ALLSTIMULI/i2243369152.jpeg  \n  inflating: ../datasets/ALLSTIMULI/i2243931087.jpeg  \n  inflating: ../datasets/ALLSTIMULI/i2243982741.jpeg  \n  inflating: ../datasets/ALLSTIMULI/i2244097646.jpeg  \n  inflating: ../datasets/ALLSTIMULI/i2244445589.jpeg  \n  inflating: ../datasets/ALLSTIMULI/i2244455009.jpeg  \n  inflating: ../datasets/ALLSTIMULI/i2244474095.jpeg  \n  inflating: ../datasets/ALLSTIMULI/i2244493155.jpeg  \n  inflating: ../datasets/ALLSTIMULI/i2244589999.jpeg  \n  inflating: ../datasets/ALLSTIMULI/i2245334593.jpeg  \n  inflating: ../datasets/ALLSTIMULI/i2245353852.jpeg  \n  inflating: ../datasets/ALLSTIMULI/i2246191935.jpeg  \n  inflating: ../datasets/ALLSTIMULI/i2246755161.jpeg  \n  inflating: ../datasets/ALLSTIMULI/i2247811037.jpeg  \n  inflating: ../datasets/ALLSTIMULI/i2248598896.jpeg  \n  inflating: ../datasets/ALLSTIMULI/i2249293171.jpeg  \n  inflating: ../datasets/ALLSTIMULI/i2252029279.jpeg  \n  inflating: ../datasets/ALLSTIMULI/i2252058417.jpeg  \n  inflating: ../datasets/ALLSTIMULI/i2252150223.jpeg  \n  inflating: ../datasets/ALLSTIMULI/i2252480851.jpeg  \n  inflating: ../datasets/ALLSTIMULI/i2253396498.jpeg  \n  inflating: ../datasets/ALLSTIMULI/i2254311605.jpeg  \n  inflating: ../datasets/ALLSTIMULI/i2254450797.jpeg  \n  inflating: ../datasets/ALLSTIMULI/i2255800269.jpeg  \n  inflating: ../datasets/ALLSTIMULI/i2255893801.jpeg  \n  inflating: ../datasets/ALLSTIMULI/i2256363400.jpeg  \n  inflating: ../datasets/ALLSTIMULI/i2257330951.jpeg  \n  inflating: ../datasets/ALLSTIMULI/i2257413600.jpeg  \n  inflating: ../datasets/ALLSTIMULI/i2257748677.jpeg  \n  inflating: ../datasets/ALLSTIMULI/i2257749827.jpeg  \n  inflating: ../datasets/ALLSTIMULI/i2257756967.jpeg  \n  inflating: ../datasets/ALLSTIMULI/i2257777237.jpeg  \n  inflating: ../datasets/ALLSTIMULI/i2257930945.jpeg  \n  inflating: ../datasets/ALLSTIMULI/i2257986084.jpeg  \n  inflating: ../datasets/ALLSTIMULI/i2258108354.jpeg  \n  inflating: ../datasets/ALLSTIMULI/i2259160448.jpeg  \n  inflating: ../datasets/ALLSTIMULI/i2259160458.jpeg  \n  inflating: ../datasets/ALLSTIMULI/i2260404605.jpeg  \n  inflating: ../datasets/ALLSTIMULI/i2260967221.jpeg  \n  inflating: ../datasets/ALLSTIMULI/i2260969243.jpeg  \n  inflating: ../datasets/ALLSTIMULI/i2260969693.jpeg  \n  inflating: ../datasets/ALLSTIMULI/i2261687971.jpeg  \n  inflating: ../datasets/ALLSTIMULI/i2263021117.jpeg  \n  inflating: ../datasets/ALLSTIMULI/i2263032487.jpeg  \n  inflating: ../datasets/ALLSTIMULI/i2263137783.jpeg  \n  inflating: ../datasets/ALLSTIMULI/i2263796362.jpeg  \n  inflating: ../datasets/ALLSTIMULI/i2263853284.jpeg  \n  inflating: ../datasets/ALLSTIMULI/i2263931014.jpeg  \n  inflating: ../datasets/ALLSTIMULI/i2264112311.jpeg  \n  inflating: ../datasets/ALLSTIMULI/i2264134553.jpeg  \n  inflating: ../datasets/ALLSTIMULI/i2264595399.jpeg  \n  inflating: ../datasets/ALLSTIMULI/i2264606081.jpeg  \n  inflating: ../datasets/ALLSTIMULI/i2265201355.jpeg  \n  inflating: ../datasets/ALLSTIMULI/i2265609722.jpeg  \n  inflating: ../datasets/ALLSTIMULI/i2266104683.jpeg  \n  inflating: ../datasets/ALLSTIMULI/i2266552045.jpeg  \n  inflating: ../datasets/ALLSTIMULI/i2267703789.jpeg  \n  inflating: ../datasets/ALLSTIMULI/i2267710273.jpeg  \n  inflating: ../datasets/ALLSTIMULI/i2267791566.jpeg  \n  inflating: ../datasets/ALLSTIMULI/i2268806470.jpeg  \n  inflating: ../datasets/ALLSTIMULI/i2268807046.jpeg  \n  inflating: ../datasets/ALLSTIMULI/i2268807436.jpeg  \n  inflating: ../datasets/ALLSTIMULI/i2269011799.jpeg  \n  inflating: ../datasets/ALLSTIMULI/i2269335025.jpeg  \n  inflating: ../datasets/ALLSTIMULI/i2270031495.jpeg  \n  inflating: ../datasets/ALLSTIMULI/i2270102601.jpeg  \n  inflating: ../datasets/ALLSTIMULI/i2271293627.jpeg  \n  inflating: ../datasets/ALLSTIMULI/i2271918453.jpeg  \n  inflating: ../datasets/ALLSTIMULI/i2272663539.jpeg  \n  inflating: ../datasets/ALLSTIMULI/i2272814913.jpeg  \n  inflating: ../datasets/ALLSTIMULI/i2272909117.jpeg  \n  inflating: ../datasets/ALLSTIMULI/i2273025586.jpeg  \n  inflating: ../datasets/ALLSTIMULI/i2273330095.jpeg  \n  inflating: ../datasets/ALLSTIMULI/i2273502861.jpeg  \n  inflating: ../datasets/ALLSTIMULI/i2273510179.jpeg  \n  inflating: ../datasets/ALLSTIMULI/i2274287237.jpeg  \n  inflating: ../datasets/ALLSTIMULI/i2274292178.jpeg  \n  inflating: ../datasets/ALLSTIMULI/i2274296096.jpeg  \n  inflating: ../datasets/ALLSTIMULI/i2274554255.jpeg  \n  inflating: ../datasets/ALLSTIMULI/i2274764417.jpeg  \n  inflating: ../datasets/ALLSTIMULI/i2274770415.jpeg  \n  inflating: ../datasets/ALLSTIMULI/i2274948196.jpeg  \n  inflating: ../datasets/ALLSTIMULI/i2275159166.jpeg  \n  inflating: ../datasets/ALLSTIMULI/i2275575220.jpeg  \n  inflating: ../datasets/ALLSTIMULI/i2275677162.jpeg  \n  inflating: ../datasets/ALLSTIMULI/i2276321014.jpeg  \n  inflating: ../datasets/ALLSTIMULI/i2277198372.jpeg  \n  inflating: ../datasets/ALLSTIMULI/i2277207572.jpeg  \n  inflating: ../datasets/ALLSTIMULI/i2277658391.jpeg  \n  inflating: ../datasets/ALLSTIMULI/i2277680996.jpeg  \n  inflating: ../datasets/ALLSTIMULI/i2277843532.jpeg  \n  inflating: ../datasets/ALLSTIMULI/i2277905563.jpeg  \n  inflating: ../datasets/ALLSTIMULI/i2278087939.jpeg  \n  inflating: ../datasets/ALLSTIMULI/i2278136983.jpeg  \n  inflating: ../datasets/ALLSTIMULI/i2278199647.jpeg  \n  inflating: ../datasets/ALLSTIMULI/i2278465534.jpeg  \n  inflating: ../datasets/ALLSTIMULI/i2278549502.jpeg  \n  inflating: ../datasets/ALLSTIMULI/i2279103962.jpeg  \n  inflating: ../datasets/ALLSTIMULI/i2279208009.jpeg  \n  inflating: ../datasets/ALLSTIMULI/i2279312497.jpeg  \n  inflating: ../datasets/ALLSTIMULI/i2279314231.jpeg  \n  inflating: ../datasets/ALLSTIMULI/i2279799129.jpeg  \n  inflating: ../datasets/ALLSTIMULI/i2280425561.jpeg  \n  inflating: ../datasets/ALLSTIMULI/i2280611353.jpeg  \n  inflating: ../datasets/ALLSTIMULI/i2280648305.jpeg  \n  inflating: ../datasets/ALLSTIMULI/i2280879779.jpeg  \n  inflating: ../datasets/ALLSTIMULI/i2281390450.jpeg  \n  inflating: ../datasets/ALLSTIMULI/i2281390926.jpeg  \n  inflating: ../datasets/ALLSTIMULI/i2281397626.jpeg  \n  inflating: ../datasets/ALLSTIMULI/i2281538905.jpeg  \n  inflating: ../datasets/ALLSTIMULI/i2281902585.jpeg  \n  inflating: ../datasets/ALLSTIMULI/i2282543251.jpeg  \n  inflating: ../datasets/ALLSTIMULI/i2283683445.jpeg  \n  inflating: ../datasets/ALLSTIMULI/i2284316374.jpeg  \n  inflating: ../datasets/ALLSTIMULI/i2284954143.jpeg  \n  inflating: ../datasets/ALLSTIMULI/i2284956309.jpeg  \n  inflating: ../datasets/ALLSTIMULI/i2285475491.jpeg  \n  inflating: ../datasets/ALLSTIMULI/i2285904669.jpeg  \n  inflating: ../datasets/ALLSTIMULI/i2285970199.jpeg  \n  inflating: ../datasets/ALLSTIMULI/i2286040943.jpeg  \n  inflating: ../datasets/ALLSTIMULI/i2286138209.jpeg  \n  inflating: ../datasets/ALLSTIMULI/i2286258230.jpeg  \n  inflating: ../datasets/ALLSTIMULI/i2286398519.jpeg  \n  inflating: ../datasets/ALLSTIMULI/i2286511796.jpeg  \n  inflating: ../datasets/ALLSTIMULI/i2286576851.jpeg  \n  inflating: ../datasets/ALLSTIMULI/i2286577669.jpeg  \n  inflating: ../datasets/ALLSTIMULI/i2286934018.jpeg  \n  inflating: ../datasets/ALLSTIMULI/i2287067143.jpeg  \n  inflating: ../datasets/ALLSTIMULI/i2287434183.jpeg  \n  inflating: ../datasets/ALLSTIMULI/i2287603237.jpeg  \n  inflating: ../datasets/ALLSTIMULI/i2287732726.jpeg  \n  inflating: ../datasets/ALLSTIMULI/i2287736466.jpeg  \n  inflating: ../datasets/ALLSTIMULI/i2287747547.jpeg  \n  inflating: ../datasets/ALLSTIMULI/i2288313715.jpeg  \n  inflating: ../datasets/ALLSTIMULI/i2288346129.jpeg  \n  inflating: ../datasets/ALLSTIMULI/i2288352265.jpeg  \n  inflating: ../datasets/ALLSTIMULI/i2288435981.jpeg  \n  inflating: ../datasets/ALLSTIMULI/i2288544059.jpeg  \n  inflating: ../datasets/ALLSTIMULI/i2289344696.jpeg  \n  inflating: ../datasets/ALLSTIMULI/i2289350187.jpeg  \n  inflating: ../datasets/ALLSTIMULI/i2289458290.jpeg  \n  inflating: ../datasets/ALLSTIMULI/i2289665173.jpeg  \n  inflating: ../datasets/ALLSTIMULI/i2289694577.jpeg  \n  inflating: ../datasets/ALLSTIMULI/i2289711593.jpeg  \n  inflating: ../datasets/ALLSTIMULI/i2289717227.jpeg  \n  inflating: ../datasets/ALLSTIMULI/i2289739189.jpeg  \n  inflating: ../datasets/ALLSTIMULI/i2290495268.jpeg  \n  inflating: ../datasets/ALLSTIMULI/i2290787775.jpeg  \n  inflating: ../datasets/ALLSTIMULI/i2290794919.jpeg  \n  inflating: ../datasets/ALLSTIMULI/i2290847457.jpeg  \n  inflating: ../datasets/ALLSTIMULI/i2290865981.jpeg  \n  inflating: ../datasets/ALLSTIMULI/i2291139547.jpeg  \n  inflating: ../datasets/ALLSTIMULI/i2291250914.jpeg  \n  inflating: ../datasets/ALLSTIMULI/i2291485733.jpeg  \n  inflating: ../datasets/ALLSTIMULI/i2291589385.jpeg  \n  inflating: ../datasets/ALLSTIMULI/i2291666088.jpeg  \n  inflating: ../datasets/ALLSTIMULI/i2291750140.jpeg  \n  inflating: ../datasets/ALLSTIMULI/i2292390104.jpeg  \n  inflating: ../datasets/ALLSTIMULI/i2292751124.jpeg  \n  inflating: ../datasets/ALLSTIMULI/i2292794437.jpeg  \n  inflating: ../datasets/ALLSTIMULI/i2293362913.jpeg  \n  inflating: ../datasets/ALLSTIMULI/i2293654605.jpeg  \n  inflating: ../datasets/ALLSTIMULI/i2294701937.jpeg  \n  inflating: ../datasets/ALLSTIMULI/i2294898365.jpeg  \n  inflating: ../datasets/ALLSTIMULI/i2295106133.jpeg  \n  inflating: ../datasets/ALLSTIMULI/i2295411886.jpeg  \n  inflating: ../datasets/ALLSTIMULI/i2295551038.jpeg  \n  inflating: ../datasets/ALLSTIMULI/i2296179544.jpeg  \n  inflating: ../datasets/ALLSTIMULI/i2297503703.jpeg  \n  inflating: ../datasets/ALLSTIMULI/i2297596765.jpeg  \n  inflating: ../datasets/ALLSTIMULI/i2297598229.jpeg  \n  inflating: ../datasets/ALLSTIMULI/i2297752925.jpeg  \n  inflating: ../datasets/ALLSTIMULI/i2297891028.jpeg  \n  inflating: ../datasets/ALLSTIMULI/i2298125807.jpeg  \n  inflating: ../datasets/ALLSTIMULI/i2299034477.jpeg  \n  inflating: ../datasets/ALLSTIMULI/i2299063277.jpeg  \n  inflating: ../datasets/ALLSTIMULI/i2299085201.jpeg  \n  inflating: ../datasets/ALLSTIMULI/i2299690621.jpeg  \n  inflating: ../datasets/ALLSTIMULI/i2299919722.jpeg  \n  inflating: ../datasets/ALLSTIMULI/i2300011983.jpeg  \n  inflating: ../datasets/ALLSTIMULI/i2300094693.jpeg  \n  inflating: ../datasets/ALLSTIMULI/i2300136569.jpeg  \n  inflating: ../datasets/ALLSTIMULI/i2300143227.jpeg  \n  inflating: ../datasets/ALLSTIMULI/i2300237262.jpeg  \n  inflating: ../datasets/ALLSTIMULI/i2300299195.jpeg  \n  inflating: ../datasets/ALLSTIMULI/i2300558115.jpeg  \n  inflating: ../datasets/ALLSTIMULI/i2300935113.jpeg  \n  inflating: ../datasets/ALLSTIMULI/i2301179161.jpeg  \n  inflating: ../datasets/ALLSTIMULI/i2301233235.jpeg  \n  inflating: ../datasets/ALLSTIMULI/i2301237310.jpeg  \n  inflating: ../datasets/ALLSTIMULI/i2301460189.jpeg  \n  inflating: ../datasets/ALLSTIMULI/i2301631442.jpeg  \n  inflating: ../datasets/ALLSTIMULI/i2301799925.jpeg  \n  inflating: ../datasets/ALLSTIMULI/i2302242348.jpeg  \n  inflating: ../datasets/ALLSTIMULI/i2302491658.jpeg  \n  inflating: ../datasets/ALLSTIMULI/i2302567831.jpeg  \n  inflating: ../datasets/ALLSTIMULI/i2303119791.jpeg  \n  inflating: ../datasets/ALLSTIMULI/i2303447136.jpeg  \n  inflating: ../datasets/ALLSTIMULI/i2303678791.jpeg  \n  inflating: ../datasets/ALLSTIMULI/i2304433407.jpeg  \n  inflating: ../datasets/ALLSTIMULI/i2304945037.jpeg  \n  inflating: ../datasets/ALLSTIMULI/i2305300253.jpeg  \n  inflating: ../datasets/ALLSTIMULI/i2305314113.jpeg  \n  inflating: ../datasets/ALLSTIMULI/i2305344695.jpeg  \n  inflating: ../datasets/ALLSTIMULI/i2305412211.jpeg  \n  inflating: ../datasets/ALLSTIMULI/i2305875863.jpeg  \n  inflating: ../datasets/ALLSTIMULI/i2306009363.jpeg  \n  inflating: ../datasets/ALLSTIMULI/i2306201755.jpeg  \n  inflating: ../datasets/ALLSTIMULI/i2306380490.jpeg  \n  inflating: ../datasets/ALLSTIMULI/i2306664884.jpeg  \n  inflating: ../datasets/ALLSTIMULI/i2307207961.jpeg  \n  inflating: ../datasets/ALLSTIMULI/i2307584030.jpeg  \n  inflating: ../datasets/ALLSTIMULI/i2308394240.jpeg  \n  inflating: ../datasets/ALLSTIMULI/i2308842869.jpeg  \n  inflating: ../datasets/ALLSTIMULI/i2309002059.jpeg  \n  inflating: ../datasets/ALLSTIMULI/i2309143405.jpeg  \n  inflating: ../datasets/ALLSTIMULI/i2309997405.jpeg  \n  inflating: ../datasets/ALLSTIMULI/i2310011075.jpeg  \n  inflating: ../datasets/ALLSTIMULI/i2310025483.jpeg  \n  inflating: ../datasets/ALLSTIMULI/i2310037773.jpeg  \n  inflating: ../datasets/ALLSTIMULI/i2310105376.jpeg  \n  inflating: ../datasets/ALLSTIMULI/i2310876153.jpeg  \n  inflating: ../datasets/ALLSTIMULI/i2311048559.jpeg  \n  inflating: ../datasets/ALLSTIMULI/i2311360809.jpeg  \n  inflating: ../datasets/ALLSTIMULI/i2312141889.jpeg  \n  inflating: ../datasets/ALLSTIMULI/i2312211495.jpeg  \n  inflating: ../datasets/ALLSTIMULI/i2312920143.jpeg  \n  inflating: ../datasets/ALLSTIMULI/i2313446865.jpeg  \n  inflating: ../datasets/ALLSTIMULI/i2313869697.jpeg  \n  inflating: ../datasets/ALLSTIMULI/i2313874233.jpeg  \n  inflating: ../datasets/ALLSTIMULI/i2316452961.jpeg  \n  inflating: ../datasets/ALLSTIMULI/i245864757.jpeg  \n  inflating: ../datasets/ALLSTIMULI/i24622350.jpeg  \n  inflating: ../datasets/ALLSTIMULI/i246575348.jpeg  \n  inflating: ../datasets/ALLSTIMULI/i281369959.jpeg  \n  inflating: ../datasets/ALLSTIMULI/i282863243.jpeg  \n  inflating: ../datasets/ALLSTIMULI/i307151791.jpeg  \n  inflating: ../datasets/ALLSTIMULI/i30may05_static_street_cambridge_p1010717.jpeg  \n  inflating: ../datasets/ALLSTIMULI/i30may05_static_street_cambridge_p1010735.jpeg  \n  inflating: ../datasets/ALLSTIMULI/i335910791.jpeg  \n  inflating: ../datasets/ALLSTIMULI/i33894157.jpeg  \n  inflating: ../datasets/ALLSTIMULI/i348747407.jpeg  \n  inflating: ../datasets/ALLSTIMULI/i350435387.jpeg  \n  inflating: ../datasets/ALLSTIMULI/i375779601.jpeg  \n  inflating: ../datasets/ALLSTIMULI/i391150010.jpeg  \n  inflating: ../datasets/ALLSTIMULI/i40576393.jpeg  \n  inflating: ../datasets/ALLSTIMULI/i41829193.jpeg  \n  inflating: ../datasets/ALLSTIMULI/i418843655.jpeg  \n  inflating: ../datasets/ALLSTIMULI/i41930076.jpeg  \n  inflating: ../datasets/ALLSTIMULI/i420400353.jpeg  \n  inflating: ../datasets/ALLSTIMULI/i436895919.jpeg  \n  inflating: ../datasets/ALLSTIMULI/i441014928.jpeg  \n  inflating: ../datasets/ALLSTIMULI/i441015422.jpeg  \n  inflating: ../datasets/ALLSTIMULI/i443027538.jpeg  \n  inflating: ../datasets/ALLSTIMULI/i446655072.jpeg  \n  inflating: ../datasets/ALLSTIMULI/i4466881.jpeg  \n  inflating: ../datasets/ALLSTIMULI/i450075958.jpeg  \n  inflating: ../datasets/ALLSTIMULI/i450075962.jpeg  \n  inflating: ../datasets/ALLSTIMULI/i455593157.jpeg  \n  inflating: ../datasets/ALLSTIMULI/i457818913.jpeg  \n  inflating: ../datasets/ALLSTIMULI/i467891882.jpeg  \n  inflating: ../datasets/ALLSTIMULI/i540042392.jpeg  \n  inflating: ../datasets/ALLSTIMULI/i64011654.jpeg  \n  inflating: ../datasets/ALLSTIMULI/i666418509.jpeg  \n  inflating: ../datasets/ALLSTIMULI/i698623061.jpeg  \n  inflating: ../datasets/ALLSTIMULI/i698860717.jpeg  \n  inflating: ../datasets/ALLSTIMULI/i758143153.jpeg  \n  inflating: ../datasets/ALLSTIMULI/i758173517.jpeg  \n  inflating: ../datasets/ALLSTIMULI/iapril21_static_outdoor_davis_img_0942.jpeg  \n  inflating: ../datasets/ALLSTIMULI/ibarcelona_static_street_p9140514.jpeg  \n  inflating: ../datasets/ALLSTIMULI/ibarcelona_static_street_p9150528.jpeg  \n  inflating: ../datasets/ALLSTIMULI/imadrid_static_street_p9110480.jpeg  \n  inflating: ../datasets/ALLSTIMULI/inov6_static_outdoor_img_0522.jpeg  \n  inflating: ../datasets/ALLSTIMULI/ioffice_indoor_set2_web_static_despacho.jpeg  \n  inflating: ../datasets/ALLSTIMULI/iseq_stereo_office_stata_oct24_img_19_00001_left.jpeg  \n  inflating: ../datasets/ALLSTIMULI/istatic_barcelona_street_city_outdoor_2005_img_0303.jpeg  \n  inflating: ../datasets/ALLSTIMULI/istatic_barcelona_street_city_outdoor_2005_img_0308.jpeg  \n  inflating: ../datasets/ALLSTIMULI/istatic_barcelona_street_city_outdoor_2005_img_0391.jpeg  \n  inflating: ../datasets/ALLSTIMULI/istatic_barcelona_street_city_outdoor_2005_img_0455.jpeg  \n  inflating: ../datasets/ALLSTIMULI/istatic_barcelona_street_city_outdoor_2005_img_0553.jpeg  \n  inflating: ../datasets/ALLSTIMULI/istatic_barcelona_street_city_outdoor_2005_img_0561.jpeg  \n  inflating: ../datasets/ALLSTIMULI/istatic_barcelona_street_city_outdoor_2005_img_0587.jpeg  \n  inflating: ../datasets/ALLSTIMULI/istatic_barcelona_street_city_outdoor_2005_img_0588.jpeg  \n  inflating: ../datasets/ALLSTIMULI/istatic_barcelona_street_city_outdoor_2_2005_dsc04120.jpeg  \n  inflating: ../datasets/ALLSTIMULI/istatic_barcelona_street_city_outdoor_2_2005_dsc04121.jpeg  \n  inflating: ../datasets/ALLSTIMULI/istatic_barcelona_street_city_outdoor_2_2005_dsc04140.jpeg  \n  inflating: ../datasets/ALLSTIMULI/istatic_barcelona_street_city_outdoor_2_2005_dsc04265.jpeg  \n  inflating: ../datasets/ALLSTIMULI/istatic_barcelona_street_city_outdoor_2_2005_dsc04303.jpeg  \n  inflating: ../datasets/ALLSTIMULI/istatic_barcelona_street_city_outdoor_2_2005_dsc04318.jpeg  \n  inflating: ../datasets/ALLSTIMULI/istatic_barcelona_street_city_outdoor_2_2005_dsc04417.jpeg  \n  inflating: ../datasets/ALLSTIMULI/istatic_barcelona_street_city_outdoor_2_2005_img_0611.jpeg  \n  inflating: ../datasets/ALLSTIMULI/istatic_barcelona_street_city_outdoor_2_2005_img_0612.jpeg  \n  inflating: ../datasets/ALLSTIMULI/istatic_barcelona_street_city_outdoor_2_2005_img_0625.jpeg  \n  inflating: ../datasets/ALLSTIMULI/istatic_barcelona_street_city_outdoor_2_2005_img_0650.jpeg  \n  inflating: ../datasets/ALLSTIMULI/istatic_boston_street_april_p1010067.jpeg  \n  inflating: ../datasets/ALLSTIMULI/istatic_boston_street_april_p1010179.jpeg  \n  inflating: ../datasets/ALLSTIMULI/istatic_boston_street_april_p1010184.jpeg  \n  inflating: ../datasets/ALLSTIMULI/istatic_boston_street_april_p1010271.jpeg  \n  inflating: ../datasets/ALLSTIMULI/istatic_coast_landscape_outdoor_dsc03095.jpeg  \n  inflating: ../datasets/ALLSTIMULI/istatic_coast_palafrugel_outdoor_spain_IMG_9165.jpeg  \n  inflating: ../datasets/ALLSTIMULI/istatic_coast_palafrugel_outdoor_spain_IMG_9284.jpeg  \n  inflating: ../datasets/ALLSTIMULI/istatic_hotel_room_indoor_IMG_0999.jpeg  \n  inflating: ../datasets/ALLSTIMULI/istatic_hotel_room_indoor_IMG_1003.jpeg  \n  inflating: ../datasets/ALLSTIMULI/istatic_hotel_room_indoor_IMG_1080.jpeg  \n  inflating: ../datasets/ALLSTIMULI/istatic_hotel_room_indoor_IMG_1098.jpeg  \n  inflating: ../datasets/ALLSTIMULI/istatic_hotel_room_indoor_IMG_1559.jpeg  \n  inflating: ../datasets/ALLSTIMULI/istatic_hotel_room_indoor_IMG_3208.jpeg  \n  inflating: ../datasets/ALLSTIMULI/istatic_hotel_room_indoor_IMG_3264.jpeg  \n  inflating: ../datasets/ALLSTIMULI/istatic_hotel_room_indoor_IMG_3265.jpeg  \n  inflating: ../datasets/ALLSTIMULI/istatic_hotel_room_indoor_IMG_3274.jpeg  \n  inflating: ../datasets/ALLSTIMULI/istatic_houses_boston_2005_IMG_3629.jpeg  \n  inflating: ../datasets/ALLSTIMULI/istatic_houses_boston_2005_IMG_4024.jpeg  \n  inflating: ../datasets/ALLSTIMULI/istatic_houses_boston_2005_IMG_4108.jpeg  \n  inflating: ../datasets/ALLSTIMULI/istatic_indoor_mixed_img_0998.jpeg  \n  inflating: ../datasets/ALLSTIMULI/istatic_madrid_outdoor_august_2005_img_0844.jpeg  \n  inflating: ../datasets/ALLSTIMULI/istatic_newyork_cvpr_celiu_june_2006_IMG_2359.jpeg  \n  inflating: ../datasets/ALLSTIMULI/istatic_outdoor_airport_IMG_1469.jpeg  \n  inflating: ../datasets/ALLSTIMULI/istatic_outdoor_bay_area_submitted_alyosha_efros_102_0213.jpeg  \n  inflating: ../datasets/ALLSTIMULI/istatic_outdoor_bay_area_submitted_alyosha_efros_126_2639.jpeg  \n  inflating: ../datasets/ALLSTIMULI/istatic_outdoor_mallorca_spain_IMG_8527.jpeg  \n  inflating: ../datasets/ALLSTIMULI/istatic_outdoor_nature_tanzania_photos_by_fredo_durand_060811_125130__Z9B0580.jpeg  \n  inflating: ../datasets/ALLSTIMULI/istatic_outdoor_road_mallorca_spain_IMG_0540.jpeg  \n  inflating: ../datasets/ALLSTIMULI/istatic_outdoor_road_mallorca_spain_IMG_0544.jpeg  \n  inflating: ../datasets/ALLSTIMULI/istatic_outdoor_road_mallorca_spain_IMG_0621.jpeg  \n  inflating: ../datasets/ALLSTIMULI/istatic_outdoor_road_mallorca_spain_IMG_0641.jpeg  \n  inflating: ../datasets/ALLSTIMULI/istatic_outdoor_road_mallorca_spain_IMG_0642.jpeg  \n  inflating: ../datasets/ALLSTIMULI/istatic_outdoor_street_city_barcelona_spain_night_img_1967.jpeg  \n  inflating: ../datasets/ALLSTIMULI/istatic_outdoor_street_city_barcelona_spain_night_img_1973.jpeg  \n  inflating: ../datasets/ALLSTIMULI/istatic_outdoor_street_city_cambridge_uk_IMG_8687.jpeg  \n  inflating: ../datasets/ALLSTIMULI/istatic_outdoor_street_city_cambridge_uk_IMG_8702.jpeg  \n  inflating: ../datasets/ALLSTIMULI/istatic_outdoor_street_city_cambridge_uk_IMG_8778.jpeg  \n  inflating: ../datasets/ALLSTIMULI/istatic_outdoor_street_city_cambridge_uk_IMG_8893.jpeg  \n  inflating: ../datasets/ALLSTIMULI/istatic_outdoor_street_village_puigpunyent_mallorca_spain_IMG_4162.jpeg  \n  inflating: ../datasets/ALLSTIMULI/istatic_outdoor_street_village_puigpunyent_mallorca_spain_IMG_4206.jpeg  \n  inflating: ../datasets/ALLSTIMULI/istatic_outdoor_street_village_puigpunyent_mallorca_spain_IMG_4220.jpeg  \n  inflating: ../datasets/ALLSTIMULI/istatic_outdoor_urban_city_london_uk_IMG_8638.jpeg  \n  inflating: ../datasets/ALLSTIMULI/istatic_outdoor_urban_city_street_coruna_spain_IMG_7851.jpeg  \n  inflating: ../datasets/ALLSTIMULI/istatic_outdoor_urban_city_street_coruna_spain_IMG_7853.jpeg  \n  inflating: ../datasets/ALLSTIMULI/istatic_outdoor_urban_city_street_coruna_spain_IMG_7859.jpeg  \n  inflating: ../datasets/ALLSTIMULI/istatic_outdoor_urban_city_street_coruna_spain_IMG_7863.jpeg  \n  inflating: ../datasets/ALLSTIMULI/istatic_outdoor_urban_city_street_coruna_spain_IMG_8008.jpeg  \n  inflating: ../datasets/ALLSTIMULI/istatic_palma_outdoor_august_2005_set2_img_1618.jpeg  \n  inflating: ../datasets/ALLSTIMULI/istatic_park_outdoor_boston_IMG_0134.jpeg  \n  inflating: ../datasets/ALLSTIMULI/istatic_street_cambridge_outdoor_july_2005_img_0270.jpeg  \n  inflating: ../datasets/ALLSTIMULI/istatic_street_outdoor_palma_mallorca_spain_IMG_0459.jpeg  \n  inflating: ../datasets/ALLSTIMULI/istatic_street_outdoor_palma_mallorca_spain_IMG_0686.jpeg  \n  inflating: ../datasets/ALLSTIMULI/istatic_street_outdoor_palma_mallorca_spain_IMG_0706.jpeg  \n  inflating: ../datasets/ALLSTIMULI/istatic_street_outdoor_palma_mallorca_spain_IMG_0714.jpeg  \n  inflating: ../datasets/ALLSTIMULI/istatic_street_outdoor_palma_mallorca_spain_IMG_0805.jpeg  \n  inflating: ../datasets/ALLSTIMULI/istatic_submitted_saxena_chung_ng_nips2005_learningdepth_img_gatesback2_p_15t0.jpeg  \n  inflating: ../datasets/ALLSTIMULI/istatic_submitted_saxena_chung_ng_nips2005_learningdepth_img_manmade5_p_139t0.jpeg  \n  inflating: ../datasets/ALLSTIMULI/istatic_submitted_saxena_chung_ng_nips2005_learningdepth_img_manmade7_p_343t0.jpeg  \n  inflating: ../datasets/ALLSTIMULI/istatic_submitted_saxena_chung_ng_nips2005_learningdepth_img_math14_p_313t0.jpeg  \n  inflating: ../datasets/ALLSTIMULI/syntheticData1.jpeg  \n  inflating: ../datasets/ALLSTIMULI/syntheticData2.jpeg  \n  inflating: ../datasets/ALLSTIMULI/syntheticData3.jpeg  \n  inflating: ../datasets/ALLSTIMULI/syntheticData4.jpeg  \n",
     "output_type": "stream"
    }
   ]
  },
  {
   "cell_type": "code",
   "source": [
    "def convert_stimulus(input_image):\n",
    "    size = input_image.shape[0], input_image.shape[1]\n",
    "    if size[0] < size[1]:\n",
    "        new_size = 768, 1024\n",
    "    else:\n",
    "        new_size = 1024,768\n",
    "    \n",
    "    # pillow uses width, height\n",
    "    new_size = tuple(list(new_size)[::-1])\n",
    "    \n",
    "    new_stimulus = np.array(Image.fromarray(input_image).resize(new_size, Image.BILINEAR))\n",
    "    return new_stimulus\n",
    "\n",
    "def convert_fixations(stimuli, fixations):\n",
    "    new_fixations = fixations.copy()\n",
    "    for n in tqdm(list(range(len(stimuli)))):\n",
    "        stimulus = stimuli.stimuli[n]\n",
    "        size = stimulus.shape[0], stimulus.shape[1]\n",
    "        if size[0] < size[1]:\n",
    "            new_size = 768, 1024\n",
    "        else:\n",
    "            new_size = 1024,768\n",
    "        x_factor = new_size[1] / size[1]\n",
    "        y_factor = new_size[0] / size[0]\n",
    "        \n",
    "        inds = new_fixations.n == n\n",
    "        new_fixations.x[inds] *= x_factor\n",
    "        new_fixations.y[inds] *= y_factor\n",
    "        new_fixations.x_hist[inds] *= x_factor\n",
    "        new_fixations.y_hist[inds] *= y_factor\n",
    "    \n",
    "    return new_fixations\n",
    "\n",
    "def convert_fixation_trains(stimuli, fixations):\n",
    "    train_xs = fixations.train_xs.copy()\n",
    "    train_ys = fixations.train_ys.copy()\n",
    "    \n",
    "    for i in tqdm(range(len(train_xs))):\n",
    "        n = fixations.train_ns[i]\n",
    "        \n",
    "        size = stimuli.shapes[n][0], stimuli.shapes[n][1]\n",
    "        \n",
    "        if size[0] < size[1]:\n",
    "            new_size = 768, 1024\n",
    "        else:\n",
    "            new_size = 1024,768\n",
    "        \n",
    "        x_factor = new_size[1] / size[1]\n",
    "        y_factor = new_size[0] / size[0]\n",
    "        \n",
    "        train_xs[i] *= x_factor\n",
    "        train_ys[i] *= y_factor\n",
    "        \n",
    "    new_fixations = pysaliency.FixationTrains(\n",
    "        train_xs = train_xs,\n",
    "        train_ys = train_ys,\n",
    "        train_ts = fixations.train_ts.copy(),\n",
    "        train_ns = fixations.train_ns.copy(),\n",
    "        train_subjects = fixations.train_subjects.copy(),\n",
    "        attributes={key: getattr(fixations, key).copy() for key in fixations.__attributes__ if key not in ['subjects', 'scanpath_index']},\n",
    "    )\n",
    "    return new_fixations\n",
    "\n",
    "\n",
    "\n",
    "def convert_stimuli(stimuli, new_location: Path):\n",
    "    assert isinstance(stimuli, pysaliency.FileStimuli)\n",
    "    new_stimuli_location = new_location / 'stimuli'\n",
    "    new_stimuli_location.mkdir(parents=True, exist_ok=True)\n",
    "    new_filenames = []\n",
    "    for filename in tqdm(stimuli.filenames):\n",
    "        stimulus = imread(filename)\n",
    "        new_stimulus = convert_stimulus(stimulus)\n",
    "        \n",
    "        basename = os.path.basename(filename)\n",
    "        new_filename = new_stimuli_location / basename\n",
    "        if new_stimulus.size != stimulus.size:\n",
    "            imwrite(new_filename, new_stimulus)\n",
    "        else:\n",
    "            #print(\"Keeping\")\n",
    "            shutil.copy(filename, new_filename)\n",
    "        new_filenames.append(new_filename)\n",
    "    return pysaliency.FileStimuli(new_filenames)\n",
    "\n",
    "mit_scanpaths_twosize = convert_fixation_trains(mit_stimuli_orig, mit_scanpaths_orig)\n",
    "mit_stimuli_twosize = convert_stimuli(mit_stimuli_orig, train_directory / 'MIT1003_twosize')"
   ],
   "metadata": {
    "execution": {
     "iopub.status.busy": "2023-12-30T10:27:12.534785Z",
     "iopub.execute_input": "2023-12-30T10:27:12.535135Z",
     "iopub.status.idle": "2023-12-30T10:27:27.695413Z",
     "shell.execute_reply.started": "2023-12-30T10:27:12.535104Z",
     "shell.execute_reply": "2023-12-30T10:27:27.694389Z"
    },
    "trusted": true
   },
   "execution_count": 19,
   "outputs": [
    {
     "name": "stderr",
     "text": "100%|██████████| 15045/15045 [00:00<00:00, 141082.64it/s]\n100%|██████████| 1003/1003 [00:13<00:00, 73.89it/s] \n",
     "output_type": "stream"
    }
   ]
  },
  {
   "cell_type": "code",
   "source": [
    "# remove the initial forced fixation from the training data, it's only used for conditioning\n",
    "mit_fixations_twosize = mit_scanpaths_twosize[mit_scanpaths_twosize.lengths > 0]"
   ],
   "metadata": {
    "execution": {
     "iopub.status.busy": "2023-12-30T10:27:27.696604Z",
     "iopub.execute_input": "2023-12-30T10:27:27.696921Z",
     "iopub.status.idle": "2023-12-30T10:27:27.747215Z",
     "shell.execute_reply.started": "2023-12-30T10:27:27.696892Z",
     "shell.execute_reply": "2023-12-30T10:27:27.746031Z"
    },
    "trusted": true
   },
   "execution_count": 20,
   "outputs": []
  },
  {
   "cell_type": "code",
   "source": [
    "# parameters optimized on MIT1003 for maximum leave-one-image-out crossvalidation log-likelihood\n",
    "MIT1003_centerbias = CrossvalidatedBaselineModel(\n",
    "    mit_stimuli_twosize,\n",
    "    mit_fixations_twosize,\n",
    "    bandwidth=10**-1.6667673342543432,\n",
    "    eps=10**-14.884189168516073,\n",
    "    caching=False,\n",
    ")"
   ],
   "metadata": {
    "execution": {
     "iopub.status.busy": "2023-12-30T10:27:27.748597Z",
     "iopub.execute_input": "2023-12-30T10:27:27.748917Z",
     "iopub.status.idle": "2023-12-30T10:27:27.951275Z",
     "shell.execute_reply.started": "2023-12-30T10:27:27.748890Z",
     "shell.execute_reply": "2023-12-30T10:27:27.950359Z"
    },
    "trusted": true
   },
   "execution_count": 21,
   "outputs": []
  },
  {
   "cell_type": "code",
   "source": [
    "for crossval_fold in range(10):\n",
    "    MIT1003_stimuli_train, MIT1003_fixations_train = pysaliency.dataset_config.train_split(mit_stimuli_twosize, mit_fixations_twosize, crossval_folds=10, fold_no=crossval_fold)\n",
    "    MIT1003_stimuli_val, MIT1003_fixations_val = pysaliency.dataset_config.validation_split(mit_stimuli_twosize, mit_fixations_twosize, crossval_folds=10, fold_no=crossval_fold)\n",
    "\n",
    "    train_baseline_log_likelihood = MIT1003_centerbias.information_gain(MIT1003_stimuli_train, MIT1003_fixations_train, verbose=True, average='image')\n",
    "    val_baseline_log_likelihood = MIT1003_centerbias.information_gain(MIT1003_stimuli_val, MIT1003_fixations_val, verbose=True, average='image')\n",
    "\n",
    "    # finetune spatial model on MIT1003\n",
    "\n",
    "    model = DeepGazeIII(\n",
    "        features=FeatureExtractor(RGBDenseNet201(), [\n",
    "                '1.features.denseblock4.denselayer32.norm1',\n",
    "                '1.features.denseblock4.denselayer32.conv1',\n",
    "                '1.features.denseblock4.denselayer31.conv2',\n",
    "            ]),\n",
    "        saliency_network=build_saliency_network(2048),\n",
    "        scanpath_network=None,\n",
    "        fixation_selection_network=build_fixation_selection_network(scanpath_features=0),\n",
    "        downsample=2,\n",
    "        readout_factor=4,\n",
    "        saliency_map_factor=4,\n",
    "        included_fixations=[],\n",
    "    )\n",
    "\n",
    "    model = model.to(device)\n",
    "    optimizer = torch.optim.Adam(model.parameters(), lr=0.001)\n",
    "    lr_scheduler = torch.optim.lr_scheduler.MultiStepLR(optimizer, milestones=[3, 6, 9, 12, 15, 18, 21, 24])\n",
    "\n",
    "    train_loader = prepare_spatial_dataset(MIT1003_stimuli_train, MIT1003_fixations_train, MIT1003_centerbias, batch_size=4, path=train_directory / 'lmdb_cache' / f'MIT1003_train_spatial_{crossval_fold}')\n",
    "    validation_loader = prepare_spatial_dataset(MIT1003_stimuli_val, MIT1003_fixations_val, MIT1003_centerbias, batch_size=4, path=train_directory / 'lmdb_cache' / f'MIT1003_val_spatial_{crossval_fold}')\n",
    "\n",
    "    _train(train_directory / 'MIT1003_spatial' / f'crossval-10-{crossval_fold}',\n",
    "        model,\n",
    "        train_loader, train_baseline_log_likelihood,\n",
    "        validation_loader, val_baseline_log_likelihood,\n",
    "        optimizer, lr_scheduler,\n",
    "        minimum_learning_rate=1e-7,\n",
    "        device=device,\n",
    "        startwith=train_directory / 'pretraining' / 'final.pth',\n",
    "    )\n",
    "\n",
    "\n",
    "    # Train scanpath model\n",
    "\n",
    "    train_loader = prepare_scanpath_dataset(MIT1003_stimuli_train, MIT1003_fixations_train, MIT1003_centerbias, batch_size=4, path=train_directory / 'lmdb_cache' / f'MIT1003_train_scanpath_{crossval_fold}')\n",
    "    validation_loader = prepare_scanpath_dataset(MIT1003_stimuli_val, MIT1003_fixations_val, MIT1003_centerbias, batch_size=4, path=train_directory / 'lmdb_cache' / f'MIT1003_val_scanpath_{crossval_fold}')\n",
    "\n",
    "    # first train with partially frozen saliency network\n",
    "\n",
    "\n",
    "    model = DeepGazeIII(\n",
    "        features=FeatureExtractor(RGBDenseNet201(), [\n",
    "                '1.features.denseblock4.denselayer32.norm1',\n",
    "                '1.features.denseblock4.denselayer32.conv1',\n",
    "                '1.features.denseblock4.denselayer31.conv2',\n",
    "            ]),\n",
    "        saliency_network=build_saliency_network(2048),\n",
    "        scanpath_network=build_scanpath_network(),\n",
    "        fixation_selection_network=build_fixation_selection_network(scanpath_features=16),\n",
    "        downsample=2,\n",
    "        readout_factor=4,\n",
    "        saliency_map_factor=4,\n",
    "        included_fixations=[-1, -2, -3, -4],\n",
    "    )\n",
    "    model = model.to(device)\n",
    "\n",
    "    frozen_scopes = [\n",
    "        \"saliency_network.layernorm0\",\n",
    "        \"saliency_network.conv0\",\n",
    "        \"saliency_network.bias0\",\n",
    "        \"saliency_network.layernorm1\",\n",
    "        \"saliency_network.conv1\",\n",
    "        \"saliency_network.bias1\",\n",
    "    ]\n",
    "\n",
    "    for scope in frozen_scopes:\n",
    "        for parameter_name, parameter in model.named_parameters():\n",
    "            if parameter_name.startswith(scope):\n",
    "                print(\"Fixating parameter\", parameter_name)\n",
    "                parameter.requires_grad = False\n",
    "\n",
    "\n",
    "    optimizer = torch.optim.Adam(model.parameters(), lr=0.001)\n",
    "    lr_scheduler = torch.optim.lr_scheduler.MultiStepLR(optimizer, milestones=[10, 20, 30, 31, 32, 33, 34, 35])\n",
    "\n",
    "    _train(train_directory / 'MIT1003_scanpath_partially_frozen_saliency_network' / f'crossval-10-{crossval_fold}',\n",
    "        model,\n",
    "        train_loader, train_baseline_log_likelihood,\n",
    "        validation_loader, val_baseline_log_likelihood,\n",
    "        optimizer, lr_scheduler,\n",
    "        minimum_learning_rate=1e-7,\n",
    "        device=device,\n",
    "        startwith=train_directory / 'MIT1003_spatial' /  f'crossval-10-{crossval_fold}' / 'final.pth'\n",
    "    )\n",
    "\n",
    "    # Now finetune full scanpath model\n",
    "\n",
    "    model = DeepGazeIII(\n",
    "        features=FeatureExtractor(RGBDenseNet201(), [\n",
    "                '1.features.denseblock4.denselayer32.norm1',\n",
    "                '1.features.denseblock4.denselayer32.conv1',\n",
    "                '1.features.denseblock4.denselayer31.conv2',\n",
    "            ]),\n",
    "        saliency_network=build_saliency_network(2048),\n",
    "        scanpath_network=build_scanpath_network(),\n",
    "        fixation_selection_network=build_fixation_selection_network(scanpath_features=16),\n",
    "        downsample=2,\n",
    "        readout_factor=4,\n",
    "        saliency_map_factor=4,\n",
    "        included_fixations=[-1, -2, -3, -4],\n",
    "    )\n",
    "\n",
    "    model = model.to(device)\n",
    "\n",
    "    optimizer = torch.optim.Adam(model.parameters(), lr=0.00001)\n",
    "    lr_scheduler = torch.optim.lr_scheduler.MultiStepLR(optimizer, milestones=[3, 6, 9, 12, 15, 18, 21, 24])\n",
    "\n",
    "    _train(train_directory / 'MIT1003_scanpath' / f'crossval-10-{crossval_fold}',\n",
    "        model,\n",
    "        train_loader, train_baseline_log_likelihood,\n",
    "        validation_loader, val_baseline_log_likelihood,\n",
    "        optimizer, lr_scheduler,\n",
    "        minimum_learning_rate=1e-7,\n",
    "        device=device,\n",
    "        startwith=train_directory / 'MIT1003_scanpath_partially_frozen_saliency_network' / f'crossval-10-{crossval_fold}' / 'final.pth'\n",
    "    )\n"
   ],
   "metadata": {
    "execution": {
     "iopub.status.busy": "2023-12-30T10:27:27.952767Z",
     "iopub.execute_input": "2023-12-30T10:27:27.953135Z"
    },
    "trusted": true
   },
   "execution_count": null,
   "outputs": [
    {
     "name": "stdout",
     "text": "Using random shuffles for crossvalidation\nUsing random shuffles for crossvalidation\n",
     "output_type": "stream"
    },
    {
     "name": "stderr",
     "text": "100%|██████████| 808/808 [02:26<00:00,  5.50it/s]\n100%|██████████| 94/94 [00:15<00:00,  5.94it/s]\nUsing cache found in /root/.cache/torch/hub/pytorch_vision_v0.6.0\n/opt/conda/lib/python3.10/site-packages/torchvision/models/_utils.py:208: UserWarning: The parameter 'pretrained' is deprecated since 0.13 and may be removed in the future, please use 'weights' instead.\n  warnings.warn(\n/opt/conda/lib/python3.10/site-packages/torchvision/models/_utils.py:223: UserWarning: Arguments other than a weight enum or `None` for 'weights' are deprecated since 0.13 and may be removed in the future. The current behavior is equivalent to passing `weights=DenseNet201_Weights.IMAGENET1K_V1`. You can also use `weights=DenseNet201_Weights.DEFAULT` to get the most up-to-date weights.\n  warnings.warn(msg)\n",
     "output_type": "stream"
    },
    {
     "name": "stdout",
     "text": "Generate LMDB to ../train_deepgaze3/lmdb_cache/MIT1003_train_spatial_0\n",
     "output_type": "stream"
    },
    {
     "name": "stderr",
     "text": "100%|██████████| 808/808 [02:44<00:00,  4.93it/s]\n",
     "output_type": "stream"
    },
    {
     "name": "stdout",
     "text": "Flushing database ...\nPopulating fixations cache\n",
     "output_type": "stream"
    },
    {
     "name": "stderr",
     "text": "100%|█████████▉| 83717/83718 [00:00<00:00, 584225.22it/s]\n",
     "output_type": "stream"
    },
    {
     "name": "stdout",
     "text": "Generate LMDB to ../train_deepgaze3/lmdb_cache/MIT1003_val_spatial_0\n",
     "output_type": "stream"
    },
    {
     "name": "stderr",
     "text": "100%|██████████| 94/94 [00:15<00:00,  6.01it/s]\n",
     "output_type": "stream"
    },
    {
     "name": "stdout",
     "text": "Flushing database ...\nPopulating fixations cache\n",
     "output_type": "stream"
    },
    {
     "name": "stderr",
     "text": "100%|█████████▉| 9925/9926 [00:00<00:00, 603486.04it/s]",
     "output_type": "stream"
    },
    {
     "name": "stdout",
     "text": "Using device cuda\nRestoring from ../train_deepgaze3/pretraining/final.pth\n",
     "output_type": "stream"
    },
    {
     "name": "stderr",
     "text": "\n",
     "output_type": "stream"
    },
    {
     "name": "stdout",
     "text": "validation metrics ['IG', 'LL', 'AUC', 'NSS']\nBeginning training\n",
     "output_type": "stream"
    },
    {
     "name": "stderr",
     "text": "LL 1.01011: 100%|██████████| 25/25 [00:14<00:00,  1.74it/s]\n",
     "output_type": "stream"
    },
    {
     "name": "stdout",
     "text": "   epoch                  timestamp  learning_rate  loss  validation_IG  \\\n0      0 2023-12-30 10:33:30.411154          0.001   NaN       0.098366   \n\n   validation_LL  validation_AUC  validation_NSS  \n0       1.010111        0.814178        1.738514  \nvalidation_LL     0\nvalidation_NSS    0\nvalidation_AUC    0\nvalidation_IG     0\ndtype: int64\n",
     "output_type": "stream"
    },
    {
     "name": "stderr",
     "text": "-1.75827: 100%|██████████| 202/202 [00:40<00:00,  4.97it/s]\nLL 1.96800: 100%|██████████| 25/25 [00:13<00:00,  1.84it/s]\n",
     "output_type": "stream"
    },
    {
     "name": "stdout",
     "text": "   epoch                  timestamp  learning_rate      loss  validation_IG  \\\n0      0 2023-12-30 10:33:30.411154          0.001       NaN       0.098366   \n1      1 2023-12-30 10:34:24.905856          0.001 -1.758272       1.056259   \n\n   validation_LL  validation_AUC  validation_NSS  \n0       1.010111        0.814178        1.738514  \n1       1.968004        0.891618        6.678547  \nvalidation_LL     1\nvalidation_NSS    1\nvalidation_AUC    1\nvalidation_IG     1\ndtype: int64\n",
     "output_type": "stream"
    },
    {
     "name": "stderr",
     "text": "-1.90282: 100%|██████████| 202/202 [00:40<00:00,  4.99it/s]\nLL 1.98913: 100%|██████████| 25/25 [00:13<00:00,  1.81it/s]\n",
     "output_type": "stream"
    },
    {
     "name": "stdout",
     "text": "   epoch                  timestamp  learning_rate      loss  validation_IG  \\\n1      1 2023-12-30 10:34:24.905856          0.001 -1.758272       1.056259   \n2      2 2023-12-30 10:35:19.470370          0.001 -1.902816       1.077385   \n\n   validation_LL  validation_AUC  validation_NSS  \n1       1.968004        0.891618        6.678547  \n2       1.989130        0.893113        5.805860  \nvalidation_LL     2\nvalidation_NSS    1\nvalidation_AUC    2\nvalidation_IG     2\ndtype: int64\nremoving ../train_deepgaze3/MIT1003_spatial/crossval-10-0/step-0001.pth\n",
     "output_type": "stream"
    },
    {
     "name": "stderr",
     "text": "-1.94770: 100%|██████████| 202/202 [00:40<00:00,  5.00it/s]\nLL 2.00302: 100%|██████████| 25/25 [00:13<00:00,  1.82it/s]\n",
     "output_type": "stream"
    },
    {
     "name": "stdout",
     "text": "   epoch                  timestamp  learning_rate      loss  validation_IG  \\\n2      2 2023-12-30 10:35:19.470370          0.001 -1.902816       1.077385   \n3      3 2023-12-30 10:36:13.893268          0.001 -1.947695       1.091272   \n\n   validation_LL  validation_AUC  validation_NSS  \n2       1.989130        0.893113        5.805860  \n3       2.003017        0.893183        5.750317  \nvalidation_LL     3\nvalidation_NSS    1\nvalidation_AUC    3\nvalidation_IG     3\ndtype: int64\nremoving ../train_deepgaze3/MIT1003_spatial/crossval-10-0/step-0002.pth\n",
     "output_type": "stream"
    },
    {
     "name": "stderr",
     "text": "-2.01242: 100%|██████████| 202/202 [00:40<00:00,  4.96it/s]\nLL 2.00900: 100%|██████████| 25/25 [00:13<00:00,  1.81it/s]\n",
     "output_type": "stream"
    },
    {
     "name": "stdout",
     "text": "   epoch                  timestamp  learning_rate      loss  validation_IG  \\\n3      3 2023-12-30 10:36:13.893268         0.0010 -1.947695       1.091272   \n4      4 2023-12-30 10:37:08.702320         0.0001 -2.012424       1.097250   \n\n   validation_LL  validation_AUC  validation_NSS  \n3       2.003017        0.893183        5.750317  \n4       2.008996        0.894961        6.985906  \nvalidation_LL     4\nvalidation_NSS    4\nvalidation_AUC    4\nvalidation_IG     4\ndtype: int64\nremoving ../train_deepgaze3/MIT1003_spatial/crossval-10-0/step-0003.pth\n",
     "output_type": "stream"
    },
    {
     "name": "stderr",
     "text": "-2.02337: 100%|██████████| 202/202 [00:40<00:00,  4.97it/s]\nLL 2.02140: 100%|██████████| 25/25 [00:13<00:00,  1.82it/s]\n",
     "output_type": "stream"
    },
    {
     "name": "stdout",
     "text": "   epoch                  timestamp  learning_rate      loss  validation_IG  \\\n4      4 2023-12-30 10:37:08.702320         0.0001 -2.012424       1.097250   \n5      5 2023-12-30 10:38:03.375052         0.0001 -2.023370       1.109651   \n\n   validation_LL  validation_AUC  validation_NSS  \n4       2.008996        0.894961        6.985906  \n5       2.021396        0.894510        6.237505  \nvalidation_LL     5\nvalidation_NSS    4\nvalidation_AUC    4\nvalidation_IG     5\ndtype: int64\nremoving ../train_deepgaze3/MIT1003_spatial/crossval-10-0/step-0004.pth\n",
     "output_type": "stream"
    },
    {
     "name": "stderr",
     "text": "-2.03110: 100%|██████████| 202/202 [00:40<00:00,  4.99it/s]\nLL 2.01827: 100%|██████████| 25/25 [00:13<00:00,  1.81it/s]\n",
     "output_type": "stream"
    },
    {
     "name": "stdout",
     "text": "   epoch                  timestamp  learning_rate      loss  validation_IG  \\\n5      5 2023-12-30 10:38:03.375052         0.0001 -2.023370       1.109651   \n6      6 2023-12-30 10:38:58.008188         0.0001 -2.031097       1.106526   \n\n   validation_LL  validation_AUC  validation_NSS  \n5       2.021396        0.894510        6.237505  \n6       2.018271        0.894587        6.520315  \nvalidation_LL     5\nvalidation_NSS    4\nvalidation_AUC    4\nvalidation_IG     5\ndtype: int64\n",
     "output_type": "stream"
    },
    {
     "name": "stderr",
     "text": "-2.04198: 100%|██████████| 202/202 [00:40<00:00,  4.98it/s]\nLL 2.01878: 100%|██████████| 25/25 [00:13<00:00,  1.81it/s]\n",
     "output_type": "stream"
    },
    {
     "name": "stdout",
     "text": "   epoch                  timestamp  learning_rate      loss  validation_IG  \\\n6      6 2023-12-30 10:38:58.008188        0.00010 -2.031097       1.106526   \n7      7 2023-12-30 10:39:52.652798        0.00001 -2.041981       1.107035   \n\n   validation_LL  validation_AUC  validation_NSS  \n6       2.018271        0.894587        6.520315  \n7       2.018780        0.894634        6.543566  \nvalidation_LL     5\nvalidation_NSS    4\nvalidation_AUC    4\nvalidation_IG     5\ndtype: int64\nremoving ../train_deepgaze3/MIT1003_spatial/crossval-10-0/step-0006.pth\n",
     "output_type": "stream"
    },
    {
     "name": "stderr",
     "text": "-2.04280: 100%|██████████| 202/202 [00:40<00:00,  4.99it/s]\nLL 2.01881: 100%|██████████| 25/25 [00:13<00:00,  1.82it/s]\n",
     "output_type": "stream"
    },
    {
     "name": "stdout",
     "text": "   epoch                  timestamp  learning_rate      loss  validation_IG  \\\n7      7 2023-12-30 10:39:52.652798        0.00001 -2.041981       1.107035   \n8      8 2023-12-30 10:40:47.142575        0.00001 -2.042801       1.107065   \n\n   validation_LL  validation_AUC  validation_NSS  \n7       2.018780        0.894634        6.543566  \n8       2.018811        0.894634        6.542853  \nvalidation_LL     5\nvalidation_NSS    4\nvalidation_AUC    4\nvalidation_IG     5\ndtype: int64\nremoving ../train_deepgaze3/MIT1003_spatial/crossval-10-0/step-0007.pth\n",
     "output_type": "stream"
    },
    {
     "name": "stderr",
     "text": "-2.04351: 100%|██████████| 202/202 [00:40<00:00,  4.99it/s]\nLL 2.01873: 100%|██████████| 25/25 [00:13<00:00,  1.84it/s]\n",
     "output_type": "stream"
    },
    {
     "name": "stdout",
     "text": "   epoch                  timestamp  learning_rate      loss  validation_IG  \\\n8      8 2023-12-30 10:40:47.142575        0.00001 -2.042801       1.107065   \n9      9 2023-12-30 10:41:41.537484        0.00001 -2.043511       1.106983   \n\n   validation_LL  validation_AUC  validation_NSS  \n8       2.018811        0.894634        6.542853  \n9       2.018728        0.894639        6.559013  \nvalidation_LL     5\nvalidation_NSS    4\nvalidation_AUC    4\nvalidation_IG     5\ndtype: int64\nremoving ../train_deepgaze3/MIT1003_spatial/crossval-10-0/step-0008.pth\n",
     "output_type": "stream"
    },
    {
     "name": "stderr",
     "text": "-2.04473: 100%|██████████| 202/202 [00:40<00:00,  4.99it/s]\nLL 2.01870: 100%|██████████| 25/25 [00:13<00:00,  1.82it/s]\n",
     "output_type": "stream"
    },
    {
     "name": "stdout",
     "text": "    epoch                  timestamp  learning_rate      loss  validation_IG  \\\n9       9 2023-12-30 10:41:41.537484       0.000010 -2.043511       1.106983   \n10     10 2023-12-30 10:42:36.030497       0.000001 -2.044731       1.106952   \n\n    validation_LL  validation_AUC  validation_NSS  \n9        2.018728        0.894639        6.559013  \n10       2.018697        0.894638        6.560140  \nvalidation_LL     5\nvalidation_NSS    4\nvalidation_AUC    4\nvalidation_IG     5\ndtype: int64\nremoving ../train_deepgaze3/MIT1003_spatial/crossval-10-0/step-0009.pth\n",
     "output_type": "stream"
    },
    {
     "name": "stderr",
     "text": "-2.04480: 100%|██████████| 202/202 [00:40<00:00,  4.98it/s]\nLL 2.01865: 100%|██████████| 25/25 [00:13<00:00,  1.80it/s]\n",
     "output_type": "stream"
    },
    {
     "name": "stdout",
     "text": "    epoch                  timestamp  learning_rate      loss  validation_IG  \\\n10     10 2023-12-30 10:42:36.030497       0.000001 -2.044731       1.106952   \n11     11 2023-12-30 10:43:30.744518       0.000001 -2.044800       1.106908   \n\n    validation_LL  validation_AUC  validation_NSS  \n10       2.018697        0.894638        6.560140  \n11       2.018653        0.894640        6.563282  \nvalidation_LL     5\nvalidation_NSS    4\nvalidation_AUC    4\nvalidation_IG     5\ndtype: int64\nremoving ../train_deepgaze3/MIT1003_spatial/crossval-10-0/step-0010.pth\n",
     "output_type": "stream"
    },
    {
     "name": "stderr",
     "text": "-2.04488: 100%|██████████| 202/202 [00:40<00:00,  4.99it/s]\nLL 2.01867: 100%|██████████| 25/25 [00:13<00:00,  1.82it/s]\n",
     "output_type": "stream"
    },
    {
     "name": "stdout",
     "text": "    epoch                  timestamp  learning_rate     loss  validation_IG  \\\n11     11 2023-12-30 10:43:30.744518       0.000001 -2.04480       1.106908   \n12     12 2023-12-30 10:44:25.250827       0.000001 -2.04488       1.106924   \n\n    validation_LL  validation_AUC  validation_NSS  \n11       2.018653        0.894640        6.563282  \n12       2.018669        0.894639        6.562951  \nvalidation_LL     5\nvalidation_NSS    4\nvalidation_AUC    4\nvalidation_IG     5\ndtype: int64\nremoving ../train_deepgaze3/MIT1003_spatial/crossval-10-0/step-0011.pth\n",
     "output_type": "stream"
    },
    {
     "name": "stderr",
     "text": "-2.04500: 100%|██████████| 202/202 [00:40<00:00,  4.98it/s]\nLL 2.01866: 100%|██████████| 25/25 [00:13<00:00,  1.82it/s]\n",
     "output_type": "stream"
    },
    {
     "name": "stdout",
     "text": "    epoch                  timestamp  learning_rate     loss  validation_IG  \\\n12     12 2023-12-30 10:44:25.250827   1.000000e-06 -2.04488       1.106924   \n13     13 2023-12-30 10:45:19.809344   1.000000e-07 -2.04500       1.106919   \n\n    validation_LL  validation_AUC  validation_NSS  \n12       2.018669        0.894639        6.562951  \n13       2.018665        0.894639        6.563224  \nvalidation_LL     5\nvalidation_NSS    4\nvalidation_AUC    4\nvalidation_IG     5\ndtype: int64\nremoving ../train_deepgaze3/MIT1003_spatial/crossval-10-0/step-0012.pth\n",
     "output_type": "stream"
    },
    {
     "name": "stderr",
     "text": "-2.04501: 100%|██████████| 202/202 [00:40<00:00,  4.98it/s]\nLL 2.01866: 100%|██████████| 25/25 [00:13<00:00,  1.81it/s]\n",
     "output_type": "stream"
    },
    {
     "name": "stdout",
     "text": "    epoch                  timestamp  learning_rate      loss  validation_IG  \\\n13     13 2023-12-30 10:45:19.809344   1.000000e-07 -2.045000       1.106919   \n14     14 2023-12-30 10:46:14.496038   1.000000e-07 -2.045006       1.106914   \n\n    validation_LL  validation_AUC  validation_NSS  \n13       2.018665        0.894639        6.563224  \n14       2.018660        0.894639        6.563496  \nvalidation_LL     5\nvalidation_NSS    4\nvalidation_AUC    4\nvalidation_IG     5\ndtype: int64\nremoving ../train_deepgaze3/MIT1003_spatial/crossval-10-0/step-0013.pth\n",
     "output_type": "stream"
    },
    {
     "name": "stderr",
     "text": "-2.04501: 100%|██████████| 202/202 [00:40<00:00,  4.97it/s]\nLL 2.01866: 100%|██████████| 25/25 [00:13<00:00,  1.80it/s]\n",
     "output_type": "stream"
    },
    {
     "name": "stdout",
     "text": "    epoch                  timestamp  learning_rate      loss  validation_IG  \\\n14     14 2023-12-30 10:46:14.496038   1.000000e-07 -2.045006       1.106914   \n15     15 2023-12-30 10:47:09.322009   1.000000e-07 -2.045014       1.106912   \n\n    validation_LL  validation_AUC  validation_NSS  \n14       2.018660        0.894639        6.563496  \n15       2.018658        0.894639        6.563715  \nvalidation_LL     5\nvalidation_NSS    4\nvalidation_AUC    4\nvalidation_IG     5\ndtype: int64\nremoving ../train_deepgaze3/MIT1003_spatial/crossval-10-0/step-0014.pth\nremoving ../train_deepgaze3/MIT1003_spatial/crossval-10-0/step-0005.pth\nremoving ../train_deepgaze3/MIT1003_spatial/crossval-10-0/step-0000.pth\nremoving ../train_deepgaze3/MIT1003_spatial/crossval-10-0/step-0015.pth\nGenerate LMDB to ../train_deepgaze3/lmdb_cache/MIT1003_train_scanpath_0\n",
     "output_type": "stream"
    },
    {
     "name": "stderr",
     "text": "100%|██████████| 808/808 [02:46<00:00,  4.84it/s]\n",
     "output_type": "stream"
    },
    {
     "name": "stdout",
     "text": "Flushing database ...\nGenerate LMDB to ../train_deepgaze3/lmdb_cache/MIT1003_val_scanpath_0\n",
     "output_type": "stream"
    },
    {
     "name": "stderr",
     "text": "100%|██████████| 94/94 [00:16<00:00,  5.84it/s]\n",
     "output_type": "stream"
    },
    {
     "name": "stdout",
     "text": "Flushing database ...\n",
     "output_type": "stream"
    },
    {
     "name": "stderr",
     "text": "Using cache found in /root/.cache/torch/hub/pytorch_vision_v0.6.0\n/opt/conda/lib/python3.10/site-packages/torchvision/models/_utils.py:208: UserWarning: The parameter 'pretrained' is deprecated since 0.13 and may be removed in the future, please use 'weights' instead.\n  warnings.warn(\n/opt/conda/lib/python3.10/site-packages/torchvision/models/_utils.py:223: UserWarning: Arguments other than a weight enum or `None` for 'weights' are deprecated since 0.13 and may be removed in the future. The current behavior is equivalent to passing `weights=DenseNet201_Weights.IMAGENET1K_V1`. You can also use `weights=DenseNet201_Weights.DEFAULT` to get the most up-to-date weights.\n  warnings.warn(msg)\n",
     "output_type": "stream"
    },
    {
     "name": "stdout",
     "text": "Fixating parameter saliency_network.layernorm0.weight\nFixating parameter saliency_network.layernorm0.bias\nFixating parameter saliency_network.conv0.weight\nFixating parameter saliency_network.bias0.bias\nFixating parameter saliency_network.layernorm1.weight\nFixating parameter saliency_network.layernorm1.bias\nFixating parameter saliency_network.conv1.weight\nFixating parameter saliency_network.bias1.bias\nUsing device cuda\nRestoring from ../train_deepgaze3/MIT1003_spatial/crossval-10-0/final.pth\nWARNING! missing keys ['scanpath_network.encoding0.convolutions.0.weight', 'scanpath_network.encoding0.convolutions.0.bias', 'scanpath_network.encoding0.convolutions.1.weight', 'scanpath_network.encoding0.convolutions.1.bias', 'scanpath_network.encoding0.convolutions.2.weight', 'scanpath_network.encoding0.convolutions.2.bias', 'scanpath_network.encoding0.convolutions.3.weight', 'scanpath_network.encoding0.convolutions.3.bias', 'scanpath_network.layernorm1.weight', 'scanpath_network.layernorm1.bias', 'scanpath_network.conv1.weight', 'scanpath_network.bias1.bias', 'fixation_selection_network.layernorm0.layernorm_part1.weight', 'fixation_selection_network.layernorm0.layernorm_part1.bias', 'fixation_selection_network.conv0.conv_part1.weight']\nvalidation metrics ['IG', 'LL', 'AUC', 'NSS']\nBeginning training\n",
     "output_type": "stream"
    },
    {
     "name": "stderr",
     "text": "-2.27275:   8%|▊         | 1579/20930 [06:15<1:16:33,  4.21it/s]IOPub message rate exceeded.\nThe notebook server will temporarily stop sending output\nto the client in order to avoid crashing it.\nTo change this limit, set the config variable\n`--NotebookApp.iopub_msg_rate_limit`.\n\nCurrent values:\nNotebookApp.iopub_msg_rate_limit=1000.0 (msgs/sec)\nNotebookApp.rate_limit_window=3.0 (secs)\n\n-2.34656: 100%|██████████| 20930/20930 [1:23:32<00:00,  4.18it/s]\nLL 2.34997: 100%|██████████| 2483/2483 [08:58<00:00,  4.61it/s]\n",
     "output_type": "stream"
    },
    {
     "name": "stdout",
     "text": "   epoch                  timestamp  learning_rate      loss  validation_IG  \\\n0      0 2023-12-30 10:59:24.183157          0.001       NaN       1.053662   \n1      1 2023-12-30 12:31:55.642803          0.001 -2.346558       1.438226   \n\n   validation_LL  validation_AUC  validation_NSS  \n0       1.965407        0.893165        4.792192  \n1       2.349971        0.913652       10.019958  \nvalidation_LL     1\nvalidation_NSS    1\nvalidation_AUC    1\nvalidation_IG     1\ndtype: int64\n",
     "output_type": "stream"
    },
    {
     "name": "stderr",
     "text": "-2.41353: 100%|██████████| 20930/20930 [1:23:17<00:00,  4.19it/s]\nLL 2.39402: 100%|██████████| 2483/2483 [08:57<00:00,  4.62it/s]\n",
     "output_type": "stream"
    },
    {
     "name": "stdout",
     "text": "   epoch                  timestamp  learning_rate      loss  validation_IG  \\\n1      1 2023-12-30 12:31:55.642803          0.001 -2.346558       1.438226   \n2      2 2023-12-30 14:04:10.740719          0.001 -2.413532       1.482273   \n\n   validation_LL  validation_AUC  validation_NSS  \n1       2.349971        0.913652       10.019958  \n2       2.394018        0.914819        8.057469  \nvalidation_LL     2\nvalidation_NSS    1\nvalidation_AUC    2\nvalidation_IG     2\ndtype: int64\nremoving ../train_deepgaze3/MIT1003_scanpath_partially_frozen_saliency_network/crossval-10-0/step-0001.pth\n",
     "output_type": "stream"
    },
    {
     "name": "stderr",
     "text": "-2.43687: 100%|██████████| 20930/20930 [1:23:39<00:00,  4.17it/s]\nLL 2.41901: 100%|██████████| 2483/2483 [09:03<00:00,  4.57it/s]\n",
     "output_type": "stream"
    },
    {
     "name": "stdout",
     "text": "   epoch                  timestamp  learning_rate      loss  validation_IG  \\\n2      2 2023-12-30 14:04:10.740719          0.001 -2.413532       1.482273   \n3      3 2023-12-30 15:36:54.390408          0.001 -2.436870       1.507265   \n\n   validation_LL  validation_AUC  validation_NSS  \n2       2.394018        0.914819        8.057469  \n3       2.419011        0.916100        9.563972  \nvalidation_LL     3\nvalidation_NSS    1\nvalidation_AUC    3\nvalidation_IG     3\ndtype: int64\nremoving ../train_deepgaze3/MIT1003_scanpath_partially_frozen_saliency_network/crossval-10-0/step-0002.pth\n",
     "output_type": "stream"
    },
    {
     "name": "stderr",
     "text": "-2.45453:  69%|██████▊   | 14357/20930 [56:34<26:06,  4.20it/s] ",
     "output_type": "stream"
    }
   ]
  },
  {
   "cell_type": "code",
   "source": [],
   "metadata": {},
   "execution_count": null,
   "outputs": []
  }
 ]
}
